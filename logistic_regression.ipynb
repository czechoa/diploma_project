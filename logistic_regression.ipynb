{
 "cells": [
  {
   "cell_type": "code",
   "execution_count": 1,
   "metadata": {
    "collapsed": true,
    "pycharm": {
     "name": "#%%\n"
    }
   },
   "outputs": [
    {
     "name": "stderr",
     "output_type": "stream",
     "text": [
      "No config specified, defaulting to: polemo2-official/all_text\n",
      "Found cached dataset polemo2-official (/home/andrzej/.cache/huggingface/datasets/clarin-pl___polemo2-official/all_text/0.0.0/2b75fdbe5def97538e81fb120f8752744b50729a4ce09bd75132bfc863a2fd70)\n"
     ]
    },
    {
     "data": {
      "text/plain": "  0%|          | 0/3 [00:00<?, ?it/s]",
      "application/vnd.jupyter.widget-view+json": {
       "version_major": 2,
       "version_minor": 0,
       "model_id": "e37bcb8738ba45a6a2cb6c46437d8797"
      }
     },
     "metadata": {},
     "output_type": "display_data"
    },
    {
     "name": "stdout",
     "output_type": "stream",
     "text": [
      " "
     ]
    },
    {
     "name": "stderr",
     "output_type": "stream",
     "text": [
      "Loading cached processed dataset at /home/andrzej/.cache/huggingface/datasets/clarin-pl___polemo2-official/all_text/0.0.0/2b75fdbe5def97538e81fb120f8752744b50729a4ce09bd75132bfc863a2fd70/cache-7763217d57844b5d.arrow\n"
     ]
    },
    {
     "name": "stdout",
     "output_type": "stream",
     "text": [
      " "
     ]
    },
    {
     "name": "stderr",
     "output_type": "stream",
     "text": [
      "Loading cached processed dataset at /home/andrzej/.cache/huggingface/datasets/clarin-pl___polemo2-official/all_text/0.0.0/2b75fdbe5def97538e81fb120f8752744b50729a4ce09bd75132bfc863a2fd70/cache-c48da6a5741c4ffc.arrow\n"
     ]
    },
    {
     "name": "stdout",
     "output_type": "stream",
     "text": [
      " "
     ]
    },
    {
     "name": "stderr",
     "output_type": "stream",
     "text": [
      "Loading cached processed dataset at /home/andrzej/.cache/huggingface/datasets/clarin-pl___polemo2-official/all_text/0.0.0/2b75fdbe5def97538e81fb120f8752744b50729a4ce09bd75132bfc863a2fd70/cache-c4a16ce25e8febb1.arrow\n"
     ]
    },
    {
     "name": "stdout",
     "output_type": "stream",
     "text": [
      " "
     ]
    },
    {
     "name": "stderr",
     "output_type": "stream",
     "text": [
      "Loading cached processed dataset at /home/andrzej/.cache/huggingface/datasets/clarin-pl___polemo2-official/all_text/0.0.0/2b75fdbe5def97538e81fb120f8752744b50729a4ce09bd75132bfc863a2fd70/cache-c0b464432157bd00.arrow\n"
     ]
    },
    {
     "name": "stdout",
     "output_type": "stream",
     "text": [
      " "
     ]
    },
    {
     "name": "stderr",
     "output_type": "stream",
     "text": [
      "Loading cached processed dataset at /home/andrzej/.cache/huggingface/datasets/clarin-pl___polemo2-official/all_text/0.0.0/2b75fdbe5def97538e81fb120f8752744b50729a4ce09bd75132bfc863a2fd70/cache-0c52c48623b5eafd.arrow\n"
     ]
    },
    {
     "name": "stdout",
     "output_type": "stream",
     "text": [
      " "
     ]
    },
    {
     "name": "stderr",
     "output_type": "stream",
     "text": [
      "Loading cached processed dataset at /home/andrzej/.cache/huggingface/datasets/clarin-pl___polemo2-official/all_text/0.0.0/2b75fdbe5def97538e81fb120f8752744b50729a4ce09bd75132bfc863a2fd70/cache-51febdbb908048a5.arrow\n"
     ]
    },
    {
     "name": "stdout",
     "output_type": "stream",
     "text": [
      " "
     ]
    },
    {
     "name": "stderr",
     "output_type": "stream",
     "text": [
      "Loading cached processed dataset at /home/andrzej/.cache/huggingface/datasets/clarin-pl___polemo2-official/all_text/0.0.0/2b75fdbe5def97538e81fb120f8752744b50729a4ce09bd75132bfc863a2fd70/cache-6d3f3fd9a94be738.arrow\n"
     ]
    },
    {
     "name": "stdout",
     "output_type": "stream",
     "text": [
      " "
     ]
    },
    {
     "name": "stderr",
     "output_type": "stream",
     "text": [
      "Loading cached processed dataset at /home/andrzej/.cache/huggingface/datasets/clarin-pl___polemo2-official/all_text/0.0.0/2b75fdbe5def97538e81fb120f8752744b50729a4ce09bd75132bfc863a2fd70/cache-e5aa72da4ee1b5b4.arrow\n"
     ]
    },
    {
     "name": "stdout",
     "output_type": "stream",
     "text": [
      " "
     ]
    },
    {
     "name": "stderr",
     "output_type": "stream",
     "text": [
      "Loading cached processed dataset at /home/andrzej/.cache/huggingface/datasets/clarin-pl___polemo2-official/all_text/0.0.0/2b75fdbe5def97538e81fb120f8752744b50729a4ce09bd75132bfc863a2fd70/cache-bc11fc5593e85a69.arrow\n"
     ]
    },
    {
     "name": "stdout",
     "output_type": "stream",
     "text": [
      " "
     ]
    },
    {
     "name": "stderr",
     "output_type": "stream",
     "text": [
      "Loading cached processed dataset at /home/andrzej/.cache/huggingface/datasets/clarin-pl___polemo2-official/all_text/0.0.0/2b75fdbe5def97538e81fb120f8752744b50729a4ce09bd75132bfc863a2fd70/cache-fd7398f5236a8596.arrow\n"
     ]
    },
    {
     "name": "stdout",
     "output_type": "stream",
     "text": [
      " "
     ]
    },
    {
     "name": "stderr",
     "output_type": "stream",
     "text": [
      "Loading cached processed dataset at /home/andrzej/.cache/huggingface/datasets/clarin-pl___polemo2-official/all_text/0.0.0/2b75fdbe5def97538e81fb120f8752744b50729a4ce09bd75132bfc863a2fd70/cache-c609211aff51f500.arrow\n"
     ]
    },
    {
     "name": "stdout",
     "output_type": "stream",
     "text": [
      " "
     ]
    },
    {
     "name": "stderr",
     "output_type": "stream",
     "text": [
      "Loading cached processed dataset at /home/andrzej/.cache/huggingface/datasets/clarin-pl___polemo2-official/all_text/0.0.0/2b75fdbe5def97538e81fb120f8752744b50729a4ce09bd75132bfc863a2fd70/cache-59d7eed59e538e99.arrow\n"
     ]
    },
    {
     "name": "stdout",
     "output_type": "stream",
     "text": [
      " "
     ]
    },
    {
     "name": "stderr",
     "output_type": "stream",
     "text": [
      "Loading cached processed dataset at /home/andrzej/.cache/huggingface/datasets/clarin-pl___polemo2-official/all_text/0.0.0/2b75fdbe5def97538e81fb120f8752744b50729a4ce09bd75132bfc863a2fd70/cache-9e860315afcbffba.arrow\n"
     ]
    },
    {
     "name": "stdout",
     "output_type": "stream",
     "text": [
      " "
     ]
    },
    {
     "name": "stderr",
     "output_type": "stream",
     "text": [
      "Loading cached processed dataset at /home/andrzej/.cache/huggingface/datasets/clarin-pl___polemo2-official/all_text/0.0.0/2b75fdbe5def97538e81fb120f8752744b50729a4ce09bd75132bfc863a2fd70/cache-93ac272d768c4cd5.arrow\n"
     ]
    },
    {
     "name": "stdout",
     "output_type": "stream",
     "text": [
      " "
     ]
    },
    {
     "name": "stderr",
     "output_type": "stream",
     "text": [
      "Loading cached processed dataset at /home/andrzej/.cache/huggingface/datasets/clarin-pl___polemo2-official/all_text/0.0.0/2b75fdbe5def97538e81fb120f8752744b50729a4ce09bd75132bfc863a2fd70/cache-e91b5ae759a6d0ac.arrow\n"
     ]
    },
    {
     "name": "stdout",
     "output_type": "stream",
     "text": [
      " "
     ]
    },
    {
     "name": "stderr",
     "output_type": "stream",
     "text": [
      "Loading cached processed dataset at /home/andrzej/.cache/huggingface/datasets/clarin-pl___polemo2-official/all_text/0.0.0/2b75fdbe5def97538e81fb120f8752744b50729a4ce09bd75132bfc863a2fd70/cache-2bba278270a66c2e.arrow\n"
     ]
    },
    {
     "name": "stdout",
     "output_type": "stream",
     "text": [
      " "
     ]
    },
    {
     "name": "stderr",
     "output_type": "stream",
     "text": [
      "Loading cached processed dataset at /home/andrzej/.cache/huggingface/datasets/clarin-pl___polemo2-official/all_text/0.0.0/2b75fdbe5def97538e81fb120f8752744b50729a4ce09bd75132bfc863a2fd70/cache-024420a284edec43.arrow\n"
     ]
    },
    {
     "name": "stdout",
     "output_type": "stream",
     "text": [
      " "
     ]
    },
    {
     "name": "stderr",
     "output_type": "stream",
     "text": [
      "Loading cached processed dataset at /home/andrzej/.cache/huggingface/datasets/clarin-pl___polemo2-official/all_text/0.0.0/2b75fdbe5def97538e81fb120f8752744b50729a4ce09bd75132bfc863a2fd70/cache-4af258a6f3a2e1cc.arrow\n"
     ]
    },
    {
     "name": "stdout",
     "output_type": "stream",
     "text": [
      " "
     ]
    },
    {
     "name": "stderr",
     "output_type": "stream",
     "text": [
      "Loading cached processed dataset at /home/andrzej/.cache/huggingface/datasets/clarin-pl___polemo2-official/all_text/0.0.0/2b75fdbe5def97538e81fb120f8752744b50729a4ce09bd75132bfc863a2fd70/cache-385d5d5e32b8b322.arrow\n"
     ]
    },
    {
     "name": "stdout",
     "output_type": "stream",
     "text": [
      " "
     ]
    },
    {
     "name": "stderr",
     "output_type": "stream",
     "text": [
      "Loading cached processed dataset at /home/andrzej/.cache/huggingface/datasets/clarin-pl___polemo2-official/all_text/0.0.0/2b75fdbe5def97538e81fb120f8752744b50729a4ce09bd75132bfc863a2fd70/cache-2255c2fdea077b47.arrow\n"
     ]
    },
    {
     "name": "stdout",
     "output_type": "stream",
     "text": [
      " "
     ]
    },
    {
     "name": "stderr",
     "output_type": "stream",
     "text": [
      "Loading cached processed dataset at /home/andrzej/.cache/huggingface/datasets/clarin-pl___polemo2-official/all_text/0.0.0/2b75fdbe5def97538e81fb120f8752744b50729a4ce09bd75132bfc863a2fd70/cache-f395812005929e55.arrow\n"
     ]
    },
    {
     "name": "stdout",
     "output_type": "stream",
     "text": [
      " "
     ]
    },
    {
     "name": "stderr",
     "output_type": "stream",
     "text": [
      "Loading cached processed dataset at /home/andrzej/.cache/huggingface/datasets/clarin-pl___polemo2-official/all_text/0.0.0/2b75fdbe5def97538e81fb120f8752744b50729a4ce09bd75132bfc863a2fd70/cache-aaed9addf6481087.arrow\n"
     ]
    },
    {
     "name": "stdout",
     "output_type": "stream",
     "text": [
      " "
     ]
    },
    {
     "name": "stderr",
     "output_type": "stream",
     "text": [
      "Loading cached processed dataset at /home/andrzej/.cache/huggingface/datasets/clarin-pl___polemo2-official/all_text/0.0.0/2b75fdbe5def97538e81fb120f8752744b50729a4ce09bd75132bfc863a2fd70/cache-a741c6eb15ac5547.arrow\n"
     ]
    },
    {
     "name": "stdout",
     "output_type": "stream",
     "text": [
      " "
     ]
    },
    {
     "name": "stderr",
     "output_type": "stream",
     "text": [
      "Loading cached processed dataset at /home/andrzej/.cache/huggingface/datasets/clarin-pl___polemo2-official/all_text/0.0.0/2b75fdbe5def97538e81fb120f8752744b50729a4ce09bd75132bfc863a2fd70/cache-ac4a365fe27971ce.arrow\n",
      "Using custom data configuration default\n",
      "Found cached dataset allegro_reviews (/home/andrzej/.cache/huggingface/datasets/allegro_reviews/default/1.1.0/d0fd6bf6f7f8f2c8faed7ecf9d295c991eac403ca516d3d3593061a913c0476b)\n"
     ]
    },
    {
     "data": {
      "text/plain": "  0%|          | 0/3 [00:00<?, ?it/s]",
      "application/vnd.jupyter.widget-view+json": {
       "version_major": 2,
       "version_minor": 0,
       "model_id": "c6b469c3567241388230cbac27de4cfc"
      }
     },
     "metadata": {},
     "output_type": "display_data"
    },
    {
     "name": "stdout",
     "output_type": "stream",
     "text": [
      " "
     ]
    },
    {
     "name": "stderr",
     "output_type": "stream",
     "text": [
      "Loading cached processed dataset at /home/andrzej/.cache/huggingface/datasets/allegro_reviews/default/1.1.0/d0fd6bf6f7f8f2c8faed7ecf9d295c991eac403ca516d3d3593061a913c0476b/cache-59ec0f987233cbb9.arrow\n"
     ]
    },
    {
     "name": "stdout",
     "output_type": "stream",
     "text": [
      " "
     ]
    },
    {
     "name": "stderr",
     "output_type": "stream",
     "text": [
      "Loading cached processed dataset at /home/andrzej/.cache/huggingface/datasets/allegro_reviews/default/1.1.0/d0fd6bf6f7f8f2c8faed7ecf9d295c991eac403ca516d3d3593061a913c0476b/cache-5c1edca74ee6ea4f.arrow\n"
     ]
    },
    {
     "name": "stdout",
     "output_type": "stream",
     "text": [
      " "
     ]
    },
    {
     "name": "stderr",
     "output_type": "stream",
     "text": [
      "Loading cached processed dataset at /home/andrzej/.cache/huggingface/datasets/allegro_reviews/default/1.1.0/d0fd6bf6f7f8f2c8faed7ecf9d295c991eac403ca516d3d3593061a913c0476b/cache-209072de36a40fc4.arrow\n"
     ]
    },
    {
     "name": "stdout",
     "output_type": "stream",
     "text": [
      " "
     ]
    },
    {
     "name": "stderr",
     "output_type": "stream",
     "text": [
      "Loading cached processed dataset at /home/andrzej/.cache/huggingface/datasets/allegro_reviews/default/1.1.0/d0fd6bf6f7f8f2c8faed7ecf9d295c991eac403ca516d3d3593061a913c0476b/cache-6a604722f48bd762.arrow\n"
     ]
    },
    {
     "name": "stdout",
     "output_type": "stream",
     "text": [
      " "
     ]
    },
    {
     "name": "stderr",
     "output_type": "stream",
     "text": [
      "Loading cached processed dataset at /home/andrzej/.cache/huggingface/datasets/allegro_reviews/default/1.1.0/d0fd6bf6f7f8f2c8faed7ecf9d295c991eac403ca516d3d3593061a913c0476b/cache-96edae764415c09d.arrow\n"
     ]
    },
    {
     "name": "stdout",
     "output_type": "stream",
     "text": [
      " "
     ]
    },
    {
     "name": "stderr",
     "output_type": "stream",
     "text": [
      "Loading cached processed dataset at /home/andrzej/.cache/huggingface/datasets/allegro_reviews/default/1.1.0/d0fd6bf6f7f8f2c8faed7ecf9d295c991eac403ca516d3d3593061a913c0476b/cache-6b33562ff252e11a.arrow\n"
     ]
    },
    {
     "name": "stdout",
     "output_type": "stream",
     "text": [
      " "
     ]
    },
    {
     "name": "stderr",
     "output_type": "stream",
     "text": [
      "Loading cached processed dataset at /home/andrzej/.cache/huggingface/datasets/allegro_reviews/default/1.1.0/d0fd6bf6f7f8f2c8faed7ecf9d295c991eac403ca516d3d3593061a913c0476b/cache-67706279125d210d.arrow\n"
     ]
    },
    {
     "name": "stdout",
     "output_type": "stream",
     "text": [
      " "
     ]
    },
    {
     "name": "stderr",
     "output_type": "stream",
     "text": [
      "Loading cached processed dataset at /home/andrzej/.cache/huggingface/datasets/allegro_reviews/default/1.1.0/d0fd6bf6f7f8f2c8faed7ecf9d295c991eac403ca516d3d3593061a913c0476b/cache-373603d49dc487a6.arrow\n"
     ]
    },
    {
     "name": "stdout",
     "output_type": "stream",
     "text": [
      " "
     ]
    },
    {
     "name": "stderr",
     "output_type": "stream",
     "text": [
      "Loading cached processed dataset at /home/andrzej/.cache/huggingface/datasets/allegro_reviews/default/1.1.0/d0fd6bf6f7f8f2c8faed7ecf9d295c991eac403ca516d3d3593061a913c0476b/cache-fc3e49af0daf9064.arrow\n"
     ]
    },
    {
     "name": "stdout",
     "output_type": "stream",
     "text": [
      " "
     ]
    },
    {
     "name": "stderr",
     "output_type": "stream",
     "text": [
      "Loading cached processed dataset at /home/andrzej/.cache/huggingface/datasets/allegro_reviews/default/1.1.0/d0fd6bf6f7f8f2c8faed7ecf9d295c991eac403ca516d3d3593061a913c0476b/cache-8047e205511b51ff.arrow\n"
     ]
    },
    {
     "name": "stdout",
     "output_type": "stream",
     "text": [
      " "
     ]
    },
    {
     "name": "stderr",
     "output_type": "stream",
     "text": [
      "Loading cached processed dataset at /home/andrzej/.cache/huggingface/datasets/allegro_reviews/default/1.1.0/d0fd6bf6f7f8f2c8faed7ecf9d295c991eac403ca516d3d3593061a913c0476b/cache-1a85f090d55a87d0.arrow\n"
     ]
    },
    {
     "name": "stdout",
     "output_type": "stream",
     "text": [
      " "
     ]
    },
    {
     "name": "stderr",
     "output_type": "stream",
     "text": [
      "Loading cached processed dataset at /home/andrzej/.cache/huggingface/datasets/allegro_reviews/default/1.1.0/d0fd6bf6f7f8f2c8faed7ecf9d295c991eac403ca516d3d3593061a913c0476b/cache-70807c0ccfd47182.arrow\n"
     ]
    },
    {
     "name": "stdout",
     "output_type": "stream",
     "text": [
      " "
     ]
    },
    {
     "name": "stderr",
     "output_type": "stream",
     "text": [
      "Loading cached processed dataset at /home/andrzej/.cache/huggingface/datasets/allegro_reviews/default/1.1.0/d0fd6bf6f7f8f2c8faed7ecf9d295c991eac403ca516d3d3593061a913c0476b/cache-094876b14db10f62.arrow\n"
     ]
    },
    {
     "name": "stdout",
     "output_type": "stream",
     "text": [
      " "
     ]
    },
    {
     "name": "stderr",
     "output_type": "stream",
     "text": [
      "Loading cached processed dataset at /home/andrzej/.cache/huggingface/datasets/allegro_reviews/default/1.1.0/d0fd6bf6f7f8f2c8faed7ecf9d295c991eac403ca516d3d3593061a913c0476b/cache-7c67e44e2a21a73f.arrow\n"
     ]
    },
    {
     "name": "stdout",
     "output_type": "stream",
     "text": [
      " "
     ]
    },
    {
     "name": "stderr",
     "output_type": "stream",
     "text": [
      "Loading cached processed dataset at /home/andrzej/.cache/huggingface/datasets/allegro_reviews/default/1.1.0/d0fd6bf6f7f8f2c8faed7ecf9d295c991eac403ca516d3d3593061a913c0476b/cache-e14974e298206ca8.arrow\n"
     ]
    },
    {
     "name": "stdout",
     "output_type": "stream",
     "text": [
      " "
     ]
    },
    {
     "name": "stderr",
     "output_type": "stream",
     "text": [
      "Loading cached processed dataset at /home/andrzej/.cache/huggingface/datasets/allegro_reviews/default/1.1.0/d0fd6bf6f7f8f2c8faed7ecf9d295c991eac403ca516d3d3593061a913c0476b/cache-42e22f0b225e95ff.arrow\n"
     ]
    },
    {
     "name": "stdout",
     "output_type": "stream",
     "text": [
      " "
     ]
    },
    {
     "name": "stderr",
     "output_type": "stream",
     "text": [
      "Loading cached processed dataset at /home/andrzej/.cache/huggingface/datasets/allegro_reviews/default/1.1.0/d0fd6bf6f7f8f2c8faed7ecf9d295c991eac403ca516d3d3593061a913c0476b/cache-7662f0d7934539ae.arrow\n"
     ]
    },
    {
     "name": "stdout",
     "output_type": "stream",
     "text": [
      " "
     ]
    },
    {
     "name": "stderr",
     "output_type": "stream",
     "text": [
      "Loading cached processed dataset at /home/andrzej/.cache/huggingface/datasets/allegro_reviews/default/1.1.0/d0fd6bf6f7f8f2c8faed7ecf9d295c991eac403ca516d3d3593061a913c0476b/cache-b8dd937ee90187e8.arrow\n"
     ]
    },
    {
     "name": "stdout",
     "output_type": "stream",
     "text": [
      " "
     ]
    },
    {
     "name": "stderr",
     "output_type": "stream",
     "text": [
      "Loading cached processed dataset at /home/andrzej/.cache/huggingface/datasets/allegro_reviews/default/1.1.0/d0fd6bf6f7f8f2c8faed7ecf9d295c991eac403ca516d3d3593061a913c0476b/cache-84266d5ffde79fbd.arrow\n"
     ]
    },
    {
     "name": "stdout",
     "output_type": "stream",
     "text": [
      " "
     ]
    },
    {
     "name": "stderr",
     "output_type": "stream",
     "text": [
      "Loading cached processed dataset at /home/andrzej/.cache/huggingface/datasets/allegro_reviews/default/1.1.0/d0fd6bf6f7f8f2c8faed7ecf9d295c991eac403ca516d3d3593061a913c0476b/cache-bc22507124dad9a1.arrow\n"
     ]
    },
    {
     "name": "stdout",
     "output_type": "stream",
     "text": [
      " "
     ]
    },
    {
     "name": "stderr",
     "output_type": "stream",
     "text": [
      "Loading cached processed dataset at /home/andrzej/.cache/huggingface/datasets/allegro_reviews/default/1.1.0/d0fd6bf6f7f8f2c8faed7ecf9d295c991eac403ca516d3d3593061a913c0476b/cache-5865ff7a7b921d95.arrow\n"
     ]
    },
    {
     "name": "stdout",
     "output_type": "stream",
     "text": [
      " "
     ]
    },
    {
     "name": "stderr",
     "output_type": "stream",
     "text": [
      "Loading cached processed dataset at /home/andrzej/.cache/huggingface/datasets/allegro_reviews/default/1.1.0/d0fd6bf6f7f8f2c8faed7ecf9d295c991eac403ca516d3d3593061a913c0476b/cache-c78e511c167b1d0e.arrow\n"
     ]
    },
    {
     "name": "stdout",
     "output_type": "stream",
     "text": [
      " "
     ]
    },
    {
     "name": "stderr",
     "output_type": "stream",
     "text": [
      "Loading cached processed dataset at /home/andrzej/.cache/huggingface/datasets/allegro_reviews/default/1.1.0/d0fd6bf6f7f8f2c8faed7ecf9d295c991eac403ca516d3d3593061a913c0476b/cache-46e43ae35e05e811.arrow\n"
     ]
    },
    {
     "name": "stdout",
     "output_type": "stream",
     "text": [
      " "
     ]
    },
    {
     "name": "stderr",
     "output_type": "stream",
     "text": [
      "Loading cached processed dataset at /home/andrzej/.cache/huggingface/datasets/allegro_reviews/default/1.1.0/d0fd6bf6f7f8f2c8faed7ecf9d295c991eac403ca516d3d3593061a913c0476b/cache-72e50ad65de17a35.arrow\n"
     ]
    },
    {
     "data": {
      "text/plain": "{'clarin-pl/polemo2-official': <dash_app.backend.utils.object.dataset.DataSet at 0x7f51985de7f0>,\n 'allegro_reviews': <dash_app.backend.utils.object.dataset.DataSet at 0x7f51371c8640>,\n 'połączone': <dash_app.backend.utils.object.dataset.DataSet at 0x7f51448c7340>}"
     },
     "execution_count": 1,
     "metadata": {},
     "output_type": "execute_result"
    }
   ],
   "source": [
    "from dash_app.backend.db_dictonary import load_datasets\n",
    "% load_ext autoreload\n",
    "% autoreload 2\n",
    "\n",
    "db_dictonary = load_datasets()\n",
    "db_dictonary\n"
   ]
  },
  {
   "cell_type": "code",
   "execution_count": 16,
   "outputs": [
    {
     "data": {
      "text/plain": "                                                   text  rating  liczba_zdań  \\\n0     \"W upalne dni przyssawka staje się tak elastyc...     4.0            4   \n1     Według mnie statyw na początku był bardzo fajn...     1.0            3   \n2     Specyfikacja mówi sama za siebie i faktycznie ...     5.0           13   \n3     W telefonie bardzo szybko pojawił się błąd sys...     1.0            4   \n4     Od czasu zakupu maszynki mąż nie ma problemów ...     5.0            5   \n...                                                 ...     ...          ...   \n1399  Pani dr Szeliga zna sie na rzeczy , spokojnie ...     NaN            2   \n1400  Kiedy znajomy polecił mi Panią Karolinę scepty...     NaN           11   \n1401  nie wiem jak możecie tak odbierać tą panią dok...     NaN            3   \n1402  Od pierwszej chwili pobytu można się poczuć tu...     NaN            4   \n1403  Bylismy we dwoje na Weekend w tym ośrodku . Pr...     NaN           16   \n\n      liczba_słów  liczba_znaków ocena_tekst  \\\n0             107            606   pozytywne   \n1              56            292   negatywne   \n2             102            516   pozytywne   \n3              57            360   negatywne   \n4              55            295   pozytywne   \n...           ...            ...         ...   \n1399           45            252   pozytywne   \n1400           94            511   pozytywne   \n1401          137            680   negatywne   \n1402           42            221   pozytywne   \n1403          191           1057   negatywne   \n\n                                            token_tekst  \\\n0     [upalny, stawać, elastyczny, mieć, oderwać, tr...   \n1     [fajny, drugi, chcieć być, zrobić, dobry, odła...   \n2     [mówić, siebie, faktycznie, pisać, zacinać, ws...   \n3     [szybko, pojawić, przerdzewiać, overmax, twier...   \n4     [iść, czerwony, zmniejszyć, 90, zamienić, żade...   \n...                                                 ...   \n1399  [doktor, szeliga, znać, spokojnie, dokladn, wy...   \n1400  [polecić, karolina, sceptycznie, podchodzić, k...   \n1401  [wiedzieć, móc, odbierać, ten, wyciągać, kolej...   \n1402  [pierwszy, poczuć, siebie, wspaniały, miły, tr...   \n1403  [bylismy, 200, zl, normalny, tymczasem, lozek,...   \n\n                                          token_adj_adv  \\\n0     [upalny, tak, elastyczny, tandetny, ładowanie,...   \n1     [bardzo, fajny, drugi, dobry, kolejny, pózniej...   \n2     [sam, faktycznie, tak, pozytywnie, jedyny, dok...   \n3     [bardzo, szybko, zalać, nigdy, całkowity, prze...   \n4     [czerwony, inny, testowany, różny, cenowy, świ...   \n...                                                 ...   \n1399  [spokojnie, dokladn, miły, życzliwy, rzetelny,...   \n1400  [kiedy, sceptycznie, kolejny, tu, pierwszy, ma...   \n1401  [jak, tak, kolejny, faktyczny, prywatny, nigdy...   \n1402  [pierwszy, tutaj, wspaniały, bardzo, miły, tru...   \n1403  [normalny, tymczasem, lozek, przykryć, ktory, ...   \n\n                                    subset_of_two_words  \\\n0     [upalny stawać, stawać elastyczny, elastyczny ...   \n1     [fajny drugi, drugi chcieć być, chcieć być zro...   \n2     [mówić siebie, siebie faktycznie, faktycznie p...   \n3     [szybko pojawić, pojawić przerdzewiać, przerdz...   \n4     [iść czerwony, czerwony zmniejszyć, zmniejszyć...   \n...                                                 ...   \n1399  [doktor szeliga, szeliga znać, znać spokojnie,...   \n1400  [polecić karolina, karolina sceptycznie, scept...   \n1401  [wiedzieć móc, móc odbierać, odbierać ten, ten...   \n1402  [pierwszy poczuć, poczuć siebie, siebie wspani...   \n1403  [bylismy 200, 200 zl, zl normalny, normalny ty...   \n\n                                  subset_of_three_words  target  \\\n0     [upalny stawać elastyczny, stawać elastyczny m...     NaN   \n1     [fajny drugi chcieć być, drugi chcieć być zrob...     NaN   \n2     [mówić siebie faktycznie, siebie faktycznie pi...     NaN   \n3     [szybko pojawić przerdzewiać, pojawić przerdze...     NaN   \n4     [iść czerwony zmniejszyć, czerwony zmniejszyć ...     NaN   \n...                                                 ...     ...   \n1399  [doktor szeliga znać, szeliga znać spokojnie, ...     2.0   \n1400  [polecić karolina sceptycznie, karolina scepty...     2.0   \n1401  [wiedzieć móc odbierać, móc odbierać ten, odbi...     1.0   \n1402  [pierwszy poczuć siebie, poczuć siebie wspania...     2.0   \n1403  [bylismy 200 zl, 200 zl normalny, zl normalny ...     1.0   \n\n      __index_level_0__  \n0                     1  \n1                     2  \n2                     3  \n3                     5  \n4                     7  \n...                 ...  \n1399                818  \n1400                819  \n1401                820  \n1402                821  \n1403                822  \n\n[1404 rows x 12 columns]",
      "text/html": "<div>\n<style scoped>\n    .dataframe tbody tr th:only-of-type {\n        vertical-align: middle;\n    }\n\n    .dataframe tbody tr th {\n        vertical-align: top;\n    }\n\n    .dataframe thead th {\n        text-align: right;\n    }\n</style>\n<table border=\"1\" class=\"dataframe\">\n  <thead>\n    <tr style=\"text-align: right;\">\n      <th></th>\n      <th>text</th>\n      <th>rating</th>\n      <th>liczba_zdań</th>\n      <th>liczba_słów</th>\n      <th>liczba_znaków</th>\n      <th>ocena_tekst</th>\n      <th>token_tekst</th>\n      <th>token_adj_adv</th>\n      <th>subset_of_two_words</th>\n      <th>subset_of_three_words</th>\n      <th>target</th>\n      <th>__index_level_0__</th>\n    </tr>\n  </thead>\n  <tbody>\n    <tr>\n      <th>0</th>\n      <td>\"W upalne dni przyssawka staje się tak elastyc...</td>\n      <td>4.0</td>\n      <td>4</td>\n      <td>107</td>\n      <td>606</td>\n      <td>pozytywne</td>\n      <td>[upalny, stawać, elastyczny, mieć, oderwać, tr...</td>\n      <td>[upalny, tak, elastyczny, tandetny, ładowanie,...</td>\n      <td>[upalny stawać, stawać elastyczny, elastyczny ...</td>\n      <td>[upalny stawać elastyczny, stawać elastyczny m...</td>\n      <td>NaN</td>\n      <td>1</td>\n    </tr>\n    <tr>\n      <th>1</th>\n      <td>Według mnie statyw na początku był bardzo fajn...</td>\n      <td>1.0</td>\n      <td>3</td>\n      <td>56</td>\n      <td>292</td>\n      <td>negatywne</td>\n      <td>[fajny, drugi, chcieć być, zrobić, dobry, odła...</td>\n      <td>[bardzo, fajny, drugi, dobry, kolejny, pózniej...</td>\n      <td>[fajny drugi, drugi chcieć być, chcieć być zro...</td>\n      <td>[fajny drugi chcieć być, drugi chcieć być zrob...</td>\n      <td>NaN</td>\n      <td>2</td>\n    </tr>\n    <tr>\n      <th>2</th>\n      <td>Specyfikacja mówi sama za siebie i faktycznie ...</td>\n      <td>5.0</td>\n      <td>13</td>\n      <td>102</td>\n      <td>516</td>\n      <td>pozytywne</td>\n      <td>[mówić, siebie, faktycznie, pisać, zacinać, ws...</td>\n      <td>[sam, faktycznie, tak, pozytywnie, jedyny, dok...</td>\n      <td>[mówić siebie, siebie faktycznie, faktycznie p...</td>\n      <td>[mówić siebie faktycznie, siebie faktycznie pi...</td>\n      <td>NaN</td>\n      <td>3</td>\n    </tr>\n    <tr>\n      <th>3</th>\n      <td>W telefonie bardzo szybko pojawił się błąd sys...</td>\n      <td>1.0</td>\n      <td>4</td>\n      <td>57</td>\n      <td>360</td>\n      <td>negatywne</td>\n      <td>[szybko, pojawić, przerdzewiać, overmax, twier...</td>\n      <td>[bardzo, szybko, zalać, nigdy, całkowity, prze...</td>\n      <td>[szybko pojawić, pojawić przerdzewiać, przerdz...</td>\n      <td>[szybko pojawić przerdzewiać, pojawić przerdze...</td>\n      <td>NaN</td>\n      <td>5</td>\n    </tr>\n    <tr>\n      <th>4</th>\n      <td>Od czasu zakupu maszynki mąż nie ma problemów ...</td>\n      <td>5.0</td>\n      <td>5</td>\n      <td>55</td>\n      <td>295</td>\n      <td>pozytywne</td>\n      <td>[iść, czerwony, zmniejszyć, 90, zamienić, żade...</td>\n      <td>[czerwony, inny, testowany, różny, cenowy, świ...</td>\n      <td>[iść czerwony, czerwony zmniejszyć, zmniejszyć...</td>\n      <td>[iść czerwony zmniejszyć, czerwony zmniejszyć ...</td>\n      <td>NaN</td>\n      <td>7</td>\n    </tr>\n    <tr>\n      <th>...</th>\n      <td>...</td>\n      <td>...</td>\n      <td>...</td>\n      <td>...</td>\n      <td>...</td>\n      <td>...</td>\n      <td>...</td>\n      <td>...</td>\n      <td>...</td>\n      <td>...</td>\n      <td>...</td>\n      <td>...</td>\n    </tr>\n    <tr>\n      <th>1399</th>\n      <td>Pani dr Szeliga zna sie na rzeczy , spokojnie ...</td>\n      <td>NaN</td>\n      <td>2</td>\n      <td>45</td>\n      <td>252</td>\n      <td>pozytywne</td>\n      <td>[doktor, szeliga, znać, spokojnie, dokladn, wy...</td>\n      <td>[spokojnie, dokladn, miły, życzliwy, rzetelny,...</td>\n      <td>[doktor szeliga, szeliga znać, znać spokojnie,...</td>\n      <td>[doktor szeliga znać, szeliga znać spokojnie, ...</td>\n      <td>2.0</td>\n      <td>818</td>\n    </tr>\n    <tr>\n      <th>1400</th>\n      <td>Kiedy znajomy polecił mi Panią Karolinę scepty...</td>\n      <td>NaN</td>\n      <td>11</td>\n      <td>94</td>\n      <td>511</td>\n      <td>pozytywne</td>\n      <td>[polecić, karolina, sceptycznie, podchodzić, k...</td>\n      <td>[kiedy, sceptycznie, kolejny, tu, pierwszy, ma...</td>\n      <td>[polecić karolina, karolina sceptycznie, scept...</td>\n      <td>[polecić karolina sceptycznie, karolina scepty...</td>\n      <td>2.0</td>\n      <td>819</td>\n    </tr>\n    <tr>\n      <th>1401</th>\n      <td>nie wiem jak możecie tak odbierać tą panią dok...</td>\n      <td>NaN</td>\n      <td>3</td>\n      <td>137</td>\n      <td>680</td>\n      <td>negatywne</td>\n      <td>[wiedzieć, móc, odbierać, ten, wyciągać, kolej...</td>\n      <td>[jak, tak, kolejny, faktyczny, prywatny, nigdy...</td>\n      <td>[wiedzieć móc, móc odbierać, odbierać ten, ten...</td>\n      <td>[wiedzieć móc odbierać, móc odbierać ten, odbi...</td>\n      <td>1.0</td>\n      <td>820</td>\n    </tr>\n    <tr>\n      <th>1402</th>\n      <td>Od pierwszej chwili pobytu można się poczuć tu...</td>\n      <td>NaN</td>\n      <td>4</td>\n      <td>42</td>\n      <td>221</td>\n      <td>pozytywne</td>\n      <td>[pierwszy, poczuć, siebie, wspaniały, miły, tr...</td>\n      <td>[pierwszy, tutaj, wspaniały, bardzo, miły, tru...</td>\n      <td>[pierwszy poczuć, poczuć siebie, siebie wspani...</td>\n      <td>[pierwszy poczuć siebie, poczuć siebie wspania...</td>\n      <td>2.0</td>\n      <td>821</td>\n    </tr>\n    <tr>\n      <th>1403</th>\n      <td>Bylismy we dwoje na Weekend w tym ośrodku . Pr...</td>\n      <td>NaN</td>\n      <td>16</td>\n      <td>191</td>\n      <td>1057</td>\n      <td>negatywne</td>\n      <td>[bylismy, 200, zl, normalny, tymczasem, lozek,...</td>\n      <td>[normalny, tymczasem, lozek, przykryć, ktory, ...</td>\n      <td>[bylismy 200, 200 zl, zl normalny, normalny ty...</td>\n      <td>[bylismy 200 zl, 200 zl normalny, zl normalny ...</td>\n      <td>1.0</td>\n      <td>822</td>\n    </tr>\n  </tbody>\n</table>\n<p>1404 rows × 12 columns</p>\n</div>"
     },
     "execution_count": 16,
     "metadata": {},
     "output_type": "execute_result"
    }
   ],
   "source": [
    "merged_data = db_dictonary['połączone'].data\n",
    "train = merged_data['train'].to_pandas()\n",
    "validation = merged_data['validation'].to_pandas()\n"
   ],
   "metadata": {
    "collapsed": false,
    "pycharm": {
     "name": "#%%\n"
    }
   }
  },
  {
   "cell_type": "markdown",
   "source": [
    "To unidecode"
   ],
   "metadata": {
    "collapsed": false,
    "pycharm": {
     "name": "#%% md\n"
    }
   }
  },
  {
   "cell_type": "code",
   "execution_count": 42,
   "outputs": [
    {
     "data": {
      "text/plain": "0        czekac byc okazac zawieruszyc miec wyslac najs...\n1        czajnik pierwszy wygladac polecac ciagly niepr...\n2        fajny pewno gorszy tefal bosch troche czuc mij...\n3        dobry slaby 1 2 sporadyczc dolny prosty odrywa...\n4        drugi niestety poprzedni zagubiony 8 zawiodc b...\n                               ...                        \n12657    dobry udac dotrzec dac zaakceptowac plusa idea...\n12658    zazwyczaj wystawiac brakowac gleboko czuc wini...\n12659    trudno dac rzekomo posiadac negatywny zamieszc...\n12660    prowadzacy nieobecny odczytywac platkowy koszy...\n12661    5 rodzinny inclusive moc udany marianna cichy ...\nName: token_tekst, Length: 12662, dtype: object"
     },
     "execution_count": 42,
     "metadata": {},
     "output_type": "execute_result"
    }
   ],
   "source": [
    "import unidecode\n",
    "\n",
    "mapper_target_value = {\n",
    "    'negatywne': 0,\n",
    "    'pozytywne': 1,\n",
    "}\n",
    "\n",
    "texts_org = train['token_tekst'].str.join(\" \")\n",
    "texts = texts_org.apply(unidecode.unidecode)\n",
    "\n",
    "texts_val = validation['token_tekst'].str.join(\" \")\n",
    "\n",
    "target = list(map(lambda x: mapper_target_value[x], train['ocena_tekst']))\n",
    "target_val = list(map(lambda x: mapper_target_value[x], validation['ocena_tekst']))\n",
    "\n",
    "texts"
   ],
   "metadata": {
    "collapsed": false,
    "pycharm": {
     "name": "#%%\n"
    }
   }
  },
  {
   "cell_type": "markdown",
   "source": [
    "Notes"
   ],
   "metadata": {
    "collapsed": false,
    "pycharm": {
     "name": "#%% md\n"
    }
   }
  },
  {
   "cell_type": "code",
   "execution_count": 6,
   "outputs": [
    {
     "name": "stdout",
     "output_type": "stream",
     "text": [
      "wrócić zmęczony pojechać 눉gdybym wiedzieć pewien chyba celowo zostać ukryć opisać pewno pojechać mieścić duży lewy narażić 6 rano otwierać wielki metalowy zaczynać zjawiać 10 30 mały dostawczych duży tiry potem wrzeszczący wesoły krzyczący taki pewno rezerwować polecam innym drewniany biedronka dostać pan chojnacka pisać jechać ritz napisać pojechać niby zająć szukać pobliski stać polować odjechać normalny uważać booking rezerwujący winien jakiś tygodniowy jaki przebywać cały miękki wygodny dobry najeść syto\n",
      "dobry wiedzieć najwięcej zżerać sprawdzić różny zgadzać dowiedzieć pozostawienąć powodować niby niewiele 5zł kosztować trochę uzbierać\n"
     ]
    }
   ],
   "source": [
    "print(texts_org[texts_org.str.contains('눉gdybym')].iloc[0])\n",
    "print(texts_org[texts.str.contains('zzerac')].iloc[0])"
   ],
   "metadata": {
    "collapsed": false,
    "pycharm": {
     "name": "#%%\n"
    }
   }
  },
  {
   "cell_type": "code",
   "execution_count": 11,
   "outputs": [
    {
     "data": {
      "text/plain": "array(['00', '000', '0000', ..., 'zzolknac', 'zzolkniecie', 'zzolkniety'],\n      dtype=object)"
     },
     "execution_count": 11,
     "metadata": {},
     "output_type": "execute_result"
    }
   ],
   "source": [
    "from sklearn.feature_extraction.text import CountVectorizer\n",
    "\n",
    "vectorizer = CountVectorizer(encoding='ascii', strip_accents='ascii', min_df=1)\n",
    "X = vectorizer.fit_transform(texts)\n",
    "# print(X.toarray().sum().sum())\n",
    "vectorizer.get_feature_names_out()"
   ],
   "metadata": {
    "collapsed": false,
    "pycharm": {
     "name": "#%%\n"
    }
   }
  },
  {
   "cell_type": "markdown",
   "source": [
    "Model"
   ],
   "metadata": {
    "collapsed": false,
    "pycharm": {
     "name": "#%% md\n"
    }
   }
  },
  {
   "cell_type": "code",
   "execution_count": 26,
   "outputs": [
    {
     "data": {
      "text/plain": "pozytywne    0.583715\nnegatywne    0.416285\nName: ocena_tekst, dtype: float64"
     },
     "execution_count": 26,
     "metadata": {},
     "output_type": "execute_result"
    }
   ],
   "source": [
    "target.value_counts() / target.shape[0]"
   ],
   "metadata": {
    "collapsed": false,
    "pycharm": {
     "name": "#%%\n"
    }
   }
  },
  {
   "cell_type": "code",
   "execution_count": 43,
   "outputs": [
    {
     "data": {
      "text/plain": "Pipeline(steps=[('vect', CountVectorizer(min_df=2, strip_accents='ascii')),\n                ('tfidf', TfidfTransformer()), ('clf', MultinomialNB())])",
      "text/html": "<style>#sk-container-id-4 {color: black;background-color: white;}#sk-container-id-4 pre{padding: 0;}#sk-container-id-4 div.sk-toggleable {background-color: white;}#sk-container-id-4 label.sk-toggleable__label {cursor: pointer;display: block;width: 100%;margin-bottom: 0;padding: 0.3em;box-sizing: border-box;text-align: center;}#sk-container-id-4 label.sk-toggleable__label-arrow:before {content: \"▸\";float: left;margin-right: 0.25em;color: #696969;}#sk-container-id-4 label.sk-toggleable__label-arrow:hover:before {color: black;}#sk-container-id-4 div.sk-estimator:hover label.sk-toggleable__label-arrow:before {color: black;}#sk-container-id-4 div.sk-toggleable__content {max-height: 0;max-width: 0;overflow: hidden;text-align: left;background-color: #f0f8ff;}#sk-container-id-4 div.sk-toggleable__content pre {margin: 0.2em;color: black;border-radius: 0.25em;background-color: #f0f8ff;}#sk-container-id-4 input.sk-toggleable__control:checked~div.sk-toggleable__content {max-height: 200px;max-width: 100%;overflow: auto;}#sk-container-id-4 input.sk-toggleable__control:checked~label.sk-toggleable__label-arrow:before {content: \"▾\";}#sk-container-id-4 div.sk-estimator input.sk-toggleable__control:checked~label.sk-toggleable__label {background-color: #d4ebff;}#sk-container-id-4 div.sk-label input.sk-toggleable__control:checked~label.sk-toggleable__label {background-color: #d4ebff;}#sk-container-id-4 input.sk-hidden--visually {border: 0;clip: rect(1px 1px 1px 1px);clip: rect(1px, 1px, 1px, 1px);height: 1px;margin: -1px;overflow: hidden;padding: 0;position: absolute;width: 1px;}#sk-container-id-4 div.sk-estimator {font-family: monospace;background-color: #f0f8ff;border: 1px dotted black;border-radius: 0.25em;box-sizing: border-box;margin-bottom: 0.5em;}#sk-container-id-4 div.sk-estimator:hover {background-color: #d4ebff;}#sk-container-id-4 div.sk-parallel-item::after {content: \"\";width: 100%;border-bottom: 1px solid gray;flex-grow: 1;}#sk-container-id-4 div.sk-label:hover label.sk-toggleable__label {background-color: #d4ebff;}#sk-container-id-4 div.sk-serial::before {content: \"\";position: absolute;border-left: 1px solid gray;box-sizing: border-box;top: 0;bottom: 0;left: 50%;z-index: 0;}#sk-container-id-4 div.sk-serial {display: flex;flex-direction: column;align-items: center;background-color: white;padding-right: 0.2em;padding-left: 0.2em;position: relative;}#sk-container-id-4 div.sk-item {position: relative;z-index: 1;}#sk-container-id-4 div.sk-parallel {display: flex;align-items: stretch;justify-content: center;background-color: white;position: relative;}#sk-container-id-4 div.sk-item::before, #sk-container-id-4 div.sk-parallel-item::before {content: \"\";position: absolute;border-left: 1px solid gray;box-sizing: border-box;top: 0;bottom: 0;left: 50%;z-index: -1;}#sk-container-id-4 div.sk-parallel-item {display: flex;flex-direction: column;z-index: 1;position: relative;background-color: white;}#sk-container-id-4 div.sk-parallel-item:first-child::after {align-self: flex-end;width: 50%;}#sk-container-id-4 div.sk-parallel-item:last-child::after {align-self: flex-start;width: 50%;}#sk-container-id-4 div.sk-parallel-item:only-child::after {width: 0;}#sk-container-id-4 div.sk-dashed-wrapped {border: 1px dashed gray;margin: 0 0.4em 0.5em 0.4em;box-sizing: border-box;padding-bottom: 0.4em;background-color: white;}#sk-container-id-4 div.sk-label label {font-family: monospace;font-weight: bold;display: inline-block;line-height: 1.2em;}#sk-container-id-4 div.sk-label-container {text-align: center;}#sk-container-id-4 div.sk-container {/* jupyter's `normalize.less` sets `[hidden] { display: none; }` but bootstrap.min.css set `[hidden] { display: none !important; }` so we also need the `!important` here to be able to override the default hidden behavior on the sphinx rendered scikit-learn.org. See: https://github.com/scikit-learn/scikit-learn/issues/21755 */display: inline-block !important;position: relative;}#sk-container-id-4 div.sk-text-repr-fallback {display: none;}</style><div id=\"sk-container-id-4\" class=\"sk-top-container\"><div class=\"sk-text-repr-fallback\"><pre>Pipeline(steps=[(&#x27;vect&#x27;, CountVectorizer(min_df=2, strip_accents=&#x27;ascii&#x27;)),\n                (&#x27;tfidf&#x27;, TfidfTransformer()), (&#x27;clf&#x27;, MultinomialNB())])</pre><b>In a Jupyter environment, please rerun this cell to show the HTML representation or trust the notebook. <br />On GitHub, the HTML representation is unable to render, please try loading this page with nbviewer.org.</b></div><div class=\"sk-container\" hidden><div class=\"sk-item sk-dashed-wrapped\"><div class=\"sk-label-container\"><div class=\"sk-label sk-toggleable\"><input class=\"sk-toggleable__control sk-hidden--visually\" id=\"sk-estimator-id-13\" type=\"checkbox\" ><label for=\"sk-estimator-id-13\" class=\"sk-toggleable__label sk-toggleable__label-arrow\">Pipeline</label><div class=\"sk-toggleable__content\"><pre>Pipeline(steps=[(&#x27;vect&#x27;, CountVectorizer(min_df=2, strip_accents=&#x27;ascii&#x27;)),\n                (&#x27;tfidf&#x27;, TfidfTransformer()), (&#x27;clf&#x27;, MultinomialNB())])</pre></div></div></div><div class=\"sk-serial\"><div class=\"sk-item\"><div class=\"sk-estimator sk-toggleable\"><input class=\"sk-toggleable__control sk-hidden--visually\" id=\"sk-estimator-id-14\" type=\"checkbox\" ><label for=\"sk-estimator-id-14\" class=\"sk-toggleable__label sk-toggleable__label-arrow\">CountVectorizer</label><div class=\"sk-toggleable__content\"><pre>CountVectorizer(min_df=2, strip_accents=&#x27;ascii&#x27;)</pre></div></div></div><div class=\"sk-item\"><div class=\"sk-estimator sk-toggleable\"><input class=\"sk-toggleable__control sk-hidden--visually\" id=\"sk-estimator-id-15\" type=\"checkbox\" ><label for=\"sk-estimator-id-15\" class=\"sk-toggleable__label sk-toggleable__label-arrow\">TfidfTransformer</label><div class=\"sk-toggleable__content\"><pre>TfidfTransformer()</pre></div></div></div><div class=\"sk-item\"><div class=\"sk-estimator sk-toggleable\"><input class=\"sk-toggleable__control sk-hidden--visually\" id=\"sk-estimator-id-16\" type=\"checkbox\" ><label for=\"sk-estimator-id-16\" class=\"sk-toggleable__label sk-toggleable__label-arrow\">MultinomialNB</label><div class=\"sk-toggleable__content\"><pre>MultinomialNB()</pre></div></div></div></div></div></div></div>"
     },
     "execution_count": 43,
     "metadata": {},
     "output_type": "execute_result"
    }
   ],
   "source": [
    "\n",
    "from sklearn.naive_bayes import MultinomialNB\n",
    "\n",
    "from sklearn.feature_extraction.text import CountVectorizer\n",
    "from sklearn.feature_extraction.text import TfidfTransformer\n",
    "from sklearn.pipeline import Pipeline\n",
    "\n",
    "text_clf = Pipeline(\n",
    "    [\n",
    "        (\"vect\", CountVectorizer(strip_accents='ascii', min_df=2)),\n",
    "        (\"tfidf\", TfidfTransformer()),\n",
    "        # (\"clf\", LogisticRegression()),\n",
    "        ('clf', MultinomialNB()),\n",
    "    ]\n",
    ")\n",
    "text_clf.fit(texts, target)"
   ],
   "metadata": {
    "collapsed": false,
    "pycharm": {
     "name": "#%%\n"
    }
   }
  },
  {
   "cell_type": "code",
   "execution_count": 56,
   "outputs": [
    {
     "name": "stdout",
     "output_type": "stream",
     "text": [
      "0.8414557991090863\n",
      "clf__alpha: 0.01\n",
      "tfidf__use_idf: False\n",
      "vect__min_df: 1\n",
      "vect__ngram_range: (1, 2)\n"
     ]
    }
   ],
   "source": [
    "from sklearn.model_selection import GridSearchCV\n",
    "\n",
    "parameters = {\n",
    "    'vect__ngram_range': [(1, 1), (1, 2)],\n",
    "    'vect__min_df': [1, 2],\n",
    "    'tfidf__use_idf': (True, False),\n",
    "    'clf__alpha': (1e-2, 1e-3),\n",
    "}\n",
    "gs_clf = GridSearchCV(text_clf, parameters, cv=5, n_jobs=-1, scoring='f1')\n",
    "gs_clf = gs_clf.fit(texts, target)\n",
    "print(gs_clf.best_score_)\n",
    "for param_name in sorted(parameters.keys()):\n",
    "    print(\"%s: %r\" % (param_name, gs_clf.best_params_[param_name]))"
   ],
   "metadata": {
    "collapsed": false,
    "pycharm": {
     "name": "#%%\n"
    }
   }
  },
  {
   "cell_type": "code",
   "execution_count": 57,
   "outputs": [
    {
     "data": {
      "text/plain": "array([1, 0, 1, ..., 0, 1, 0])"
     },
     "execution_count": 57,
     "metadata": {},
     "output_type": "execute_result"
    }
   ],
   "source": [
    "from sklearn.naive_bayes import MultinomialNB\n",
    "\n",
    "from sklearn.feature_extraction.text import CountVectorizer\n",
    "from sklearn.feature_extraction.text import TfidfTransformer\n",
    "from sklearn.pipeline import Pipeline\n",
    "\n",
    "text_clf = Pipeline(\n",
    "    [\n",
    "        (\"vect\", CountVectorizer(strip_accents='ascii', min_df=1, ngram_range=(1, 2))),\n",
    "        (\"tfidf\", TfidfTransformer(use_idf=False)),\n",
    "        ('clf', MultinomialNB(alpha =0.01)),\n",
    "    ]\n",
    ")\n",
    "text_clf.fit(texts, target)\n",
    "\n",
    "y_pred = text_clf.predict(texts_val)\n",
    "y_pred"
   ],
   "metadata": {
    "collapsed": false,
    "pycharm": {
     "name": "#%%\n"
    }
   }
  },
  {
   "cell_type": "code",
   "execution_count": 58,
   "outputs": [
    {
     "data": {
      "text/plain": "<Figure size 500x500 with 1 Axes>",
      "image/png": "[encoded data removed]"
     },
     "metadata": {},
     "output_type": "display_data"
    },
    {
     "name": "stdout",
     "output_type": "stream",
     "text": [
      "Precision: 0.806\n",
      "Recall: 0.916\n",
      "Accuracy: 0.833\n",
      "F1 Score: 0.858\n",
      "              precision    recall  f1-score   support\n",
      "\n",
      "   negatywne       0.88      0.73      0.80       631\n",
      "   pozytywne       0.81      0.92      0.86       773\n",
      "\n",
      "    accuracy                           0.83      1404\n",
      "   macro avg       0.84      0.82      0.83      1404\n",
      "weighted avg       0.84      0.83      0.83      1404\n",
      "\n"
     ]
    }
   ],
   "source": [
    "from matplotlib import pyplot as plt\n",
    "from sklearn.metrics import confusion_matrix\n",
    "from sklearn.metrics import precision_score, recall_score, f1_score, accuracy_score\n",
    "from sklearn import metrics\n",
    "\n",
    "\n",
    "def plot_and_print_score_model(target_val, y_pred):\n",
    "    conf_matrix = confusion_matrix(y_true=target_val, y_pred=y_pred)\n",
    "\n",
    "    fig, ax = plt.subplots(figsize=(5, 5))\n",
    "    ax.matshow(conf_matrix, cmap=plt.cm.Oranges, alpha=0.3)\n",
    "    for i in range(conf_matrix.shape[0]):\n",
    "        for j in range(conf_matrix.shape[1]):\n",
    "            ax.text(x=j, y=i, s=conf_matrix[i, j], va='center', ha='center', size='xx-large')\n",
    "\n",
    "    plt.xlabel('Predictions', fontsize=18)\n",
    "    plt.ylabel('Actuals', fontsize=18)\n",
    "    plt.title('Confusion Matrix', fontsize=18)\n",
    "    plt.show()\n",
    "\n",
    "    print('Precision: %.3f' % precision_score(target_val, y_pred))  # Precision Score = TP / (FP + TP)\n",
    "    print('Recall: %.3f' % recall_score(target_val, y_pred))  # Recall Score = TP / (FN + TP)\n",
    "    print('Accuracy: %.3f' % accuracy_score(target_val, y_pred))  # Accuracy Score = (TP + TN)/ (TP + FN + TN + FP)\n",
    "    print('F1 Score: %.3f' % f1_score(target_val,\n",
    "                                      y_pred))  # F1 Score = 2* Precision Score * Recall Score/ (Precision Score + Recall Score/)\n",
    "    print(metrics.classification_report(target_val, y_pred, target_names=mapper_target_value.keys()))\n",
    "\n",
    "\n",
    "plot_and_print_score_model(target_val, y_pred)\n"
   ],
   "metadata": {
    "collapsed": false,
    "pycharm": {
     "name": "#%%\n"
    }
   }
  }
 ],
 "metadata": {
  "kernelspec": {
   "display_name": "Python 3",
   "language": "python",
   "name": "python3"
  },
  "language_info": {
   "codemirror_mode": {
    "name": "ipython",
    "version": 2
   },
   "file_extension": ".py",
   "mimetype": "text/x-python",
   "name": "python",
   "nbconvert_exporter": "python",
   "pygments_lexer": "ipython2",
   "version": "2.7.6"
  }
 },
 "nbformat": 4,
 "nbformat_minor": 0
}