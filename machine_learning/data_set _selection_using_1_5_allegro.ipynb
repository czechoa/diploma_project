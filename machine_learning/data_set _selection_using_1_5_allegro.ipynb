{
 "cells": [
  {
   "cell_type": "code",
   "execution_count": 1,
   "outputs": [
    {
     "data": {
      "text/plain": "['/home/andrzej/PycharmProjects/diploma_project/machine_learning',\n '/usr/lib/python39.zip',\n '/usr/lib/python3.9',\n '/usr/lib/python3.9/lib-dynload',\n '',\n '/home/andrzej/PycharmProjects/diploma_project/venv/lib/python3.9/site-packages',\n '/home/andrzej/PycharmProjects/diploma_project']"
     },
     "execution_count": 1,
     "metadata": {},
     "output_type": "execute_result"
    }
   ],
   "source": [
    "import sys\n",
    "sys.path.append('/home/andrzej/PycharmProjects/diploma_project')\n",
    "sys.path"
   ],
   "metadata": {
    "collapsed": false
   }
  },
  {
   "cell_type": "code",
   "execution_count": 3,
   "outputs": [
    {
     "name": "stdout",
     "output_type": "stream",
     "text": [
      "The autoreload extension is already loaded. To reload it, use:\n",
      "  %reload_ext autoreload\n"
     ]
    },
    {
     "name": "stderr",
     "output_type": "stream",
     "text": [
      "No config specified, defaulting to: polemo2-official/all_text\n",
      "Found cached dataset polemo2-official (/home/andrzej/.cache/huggingface/datasets/clarin-pl___polemo2-official/all_text/0.0.0/2b75fdbe5def97538e81fb120f8752744b50729a4ce09bd75132bfc863a2fd70)\n"
     ]
    },
    {
     "data": {
      "text/plain": "  0%|          | 0/3 [00:00<?, ?it/s]",
      "application/vnd.jupyter.widget-view+json": {
       "version_major": 2,
       "version_minor": 0,
       "model_id": "51f49ec145244ce08dce9a9ce6dca4e5"
      }
     },
     "metadata": {},
     "output_type": "display_data"
    },
    {
     "name": "stdout",
     "output_type": "stream",
     "text": [
      " "
     ]
    },
    {
     "name": "stderr",
     "output_type": "stream",
     "text": [
      "Loading cached processed dataset at /home/andrzej/.cache/huggingface/datasets/clarin-pl___polemo2-official/all_text/0.0.0/2b75fdbe5def97538e81fb120f8752744b50729a4ce09bd75132bfc863a2fd70/cache-980c05cb93b836ec.arrow\n"
     ]
    },
    {
     "name": "stdout",
     "output_type": "stream",
     "text": [
      " "
     ]
    },
    {
     "name": "stderr",
     "output_type": "stream",
     "text": [
      "Loading cached processed dataset at /home/andrzej/.cache/huggingface/datasets/clarin-pl___polemo2-official/all_text/0.0.0/2b75fdbe5def97538e81fb120f8752744b50729a4ce09bd75132bfc863a2fd70/cache-80a1b819563cd9f2.arrow\n"
     ]
    },
    {
     "name": "stdout",
     "output_type": "stream",
     "text": [
      " "
     ]
    },
    {
     "name": "stderr",
     "output_type": "stream",
     "text": [
      "Loading cached processed dataset at /home/andrzej/.cache/huggingface/datasets/clarin-pl___polemo2-official/all_text/0.0.0/2b75fdbe5def97538e81fb120f8752744b50729a4ce09bd75132bfc863a2fd70/cache-9f2db57d37f86827.arrow\n"
     ]
    },
    {
     "name": "stdout",
     "output_type": "stream",
     "text": [
      " "
     ]
    },
    {
     "name": "stderr",
     "output_type": "stream",
     "text": [
      "Loading cached processed dataset at /home/andrzej/.cache/huggingface/datasets/clarin-pl___polemo2-official/all_text/0.0.0/2b75fdbe5def97538e81fb120f8752744b50729a4ce09bd75132bfc863a2fd70/cache-4a60d72c0b7bbf2d.arrow\n"
     ]
    },
    {
     "name": "stdout",
     "output_type": "stream",
     "text": [
      " "
     ]
    },
    {
     "name": "stderr",
     "output_type": "stream",
     "text": [
      "Loading cached processed dataset at /home/andrzej/.cache/huggingface/datasets/clarin-pl___polemo2-official/all_text/0.0.0/2b75fdbe5def97538e81fb120f8752744b50729a4ce09bd75132bfc863a2fd70/cache-cdbc45daff11a9ee.arrow\n"
     ]
    },
    {
     "name": "stdout",
     "output_type": "stream",
     "text": [
      " "
     ]
    },
    {
     "name": "stderr",
     "output_type": "stream",
     "text": [
      "Loading cached processed dataset at /home/andrzej/.cache/huggingface/datasets/clarin-pl___polemo2-official/all_text/0.0.0/2b75fdbe5def97538e81fb120f8752744b50729a4ce09bd75132bfc863a2fd70/cache-d3cc02b8831ce140.arrow\n"
     ]
    },
    {
     "name": "stdout",
     "output_type": "stream",
     "text": [
      " "
     ]
    },
    {
     "name": "stderr",
     "output_type": "stream",
     "text": [
      "Loading cached processed dataset at /home/andrzej/.cache/huggingface/datasets/clarin-pl___polemo2-official/all_text/0.0.0/2b75fdbe5def97538e81fb120f8752744b50729a4ce09bd75132bfc863a2fd70/cache-903ecb04c138ca78.arrow\n"
     ]
    },
    {
     "name": "stdout",
     "output_type": "stream",
     "text": [
      " "
     ]
    },
    {
     "name": "stderr",
     "output_type": "stream",
     "text": [
      "Loading cached processed dataset at /home/andrzej/.cache/huggingface/datasets/clarin-pl___polemo2-official/all_text/0.0.0/2b75fdbe5def97538e81fb120f8752744b50729a4ce09bd75132bfc863a2fd70/cache-fe0c86a98907ed47.arrow\n"
     ]
    },
    {
     "name": "stdout",
     "output_type": "stream",
     "text": [
      " "
     ]
    },
    {
     "name": "stderr",
     "output_type": "stream",
     "text": [
      "Loading cached processed dataset at /home/andrzej/.cache/huggingface/datasets/clarin-pl___polemo2-official/all_text/0.0.0/2b75fdbe5def97538e81fb120f8752744b50729a4ce09bd75132bfc863a2fd70/cache-566ea839029e796b.arrow\n"
     ]
    },
    {
     "name": "stdout",
     "output_type": "stream",
     "text": [
      " "
     ]
    },
    {
     "name": "stderr",
     "output_type": "stream",
     "text": [
      "Loading cached processed dataset at /home/andrzej/.cache/huggingface/datasets/clarin-pl___polemo2-official/all_text/0.0.0/2b75fdbe5def97538e81fb120f8752744b50729a4ce09bd75132bfc863a2fd70/cache-f88183a50d4fd8ab.arrow\n"
     ]
    },
    {
     "name": "stdout",
     "output_type": "stream",
     "text": [
      " "
     ]
    },
    {
     "name": "stderr",
     "output_type": "stream",
     "text": [
      "Loading cached processed dataset at /home/andrzej/.cache/huggingface/datasets/clarin-pl___polemo2-official/all_text/0.0.0/2b75fdbe5def97538e81fb120f8752744b50729a4ce09bd75132bfc863a2fd70/cache-7591093cd6ee5d17.arrow\n"
     ]
    },
    {
     "name": "stdout",
     "output_type": "stream",
     "text": [
      " "
     ]
    },
    {
     "name": "stderr",
     "output_type": "stream",
     "text": [
      "Loading cached processed dataset at /home/andrzej/.cache/huggingface/datasets/clarin-pl___polemo2-official/all_text/0.0.0/2b75fdbe5def97538e81fb120f8752744b50729a4ce09bd75132bfc863a2fd70/cache-935586529f5cf1c0.arrow\n"
     ]
    },
    {
     "name": "stdout",
     "output_type": "stream",
     "text": [
      " "
     ]
    },
    {
     "name": "stderr",
     "output_type": "stream",
     "text": [
      "Loading cached processed dataset at /home/andrzej/.cache/huggingface/datasets/clarin-pl___polemo2-official/all_text/0.0.0/2b75fdbe5def97538e81fb120f8752744b50729a4ce09bd75132bfc863a2fd70/cache-b888c6cf7d86635e.arrow\n"
     ]
    },
    {
     "name": "stdout",
     "output_type": "stream",
     "text": [
      " "
     ]
    },
    {
     "name": "stderr",
     "output_type": "stream",
     "text": [
      "Loading cached processed dataset at /home/andrzej/.cache/huggingface/datasets/clarin-pl___polemo2-official/all_text/0.0.0/2b75fdbe5def97538e81fb120f8752744b50729a4ce09bd75132bfc863a2fd70/cache-196345a5a36aafc7.arrow\n"
     ]
    },
    {
     "name": "stdout",
     "output_type": "stream",
     "text": [
      " "
     ]
    },
    {
     "name": "stderr",
     "output_type": "stream",
     "text": [
      "Loading cached processed dataset at /home/andrzej/.cache/huggingface/datasets/clarin-pl___polemo2-official/all_text/0.0.0/2b75fdbe5def97538e81fb120f8752744b50729a4ce09bd75132bfc863a2fd70/cache-58db6c594bae36ee.arrow\n"
     ]
    },
    {
     "name": "stdout",
     "output_type": "stream",
     "text": [
      " "
     ]
    },
    {
     "name": "stderr",
     "output_type": "stream",
     "text": [
      "Loading cached processed dataset at /home/andrzej/.cache/huggingface/datasets/clarin-pl___polemo2-official/all_text/0.0.0/2b75fdbe5def97538e81fb120f8752744b50729a4ce09bd75132bfc863a2fd70/cache-33f3b133b59761a7.arrow\n"
     ]
    },
    {
     "name": "stdout",
     "output_type": "stream",
     "text": [
      " "
     ]
    },
    {
     "name": "stderr",
     "output_type": "stream",
     "text": [
      "Loading cached processed dataset at /home/andrzej/.cache/huggingface/datasets/clarin-pl___polemo2-official/all_text/0.0.0/2b75fdbe5def97538e81fb120f8752744b50729a4ce09bd75132bfc863a2fd70/cache-b473fc2271e30b22.arrow\n"
     ]
    },
    {
     "name": "stdout",
     "output_type": "stream",
     "text": [
      " "
     ]
    },
    {
     "name": "stderr",
     "output_type": "stream",
     "text": [
      "Loading cached processed dataset at /home/andrzej/.cache/huggingface/datasets/clarin-pl___polemo2-official/all_text/0.0.0/2b75fdbe5def97538e81fb120f8752744b50729a4ce09bd75132bfc863a2fd70/cache-62e85fb3beae6c3b.arrow\n"
     ]
    },
    {
     "name": "stdout",
     "output_type": "stream",
     "text": [
      " "
     ]
    },
    {
     "name": "stderr",
     "output_type": "stream",
     "text": [
      "Loading cached processed dataset at /home/andrzej/.cache/huggingface/datasets/clarin-pl___polemo2-official/all_text/0.0.0/2b75fdbe5def97538e81fb120f8752744b50729a4ce09bd75132bfc863a2fd70/cache-df9a3d945e74dca8.arrow\n"
     ]
    },
    {
     "name": "stdout",
     "output_type": "stream",
     "text": [
      " "
     ]
    },
    {
     "name": "stderr",
     "output_type": "stream",
     "text": [
      "Loading cached processed dataset at /home/andrzej/.cache/huggingface/datasets/clarin-pl___polemo2-official/all_text/0.0.0/2b75fdbe5def97538e81fb120f8752744b50729a4ce09bd75132bfc863a2fd70/cache-9626e3ea4494d699.arrow\n"
     ]
    },
    {
     "name": "stdout",
     "output_type": "stream",
     "text": [
      " "
     ]
    },
    {
     "name": "stderr",
     "output_type": "stream",
     "text": [
      "Loading cached processed dataset at /home/andrzej/.cache/huggingface/datasets/clarin-pl___polemo2-official/all_text/0.0.0/2b75fdbe5def97538e81fb120f8752744b50729a4ce09bd75132bfc863a2fd70/cache-c359cb11c835a7ec.arrow\n"
     ]
    },
    {
     "name": "stdout",
     "output_type": "stream",
     "text": [
      " "
     ]
    },
    {
     "name": "stderr",
     "output_type": "stream",
     "text": [
      "Loading cached processed dataset at /home/andrzej/.cache/huggingface/datasets/clarin-pl___polemo2-official/all_text/0.0.0/2b75fdbe5def97538e81fb120f8752744b50729a4ce09bd75132bfc863a2fd70/cache-aba2569f27b34a29.arrow\n"
     ]
    },
    {
     "name": "stdout",
     "output_type": "stream",
     "text": [
      " "
     ]
    },
    {
     "name": "stderr",
     "output_type": "stream",
     "text": [
      "Loading cached processed dataset at /home/andrzej/.cache/huggingface/datasets/clarin-pl___polemo2-official/all_text/0.0.0/2b75fdbe5def97538e81fb120f8752744b50729a4ce09bd75132bfc863a2fd70/cache-3fd15ad947ac8c98.arrow\n"
     ]
    },
    {
     "name": "stdout",
     "output_type": "stream",
     "text": [
      " "
     ]
    },
    {
     "name": "stderr",
     "output_type": "stream",
     "text": [
      "Loading cached processed dataset at /home/andrzej/.cache/huggingface/datasets/clarin-pl___polemo2-official/all_text/0.0.0/2b75fdbe5def97538e81fb120f8752744b50729a4ce09bd75132bfc863a2fd70/cache-8ce676ed69e53d1e.arrow\n",
      "Using custom data configuration default\n",
      "Found cached dataset allegro_reviews (/home/andrzej/.cache/huggingface/datasets/allegro_reviews/default/1.1.0/d0fd6bf6f7f8f2c8faed7ecf9d295c991eac403ca516d3d3593061a913c0476b)\n"
     ]
    },
    {
     "data": {
      "text/plain": "  0%|          | 0/3 [00:00<?, ?it/s]",
      "application/vnd.jupyter.widget-view+json": {
       "version_major": 2,
       "version_minor": 0,
       "model_id": "75949df57193435ab5c529e623f122b2"
      }
     },
     "metadata": {},
     "output_type": "display_data"
    },
    {
     "name": "stdout",
     "output_type": "stream",
     "text": [
      " "
     ]
    },
    {
     "name": "stderr",
     "output_type": "stream",
     "text": [
      "Loading cached processed dataset at /home/andrzej/.cache/huggingface/datasets/allegro_reviews/default/1.1.0/d0fd6bf6f7f8f2c8faed7ecf9d295c991eac403ca516d3d3593061a913c0476b/cache-f02b67bffbfb97d7.arrow\n"
     ]
    },
    {
     "name": "stdout",
     "output_type": "stream",
     "text": [
      " "
     ]
    },
    {
     "name": "stderr",
     "output_type": "stream",
     "text": [
      "Loading cached processed dataset at /home/andrzej/.cache/huggingface/datasets/allegro_reviews/default/1.1.0/d0fd6bf6f7f8f2c8faed7ecf9d295c991eac403ca516d3d3593061a913c0476b/cache-0e76f326335ce0ce.arrow\n"
     ]
    },
    {
     "name": "stdout",
     "output_type": "stream",
     "text": [
      " "
     ]
    },
    {
     "name": "stderr",
     "output_type": "stream",
     "text": [
      "Loading cached processed dataset at /home/andrzej/.cache/huggingface/datasets/allegro_reviews/default/1.1.0/d0fd6bf6f7f8f2c8faed7ecf9d295c991eac403ca516d3d3593061a913c0476b/cache-979f380106379ccd.arrow\n"
     ]
    },
    {
     "name": "stdout",
     "output_type": "stream",
     "text": [
      " "
     ]
    },
    {
     "name": "stderr",
     "output_type": "stream",
     "text": [
      "Loading cached processed dataset at /home/andrzej/.cache/huggingface/datasets/allegro_reviews/default/1.1.0/d0fd6bf6f7f8f2c8faed7ecf9d295c991eac403ca516d3d3593061a913c0476b/cache-fe1e5a4a2cbb0c7b.arrow\n"
     ]
    },
    {
     "name": "stdout",
     "output_type": "stream",
     "text": [
      " "
     ]
    },
    {
     "name": "stderr",
     "output_type": "stream",
     "text": [
      "Loading cached processed dataset at /home/andrzej/.cache/huggingface/datasets/allegro_reviews/default/1.1.0/d0fd6bf6f7f8f2c8faed7ecf9d295c991eac403ca516d3d3593061a913c0476b/cache-9861f91c69dc02ec.arrow\n"
     ]
    },
    {
     "name": "stdout",
     "output_type": "stream",
     "text": [
      " "
     ]
    },
    {
     "name": "stderr",
     "output_type": "stream",
     "text": [
      "Loading cached processed dataset at /home/andrzej/.cache/huggingface/datasets/allegro_reviews/default/1.1.0/d0fd6bf6f7f8f2c8faed7ecf9d295c991eac403ca516d3d3593061a913c0476b/cache-4b2a57acab5318f6.arrow\n"
     ]
    },
    {
     "name": "stdout",
     "output_type": "stream",
     "text": [
      " "
     ]
    },
    {
     "name": "stderr",
     "output_type": "stream",
     "text": [
      "Loading cached processed dataset at /home/andrzej/.cache/huggingface/datasets/allegro_reviews/default/1.1.0/d0fd6bf6f7f8f2c8faed7ecf9d295c991eac403ca516d3d3593061a913c0476b/cache-6488b16323486758.arrow\n"
     ]
    },
    {
     "name": "stdout",
     "output_type": "stream",
     "text": [
      " "
     ]
    },
    {
     "name": "stderr",
     "output_type": "stream",
     "text": [
      "Loading cached processed dataset at /home/andrzej/.cache/huggingface/datasets/allegro_reviews/default/1.1.0/d0fd6bf6f7f8f2c8faed7ecf9d295c991eac403ca516d3d3593061a913c0476b/cache-ee625af0d71f79d1.arrow\n"
     ]
    },
    {
     "name": "stdout",
     "output_type": "stream",
     "text": [
      " "
     ]
    },
    {
     "name": "stderr",
     "output_type": "stream",
     "text": [
      "Loading cached processed dataset at /home/andrzej/.cache/huggingface/datasets/allegro_reviews/default/1.1.0/d0fd6bf6f7f8f2c8faed7ecf9d295c991eac403ca516d3d3593061a913c0476b/cache-64150375133aea5d.arrow\n"
     ]
    },
    {
     "name": "stdout",
     "output_type": "stream",
     "text": [
      " "
     ]
    },
    {
     "name": "stderr",
     "output_type": "stream",
     "text": [
      "Loading cached processed dataset at /home/andrzej/.cache/huggingface/datasets/allegro_reviews/default/1.1.0/d0fd6bf6f7f8f2c8faed7ecf9d295c991eac403ca516d3d3593061a913c0476b/cache-3ed6fee744eb9227.arrow\n"
     ]
    },
    {
     "name": "stdout",
     "output_type": "stream",
     "text": [
      " "
     ]
    },
    {
     "name": "stderr",
     "output_type": "stream",
     "text": [
      "Loading cached processed dataset at /home/andrzej/.cache/huggingface/datasets/allegro_reviews/default/1.1.0/d0fd6bf6f7f8f2c8faed7ecf9d295c991eac403ca516d3d3593061a913c0476b/cache-6e3bcbd551106c50.arrow\n"
     ]
    },
    {
     "name": "stdout",
     "output_type": "stream",
     "text": [
      " "
     ]
    },
    {
     "name": "stderr",
     "output_type": "stream",
     "text": [
      "Loading cached processed dataset at /home/andrzej/.cache/huggingface/datasets/allegro_reviews/default/1.1.0/d0fd6bf6f7f8f2c8faed7ecf9d295c991eac403ca516d3d3593061a913c0476b/cache-1e5e581baab96672.arrow\n"
     ]
    },
    {
     "name": "stdout",
     "output_type": "stream",
     "text": [
      " "
     ]
    },
    {
     "name": "stderr",
     "output_type": "stream",
     "text": [
      "Loading cached processed dataset at /home/andrzej/.cache/huggingface/datasets/allegro_reviews/default/1.1.0/d0fd6bf6f7f8f2c8faed7ecf9d295c991eac403ca516d3d3593061a913c0476b/cache-0aec83e2ba442b60.arrow\n"
     ]
    },
    {
     "name": "stdout",
     "output_type": "stream",
     "text": [
      " "
     ]
    },
    {
     "name": "stderr",
     "output_type": "stream",
     "text": [
      "Loading cached processed dataset at /home/andrzej/.cache/huggingface/datasets/allegro_reviews/default/1.1.0/d0fd6bf6f7f8f2c8faed7ecf9d295c991eac403ca516d3d3593061a913c0476b/cache-cad251530361a593.arrow\n"
     ]
    },
    {
     "name": "stdout",
     "output_type": "stream",
     "text": [
      " "
     ]
    },
    {
     "name": "stderr",
     "output_type": "stream",
     "text": [
      "Loading cached processed dataset at /home/andrzej/.cache/huggingface/datasets/allegro_reviews/default/1.1.0/d0fd6bf6f7f8f2c8faed7ecf9d295c991eac403ca516d3d3593061a913c0476b/cache-1a7b7078ca9cf02d.arrow\n"
     ]
    },
    {
     "name": "stdout",
     "output_type": "stream",
     "text": [
      " "
     ]
    },
    {
     "name": "stderr",
     "output_type": "stream",
     "text": [
      "Loading cached processed dataset at /home/andrzej/.cache/huggingface/datasets/allegro_reviews/default/1.1.0/d0fd6bf6f7f8f2c8faed7ecf9d295c991eac403ca516d3d3593061a913c0476b/cache-940b6f6675103518.arrow\n"
     ]
    },
    {
     "name": "stdout",
     "output_type": "stream",
     "text": [
      " "
     ]
    },
    {
     "name": "stderr",
     "output_type": "stream",
     "text": [
      "Loading cached processed dataset at /home/andrzej/.cache/huggingface/datasets/allegro_reviews/default/1.1.0/d0fd6bf6f7f8f2c8faed7ecf9d295c991eac403ca516d3d3593061a913c0476b/cache-0c47030516645e4a.arrow\n"
     ]
    },
    {
     "name": "stdout",
     "output_type": "stream",
     "text": [
      " "
     ]
    },
    {
     "name": "stderr",
     "output_type": "stream",
     "text": [
      "Loading cached processed dataset at /home/andrzej/.cache/huggingface/datasets/allegro_reviews/default/1.1.0/d0fd6bf6f7f8f2c8faed7ecf9d295c991eac403ca516d3d3593061a913c0476b/cache-d2ae02cfe71c1b8c.arrow\n"
     ]
    },
    {
     "name": "stdout",
     "output_type": "stream",
     "text": [
      " "
     ]
    },
    {
     "name": "stderr",
     "output_type": "stream",
     "text": [
      "Loading cached processed dataset at /home/andrzej/.cache/huggingface/datasets/allegro_reviews/default/1.1.0/d0fd6bf6f7f8f2c8faed7ecf9d295c991eac403ca516d3d3593061a913c0476b/cache-7630710d2eeae838.arrow\n"
     ]
    },
    {
     "name": "stdout",
     "output_type": "stream",
     "text": [
      " "
     ]
    },
    {
     "name": "stderr",
     "output_type": "stream",
     "text": [
      "Loading cached processed dataset at /home/andrzej/.cache/huggingface/datasets/allegro_reviews/default/1.1.0/d0fd6bf6f7f8f2c8faed7ecf9d295c991eac403ca516d3d3593061a913c0476b/cache-5d563ab239e50b80.arrow\n"
     ]
    },
    {
     "name": "stdout",
     "output_type": "stream",
     "text": [
      " "
     ]
    },
    {
     "name": "stderr",
     "output_type": "stream",
     "text": [
      "Loading cached processed dataset at /home/andrzej/.cache/huggingface/datasets/allegro_reviews/default/1.1.0/d0fd6bf6f7f8f2c8faed7ecf9d295c991eac403ca516d3d3593061a913c0476b/cache-780e2566952e2083.arrow\n"
     ]
    },
    {
     "name": "stdout",
     "output_type": "stream",
     "text": [
      " "
     ]
    },
    {
     "name": "stderr",
     "output_type": "stream",
     "text": [
      "Loading cached processed dataset at /home/andrzej/.cache/huggingface/datasets/allegro_reviews/default/1.1.0/d0fd6bf6f7f8f2c8faed7ecf9d295c991eac403ca516d3d3593061a913c0476b/cache-cb439d7f04fa415e.arrow\n"
     ]
    },
    {
     "name": "stdout",
     "output_type": "stream",
     "text": [
      " "
     ]
    },
    {
     "name": "stderr",
     "output_type": "stream",
     "text": [
      "Loading cached processed dataset at /home/andrzej/.cache/huggingface/datasets/allegro_reviews/default/1.1.0/d0fd6bf6f7f8f2c8faed7ecf9d295c991eac403ca516d3d3593061a913c0476b/cache-8c76ca0812572790.arrow\n"
     ]
    },
    {
     "name": "stdout",
     "output_type": "stream",
     "text": [
      " "
     ]
    },
    {
     "name": "stderr",
     "output_type": "stream",
     "text": [
      "Loading cached processed dataset at /home/andrzej/.cache/huggingface/datasets/allegro_reviews/default/1.1.0/d0fd6bf6f7f8f2c8faed7ecf9d295c991eac403ca516d3d3593061a913c0476b/cache-2aeda6831d1a9b46.arrow\n"
     ]
    },
    {
     "data": {
      "text/plain": "{'clarin-pl/polemo2-official': <dash_app.backend.utils.object.dataset.DataSet at 0x7f9787c65f10>,\n 'allegro_reviews': <dash_app.backend.utils.object.dataset.DataSet at 0x7f9787c652b0>,\n 'połączone_3_dwuznaczne': <dash_app.backend.utils.object.dataset.DataSet at 0x7f9787c655b0>,\n 'połączone_2_3_4_dwuznaczne': <dash_app.backend.utils.object.dataset.DataSet at 0x7f973f936d00>}"
     },
     "execution_count": 3,
     "metadata": {},
     "output_type": "execute_result"
    }
   ],
   "source": [
    "import pandas as pd\n",
    "\n",
    "from dash_app.backend.db_dictonary import load_datasets\n",
    "%load_ext autoreload\n",
    "%autoreload 2\n",
    "db_dict = load_datasets()\n",
    "\n",
    "db_dict"
   ],
   "metadata": {
    "collapsed": false
   }
  },
  {
   "cell_type": "code",
   "execution_count": 17,
   "outputs": [
    {
     "name": "stdout",
     "output_type": "stream",
     "text": [
      "['nieznane' 'negatywne' 'pozytywne' 'neutralne' 'dwuznaczne']\n"
     ]
    },
    {
     "data": {
      "text/plain": "                                                   text  rating  \\\n986   Nie jestem w stanie ocenić fachowości Pani dok...     NaN   \n994   Lekarz stara się cały czas dominować nad pacje...     NaN   \n996   Dzisiaj był em u owego pana doktora i zakończy...     NaN   \n1001  Może kiedyś 20 lat temu było to fajne miejsce ...     NaN   \n1002  Była m u dr Kłóska na USG połówkowym . Tam się...     NaN   \n...                                                 ...     ...   \n1785  Ten hotel absolutnie nie zasługuje na posiadan...     NaN   \n1790  Może w sezonie się starają ale poza nim to por...     NaN   \n1791  Niestety jest kilka niedociągnięć - dla mnie n...     NaN   \n1793  Okropne miejsce , jako goście hotelowi dostali...     NaN   \n1802  Niniejszą opinię wystawiam Panu Doktorowi po 3...     NaN   \n\n                                               text_org  \\\n986   Nie jestem w stanie ocenić fachowości Pani dok...   \n994   Lekarz stara się cały czas dominować nad pacje...   \n996   Dzisiaj był em u owego pana doktora i zakończy...   \n1001  Może kiedyś 20 lat temu było to fajne miejsce ...   \n1002  Była m u dr Kłóska na USG połówkowym . Tam się...   \n...                                                 ...   \n1785  Ten hotel absolutnie nie zasługuje na posiadan...   \n1790  Może w sezonie się starają ale poza nim to por...   \n1791  Niestety jest kilka niedociągnięć - dla mnie n...   \n1793  Okropne miejsce , jako goście hotelowi dostali...   \n1802  Niniejszą opinię wystawiam Panu Doktorowi po 3...   \n\n                                          text_clean_up  liczba_zdań  \\\n986   nie jestem w stanie ocenić fachowości pani dok...            7   \n994   lekarz stara się cały czas dominować nad pacje...            5   \n996   dzisiaj był em u owego pana doktora i zakończy...            7   \n1001  może kiedyś 20 lat temu było to fajne miejsce ...            5   \n1002  była m u dr kłóska na usg połówkowym tam się d...            7   \n...                                                 ...          ...   \n1785  ten hotel absolutnie nie zasługuje na posiadan...            9   \n1790  może w sezonie się starają ale poza nim to por...            6   \n1791  niestety jest kilka niedociągnięć dla mnie na ...            4   \n1793  okropne miejsce jako goście hotelowi dostali ś...            3   \n1802  niniejszą opinię wystawiam panu doktorowi po 3...           14   \n\n      liczba_słów  liczba_tokenów ocena_tekst  \\\n986           140              76   negatywne   \n994            87              58   negatywne   \n996           225             113   negatywne   \n1001           59              35   negatywne   \n1002          131              71   negatywne   \n...           ...             ...         ...   \n1785          120              79   negatywne   \n1790           71              36   negatywne   \n1791           63              35   negatywne   \n1793           48              33   negatywne   \n1802          249             150   negatywne   \n\n                                            token_tekst  \\\n986   [nie, stan, ocenić, fachowość, doktor, chodzić...   \n994   [lekarz, starać, czas, dominować, pacjent, oka...   \n996   [ow, doktor, zakończyć, wizyta, środek, czas, ...   \n1001  [kiedyś, 20, rok, fajny, miejsce, masakra, jed...   \n1002  [doktor, kłósko, usg, połówkowy, dowiedzieć, d...   \n...                                                 ...   \n1785  [hotel, absolutnie, nie, zasługiwać, posiadany...   \n1790  [sezon, starać, porażka, 20, nie, zjecie, 22, ...   \n1791  [niestety, niedociągnięcie, tyle, poważny, skr...   \n1793  [okropny, miejsce, gość, hotelowy, dostać, zim...   \n1802  [niniejszy, opinia, wystawiać, pan, doktor, 3,...   \n\n                                     token_adj_adv_verb  \\\n986   [miły, szybko, nieźle, potem, istny, przestras...   \n994   [zainteresować, medyczny, prywatny, tańszy, da...   \n996   [inny, jeden, prywatnie, krótko, skomplikowany...   \n1001  [kiedyś, fajny, jedyny, stary, zdezelować, bru...   \n1002  [połówkowy, późno, robić, troszkę, duży, potwi...   \n...                                                 ...   \n1785  [absolutnie, posiadany, hotelowy, ciasny, niep...   \n1790  [22, czegokolwiek, prosty, zamykać, kolonijny,...   \n1791  [tyle, poważny, niedopuszczalny, poważny, dług...   \n1793  [okropny, hotelowy, zimny, ciepły, stary, wcze...   \n1802  [niniejszy, bardzo, wiarygodny, wrodzić, wystu...   \n\n                                    subset_of_two_words  \\\n986   [nie stan, stan ocenić, ocenić fachowość, fach...   \n994   [lekarz starać, starać czas, czas dominować, d...   \n996   [ow doktor, doktor zakończyć, zakończyć wizyta...   \n1001  [kiedyś 20, 20 rok, rok fajny, fajny miejsce, ...   \n1002  [doktor kłósko, kłósko usg, usg połówkowy, poł...   \n...                                                 ...   \n1785  [hotel absolutnie, absolutnie nie, nie zasługi...   \n1790  [sezon starać, starać porażka, porażka 20, 20 ...   \n1791  [niestety niedociągnięcie, niedociągnięcie tyl...   \n1793  [okropny miejsce, miejsce gość, gość hotelowy,...   \n1802  [niniejszy opinia, opinia wystawiać, wystawiać...   \n\n                                  subset_of_three_words  target  \\\n986   [nie stan ocenić, stan ocenić fachowość, oceni...     1.0   \n994   [lekarz starać czas, starać czas dominować, cz...     1.0   \n996   [ow doktor zakończyć, doktor zakończyć wizyta,...     1.0   \n1001  [kiedyś 20 rok, 20 rok fajny, rok fajny miejsc...     1.0   \n1002  [doktor kłósko usg, kłósko usg połówkowy, usg ...     1.0   \n...                                                 ...     ...   \n1785  [hotel absolutnie nie, absolutnie nie zasługiw...     1.0   \n1790  [sezon starać porażka, starać porażka 20, pora...     1.0   \n1791  [niestety niedociągnięcie tyle, niedociągnięci...     1.0   \n1793  [okropny miejsce gość, miejsce gość hotelowy, ...     1.0   \n1802  [niniejszy opinia wystawiać, opinia wystawiać ...     1.0   \n\n      __index_level_0__  \n986                   0  \n994                   8  \n996                  10  \n1001                 15  \n1002                 16  \n...                 ...  \n1785                799  \n1790                804  \n1791                805  \n1793                807  \n1802                816  \n\n[339 rows x 14 columns]",
      "text/html": "<div>\n<style scoped>\n    .dataframe tbody tr th:only-of-type {\n        vertical-align: middle;\n    }\n\n    .dataframe tbody tr th {\n        vertical-align: top;\n    }\n\n    .dataframe thead th {\n        text-align: right;\n    }\n</style>\n<table border=\"1\" class=\"dataframe\">\n  <thead>\n    <tr style=\"text-align: right;\">\n      <th></th>\n      <th>text</th>\n      <th>rating</th>\n      <th>text_org</th>\n      <th>text_clean_up</th>\n      <th>liczba_zdań</th>\n      <th>liczba_słów</th>\n      <th>liczba_tokenów</th>\n      <th>ocena_tekst</th>\n      <th>token_tekst</th>\n      <th>token_adj_adv_verb</th>\n      <th>subset_of_two_words</th>\n      <th>subset_of_three_words</th>\n      <th>target</th>\n      <th>__index_level_0__</th>\n    </tr>\n  </thead>\n  <tbody>\n    <tr>\n      <th>986</th>\n      <td>Nie jestem w stanie ocenić fachowości Pani dok...</td>\n      <td>NaN</td>\n      <td>Nie jestem w stanie ocenić fachowości Pani dok...</td>\n      <td>nie jestem w stanie ocenić fachowości pani dok...</td>\n      <td>7</td>\n      <td>140</td>\n      <td>76</td>\n      <td>negatywne</td>\n      <td>[nie, stan, ocenić, fachowość, doktor, chodzić...</td>\n      <td>[miły, szybko, nieźle, potem, istny, przestras...</td>\n      <td>[nie stan, stan ocenić, ocenić fachowość, fach...</td>\n      <td>[nie stan ocenić, stan ocenić fachowość, oceni...</td>\n      <td>1.0</td>\n      <td>0</td>\n    </tr>\n    <tr>\n      <th>994</th>\n      <td>Lekarz stara się cały czas dominować nad pacje...</td>\n      <td>NaN</td>\n      <td>Lekarz stara się cały czas dominować nad pacje...</td>\n      <td>lekarz stara się cały czas dominować nad pacje...</td>\n      <td>5</td>\n      <td>87</td>\n      <td>58</td>\n      <td>negatywne</td>\n      <td>[lekarz, starać, czas, dominować, pacjent, oka...</td>\n      <td>[zainteresować, medyczny, prywatny, tańszy, da...</td>\n      <td>[lekarz starać, starać czas, czas dominować, d...</td>\n      <td>[lekarz starać czas, starać czas dominować, cz...</td>\n      <td>1.0</td>\n      <td>8</td>\n    </tr>\n    <tr>\n      <th>996</th>\n      <td>Dzisiaj był em u owego pana doktora i zakończy...</td>\n      <td>NaN</td>\n      <td>Dzisiaj był em u owego pana doktora i zakończy...</td>\n      <td>dzisiaj był em u owego pana doktora i zakończy...</td>\n      <td>7</td>\n      <td>225</td>\n      <td>113</td>\n      <td>negatywne</td>\n      <td>[ow, doktor, zakończyć, wizyta, środek, czas, ...</td>\n      <td>[inny, jeden, prywatnie, krótko, skomplikowany...</td>\n      <td>[ow doktor, doktor zakończyć, zakończyć wizyta...</td>\n      <td>[ow doktor zakończyć, doktor zakończyć wizyta,...</td>\n      <td>1.0</td>\n      <td>10</td>\n    </tr>\n    <tr>\n      <th>1001</th>\n      <td>Może kiedyś 20 lat temu było to fajne miejsce ...</td>\n      <td>NaN</td>\n      <td>Może kiedyś 20 lat temu było to fajne miejsce ...</td>\n      <td>może kiedyś 20 lat temu było to fajne miejsce ...</td>\n      <td>5</td>\n      <td>59</td>\n      <td>35</td>\n      <td>negatywne</td>\n      <td>[kiedyś, 20, rok, fajny, miejsce, masakra, jed...</td>\n      <td>[kiedyś, fajny, jedyny, stary, zdezelować, bru...</td>\n      <td>[kiedyś 20, 20 rok, rok fajny, fajny miejsce, ...</td>\n      <td>[kiedyś 20 rok, 20 rok fajny, rok fajny miejsc...</td>\n      <td>1.0</td>\n      <td>15</td>\n    </tr>\n    <tr>\n      <th>1002</th>\n      <td>Była m u dr Kłóska na USG połówkowym . Tam się...</td>\n      <td>NaN</td>\n      <td>Była m u dr Kłóska na USG połówkowym . Tam się...</td>\n      <td>była m u dr kłóska na usg połówkowym tam się d...</td>\n      <td>7</td>\n      <td>131</td>\n      <td>71</td>\n      <td>negatywne</td>\n      <td>[doktor, kłósko, usg, połówkowy, dowiedzieć, d...</td>\n      <td>[połówkowy, późno, robić, troszkę, duży, potwi...</td>\n      <td>[doktor kłósko, kłósko usg, usg połówkowy, poł...</td>\n      <td>[doktor kłósko usg, kłósko usg połówkowy, usg ...</td>\n      <td>1.0</td>\n      <td>16</td>\n    </tr>\n    <tr>\n      <th>...</th>\n      <td>...</td>\n      <td>...</td>\n      <td>...</td>\n      <td>...</td>\n      <td>...</td>\n      <td>...</td>\n      <td>...</td>\n      <td>...</td>\n      <td>...</td>\n      <td>...</td>\n      <td>...</td>\n      <td>...</td>\n      <td>...</td>\n      <td>...</td>\n    </tr>\n    <tr>\n      <th>1785</th>\n      <td>Ten hotel absolutnie nie zasługuje na posiadan...</td>\n      <td>NaN</td>\n      <td>Ten hotel absolutnie nie zasługuje na posiadan...</td>\n      <td>ten hotel absolutnie nie zasługuje na posiadan...</td>\n      <td>9</td>\n      <td>120</td>\n      <td>79</td>\n      <td>negatywne</td>\n      <td>[hotel, absolutnie, nie, zasługiwać, posiadany...</td>\n      <td>[absolutnie, posiadany, hotelowy, ciasny, niep...</td>\n      <td>[hotel absolutnie, absolutnie nie, nie zasługi...</td>\n      <td>[hotel absolutnie nie, absolutnie nie zasługiw...</td>\n      <td>1.0</td>\n      <td>799</td>\n    </tr>\n    <tr>\n      <th>1790</th>\n      <td>Może w sezonie się starają ale poza nim to por...</td>\n      <td>NaN</td>\n      <td>Może w sezonie się starają ale poza nim to por...</td>\n      <td>może w sezonie się starają ale poza nim to por...</td>\n      <td>6</td>\n      <td>71</td>\n      <td>36</td>\n      <td>negatywne</td>\n      <td>[sezon, starać, porażka, 20, nie, zjecie, 22, ...</td>\n      <td>[22, czegokolwiek, prosty, zamykać, kolonijny,...</td>\n      <td>[sezon starać, starać porażka, porażka 20, 20 ...</td>\n      <td>[sezon starać porażka, starać porażka 20, pora...</td>\n      <td>1.0</td>\n      <td>804</td>\n    </tr>\n    <tr>\n      <th>1791</th>\n      <td>Niestety jest kilka niedociągnięć - dla mnie n...</td>\n      <td>NaN</td>\n      <td>Niestety jest kilka niedociągnięć - dla mnie n...</td>\n      <td>niestety jest kilka niedociągnięć dla mnie na ...</td>\n      <td>4</td>\n      <td>63</td>\n      <td>35</td>\n      <td>negatywne</td>\n      <td>[niestety, niedociągnięcie, tyle, poważny, skr...</td>\n      <td>[tyle, poważny, niedopuszczalny, poważny, dług...</td>\n      <td>[niestety niedociągnięcie, niedociągnięcie tyl...</td>\n      <td>[niestety niedociągnięcie tyle, niedociągnięci...</td>\n      <td>1.0</td>\n      <td>805</td>\n    </tr>\n    <tr>\n      <th>1793</th>\n      <td>Okropne miejsce , jako goście hotelowi dostali...</td>\n      <td>NaN</td>\n      <td>Okropne miejsce , jako goście hotelowi dostali...</td>\n      <td>okropne miejsce jako goście hotelowi dostali ś...</td>\n      <td>3</td>\n      <td>48</td>\n      <td>33</td>\n      <td>negatywne</td>\n      <td>[okropny, miejsce, gość, hotelowy, dostać, zim...</td>\n      <td>[okropny, hotelowy, zimny, ciepły, stary, wcze...</td>\n      <td>[okropny miejsce, miejsce gość, gość hotelowy,...</td>\n      <td>[okropny miejsce gość, miejsce gość hotelowy, ...</td>\n      <td>1.0</td>\n      <td>807</td>\n    </tr>\n    <tr>\n      <th>1802</th>\n      <td>Niniejszą opinię wystawiam Panu Doktorowi po 3...</td>\n      <td>NaN</td>\n      <td>Niniejszą opinię wystawiam Panu Doktorowi po 3...</td>\n      <td>niniejszą opinię wystawiam panu doktorowi po 3...</td>\n      <td>14</td>\n      <td>249</td>\n      <td>150</td>\n      <td>negatywne</td>\n      <td>[niniejszy, opinia, wystawiać, pan, doktor, 3,...</td>\n      <td>[niniejszy, bardzo, wiarygodny, wrodzić, wystu...</td>\n      <td>[niniejszy opinia, opinia wystawiać, wystawiać...</td>\n      <td>[niniejszy opinia wystawiać, opinia wystawiać ...</td>\n      <td>1.0</td>\n      <td>816</td>\n    </tr>\n  </tbody>\n</table>\n<p>339 rows × 14 columns</p>\n</div>"
     },
     "execution_count": 17,
     "metadata": {},
     "output_type": "execute_result"
    }
   ],
   "source": [
    "merge = db_dict['połączone_2_3_4_dwuznaczne'].data['test'].to_pandas()\n",
    "\n",
    "print(merge['ocena_tekst'].unique())\n",
    "merge[merge['ocena_tekst'].isin(['pozytwne','negatywne'])]"
   ],
   "metadata": {
    "collapsed": false
   }
  },
  {
   "cell_type": "code",
   "execution_count": 19,
   "outputs": [
    {
     "data": {
      "text/plain": "                                                  text  rating  \\\n0    1. Ładowanie bezprzewodowe działa, ale słabo. ...    -1.0   \n1    Uchwyt dobrze trzyma telefon. Ramiona mają spo...    -1.0   \n2    \"Gdyby nie problem  jeśli w pobliżu znajduje s...    -1.0   \n3    Wypróbowałam na 2x 5kg pomidorów i grubszym si...    -1.0   \n4    \"Produkt w pełni spełnia moje oczekiwania. Oba...    -1.0   \n..                                                 ...     ...   \n981  Super sprzęt, ale wymaga wiedzy i trochę kombi...    -1.0   \n982  Nie mogę teraz stwierdzić jednoznacznie stanu ...    -1.0   \n983  Zanim kupiłem tą baterie, miałem okazje przeko...    -1.0   \n984  power bank porażka miał mieć 20000mah , co pow...    -1.0   \n985  \"No niestety, PODRÓBA chyba. HTC od Beats brzm...    -1.0   \n\n                                              text_org  \\\n0    1. Ładowanie bezprzewodowe działa, ale słabo. ...   \n1    Uchwyt dobrze trzyma telefon. Ramiona mają spo...   \n2    \"Gdyby nie problem  jeśli w pobliżu znajduje s...   \n3    Wypróbowałam na 2x 5kg pomidorów i grubszym si...   \n4    \"Produkt w pełni spełnia moje oczekiwania. Oba...   \n..                                                 ...   \n981  Super sprzęt, ale wymaga wiedzy i trochę kombi...   \n982  Nie mogę teraz stwierdzić jednoznacznie stanu ...   \n983  Zanim kupiłem tą baterie, miałem okazje przeko...   \n984  power bank porażka miał mieć 20000mah , co pow...   \n985  \"No niestety, PODRÓBA chyba. HTC od Beats brzm...   \n\n                                         text_clean_up  liczba_zdań  \\\n0    1 ładowanie bezprzewodowe działa ale słabo tzn...           11   \n1    uchwyt dobrze trzyma telefon ramiona mają spor...           10   \n2    gdyby nie problem jeśli w pobliżu znajduje się...            2   \n3    wypróbowałam na 2x 5kg pomidorów i grubszym si...            6   \n4    produkt w pełni spełnia moje oczekiwania obawi...            4   \n..                                                 ...          ...   \n981  super sprzęt ale wymaga wiedzy i trochę kombin...            6   \n982  nie mogę teraz stwierdzić jednoznacznie stanu ...            6   \n983  zanim kupiłem tą baterie miałem okazje przekon...            4   \n984  power bank porażka miał mieć 20000mah co powin...            1   \n985  no niestety podróba chyba htc od beats brzmią ...            8   \n\n     liczba_słów  liczba_tokenów ocena_tekst  \\\n0            116              81    nieznane   \n1            109              66    nieznane   \n2             64              36    nieznane   \n3             67              43    nieznane   \n4             54              29    nieznane   \n..           ...             ...         ...   \n981           59              35    nieznane   \n982           87              52    nieznane   \n983           75              55    nieznane   \n984           50              36    nieznane   \n985          107              77    nieznane   \n\n                                           token_tekst  \\\n0    [1, ładowanie, bezprzewodowy, działać, słabo, ...   \n1    [uchwyt, trzymać, telefon, ramię, spór, zakres...   \n2    [nie, problem, pobliże, znajdować, urządzenie,...   \n3    [wypróbować być, 2x, 5, kilogram, pomidor, gru...   \n4    [produkt, pełnia, spełniać, oczekiwanie, obawi...   \n..                                                 ...   \n981  [super, sprzęt, wymagać, wiedza, trochę, kombi...   \n982  [nie, móc, stwierdzić, jednoznacznie, stan, wy...   \n983  [zanim, kupić być, ten, bateria, mieć być, oka...   \n984  [power, bank, porażka, mieć, 20000mah, naładow...   \n985  [niestety, podróba, chyba, htc, beats, brzmieć...   \n\n                                    token_adj_adv_verb  \\\n0    [ładowanie, bezprzewodowy, słabo, tzn, samo, o...   \n1    [obrotowy, dowolny, fajnie, przemyślać, dodatk...   \n2    [włączć, robiyć, masowo, dobry, inny, trudno, ...   \n3    [grubszym, super, nadać, twardy, przerośnięty,...   \n4               [miło, zaskoczyć, rewelacyjny, szybko]   \n..                                                 ...   \n981  [super, trochę, wstępny, sprzętowy, wybrać, os...   \n982  [pojemnościowy, całkowity, pewnie, długo, jede...   \n983  [warta, chiński, jeden, drugi, pełny, stary, o...   \n984                       [szybki, osobiście, napisać]   \n985  [dobrze, 2, tańsze, zalać, autoryzowany, duży,...   \n\n                                   subset_of_two_words  \\\n0    [1 ładowanie, ładowanie bezprzewodowy, bezprze...   \n1    [uchwyt trzymać, trzymać telefon, telefon rami...   \n2    [nie problem, problem pobliże, pobliże znajdow...   \n3    [wypróbować być 2x, 2x 5, 5 kilogram, kilogram...   \n4    [produkt pełnia, pełnia spełniać, spełniać ocz...   \n..                                                 ...   \n981  [super sprzęt, sprzęt wymagać, wymagać wiedza,...   \n982  [nie móc, móc stwierdzić, stwierdzić jednoznac...   \n983  [zanim kupić być, kupić być ten, ten bateria, ...   \n984  [power bank, bank porażka, porażka mieć, mieć ...   \n985  [niestety podróba, podróba chyba, chyba htc, h...   \n\n                                 subset_of_three_words  target  \\\n0    [1 ładowanie bezprzewodowy, ładowanie bezprzew...     NaN   \n1    [uchwyt trzymać telefon, trzymać telefon ramię...     NaN   \n2    [nie problem pobliże, problem pobliże znajdowa...     NaN   \n3    [wypróbować być 2x 5, 2x 5 kilogram, 5 kilogra...     NaN   \n4    [produkt pełnia spełniać, pełnia spełniać ocze...     NaN   \n..                                                 ...     ...   \n981  [super sprzęt wymagać, sprzęt wymagać wiedza, ...     NaN   \n982  [nie móc stwierdzić, móc stwierdzić jednoznacz...     NaN   \n983  [zanim kupić być ten, kupić być ten bateria, t...     NaN   \n984  [power bank porażka, bank porażka mieć, porażk...     NaN   \n985  [niestety podróba chyba, podróba chyba htc, ch...     NaN   \n\n     __index_level_0__  \n0                    0  \n1                    1  \n2                    2  \n3                    3  \n4                    4  \n..                 ...  \n981               1001  \n982               1002  \n983               1003  \n984               1004  \n985               1005  \n\n[986 rows x 14 columns]",
      "text/html": "<div>\n<style scoped>\n    .dataframe tbody tr th:only-of-type {\n        vertical-align: middle;\n    }\n\n    .dataframe tbody tr th {\n        vertical-align: top;\n    }\n\n    .dataframe thead th {\n        text-align: right;\n    }\n</style>\n<table border=\"1\" class=\"dataframe\">\n  <thead>\n    <tr style=\"text-align: right;\">\n      <th></th>\n      <th>text</th>\n      <th>rating</th>\n      <th>text_org</th>\n      <th>text_clean_up</th>\n      <th>liczba_zdań</th>\n      <th>liczba_słów</th>\n      <th>liczba_tokenów</th>\n      <th>ocena_tekst</th>\n      <th>token_tekst</th>\n      <th>token_adj_adv_verb</th>\n      <th>subset_of_two_words</th>\n      <th>subset_of_three_words</th>\n      <th>target</th>\n      <th>__index_level_0__</th>\n    </tr>\n  </thead>\n  <tbody>\n    <tr>\n      <th>0</th>\n      <td>1. Ładowanie bezprzewodowe działa, ale słabo. ...</td>\n      <td>-1.0</td>\n      <td>1. Ładowanie bezprzewodowe działa, ale słabo. ...</td>\n      <td>1 ładowanie bezprzewodowe działa ale słabo tzn...</td>\n      <td>11</td>\n      <td>116</td>\n      <td>81</td>\n      <td>nieznane</td>\n      <td>[1, ładowanie, bezprzewodowy, działać, słabo, ...</td>\n      <td>[ładowanie, bezprzewodowy, słabo, tzn, samo, o...</td>\n      <td>[1 ładowanie, ładowanie bezprzewodowy, bezprze...</td>\n      <td>[1 ładowanie bezprzewodowy, ładowanie bezprzew...</td>\n      <td>NaN</td>\n      <td>0</td>\n    </tr>\n    <tr>\n      <th>1</th>\n      <td>Uchwyt dobrze trzyma telefon. Ramiona mają spo...</td>\n      <td>-1.0</td>\n      <td>Uchwyt dobrze trzyma telefon. Ramiona mają spo...</td>\n      <td>uchwyt dobrze trzyma telefon ramiona mają spor...</td>\n      <td>10</td>\n      <td>109</td>\n      <td>66</td>\n      <td>nieznane</td>\n      <td>[uchwyt, trzymać, telefon, ramię, spór, zakres...</td>\n      <td>[obrotowy, dowolny, fajnie, przemyślać, dodatk...</td>\n      <td>[uchwyt trzymać, trzymać telefon, telefon rami...</td>\n      <td>[uchwyt trzymać telefon, trzymać telefon ramię...</td>\n      <td>NaN</td>\n      <td>1</td>\n    </tr>\n    <tr>\n      <th>2</th>\n      <td>\"Gdyby nie problem  jeśli w pobliżu znajduje s...</td>\n      <td>-1.0</td>\n      <td>\"Gdyby nie problem  jeśli w pobliżu znajduje s...</td>\n      <td>gdyby nie problem jeśli w pobliżu znajduje się...</td>\n      <td>2</td>\n      <td>64</td>\n      <td>36</td>\n      <td>nieznane</td>\n      <td>[nie, problem, pobliże, znajdować, urządzenie,...</td>\n      <td>[włączć, robiyć, masowo, dobry, inny, trudno, ...</td>\n      <td>[nie problem, problem pobliże, pobliże znajdow...</td>\n      <td>[nie problem pobliże, problem pobliże znajdowa...</td>\n      <td>NaN</td>\n      <td>2</td>\n    </tr>\n    <tr>\n      <th>3</th>\n      <td>Wypróbowałam na 2x 5kg pomidorów i grubszym si...</td>\n      <td>-1.0</td>\n      <td>Wypróbowałam na 2x 5kg pomidorów i grubszym si...</td>\n      <td>wypróbowałam na 2x 5kg pomidorów i grubszym si...</td>\n      <td>6</td>\n      <td>67</td>\n      <td>43</td>\n      <td>nieznane</td>\n      <td>[wypróbować być, 2x, 5, kilogram, pomidor, gru...</td>\n      <td>[grubszym, super, nadać, twardy, przerośnięty,...</td>\n      <td>[wypróbować być 2x, 2x 5, 5 kilogram, kilogram...</td>\n      <td>[wypróbować być 2x 5, 2x 5 kilogram, 5 kilogra...</td>\n      <td>NaN</td>\n      <td>3</td>\n    </tr>\n    <tr>\n      <th>4</th>\n      <td>\"Produkt w pełni spełnia moje oczekiwania. Oba...</td>\n      <td>-1.0</td>\n      <td>\"Produkt w pełni spełnia moje oczekiwania. Oba...</td>\n      <td>produkt w pełni spełnia moje oczekiwania obawi...</td>\n      <td>4</td>\n      <td>54</td>\n      <td>29</td>\n      <td>nieznane</td>\n      <td>[produkt, pełnia, spełniać, oczekiwanie, obawi...</td>\n      <td>[miło, zaskoczyć, rewelacyjny, szybko]</td>\n      <td>[produkt pełnia, pełnia spełniać, spełniać ocz...</td>\n      <td>[produkt pełnia spełniać, pełnia spełniać ocze...</td>\n      <td>NaN</td>\n      <td>4</td>\n    </tr>\n    <tr>\n      <th>...</th>\n      <td>...</td>\n      <td>...</td>\n      <td>...</td>\n      <td>...</td>\n      <td>...</td>\n      <td>...</td>\n      <td>...</td>\n      <td>...</td>\n      <td>...</td>\n      <td>...</td>\n      <td>...</td>\n      <td>...</td>\n      <td>...</td>\n      <td>...</td>\n    </tr>\n    <tr>\n      <th>981</th>\n      <td>Super sprzęt, ale wymaga wiedzy i trochę kombi...</td>\n      <td>-1.0</td>\n      <td>Super sprzęt, ale wymaga wiedzy i trochę kombi...</td>\n      <td>super sprzęt ale wymaga wiedzy i trochę kombin...</td>\n      <td>6</td>\n      <td>59</td>\n      <td>35</td>\n      <td>nieznane</td>\n      <td>[super, sprzęt, wymagać, wiedza, trochę, kombi...</td>\n      <td>[super, trochę, wstępny, sprzętowy, wybrać, os...</td>\n      <td>[super sprzęt, sprzęt wymagać, wymagać wiedza,...</td>\n      <td>[super sprzęt wymagać, sprzęt wymagać wiedza, ...</td>\n      <td>NaN</td>\n      <td>1001</td>\n    </tr>\n    <tr>\n      <th>982</th>\n      <td>Nie mogę teraz stwierdzić jednoznacznie stanu ...</td>\n      <td>-1.0</td>\n      <td>Nie mogę teraz stwierdzić jednoznacznie stanu ...</td>\n      <td>nie mogę teraz stwierdzić jednoznacznie stanu ...</td>\n      <td>6</td>\n      <td>87</td>\n      <td>52</td>\n      <td>nieznane</td>\n      <td>[nie, móc, stwierdzić, jednoznacznie, stan, wy...</td>\n      <td>[pojemnościowy, całkowity, pewnie, długo, jede...</td>\n      <td>[nie móc, móc stwierdzić, stwierdzić jednoznac...</td>\n      <td>[nie móc stwierdzić, móc stwierdzić jednoznacz...</td>\n      <td>NaN</td>\n      <td>1002</td>\n    </tr>\n    <tr>\n      <th>983</th>\n      <td>Zanim kupiłem tą baterie, miałem okazje przeko...</td>\n      <td>-1.0</td>\n      <td>Zanim kupiłem tą baterie, miałem okazje przeko...</td>\n      <td>zanim kupiłem tą baterie miałem okazje przekon...</td>\n      <td>4</td>\n      <td>75</td>\n      <td>55</td>\n      <td>nieznane</td>\n      <td>[zanim, kupić być, ten, bateria, mieć być, oka...</td>\n      <td>[warta, chiński, jeden, drugi, pełny, stary, o...</td>\n      <td>[zanim kupić być, kupić być ten, ten bateria, ...</td>\n      <td>[zanim kupić być ten, kupić być ten bateria, t...</td>\n      <td>NaN</td>\n      <td>1003</td>\n    </tr>\n    <tr>\n      <th>984</th>\n      <td>power bank porażka miał mieć 20000mah , co pow...</td>\n      <td>-1.0</td>\n      <td>power bank porażka miał mieć 20000mah , co pow...</td>\n      <td>power bank porażka miał mieć 20000mah co powin...</td>\n      <td>1</td>\n      <td>50</td>\n      <td>36</td>\n      <td>nieznane</td>\n      <td>[power, bank, porażka, mieć, 20000mah, naładow...</td>\n      <td>[szybki, osobiście, napisać]</td>\n      <td>[power bank, bank porażka, porażka mieć, mieć ...</td>\n      <td>[power bank porażka, bank porażka mieć, porażk...</td>\n      <td>NaN</td>\n      <td>1004</td>\n    </tr>\n    <tr>\n      <th>985</th>\n      <td>\"No niestety, PODRÓBA chyba. HTC od Beats brzm...</td>\n      <td>-1.0</td>\n      <td>\"No niestety, PODRÓBA chyba. HTC od Beats brzm...</td>\n      <td>no niestety podróba chyba htc od beats brzmią ...</td>\n      <td>8</td>\n      <td>107</td>\n      <td>77</td>\n      <td>nieznane</td>\n      <td>[niestety, podróba, chyba, htc, beats, brzmieć...</td>\n      <td>[dobrze, 2, tańsze, zalać, autoryzowany, duży,...</td>\n      <td>[niestety podróba, podróba chyba, chyba htc, h...</td>\n      <td>[niestety podróba chyba, podróba chyba htc, ch...</td>\n      <td>NaN</td>\n      <td>1005</td>\n    </tr>\n  </tbody>\n</table>\n<p>986 rows × 14 columns</p>\n</div>"
     },
     "execution_count": 19,
     "metadata": {},
     "output_type": "execute_result"
    }
   ],
   "source": [
    "merge[merge['ocena_tekst'].isin(['nieznane'])]"
   ],
   "metadata": {
    "collapsed": false
   }
  },
  {
   "cell_type": "code",
   "execution_count": 37,
   "outputs": [],
   "source": [
    "from machine_learning.utils.utils import get_unicode_text, get_unicode_text_from_set\n",
    "\n",
    "merge = db_dict['połączone_2_3_4_dwuznaczne']\n",
    "\n",
    "train = merge.data['train'].to_pandas()\n",
    "validation = merge.data['validation'].to_pandas()\n",
    "test = merge.data['test'].to_pandas()\n",
    "# merge\n",
    "\n",
    "train_binary = train[train['ocena_tekst'].isin(['negatywne','pozytywne' ])]\n",
    "validation_binary = validation[validation['ocena_tekst'].isin(['negatywne','pozytywne' ])]\n",
    "test_binary = test[test['ocena_tekst'].isin(['negatywne','pozytywne' ])]\n",
    "\n",
    "\n",
    "\n",
    "token_pattern = \" \"\n",
    "\n",
    "text_train, text_val, text_test = get_unicode_text('token_tekst', train_binary, validation_binary, test_binary, token_pattern)\n",
    "\n",
    "\n",
    "allegro_unknown = db_dict['allegro_reviews'].data['test'].to_pandas()\n",
    "# text_clf.predict(allegro_unknown_text)\n",
    "\n",
    "allegro_unknown_text = get_unicode_text_from_set('token_tekst', allegro_unknown, token_pattern= token_pattern)"
   ],
   "metadata": {
    "collapsed": false
   }
  },
  {
   "cell_type": "markdown",
   "source": [
    "FInd parametrs"
   ],
   "metadata": {
    "collapsed": false
   }
  },
  {
   "cell_type": "code",
   "execution_count": 22,
   "outputs": [],
   "source": [
    "from sklearn.model_selection import GridSearchCV\n",
    "from sklearn.linear_model import LogisticRegression, RidgeClassifier\n",
    "from sklearn.feature_extraction.text import CountVectorizer, TfidfTransformer\n",
    "from sklearn.pipeline import Pipeline\n",
    "from sklearn.ensemble import  RandomForestClassifier,AdaBoostClassifier, GradientBoostingClassifier\n",
    "from sklearn.svm import SVC\n",
    "import numpy as np"
   ],
   "metadata": {
    "collapsed": false
   }
  },
  {
   "cell_type": "code",
   "execution_count": null,
   "outputs": [],
   "source": [
    "\n",
    "\n",
    "text_clf = Pipeline(\n",
    "    [\n",
    "        (\"vect\", CountVectorizer(strip_accents='ascii')),\n",
    "        (\"tfidf\", TfidfTransformer()),\n",
    "        (\"clf\", LogisticRegression(max_iter=1000, n_jobs=-1)),\n",
    "    ]\n",
    ")\n",
    "parameters = {\n",
    "    'vect__ngram_range': [(1, 2)],\n",
    "    # 'vect__min_df': [3,5,25],\n",
    "    # 'tfidf__use_idf': (True, False),\n",
    "    'clf__C': (0.5,1,10)\n",
    "}\n",
    "text_grid = np.hstack([text_train.values, text_val.values])\n",
    "target_grid =  np.hstack([train_binary['ocena_tekst'].values ,validation_binary['ocena_tekst'].values])\n",
    "\n",
    "gs_clf = GridSearchCV(text_clf, parameters, cv=5, n_jobs=-1)\n",
    "\n",
    "gs_clf = gs_clf.fit(text_grid, target_grid)\n",
    "\n",
    "print(\"the best mean score\", gs_clf.best_score_, \"std test score\",\n",
    "      gs_clf.cv_results_['std_test_score'][gs_clf.best_index_])\n",
    "\n",
    "for param_name in sorted(parameters.keys()):\n",
    "    print(\"%s: %r\" % (param_name, gs_clf.best_params_[param_name]))\n"
   ],
   "metadata": {
    "collapsed": false
   }
  },
  {
   "cell_type": "code",
   "execution_count": null,
   "outputs": [],
   "source": [
    "from sklearn import set_config\n",
    "\n",
    "text_clf = Pipeline(\n",
    "    [\n",
    "        (\"vect\", CountVectorizer(strip_accents='ascii',ngram_range=(1,3) , min_df=3)),\n",
    "        (\"tfidf\", TfidfTransformer()),\n",
    "        (\"clf\", LogisticRegression(max_iter= 1000,C=10,n_jobs=-1)),\n",
    "    ]\n",
    ")\n",
    "\n",
    "\n",
    "text_clf.fit(text_train,train_binary['ocena_tekst'])\n",
    "print(\"train\",  text_clf.score(text_train,train_binary['ocena_tekst']))\n",
    "print(\"val\", text_clf.score(text_val,validation_binary['ocena_tekst']))\n",
    "print(\"test\", text_clf.score(text_test,test_binary['ocena_tekst']))\n",
    "\n",
    "index = text_clf['clf'].coef_[0].argsort()[-10:][::-1]\n",
    "index_min = text_clf['clf'].coef_[0].argsort()[:10]\n",
    "\n",
    "print( text_clf['clf'].coef_[0][index])\n",
    "print(text_clf['vect'].get_feature_names_out()[index])\n",
    "\n",
    "print([text_clf['clf'].coef_[0][i] for i in index_min] )\n",
    "print([text_clf['vect'].get_feature_names_out()[i] for i in index_min] )\n",
    "text_clf\n"
   ],
   "metadata": {
    "collapsed": false
   }
  },
  {
   "cell_type": "markdown",
   "source": [
    "# Rigde"
   ],
   "metadata": {
    "collapsed": false
   }
  },
  {
   "cell_type": "code",
   "execution_count": 23,
   "outputs": [
    {
     "name": "stdout",
     "output_type": "stream",
     "text": [
      "the best mean score 0.9259338636930259 std test score 0.009989945989343276\n",
      "clf__alpha: 1\n",
      "vect__min_df: 5\n",
      "vect__ngram_range: (1, 4)\n"
     ]
    }
   ],
   "source": [
    "text_clf = Pipeline(\n",
    "    [\n",
    "        (\"vect\", CountVectorizer(strip_accents='ascii')),\n",
    "        (\"tfidf\", TfidfTransformer()),\n",
    "        (\"clf\", RidgeClassifier()),\n",
    "    ]\n",
    ")\n",
    "parameters = {\n",
    "    'vect__ngram_range': [(1, 3),(1,4)],\n",
    "    'vect__min_df': [3,5,10,15],\n",
    "    # 'tfidf__use_idf': (True, False),\n",
    "    'clf__alpha': (0.5,1,2)\n",
    "}\n",
    "text_grid = np.hstack([text_train.values, text_val.values])\n",
    "target_grid =  np.hstack([train_binary['ocena_tekst'].values ,validation_binary['ocena_tekst'].values])\n",
    "\n",
    "gs_clf = GridSearchCV(text_clf, parameters, cv=5, n_jobs=-1)\n",
    "\n",
    "gs_clf = gs_clf.fit(text_grid, target_grid)\n",
    "\n",
    "print(\"the best mean score\", gs_clf.best_score_, \"std test score\",\n",
    "      gs_clf.cv_results_['std_test_score'][gs_clf.best_index_])\n",
    "\n",
    "for param_name in sorted(parameters.keys()):\n",
    "    print(\"%s: %r\" % (param_name, gs_clf.best_params_[param_name]))"
   ],
   "metadata": {
    "collapsed": false
   }
  },
  {
   "cell_type": "code",
   "execution_count": 24,
   "outputs": [
    {
     "name": "stdout",
     "output_type": "stream",
     "text": [
      "train 0.9965071972904318\n",
      "val 0.9431818181818182\n",
      "test 0.9187279151943463\n",
      "[2.04409238 1.6840076  1.51925055 1.42543958 1.42048276 1.34572032\n",
      " 1.30910259 1.29220144 1.25954411 1.11536686]\n",
      "['zadowolony' 'swietny' 'dzieki' 'swietnie' 'dobry' 'troche' 'spokojnie'\n",
      " 'dziekowac' 'dokladnie' 'cichy']\n",
      "[-4.125556178126614, -2.9028674269044092, -2.5233304968271586, -2.5114474445423665, -1.6832854289300516, -1.5580063400118527, -1.5549821964705888, -1.5161516638390273, -1.4155448257006862, -1.394674705160474]\n",
      "['nie polecac', 'odradzac', 'niestety', 'nie', 'beznadziejny', 'nie zadowolony', 'porazka', 'fatalny', 'slaby', 'kiepski']\n"
     ]
    },
    {
     "data": {
      "text/plain": "Pipeline(steps=[('vect',\n                 CountVectorizer(min_df=5, ngram_range=(1, 4),\n                                 strip_accents='ascii')),\n                ('tfidf', TfidfTransformer()),\n                ('clf', RidgeClassifier(alpha=1))])",
      "text/html": "<style>#sk-container-id-1 {color: black;background-color: white;}#sk-container-id-1 pre{padding: 0;}#sk-container-id-1 div.sk-toggleable {background-color: white;}#sk-container-id-1 label.sk-toggleable__label {cursor: pointer;display: block;width: 100%;margin-bottom: 0;padding: 0.3em;box-sizing: border-box;text-align: center;}#sk-container-id-1 label.sk-toggleable__label-arrow:before {content: \"▸\";float: left;margin-right: 0.25em;color: #696969;}#sk-container-id-1 label.sk-toggleable__label-arrow:hover:before {color: black;}#sk-container-id-1 div.sk-estimator:hover label.sk-toggleable__label-arrow:before {color: black;}#sk-container-id-1 div.sk-toggleable__content {max-height: 0;max-width: 0;overflow: hidden;text-align: left;background-color: #f0f8ff;}#sk-container-id-1 div.sk-toggleable__content pre {margin: 0.2em;color: black;border-radius: 0.25em;background-color: #f0f8ff;}#sk-container-id-1 input.sk-toggleable__control:checked~div.sk-toggleable__content {max-height: 200px;max-width: 100%;overflow: auto;}#sk-container-id-1 input.sk-toggleable__control:checked~label.sk-toggleable__label-arrow:before {content: \"▾\";}#sk-container-id-1 div.sk-estimator input.sk-toggleable__control:checked~label.sk-toggleable__label {background-color: #d4ebff;}#sk-container-id-1 div.sk-label input.sk-toggleable__control:checked~label.sk-toggleable__label {background-color: #d4ebff;}#sk-container-id-1 input.sk-hidden--visually {border: 0;clip: rect(1px 1px 1px 1px);clip: rect(1px, 1px, 1px, 1px);height: 1px;margin: -1px;overflow: hidden;padding: 0;position: absolute;width: 1px;}#sk-container-id-1 div.sk-estimator {font-family: monospace;background-color: #f0f8ff;border: 1px dotted black;border-radius: 0.25em;box-sizing: border-box;margin-bottom: 0.5em;}#sk-container-id-1 div.sk-estimator:hover {background-color: #d4ebff;}#sk-container-id-1 div.sk-parallel-item::after {content: \"\";width: 100%;border-bottom: 1px solid gray;flex-grow: 1;}#sk-container-id-1 div.sk-label:hover label.sk-toggleable__label {background-color: #d4ebff;}#sk-container-id-1 div.sk-serial::before {content: \"\";position: absolute;border-left: 1px solid gray;box-sizing: border-box;top: 0;bottom: 0;left: 50%;z-index: 0;}#sk-container-id-1 div.sk-serial {display: flex;flex-direction: column;align-items: center;background-color: white;padding-right: 0.2em;padding-left: 0.2em;position: relative;}#sk-container-id-1 div.sk-item {position: relative;z-index: 1;}#sk-container-id-1 div.sk-parallel {display: flex;align-items: stretch;justify-content: center;background-color: white;position: relative;}#sk-container-id-1 div.sk-item::before, #sk-container-id-1 div.sk-parallel-item::before {content: \"\";position: absolute;border-left: 1px solid gray;box-sizing: border-box;top: 0;bottom: 0;left: 50%;z-index: -1;}#sk-container-id-1 div.sk-parallel-item {display: flex;flex-direction: column;z-index: 1;position: relative;background-color: white;}#sk-container-id-1 div.sk-parallel-item:first-child::after {align-self: flex-end;width: 50%;}#sk-container-id-1 div.sk-parallel-item:last-child::after {align-self: flex-start;width: 50%;}#sk-container-id-1 div.sk-parallel-item:only-child::after {width: 0;}#sk-container-id-1 div.sk-dashed-wrapped {border: 1px dashed gray;margin: 0 0.4em 0.5em 0.4em;box-sizing: border-box;padding-bottom: 0.4em;background-color: white;}#sk-container-id-1 div.sk-label label {font-family: monospace;font-weight: bold;display: inline-block;line-height: 1.2em;}#sk-container-id-1 div.sk-label-container {text-align: center;}#sk-container-id-1 div.sk-container {/* jupyter's `normalize.less` sets `[hidden] { display: none; }` but bootstrap.min.css set `[hidden] { display: none !important; }` so we also need the `!important` here to be able to override the default hidden behavior on the sphinx rendered scikit-learn.org. See: https://github.com/scikit-learn/scikit-learn/issues/21755 */display: inline-block !important;position: relative;}#sk-container-id-1 div.sk-text-repr-fallback {display: none;}</style><div id=\"sk-container-id-1\" class=\"sk-top-container\"><div class=\"sk-text-repr-fallback\"><pre>Pipeline(steps=[(&#x27;vect&#x27;,\n                 CountVectorizer(min_df=5, ngram_range=(1, 4),\n                                 strip_accents=&#x27;ascii&#x27;)),\n                (&#x27;tfidf&#x27;, TfidfTransformer()),\n                (&#x27;clf&#x27;, RidgeClassifier(alpha=1))])</pre><b>In a Jupyter environment, please rerun this cell to show the HTML representation or trust the notebook. <br />On GitHub, the HTML representation is unable to render, please try loading this page with nbviewer.org.</b></div><div class=\"sk-container\" hidden><div class=\"sk-item sk-dashed-wrapped\"><div class=\"sk-label-container\"><div class=\"sk-label sk-toggleable\"><input class=\"sk-toggleable__control sk-hidden--visually\" id=\"sk-estimator-id-1\" type=\"checkbox\" ><label for=\"sk-estimator-id-1\" class=\"sk-toggleable__label sk-toggleable__label-arrow\">Pipeline</label><div class=\"sk-toggleable__content\"><pre>Pipeline(steps=[(&#x27;vect&#x27;,\n                 CountVectorizer(min_df=5, ngram_range=(1, 4),\n                                 strip_accents=&#x27;ascii&#x27;)),\n                (&#x27;tfidf&#x27;, TfidfTransformer()),\n                (&#x27;clf&#x27;, RidgeClassifier(alpha=1))])</pre></div></div></div><div class=\"sk-serial\"><div class=\"sk-item\"><div class=\"sk-estimator sk-toggleable\"><input class=\"sk-toggleable__control sk-hidden--visually\" id=\"sk-estimator-id-2\" type=\"checkbox\" ><label for=\"sk-estimator-id-2\" class=\"sk-toggleable__label sk-toggleable__label-arrow\">CountVectorizer</label><div class=\"sk-toggleable__content\"><pre>CountVectorizer(min_df=5, ngram_range=(1, 4), strip_accents=&#x27;ascii&#x27;)</pre></div></div></div><div class=\"sk-item\"><div class=\"sk-estimator sk-toggleable\"><input class=\"sk-toggleable__control sk-hidden--visually\" id=\"sk-estimator-id-3\" type=\"checkbox\" ><label for=\"sk-estimator-id-3\" class=\"sk-toggleable__label sk-toggleable__label-arrow\">TfidfTransformer</label><div class=\"sk-toggleable__content\"><pre>TfidfTransformer()</pre></div></div></div><div class=\"sk-item\"><div class=\"sk-estimator sk-toggleable\"><input class=\"sk-toggleable__control sk-hidden--visually\" id=\"sk-estimator-id-4\" type=\"checkbox\" ><label for=\"sk-estimator-id-4\" class=\"sk-toggleable__label sk-toggleable__label-arrow\">RidgeClassifier</label><div class=\"sk-toggleable__content\"><pre>RidgeClassifier(alpha=1)</pre></div></div></div></div></div></div></div>"
     },
     "execution_count": 24,
     "metadata": {},
     "output_type": "execute_result"
    }
   ],
   "source": [
    "text_clf = Pipeline(\n",
    "    [\n",
    "        (\"vect\", CountVectorizer(strip_accents='ascii',ngram_range=(1,4) , min_df=5)),\n",
    "        (\"tfidf\", TfidfTransformer()),\n",
    "        (\"clf\", RidgeClassifier(alpha=1)),\n",
    "    ]\n",
    ")\n",
    "\n",
    "\n",
    "text_clf.fit(text_train,train_binary['ocena_tekst'])\n",
    "print(\"train\",  text_clf.score(text_train,train_binary['ocena_tekst']))\n",
    "print(\"val\", text_clf.score(text_val,validation_binary['ocena_tekst']))\n",
    "print(\"test\", text_clf.score(text_test,test_binary['ocena_tekst']))\n",
    "\n",
    "index = text_clf['clf'].coef_[0].argsort()[-10:][::-1]\n",
    "index_min = text_clf['clf'].coef_[0].argsort()[:10]\n",
    "\n",
    "print( text_clf['clf'].coef_[0][index])\n",
    "print(text_clf['vect'].get_feature_names_out()[index])\n",
    "\n",
    "print([text_clf['clf'].coef_[0][i] for i in index_min] )\n",
    "print([text_clf['vect'].get_feature_names_out()[i] for i in index_min] )\n",
    "text_clf"
   ],
   "metadata": {
    "collapsed": false
   }
  },
  {
   "cell_type": "code",
   "execution_count": 72,
   "outputs": [
    {
     "data": {
      "text/plain": "     rating\n0         5\n1         5\n2         5\n3         1\n4         5\n...     ...\n1001      5\n1002      5\n1003      1\n1004      1\n1005      1\n\n[1006 rows x 1 columns]",
      "text/html": "<div>\n<style scoped>\n    .dataframe tbody tr th:only-of-type {\n        vertical-align: middle;\n    }\n\n    .dataframe tbody tr th {\n        vertical-align: top;\n    }\n\n    .dataframe thead th {\n        text-align: right;\n    }\n</style>\n<table border=\"1\" class=\"dataframe\">\n  <thead>\n    <tr style=\"text-align: right;\">\n      <th></th>\n      <th>rating</th>\n    </tr>\n  </thead>\n  <tbody>\n    <tr>\n      <th>0</th>\n      <td>5</td>\n    </tr>\n    <tr>\n      <th>1</th>\n      <td>5</td>\n    </tr>\n    <tr>\n      <th>2</th>\n      <td>5</td>\n    </tr>\n    <tr>\n      <th>3</th>\n      <td>1</td>\n    </tr>\n    <tr>\n      <th>4</th>\n      <td>5</td>\n    </tr>\n    <tr>\n      <th>...</th>\n      <td>...</td>\n    </tr>\n    <tr>\n      <th>1001</th>\n      <td>5</td>\n    </tr>\n    <tr>\n      <th>1002</th>\n      <td>5</td>\n    </tr>\n    <tr>\n      <th>1003</th>\n      <td>1</td>\n    </tr>\n    <tr>\n      <th>1004</th>\n      <td>1</td>\n    </tr>\n    <tr>\n      <th>1005</th>\n      <td>1</td>\n    </tr>\n  </tbody>\n</table>\n<p>1006 rows × 1 columns</p>\n</div>"
     },
     "execution_count": 72,
     "metadata": {},
     "output_type": "execute_result"
    }
   ],
   "source": [
    "predict = pd.DataFrame()\n",
    "# predict = text_clf.predict(allegro_unknown_text)\n",
    "predict['rating'] = text_clf.predict(allegro_unknown_text)\n",
    "predict.loc[text_clf.predict(allegro_unknown_text) == 'pozytywne','rating'] = 5\n",
    "predict.loc[text_clf.predict(allegro_unknown_text) == 'negatywne','rating'] = 1\n",
    "\n",
    "predict"
   ],
   "metadata": {
    "collapsed": false
   }
  },
  {
   "cell_type": "markdown",
   "source": [
    "# RandomForest"
   ],
   "metadata": {
    "collapsed": false
   }
  },
  {
   "cell_type": "code",
   "execution_count": null,
   "outputs": [],
   "source": [
    "text_clf = Pipeline(\n",
    "    [\n",
    "        (\"vect\", CountVectorizer(strip_accents='ascii')),\n",
    "        (\"tfidf\", TfidfTransformer()),\n",
    "        (\"clf\", SVC()),\n",
    "    ]\n",
    ")\n",
    "parameters = {\n",
    "    'vect__ngram_range': [(1, 3)],\n",
    "    'vect__min_df': [5,7,9],\n",
    "    'clf__C': [2,3]\n",
    "}\n",
    "text_grid = np.hstack([text_train.values, text_val.values])\n",
    "target_grid =  np.hstack([train_binary['ocena_tekst'].values ,validation_binary['ocena_tekst'].values])\n",
    "\n",
    "gs_clf = GridSearchCV(text_clf, parameters, cv=5, n_jobs=-1)\n",
    "\n",
    "gs_clf = gs_clf.fit(text_grid, target_grid)\n",
    "\n",
    "print(\"the best mean score\", gs_clf.best_score_, \"std test score\",\n",
    "      gs_clf.cv_results_['std_test_score'][gs_clf.best_index_])\n",
    "\n",
    "for param_name in sorted(parameters.keys()):\n",
    "    print(\"%s: %r\" % (param_name, gs_clf.best_params_[param_name]))\n"
   ],
   "metadata": {
    "collapsed": false
   }
  },
  {
   "cell_type": "code",
   "execution_count": null,
   "outputs": [],
   "source": [
    "from machine_learning.utils.utils import  model_fit__and_model_statistics\n",
    "text_clf = Pipeline(\n",
    "    [\n",
    "        (\"vect\", CountVectorizer(strip_accents='ascii',ngram_range=(1,3) , min_df=10    )),\n",
    "        (\"tfidf\", TfidfTransformer()),\n",
    "        (\"clf\", SVC(C=2 )),\n",
    "    ]\n",
    ")\n",
    "\n",
    "\n",
    "text_clf.fit(text_train,train_binary['ocena_tekst'])\n",
    "\n",
    "\n",
    "model_fit__and_model_statistics(text_clf, text_train, train_binary['ocena_tekst'], text_val,  validation_binary['ocena_tekst'],['negatywne','pozytywne'],  text_test,test_binary['ocena_tekst'] )"
   ],
   "metadata": {
    "collapsed": false
   }
  },
  {
   "cell_type": "code",
   "execution_count": null,
   "outputs": [],
   "source": [
    "polemo2 = db_dict['clarin-pl/polemo2-official'].data\n",
    "allegro = db_dict['allegro_reviews'].data\n",
    "polemo2"
   ],
   "metadata": {
    "collapsed": false
   }
  },
  {
   "cell_type": "code",
   "execution_count": null,
   "outputs": [],
   "source": [
    "allegro = db_dict['allegro_reviews'].data\n",
    "train = allegro['train'].to_pandas()\n",
    "validation = allegro['validation'].to_pandas()\n",
    "test = allegro['test'].to_pandas()\n",
    "\n",
    "token_pattern = \" \"\n",
    "\n",
    "text_train, text_val, text_test = get_unicode_text('token_tekst', train, validation, test, token_pattern)\n",
    "\n",
    "clf = text_clf\n",
    "d = clf.decision_function(text_train)\n",
    "print(d )\n",
    "predict_allegro = np.exp(d) / (1 + np.exp(d))\n",
    "\n",
    "# predict_allegro = text_clf.predict_proba(text_train)\n",
    "predict_allegro_df = pd.DataFrame({'text': train['text_org'], 'rating':  train['rating'],'positive': predict_allegro})\n",
    "predict_allegro_df"
   ],
   "metadata": {
    "collapsed": false
   }
  },
  {
   "cell_type": "code",
   "execution_count": null,
   "outputs": [],
   "source": [
    "import plotly.express as px\n",
    "predict_allegro_df =predict_allegro_df[(predict_allegro_df['rating'] != 1 ) & ( predict_allegro_df['rating']!= 5)]\n",
    "\n",
    "\n",
    "\n",
    "\n",
    "fig = px.histogram(predict_allegro_df, x=\"positive\",color='rating',category_orders=dict(rating=list(range(1,6))),title='allegro review',barmode='stack')\n",
    "# print(f\"percent of positive ambigous {( 100* sum(predict_allegro['positive'] > 0.5)/predict_allegro.shape[0]):.02f} %\")\n",
    "fig.show()\n"
   ],
   "metadata": {
    "collapsed": false
   }
  },
  {
   "cell_type": "code",
   "execution_count": null,
   "outputs": [],
   "source": [
    "predict_allegro_df['is_positive'] = predict_allegro_df['positive'] > 0.5\n",
    "\n",
    "data_to_plot = predict_allegro_df.groupby([\"rating\",'is_positive']).count().reset_index()\n",
    "# fig.show()\n",
    "data_to_plot['percent'] =  100 * data_to_plot['text'] / [ sum(predict_allegro_df['rating'] == int(i/2)) for i in range(4,10) ]\n",
    "fig = px.bar(data_to_plot, x=\"rating\",y='percent', color='is_positive',)\n",
    "\n",
    "fig.show()"
   ],
   "metadata": {
    "collapsed": false
   }
  },
  {
   "cell_type": "code",
   "execution_count": 50,
   "outputs": [
    {
     "data": {
      "text/plain": "Pipeline(steps=[('token', Tokenizer()),\n                ('vect',\n                 CountVectorizer(min_df=3, ngram_range=(1, 3),\n                                 strip_accents='ascii')),\n                ('tfidf', TfidfTransformer()),\n                ('clf', LogisticRegression(C=10, max_iter=1000))])",
      "text/html": "<style>#sk-container-id-17 {color: black;background-color: white;}#sk-container-id-17 pre{padding: 0;}#sk-container-id-17 div.sk-toggleable {background-color: white;}#sk-container-id-17 label.sk-toggleable__label {cursor: pointer;display: block;width: 100%;margin-bottom: 0;padding: 0.3em;box-sizing: border-box;text-align: center;}#sk-container-id-17 label.sk-toggleable__label-arrow:before {content: \"▸\";float: left;margin-right: 0.25em;color: #696969;}#sk-container-id-17 label.sk-toggleable__label-arrow:hover:before {color: black;}#sk-container-id-17 div.sk-estimator:hover label.sk-toggleable__label-arrow:before {color: black;}#sk-container-id-17 div.sk-toggleable__content {max-height: 0;max-width: 0;overflow: hidden;text-align: left;background-color: #f0f8ff;}#sk-container-id-17 div.sk-toggleable__content pre {margin: 0.2em;color: black;border-radius: 0.25em;background-color: #f0f8ff;}#sk-container-id-17 input.sk-toggleable__control:checked~div.sk-toggleable__content {max-height: 200px;max-width: 100%;overflow: auto;}#sk-container-id-17 input.sk-toggleable__control:checked~label.sk-toggleable__label-arrow:before {content: \"▾\";}#sk-container-id-17 div.sk-estimator input.sk-toggleable__control:checked~label.sk-toggleable__label {background-color: #d4ebff;}#sk-container-id-17 div.sk-label input.sk-toggleable__control:checked~label.sk-toggleable__label {background-color: #d4ebff;}#sk-container-id-17 input.sk-hidden--visually {border: 0;clip: rect(1px 1px 1px 1px);clip: rect(1px, 1px, 1px, 1px);height: 1px;margin: -1px;overflow: hidden;padding: 0;position: absolute;width: 1px;}#sk-container-id-17 div.sk-estimator {font-family: monospace;background-color: #f0f8ff;border: 1px dotted black;border-radius: 0.25em;box-sizing: border-box;margin-bottom: 0.5em;}#sk-container-id-17 div.sk-estimator:hover {background-color: #d4ebff;}#sk-container-id-17 div.sk-parallel-item::after {content: \"\";width: 100%;border-bottom: 1px solid gray;flex-grow: 1;}#sk-container-id-17 div.sk-label:hover label.sk-toggleable__label {background-color: #d4ebff;}#sk-container-id-17 div.sk-serial::before {content: \"\";position: absolute;border-left: 1px solid gray;box-sizing: border-box;top: 0;bottom: 0;left: 50%;z-index: 0;}#sk-container-id-17 div.sk-serial {display: flex;flex-direction: column;align-items: center;background-color: white;padding-right: 0.2em;padding-left: 0.2em;position: relative;}#sk-container-id-17 div.sk-item {position: relative;z-index: 1;}#sk-container-id-17 div.sk-parallel {display: flex;align-items: stretch;justify-content: center;background-color: white;position: relative;}#sk-container-id-17 div.sk-item::before, #sk-container-id-17 div.sk-parallel-item::before {content: \"\";position: absolute;border-left: 1px solid gray;box-sizing: border-box;top: 0;bottom: 0;left: 50%;z-index: -1;}#sk-container-id-17 div.sk-parallel-item {display: flex;flex-direction: column;z-index: 1;position: relative;background-color: white;}#sk-container-id-17 div.sk-parallel-item:first-child::after {align-self: flex-end;width: 50%;}#sk-container-id-17 div.sk-parallel-item:last-child::after {align-self: flex-start;width: 50%;}#sk-container-id-17 div.sk-parallel-item:only-child::after {width: 0;}#sk-container-id-17 div.sk-dashed-wrapped {border: 1px dashed gray;margin: 0 0.4em 0.5em 0.4em;box-sizing: border-box;padding-bottom: 0.4em;background-color: white;}#sk-container-id-17 div.sk-label label {font-family: monospace;font-weight: bold;display: inline-block;line-height: 1.2em;}#sk-container-id-17 div.sk-label-container {text-align: center;}#sk-container-id-17 div.sk-container {/* jupyter's `normalize.less` sets `[hidden] { display: none; }` but bootstrap.min.css set `[hidden] { display: none !important; }` so we also need the `!important` here to be able to override the default hidden behavior on the sphinx rendered scikit-learn.org. See: https://github.com/scikit-learn/scikit-learn/issues/21755 */display: inline-block !important;position: relative;}#sk-container-id-17 div.sk-text-repr-fallback {display: none;}</style><div id=\"sk-container-id-17\" class=\"sk-top-container\"><div class=\"sk-text-repr-fallback\"><pre>Pipeline(steps=[(&#x27;token&#x27;, Tokenizer()),\n                (&#x27;vect&#x27;,\n                 CountVectorizer(min_df=3, ngram_range=(1, 3),\n                                 strip_accents=&#x27;ascii&#x27;)),\n                (&#x27;tfidf&#x27;, TfidfTransformer()),\n                (&#x27;clf&#x27;, LogisticRegression(C=10, max_iter=1000))])</pre><b>In a Jupyter environment, please rerun this cell to show the HTML representation or trust the notebook. <br />On GitHub, the HTML representation is unable to render, please try loading this page with nbviewer.org.</b></div><div class=\"sk-container\" hidden><div class=\"sk-item sk-dashed-wrapped\"><div class=\"sk-label-container\"><div class=\"sk-label sk-toggleable\"><input class=\"sk-toggleable__control sk-hidden--visually\" id=\"sk-estimator-id-49\" type=\"checkbox\" ><label for=\"sk-estimator-id-49\" class=\"sk-toggleable__label sk-toggleable__label-arrow\">Pipeline</label><div class=\"sk-toggleable__content\"><pre>Pipeline(steps=[(&#x27;token&#x27;, Tokenizer()),\n                (&#x27;vect&#x27;,\n                 CountVectorizer(min_df=3, ngram_range=(1, 3),\n                                 strip_accents=&#x27;ascii&#x27;)),\n                (&#x27;tfidf&#x27;, TfidfTransformer()),\n                (&#x27;clf&#x27;, LogisticRegression(C=10, max_iter=1000))])</pre></div></div></div><div class=\"sk-serial\"><div class=\"sk-item\"><div class=\"sk-estimator sk-toggleable\"><input class=\"sk-toggleable__control sk-hidden--visually\" id=\"sk-estimator-id-50\" type=\"checkbox\" ><label for=\"sk-estimator-id-50\" class=\"sk-toggleable__label sk-toggleable__label-arrow\">Tokenizer</label><div class=\"sk-toggleable__content\"><pre>Tokenizer()</pre></div></div></div><div class=\"sk-item\"><div class=\"sk-estimator sk-toggleable\"><input class=\"sk-toggleable__control sk-hidden--visually\" id=\"sk-estimator-id-51\" type=\"checkbox\" ><label for=\"sk-estimator-id-51\" class=\"sk-toggleable__label sk-toggleable__label-arrow\">CountVectorizer</label><div class=\"sk-toggleable__content\"><pre>CountVectorizer(min_df=3, ngram_range=(1, 3), strip_accents=&#x27;ascii&#x27;)</pre></div></div></div><div class=\"sk-item\"><div class=\"sk-estimator sk-toggleable\"><input class=\"sk-toggleable__control sk-hidden--visually\" id=\"sk-estimator-id-52\" type=\"checkbox\" ><label for=\"sk-estimator-id-52\" class=\"sk-toggleable__label sk-toggleable__label-arrow\">TfidfTransformer</label><div class=\"sk-toggleable__content\"><pre>TfidfTransformer()</pre></div></div></div><div class=\"sk-item\"><div class=\"sk-estimator sk-toggleable\"><input class=\"sk-toggleable__control sk-hidden--visually\" id=\"sk-estimator-id-53\" type=\"checkbox\" ><label for=\"sk-estimator-id-53\" class=\"sk-toggleable__label sk-toggleable__label-arrow\">LogisticRegression</label><div class=\"sk-toggleable__content\"><pre>LogisticRegression(C=10, max_iter=1000)</pre></div></div></div></div></div></div></div>"
     },
     "execution_count": 50,
     "metadata": {},
     "output_type": "execute_result"
    }
   ],
   "source": [
    "from sklearn.base import BaseEstimator, TransformerMixin\n",
    "from sklearn.preprocessing import StandardScaler\n",
    "from sklearn.svm import SVC\n",
    "from sklearn.pipeline import Pipeline\n",
    "class Tokenizer(BaseEstimator, TransformerMixin):\n",
    "    def __init__(self):\n",
    "        _\n",
    "        # print('aa')\n",
    "    def fit(self, X, y):\n",
    "        return self\n",
    "\n",
    "    def transform(self, x):\n",
    "        return x\n",
    "\n",
    "def trans_func(input_series):\n",
    "    return input_series\n",
    "\n",
    "from sklearn.preprocessing import FunctionTransformer\n",
    "transformer = FunctionTransformer(trans_func)\n",
    "\n",
    "# sk_pipe = Pipeline([(\"trans\", transformer), (\"vect\", tf_1k), (\"clf\", clf_1k)])\n",
    "sk_pipe = Pipeline(\n",
    "    [\n",
    "        ('token',  Tokenizer()),\n",
    "        (\"vect\", CountVectorizer(strip_accents='ascii',ngram_range=(1,3) , min_df=3)),\n",
    "        (\"tfidf\", TfidfTransformer()),\n",
    "        (\"clf\", LogisticRegression(max_iter=1000,C=10)),\n",
    "    ]\n",
    ")\n",
    "\n",
    "sk_pipe\n"
   ],
   "metadata": {
    "collapsed": false
   }
  },
  {
   "cell_type": "code",
   "execution_count": 53,
   "outputs": [],
   "source": [
    "from sklearn.utils import estimator_html_repr\n",
    "\n",
    "with open(\"pipeline.html\", \"w\") as f:\n",
    "    f.write(estimator_html_repr(sk_pipe))"
   ],
   "metadata": {
    "collapsed": false
   }
  }
 ],
 "metadata": {
  "kernelspec": {
   "display_name": "Python 3 (ipykernel)",
   "language": "python",
   "name": "python3"
  },
  "language_info": {
   "codemirror_mode": {
    "name": "ipython",
    "version": 3
   },
   "file_extension": ".py",
   "mimetype": "text/x-python",
   "name": "python",
   "nbconvert_exporter": "python",
   "pygments_lexer": "ipython3",
   "version": "3.9.5"
  }
 },
 "nbformat": 4,
 "nbformat_minor": 1
}
