{
 "cells": [
  {
   "cell_type": "code",
   "execution_count": 1,
   "metadata": {
    "collapsed": true
   },
   "outputs": [
    {
     "ename": "ModuleNotFoundError",
     "evalue": "No module named 'dash_app'",
     "output_type": "error",
     "traceback": [
      "\u001B[0;31m---------------------------------------------------------------------------\u001B[0m",
      "\u001B[0;31mModuleNotFoundError\u001B[0m                       Traceback (most recent call last)",
      "Cell \u001B[0;32mIn [1], line 3\u001B[0m\n\u001B[1;32m      1\u001B[0m \u001B[38;5;28;01mimport\u001B[39;00m \u001B[38;5;21;01mpandas\u001B[39;00m \u001B[38;5;28;01mas\u001B[39;00m \u001B[38;5;21;01mpd\u001B[39;00m\n\u001B[0;32m----> 3\u001B[0m \u001B[38;5;28;01mfrom\u001B[39;00m \u001B[38;5;21;01mdash_app\u001B[39;00m\u001B[38;5;21;01m.\u001B[39;00m\u001B[38;5;21;01mbackend\u001B[39;00m\u001B[38;5;21;01m.\u001B[39;00m\u001B[38;5;21;01mdb_dictonary\u001B[39;00m \u001B[38;5;28;01mimport\u001B[39;00m load_datasets\n\u001B[1;32m      4\u001B[0m get_ipython()\u001B[38;5;241m.\u001B[39mrun_line_magic(\u001B[38;5;124m'\u001B[39m\u001B[38;5;124mload_ext\u001B[39m\u001B[38;5;124m'\u001B[39m, \u001B[38;5;124m'\u001B[39m\u001B[38;5;124mautoreload\u001B[39m\u001B[38;5;124m'\u001B[39m)\n\u001B[1;32m      5\u001B[0m get_ipython()\u001B[38;5;241m.\u001B[39mrun_line_magic(\u001B[38;5;124m'\u001B[39m\u001B[38;5;124mautoreload\u001B[39m\u001B[38;5;124m'\u001B[39m, \u001B[38;5;124m'\u001B[39m\u001B[38;5;124m2\u001B[39m\u001B[38;5;124m'\u001B[39m)\n",
      "\u001B[0;31mModuleNotFoundError\u001B[0m: No module named 'dash_app'"
     ]
    }
   ],
   "source": [
    "import pandas as pd\n",
    "\n",
    "from dash_app.backend.db_dictonary import load_datasets\n",
    "%load_ext autoreload\n",
    "%autoreload 2"
   ]
  },
  {
   "cell_type": "code",
   "execution_count": 29,
   "outputs": [
    {
     "data": {
      "text/plain": "['/home/andrzej/.local/share/JetBrains/Toolbox/apps/PyCharm-P/ch-0/223.7571.203/plugins/python/helpers-pro/jupyter_debug',\n '/home/andrzej/.local/share/JetBrains/Toolbox/apps/PyCharm-P/ch-0/223.7571.203/plugins/python/helpers/pydev',\n '/home/andrzej/PycharmProjects/diploma_project/machine_learning',\n '/usr/lib/python39.zip',\n '/usr/lib/python3.9',\n '/usr/lib/python3.9/lib-dynload',\n '',\n '/home/andrzej/PycharmProjects/diploma_project/venv/lib/python3.9/site-packages',\n '/home/andrzej/PycharmProjects/diploma_project',\n '/home/andrzej/PycharmProjects/diploma_project',\n '/home/andrzej/.cache/huggingface/modules',\n '/home/andrzej/PycharmProjects/diploma_project']"
     },
     "execution_count": 29,
     "metadata": {},
     "output_type": "execute_result"
    }
   ],
   "source": [
    "import sys\n",
    "sys.path.append('/home/andrzej/PycharmProjects/diploma_project')\n",
    "sys.path"
   ],
   "metadata": {
    "collapsed": false
   }
  },
  {
   "cell_type": "code",
   "execution_count": 30,
   "outputs": [
    {
     "name": "stderr",
     "output_type": "stream",
     "text": [
      "No config specified, defaulting to: polemo2-official/all_text\n",
      "Found cached dataset polemo2-official (/home/andrzej/.cache/huggingface/datasets/clarin-pl___polemo2-official/all_text/0.0.0/2b75fdbe5def97538e81fb120f8752744b50729a4ce09bd75132bfc863a2fd70)\n"
     ]
    },
    {
     "data": {
      "text/plain": "  0%|          | 0/3 [00:00<?, ?it/s]",
      "application/vnd.jupyter.widget-view+json": {
       "version_major": 2,
       "version_minor": 0,
       "model_id": "c961e55fddb5484f8f1e71f33c7c51d7"
      }
     },
     "metadata": {},
     "output_type": "display_data"
    },
    {
     "name": "stdout",
     "output_type": "stream",
     "text": [
      " "
     ]
    },
    {
     "name": "stderr",
     "output_type": "stream",
     "text": [
      "Loading cached processed dataset at /home/andrzej/.cache/huggingface/datasets/clarin-pl___polemo2-official/all_text/0.0.0/2b75fdbe5def97538e81fb120f8752744b50729a4ce09bd75132bfc863a2fd70/cache-fefe24852dab0b49.arrow\n"
     ]
    },
    {
     "name": "stdout",
     "output_type": "stream",
     "text": [
      " "
     ]
    },
    {
     "name": "stderr",
     "output_type": "stream",
     "text": [
      "Loading cached processed dataset at /home/andrzej/.cache/huggingface/datasets/clarin-pl___polemo2-official/all_text/0.0.0/2b75fdbe5def97538e81fb120f8752744b50729a4ce09bd75132bfc863a2fd70/cache-d4dfc5191d082671.arrow\n"
     ]
    },
    {
     "name": "stdout",
     "output_type": "stream",
     "text": [
      " "
     ]
    },
    {
     "name": "stderr",
     "output_type": "stream",
     "text": [
      "Loading cached processed dataset at /home/andrzej/.cache/huggingface/datasets/clarin-pl___polemo2-official/all_text/0.0.0/2b75fdbe5def97538e81fb120f8752744b50729a4ce09bd75132bfc863a2fd70/cache-06b51c40d4875ff8.arrow\n"
     ]
    },
    {
     "name": "stdout",
     "output_type": "stream",
     "text": [
      " "
     ]
    },
    {
     "name": "stderr",
     "output_type": "stream",
     "text": [
      "Loading cached processed dataset at /home/andrzej/.cache/huggingface/datasets/clarin-pl___polemo2-official/all_text/0.0.0/2b75fdbe5def97538e81fb120f8752744b50729a4ce09bd75132bfc863a2fd70/cache-4fcd3808028b66de.arrow\n"
     ]
    },
    {
     "name": "stdout",
     "output_type": "stream",
     "text": [
      " "
     ]
    },
    {
     "name": "stderr",
     "output_type": "stream",
     "text": [
      "Loading cached processed dataset at /home/andrzej/.cache/huggingface/datasets/clarin-pl___polemo2-official/all_text/0.0.0/2b75fdbe5def97538e81fb120f8752744b50729a4ce09bd75132bfc863a2fd70/cache-59a4447237168fca.arrow\n"
     ]
    },
    {
     "name": "stdout",
     "output_type": "stream",
     "text": [
      " "
     ]
    },
    {
     "name": "stderr",
     "output_type": "stream",
     "text": [
      "Loading cached processed dataset at /home/andrzej/.cache/huggingface/datasets/clarin-pl___polemo2-official/all_text/0.0.0/2b75fdbe5def97538e81fb120f8752744b50729a4ce09bd75132bfc863a2fd70/cache-eec372116c5789e1.arrow\n"
     ]
    },
    {
     "name": "stdout",
     "output_type": "stream",
     "text": [
      " "
     ]
    },
    {
     "name": "stderr",
     "output_type": "stream",
     "text": [
      "Loading cached processed dataset at /home/andrzej/.cache/huggingface/datasets/clarin-pl___polemo2-official/all_text/0.0.0/2b75fdbe5def97538e81fb120f8752744b50729a4ce09bd75132bfc863a2fd70/cache-569dd02da11bf0cc.arrow\n"
     ]
    },
    {
     "name": "stdout",
     "output_type": "stream",
     "text": [
      " "
     ]
    },
    {
     "name": "stderr",
     "output_type": "stream",
     "text": [
      "Loading cached processed dataset at /home/andrzej/.cache/huggingface/datasets/clarin-pl___polemo2-official/all_text/0.0.0/2b75fdbe5def97538e81fb120f8752744b50729a4ce09bd75132bfc863a2fd70/cache-2ea4362b820664fa.arrow\n"
     ]
    },
    {
     "name": "stdout",
     "output_type": "stream",
     "text": [
      " "
     ]
    },
    {
     "name": "stderr",
     "output_type": "stream",
     "text": [
      "Loading cached processed dataset at /home/andrzej/.cache/huggingface/datasets/clarin-pl___polemo2-official/all_text/0.0.0/2b75fdbe5def97538e81fb120f8752744b50729a4ce09bd75132bfc863a2fd70/cache-f856d4cba2dad414.arrow\n"
     ]
    },
    {
     "name": "stdout",
     "output_type": "stream",
     "text": [
      " "
     ]
    },
    {
     "name": "stderr",
     "output_type": "stream",
     "text": [
      "Loading cached processed dataset at /home/andrzej/.cache/huggingface/datasets/clarin-pl___polemo2-official/all_text/0.0.0/2b75fdbe5def97538e81fb120f8752744b50729a4ce09bd75132bfc863a2fd70/cache-3c8e56a1375d8ec4.arrow\n"
     ]
    },
    {
     "name": "stdout",
     "output_type": "stream",
     "text": [
      " "
     ]
    },
    {
     "name": "stderr",
     "output_type": "stream",
     "text": [
      "Loading cached processed dataset at /home/andrzej/.cache/huggingface/datasets/clarin-pl___polemo2-official/all_text/0.0.0/2b75fdbe5def97538e81fb120f8752744b50729a4ce09bd75132bfc863a2fd70/cache-ef132504d10110d9.arrow\n"
     ]
    },
    {
     "name": "stdout",
     "output_type": "stream",
     "text": [
      " "
     ]
    },
    {
     "name": "stderr",
     "output_type": "stream",
     "text": [
      "Loading cached processed dataset at /home/andrzej/.cache/huggingface/datasets/clarin-pl___polemo2-official/all_text/0.0.0/2b75fdbe5def97538e81fb120f8752744b50729a4ce09bd75132bfc863a2fd70/cache-95542bc33b075f18.arrow\n"
     ]
    },
    {
     "name": "stdout",
     "output_type": "stream",
     "text": [
      " "
     ]
    },
    {
     "name": "stderr",
     "output_type": "stream",
     "text": [
      "Loading cached processed dataset at /home/andrzej/.cache/huggingface/datasets/clarin-pl___polemo2-official/all_text/0.0.0/2b75fdbe5def97538e81fb120f8752744b50729a4ce09bd75132bfc863a2fd70/cache-0ef9033b8fe0a721.arrow\n"
     ]
    },
    {
     "name": "stdout",
     "output_type": "stream",
     "text": [
      " "
     ]
    },
    {
     "name": "stderr",
     "output_type": "stream",
     "text": [
      "Loading cached processed dataset at /home/andrzej/.cache/huggingface/datasets/clarin-pl___polemo2-official/all_text/0.0.0/2b75fdbe5def97538e81fb120f8752744b50729a4ce09bd75132bfc863a2fd70/cache-f33985b6a1214730.arrow\n"
     ]
    },
    {
     "name": "stdout",
     "output_type": "stream",
     "text": [
      " "
     ]
    },
    {
     "name": "stderr",
     "output_type": "stream",
     "text": [
      "Loading cached processed dataset at /home/andrzej/.cache/huggingface/datasets/clarin-pl___polemo2-official/all_text/0.0.0/2b75fdbe5def97538e81fb120f8752744b50729a4ce09bd75132bfc863a2fd70/cache-575a5ee656e035c0.arrow\n"
     ]
    },
    {
     "name": "stdout",
     "output_type": "stream",
     "text": [
      " "
     ]
    },
    {
     "name": "stderr",
     "output_type": "stream",
     "text": [
      "Loading cached processed dataset at /home/andrzej/.cache/huggingface/datasets/clarin-pl___polemo2-official/all_text/0.0.0/2b75fdbe5def97538e81fb120f8752744b50729a4ce09bd75132bfc863a2fd70/cache-3c9838f21860f0d8.arrow\n"
     ]
    },
    {
     "name": "stdout",
     "output_type": "stream",
     "text": [
      " "
     ]
    },
    {
     "name": "stderr",
     "output_type": "stream",
     "text": [
      "Loading cached processed dataset at /home/andrzej/.cache/huggingface/datasets/clarin-pl___polemo2-official/all_text/0.0.0/2b75fdbe5def97538e81fb120f8752744b50729a4ce09bd75132bfc863a2fd70/cache-e2bc60702cbc1dec.arrow\n"
     ]
    },
    {
     "name": "stdout",
     "output_type": "stream",
     "text": [
      " "
     ]
    },
    {
     "name": "stderr",
     "output_type": "stream",
     "text": [
      "Loading cached processed dataset at /home/andrzej/.cache/huggingface/datasets/clarin-pl___polemo2-official/all_text/0.0.0/2b75fdbe5def97538e81fb120f8752744b50729a4ce09bd75132bfc863a2fd70/cache-ededf58cfc30ed09.arrow\n"
     ]
    },
    {
     "name": "stdout",
     "output_type": "stream",
     "text": [
      " "
     ]
    },
    {
     "name": "stderr",
     "output_type": "stream",
     "text": [
      "Loading cached processed dataset at /home/andrzej/.cache/huggingface/datasets/clarin-pl___polemo2-official/all_text/0.0.0/2b75fdbe5def97538e81fb120f8752744b50729a4ce09bd75132bfc863a2fd70/cache-d9ef5c26c2dacadb.arrow\n"
     ]
    },
    {
     "name": "stdout",
     "output_type": "stream",
     "text": [
      " "
     ]
    },
    {
     "name": "stderr",
     "output_type": "stream",
     "text": [
      "Loading cached processed dataset at /home/andrzej/.cache/huggingface/datasets/clarin-pl___polemo2-official/all_text/0.0.0/2b75fdbe5def97538e81fb120f8752744b50729a4ce09bd75132bfc863a2fd70/cache-cf7cd608e4d489c0.arrow\n"
     ]
    },
    {
     "name": "stdout",
     "output_type": "stream",
     "text": [
      " "
     ]
    },
    {
     "name": "stderr",
     "output_type": "stream",
     "text": [
      "Loading cached processed dataset at /home/andrzej/.cache/huggingface/datasets/clarin-pl___polemo2-official/all_text/0.0.0/2b75fdbe5def97538e81fb120f8752744b50729a4ce09bd75132bfc863a2fd70/cache-09cbf1bfcf6e92dd.arrow\n"
     ]
    },
    {
     "name": "stdout",
     "output_type": "stream",
     "text": [
      " "
     ]
    },
    {
     "name": "stderr",
     "output_type": "stream",
     "text": [
      "Loading cached processed dataset at /home/andrzej/.cache/huggingface/datasets/clarin-pl___polemo2-official/all_text/0.0.0/2b75fdbe5def97538e81fb120f8752744b50729a4ce09bd75132bfc863a2fd70/cache-54a1466b5ebc8bf2.arrow\n"
     ]
    },
    {
     "name": "stdout",
     "output_type": "stream",
     "text": [
      " "
     ]
    },
    {
     "name": "stderr",
     "output_type": "stream",
     "text": [
      "Loading cached processed dataset at /home/andrzej/.cache/huggingface/datasets/clarin-pl___polemo2-official/all_text/0.0.0/2b75fdbe5def97538e81fb120f8752744b50729a4ce09bd75132bfc863a2fd70/cache-578c0c3432640a98.arrow\n"
     ]
    },
    {
     "name": "stdout",
     "output_type": "stream",
     "text": [
      " "
     ]
    },
    {
     "name": "stderr",
     "output_type": "stream",
     "text": [
      "Loading cached processed dataset at /home/andrzej/.cache/huggingface/datasets/clarin-pl___polemo2-official/all_text/0.0.0/2b75fdbe5def97538e81fb120f8752744b50729a4ce09bd75132bfc863a2fd70/cache-e1737c55490a71b0.arrow\n",
      "Using custom data configuration default\n",
      "Found cached dataset allegro_reviews (/home/andrzej/.cache/huggingface/datasets/allegro_reviews/default/1.1.0/d0fd6bf6f7f8f2c8faed7ecf9d295c991eac403ca516d3d3593061a913c0476b)\n"
     ]
    },
    {
     "data": {
      "text/plain": "  0%|          | 0/3 [00:00<?, ?it/s]",
      "application/vnd.jupyter.widget-view+json": {
       "version_major": 2,
       "version_minor": 0,
       "model_id": "f5391d1d0196497080dba69b47c63fab"
      }
     },
     "metadata": {},
     "output_type": "display_data"
    },
    {
     "name": "stdout",
     "output_type": "stream",
     "text": [
      " "
     ]
    },
    {
     "name": "stderr",
     "output_type": "stream",
     "text": [
      "Loading cached processed dataset at /home/andrzej/.cache/huggingface/datasets/allegro_reviews/default/1.1.0/d0fd6bf6f7f8f2c8faed7ecf9d295c991eac403ca516d3d3593061a913c0476b/cache-700af91543882224.arrow\n"
     ]
    },
    {
     "name": "stdout",
     "output_type": "stream",
     "text": [
      " "
     ]
    },
    {
     "name": "stderr",
     "output_type": "stream",
     "text": [
      "Loading cached processed dataset at /home/andrzej/.cache/huggingface/datasets/allegro_reviews/default/1.1.0/d0fd6bf6f7f8f2c8faed7ecf9d295c991eac403ca516d3d3593061a913c0476b/cache-c772e09429ee7a60.arrow\n"
     ]
    },
    {
     "name": "stdout",
     "output_type": "stream",
     "text": [
      " "
     ]
    },
    {
     "name": "stderr",
     "output_type": "stream",
     "text": [
      "Loading cached processed dataset at /home/andrzej/.cache/huggingface/datasets/allegro_reviews/default/1.1.0/d0fd6bf6f7f8f2c8faed7ecf9d295c991eac403ca516d3d3593061a913c0476b/cache-255c121fa49aff44.arrow\n"
     ]
    },
    {
     "name": "stdout",
     "output_type": "stream",
     "text": [
      " "
     ]
    },
    {
     "name": "stderr",
     "output_type": "stream",
     "text": [
      "Loading cached processed dataset at /home/andrzej/.cache/huggingface/datasets/allegro_reviews/default/1.1.0/d0fd6bf6f7f8f2c8faed7ecf9d295c991eac403ca516d3d3593061a913c0476b/cache-97ca90306e129b21.arrow\n"
     ]
    },
    {
     "name": "stdout",
     "output_type": "stream",
     "text": [
      " "
     ]
    },
    {
     "name": "stderr",
     "output_type": "stream",
     "text": [
      "Loading cached processed dataset at /home/andrzej/.cache/huggingface/datasets/allegro_reviews/default/1.1.0/d0fd6bf6f7f8f2c8faed7ecf9d295c991eac403ca516d3d3593061a913c0476b/cache-aceb273e46b37d56.arrow\n"
     ]
    },
    {
     "name": "stdout",
     "output_type": "stream",
     "text": [
      " "
     ]
    },
    {
     "name": "stderr",
     "output_type": "stream",
     "text": [
      "Loading cached processed dataset at /home/andrzej/.cache/huggingface/datasets/allegro_reviews/default/1.1.0/d0fd6bf6f7f8f2c8faed7ecf9d295c991eac403ca516d3d3593061a913c0476b/cache-0b7b322cbc7a9c35.arrow\n"
     ]
    },
    {
     "name": "stdout",
     "output_type": "stream",
     "text": [
      " "
     ]
    },
    {
     "name": "stderr",
     "output_type": "stream",
     "text": [
      "Loading cached processed dataset at /home/andrzej/.cache/huggingface/datasets/allegro_reviews/default/1.1.0/d0fd6bf6f7f8f2c8faed7ecf9d295c991eac403ca516d3d3593061a913c0476b/cache-903a68341617548a.arrow\n"
     ]
    },
    {
     "name": "stdout",
     "output_type": "stream",
     "text": [
      " "
     ]
    },
    {
     "name": "stderr",
     "output_type": "stream",
     "text": [
      "Loading cached processed dataset at /home/andrzej/.cache/huggingface/datasets/allegro_reviews/default/1.1.0/d0fd6bf6f7f8f2c8faed7ecf9d295c991eac403ca516d3d3593061a913c0476b/cache-bde8af0a4bcdad10.arrow\n"
     ]
    },
    {
     "name": "stdout",
     "output_type": "stream",
     "text": [
      " "
     ]
    },
    {
     "name": "stderr",
     "output_type": "stream",
     "text": [
      "Loading cached processed dataset at /home/andrzej/.cache/huggingface/datasets/allegro_reviews/default/1.1.0/d0fd6bf6f7f8f2c8faed7ecf9d295c991eac403ca516d3d3593061a913c0476b/cache-40ad3c9f2352fef9.arrow\n"
     ]
    },
    {
     "name": "stdout",
     "output_type": "stream",
     "text": [
      " "
     ]
    },
    {
     "name": "stderr",
     "output_type": "stream",
     "text": [
      "Loading cached processed dataset at /home/andrzej/.cache/huggingface/datasets/allegro_reviews/default/1.1.0/d0fd6bf6f7f8f2c8faed7ecf9d295c991eac403ca516d3d3593061a913c0476b/cache-0f7e0a272e6f80cc.arrow\n"
     ]
    },
    {
     "name": "stdout",
     "output_type": "stream",
     "text": [
      " "
     ]
    },
    {
     "name": "stderr",
     "output_type": "stream",
     "text": [
      "Loading cached processed dataset at /home/andrzej/.cache/huggingface/datasets/allegro_reviews/default/1.1.0/d0fd6bf6f7f8f2c8faed7ecf9d295c991eac403ca516d3d3593061a913c0476b/cache-3eea2e54daf68f26.arrow\n"
     ]
    },
    {
     "name": "stdout",
     "output_type": "stream",
     "text": [
      " "
     ]
    },
    {
     "name": "stderr",
     "output_type": "stream",
     "text": [
      "Loading cached processed dataset at /home/andrzej/.cache/huggingface/datasets/allegro_reviews/default/1.1.0/d0fd6bf6f7f8f2c8faed7ecf9d295c991eac403ca516d3d3593061a913c0476b/cache-95b166a3b8c8fc74.arrow\n"
     ]
    },
    {
     "name": "stdout",
     "output_type": "stream",
     "text": [
      " "
     ]
    },
    {
     "name": "stderr",
     "output_type": "stream",
     "text": [
      "Loading cached processed dataset at /home/andrzej/.cache/huggingface/datasets/allegro_reviews/default/1.1.0/d0fd6bf6f7f8f2c8faed7ecf9d295c991eac403ca516d3d3593061a913c0476b/cache-705e3a9512a279ca.arrow\n"
     ]
    },
    {
     "name": "stdout",
     "output_type": "stream",
     "text": [
      " "
     ]
    },
    {
     "name": "stderr",
     "output_type": "stream",
     "text": [
      "Loading cached processed dataset at /home/andrzej/.cache/huggingface/datasets/allegro_reviews/default/1.1.0/d0fd6bf6f7f8f2c8faed7ecf9d295c991eac403ca516d3d3593061a913c0476b/cache-b82596b8be4e40b9.arrow\n"
     ]
    },
    {
     "name": "stdout",
     "output_type": "stream",
     "text": [
      " "
     ]
    },
    {
     "name": "stderr",
     "output_type": "stream",
     "text": [
      "Loading cached processed dataset at /home/andrzej/.cache/huggingface/datasets/allegro_reviews/default/1.1.0/d0fd6bf6f7f8f2c8faed7ecf9d295c991eac403ca516d3d3593061a913c0476b/cache-ece3005c586640fc.arrow\n"
     ]
    },
    {
     "name": "stdout",
     "output_type": "stream",
     "text": [
      " "
     ]
    },
    {
     "name": "stderr",
     "output_type": "stream",
     "text": [
      "Loading cached processed dataset at /home/andrzej/.cache/huggingface/datasets/allegro_reviews/default/1.1.0/d0fd6bf6f7f8f2c8faed7ecf9d295c991eac403ca516d3d3593061a913c0476b/cache-66ba8f9f4270bb22.arrow\n"
     ]
    },
    {
     "name": "stdout",
     "output_type": "stream",
     "text": [
      " "
     ]
    },
    {
     "name": "stderr",
     "output_type": "stream",
     "text": [
      "Loading cached processed dataset at /home/andrzej/.cache/huggingface/datasets/allegro_reviews/default/1.1.0/d0fd6bf6f7f8f2c8faed7ecf9d295c991eac403ca516d3d3593061a913c0476b/cache-1c39dc3ff8ec230e.arrow\n"
     ]
    },
    {
     "name": "stdout",
     "output_type": "stream",
     "text": [
      " "
     ]
    },
    {
     "name": "stderr",
     "output_type": "stream",
     "text": [
      "Loading cached processed dataset at /home/andrzej/.cache/huggingface/datasets/allegro_reviews/default/1.1.0/d0fd6bf6f7f8f2c8faed7ecf9d295c991eac403ca516d3d3593061a913c0476b/cache-199dc5036e4d08de.arrow\n"
     ]
    },
    {
     "name": "stdout",
     "output_type": "stream",
     "text": [
      " "
     ]
    },
    {
     "name": "stderr",
     "output_type": "stream",
     "text": [
      "Loading cached processed dataset at /home/andrzej/.cache/huggingface/datasets/allegro_reviews/default/1.1.0/d0fd6bf6f7f8f2c8faed7ecf9d295c991eac403ca516d3d3593061a913c0476b/cache-47a668deeeef0fbd.arrow\n"
     ]
    },
    {
     "name": "stdout",
     "output_type": "stream",
     "text": [
      " "
     ]
    },
    {
     "name": "stderr",
     "output_type": "stream",
     "text": [
      "Loading cached processed dataset at /home/andrzej/.cache/huggingface/datasets/allegro_reviews/default/1.1.0/d0fd6bf6f7f8f2c8faed7ecf9d295c991eac403ca516d3d3593061a913c0476b/cache-e98de9f78a565089.arrow\n"
     ]
    },
    {
     "name": "stdout",
     "output_type": "stream",
     "text": [
      " "
     ]
    },
    {
     "name": "stderr",
     "output_type": "stream",
     "text": [
      "Loading cached processed dataset at /home/andrzej/.cache/huggingface/datasets/allegro_reviews/default/1.1.0/d0fd6bf6f7f8f2c8faed7ecf9d295c991eac403ca516d3d3593061a913c0476b/cache-2b5ea3f4527681d9.arrow\n"
     ]
    },
    {
     "name": "stdout",
     "output_type": "stream",
     "text": [
      " "
     ]
    },
    {
     "name": "stderr",
     "output_type": "stream",
     "text": [
      "Loading cached processed dataset at /home/andrzej/.cache/huggingface/datasets/allegro_reviews/default/1.1.0/d0fd6bf6f7f8f2c8faed7ecf9d295c991eac403ca516d3d3593061a913c0476b/cache-5bc78cb33bb418cc.arrow\n"
     ]
    },
    {
     "name": "stdout",
     "output_type": "stream",
     "text": [
      " "
     ]
    },
    {
     "name": "stderr",
     "output_type": "stream",
     "text": [
      "Loading cached processed dataset at /home/andrzej/.cache/huggingface/datasets/allegro_reviews/default/1.1.0/d0fd6bf6f7f8f2c8faed7ecf9d295c991eac403ca516d3d3593061a913c0476b/cache-62304b9c841f03b5.arrow\n"
     ]
    },
    {
     "name": "stdout",
     "output_type": "stream",
     "text": [
      " "
     ]
    },
    {
     "name": "stderr",
     "output_type": "stream",
     "text": [
      "Loading cached processed dataset at /home/andrzej/.cache/huggingface/datasets/allegro_reviews/default/1.1.0/d0fd6bf6f7f8f2c8faed7ecf9d295c991eac403ca516d3d3593061a913c0476b/cache-22a5915a9052235c.arrow\n"
     ]
    }
   ],
   "source": [
    "db_dict = load_datasets()\n",
    "\n",
    "merge = db_dict['połączone']"
   ],
   "metadata": {
    "collapsed": false
   }
  },
  {
   "cell_type": "code",
   "execution_count": 31,
   "outputs": [
    {
     "name": "stdout",
     "output_type": "stream",
     "text": [
      "12124\n"
     ]
    }
   ],
   "source": [
    "train = merge.data['train'].to_pandas()\n",
    "validation = merge.data['validation'].to_pandas()\n",
    "test = merge.data['test'].to_pandas()\n",
    "# merge\n",
    "\n",
    "train_binary = train[train['ocena_tekst'].isin(['negatywne','pozytywne' ])]\n",
    "validation_binary = validation[validation['ocena_tekst'].isin(['negatywne','pozytywne' ])]\n",
    "test_binary = test[test['ocena_tekst'].isin(['negatywne','pozytywne' ])]\n",
    "\n",
    "from machine_learning.utils.utils import get_unicode_text\n",
    "\n",
    "token_pattern = \" \"\n",
    "\n",
    "text_train, text_val, text_test = get_unicode_text('token_tekst', train_binary, validation_binary, test_binary, token_pattern)\n",
    "\n",
    "\n",
    "print(train_binary.shape[0])"
   ],
   "metadata": {
    "collapsed": false
   }
  },
  {
   "cell_type": "code",
   "execution_count": 8,
   "outputs": [
    {
     "name": "stdout",
     "output_type": "stream",
     "text": [
      "the best mean score 0.8984809188588366 std test score 0.024668127474968774\n",
      "clf__C: 30\n",
      "vect__min_df: 4\n",
      "vect__ngram_range: (1, 4)\n"
     ]
    }
   ],
   "source": [
    "from sklearn.model_selection import GridSearchCV\n",
    "from sklearn.linear_model import LogisticRegression\n",
    "from sklearn.feature_extraction.text import CountVectorizer, TfidfTransformer\n",
    "from sklearn.pipeline import Pipeline\n",
    "import numpy as np\n",
    "\n",
    "text_clf = Pipeline(\n",
    "    [\n",
    "        (\"vect\", CountVectorizer(strip_accents='ascii')),\n",
    "        (\"tfidf\", TfidfTransformer()),\n",
    "        (\"clf\", LogisticRegression(max_iter=1000, n_jobs=-1)),\n",
    "    ]\n",
    ")\n",
    "parameters = {\n",
    "    'vect__ngram_range': [(1, 3),(2, 3),(1,4)],\n",
    "    'vect__min_df': [2,4,6],\n",
    "    # 'tfidf__use_idf': (True, False),\n",
    "    'clf__C': (10,15,20,30)\n",
    "}\n",
    "text_grid = np.hstack([text_train.values, text_val.values])\n",
    "target_grid =  np.hstack([train_binary['ocena_tekst'].values ,validation_binary['ocena_tekst'].values])\n",
    "\n",
    "gs_clf = GridSearchCV(text_clf, parameters, cv=5, n_jobs=-1)\n",
    "\n",
    "gs_clf = gs_clf.fit(text_grid, target_grid)\n",
    "\n",
    "print(\"the best mean score\", gs_clf.best_score_, \"std test score\",\n",
    "      gs_clf.cv_results_['std_test_score'][gs_clf.best_index_])\n",
    "\n",
    "for param_name in sorted(parameters.keys()):\n",
    "    print(\"%s: %r\" % (param_name, gs_clf.best_params_[param_name]))"
   ],
   "metadata": {
    "collapsed": false
   }
  },
  {
   "cell_type": "code",
   "execution_count": 17,
   "outputs": [],
   "source": [
    "text_clf = Pipeline(\n",
    "    [\n",
    "        (\"vect\", CountVectorizer(strip_accents='ascii', min_df=4,ngram_range=(1,4))),\n",
    "        (\"tfidf\", TfidfTransformer()),\n",
    "        (\"clf\", LogisticRegression(max_iter=1000, n_jobs=-1,C=30)),\n",
    "    ]\n",
    ")"
   ],
   "metadata": {
    "collapsed": false
   }
  },
  {
   "cell_type": "code",
   "execution_count": 18,
   "outputs": [
    {
     "name": "stdout",
     "output_type": "stream",
     "text": [
      "train dataset:\n",
      "\n"
     ]
    },
    {
     "data": {
      "text/plain": "<Figure size 500x500 with 1 Axes>",
      "image/png": "[encoded data removed]"
     },
     "metadata": {},
     "output_type": "display_data"
    },
    {
     "name": "stdout",
     "output_type": "stream",
     "text": [
      "              precision    recall  f1-score   support\n",
      "\n",
      "   negatywne      1.000     1.000     1.000      5268\n",
      "   pozytywne      1.000     1.000     1.000      6856\n",
      "\n",
      "    accuracy                          1.000     12124\n",
      "   macro avg      1.000     1.000     1.000     12124\n",
      "weighted avg      1.000     1.000     1.000     12124\n",
      "\n",
      "validate dataset:\n",
      "\n"
     ]
    },
    {
     "data": {
      "text/plain": "<Figure size 500x500 with 1 Axes>",
      "image/png": "[encoded data removed]"
     },
     "metadata": {},
     "output_type": "display_data"
    },
    {
     "name": "stdout",
     "output_type": "stream",
     "text": [
      "              precision    recall  f1-score   support\n",
      "\n",
      "   negatywne      0.913     0.910     0.911       631\n",
      "   pozytywne      0.923     0.926     0.924       740\n",
      "\n",
      "    accuracy                          0.918      1371\n",
      "   macro avg      0.918     0.918     0.918      1371\n",
      "weighted avg      0.918     0.918     0.918      1371\n",
      "\n",
      "test:\n"
     ]
    },
    {
     "data": {
      "text/plain": "<Figure size 500x500 with 1 Axes>",
      "image/png": "[encoded data removed]"
     },
     "metadata": {},
     "output_type": "display_data"
    },
    {
     "name": "stdout",
     "output_type": "stream",
     "text": [
      "              precision    recall  f1-score   support\n",
      "\n",
      "   negatywne      0.946     0.929     0.938       339\n",
      "   pozytywne      0.897     0.921     0.909       227\n",
      "\n",
      "    accuracy                          0.926       566\n",
      "   macro avg      0.921     0.925     0.923       566\n",
      "weighted avg      0.926     0.926     0.926       566\n",
      "\n"
     ]
    }
   ],
   "source": [
    "from machine_learning.utils.utils import plot_and_print_score_model, model_fit__and_model_statistics\n",
    "\n",
    "model_fit__and_model_statistics(text_clf, text_train, train_binary['ocena_tekst'], text_val,  validation_binary['ocena_tekst'], ['negatywne','pozytywne'], text_test,test_binary['ocena_tekst'] )"
   ],
   "metadata": {
    "collapsed": false
   }
  },
  {
   "cell_type": "code",
   "execution_count": 19,
   "outputs": [
    {
     "data": {
      "text/plain": "DatasetDict({\n    train: Dataset({\n        features: ['text', 'target', 'text_org', 'text_clean_up', 'liczba_zdań', 'liczba_słów', 'liczba_tokenów', 'ocena_tekst', 'token_tekst', 'token_adj_adv_verb', 'subset_of_two_words', 'subset_of_three_words'],\n        num_rows: 6573\n    })\n    validation: Dataset({\n        features: ['text', 'target', 'text_org', 'text_clean_up', 'liczba_zdań', 'liczba_słów', 'liczba_tokenów', 'ocena_tekst', 'token_tekst', 'token_adj_adv_verb', 'subset_of_two_words', 'subset_of_three_words'],\n        num_rows: 823\n    })\n    test: Dataset({\n        features: ['text', 'target', 'text_org', 'text_clean_up', 'liczba_zdań', 'liczba_słów', 'liczba_tokenów', 'ocena_tekst', 'token_tekst', 'token_adj_adv_verb', 'subset_of_two_words', 'subset_of_three_words'],\n        num_rows: 820\n    })\n})"
     },
     "execution_count": 19,
     "metadata": {},
     "output_type": "execute_result"
    }
   ],
   "source": [
    "polemo2 = db_dict['clarin-pl/polemo2-official'].data\n",
    "allegro = db_dict['allegro_reviews'].data\n",
    "polemo2"
   ],
   "metadata": {
    "collapsed": false
   }
  },
  {
   "cell_type": "code",
   "execution_count": 25,
   "outputs": [],
   "source": [
    "train = allegro['train'].to_pandas()\n",
    "validation = allegro['validation'].to_pandas()\n",
    "test = allegro['test'].to_pandas()\n",
    "\n",
    "token_pattern = \" \"\n",
    "\n",
    "text_train, text_val, text_test = get_unicode_text('token_tekst', train, validation, test, token_pattern)\n",
    "predict_allegro = text_clf.predict_proba(text_val)\n",
    "\n",
    "predict_allegro_df = pd.DataFrame({'text': validation['text_org'], 'rating':  validation['rating'],'negative': predict_allegro[:, 0],'positive': predict_allegro[:,1]})\n"
   ],
   "metadata": {
    "collapsed": false
   }
  },
  {
   "cell_type": "code",
   "execution_count": 26,
   "outputs": [
    {
     "data": {
      "application/vnd.plotly.v1+json": {
       "data": [
        {
         "alignmentgroup": "True",
         "bingroup": "x",
         "hovertemplate": "rating=2.0<br>positive=%{x}<br>count=%{y}<extra></extra>",
         "legendgroup": "2.0",
         "marker": {
          "color": "#EF553B",
          "pattern": {
           "shape": ""
          }
         },
         "name": "2.0",
         "offsetgroup": "2.0",
         "orientation": "v",
         "showlegend": true,
         "x": [
          0.010419641124190587,
          0.12031759669216596,
          0.6106260120619454,
          0.7938571496942907,
          0.6408536937634632,
          0.09920253047037077,
          0.2859172483647511,
          0.13078219567702962,
          0.44152355715672087,
          0.371044371537216,
          0.006160540554594356,
          0.07384238702731605,
          0.7676211802421599,
          0.3139376418792686,
          0.9841021637703212,
          0.004260187375416335,
          0.10623974619688499,
          0.030220500322241727,
          0.7706761605384159,
          0.5133172303130007,
          0.26598738814686684,
          0.06201933271721926,
          0.2743510301777332,
          0.03448815788330376,
          0.24611814656258024,
          0.41915877237000665,
          0.049393560738402516,
          0.891969056647163,
          0.052183473415210034,
          0.040899634067441036,
          0.916200529661336,
          0.3841737398288843,
          0.15778201048687945,
          0.11827853922592242,
          0.55153673303439,
          0.08720090961662558,
          0.4058957007265932,
          0.7195557432315118,
          0.23989721450162493,
          0.13738542014144506,
          0.28822449903772723,
          0.526628192743689,
          0.21974137075467404,
          0.6687393366521637,
          0.26498763646386503,
          0.10879747150814141,
          0.3612439708407918,
          0.024022272934543783,
          0.2524121416071139,
          0.027468968105352567,
          0.015410867133625418,
          0.08268152113025144,
          0.1388939131096017,
          0.045003439240011024,
          0.6303941490646182,
          0.39167171187082633,
          0.1587438475753836,
          0.6600158696957532,
          0.2190392831583643,
          0.4666607827163295,
          0.8843117551970516,
          0.9793973852166138,
          0.8970776216009212,
          6.337084551968604E-4,
          0.11000273587265622,
          0.028591262008204325,
          0.36064669291914225,
          0.022434641598544868,
          0.10135807210654942,
          0.8116644928566803,
          0.8381183921702233,
          0.008053505020232794,
          0.08104713788613964,
          0.005004453653727617,
          0.7477535004730962,
          0.02521429552403151,
          0.18956794174921057,
          0.04006598590729707,
          0.06109604428271032,
          4.896164124242223E-4,
          0.2292026522048713,
          0.0020006715565247277,
          0.8206755927662001,
          0.5509883089863796,
          0.11270704034918697,
          0.029418688766805996,
          0.4417022199796035,
          0.729205891597322,
          0.014674243733846083,
          0.03631991030496008,
          0.8871466504818947,
          0.19350635914339745,
          4.537445474361371E-4,
          0.08953563246090221,
          0.015533424826664564,
          5.589953542479746E-4,
          0.06105681285995264,
          1.234769706653212E-4,
          0.013006110793107201,
          0.8236975299251714,
          0.0013689158826231784,
          0.005996846575613727,
          0.006616064685410613,
          0.048944523107565516,
          0.15706180474359593,
          0.2439759575446514,
          0.0016835530598222218,
          0.00462246960281108,
          0.11645063636745522,
          0.287208125481372,
          0.19388567391728626,
          0.20706404972675743,
          0.006288697820413185,
          0.9323212386339388,
          0.0017395725877532415,
          0.13915949012213794,
          0.033592579203180845,
          0.006542561708260404
         ],
         "xaxis": "x",
         "yaxis": "y",
         "type": "histogram"
        },
        {
         "alignmentgroup": "True",
         "bingroup": "x",
         "hovertemplate": "rating=3.0<br>positive=%{x}<br>count=%{y}<extra></extra>",
         "legendgroup": "3.0",
         "marker": {
          "color": "#00cc96",
          "pattern": {
           "shape": ""
          }
         },
         "name": "3.0",
         "offsetgroup": "3.0",
         "orientation": "v",
         "showlegend": true,
         "x": [
          0.9259546754285378,
          0.22079149299339015,
          0.4198549186121793,
          0.8785767919547598,
          0.6405586652020311,
          0.9046075091818886,
          0.21163371651532353,
          0.9766485710131114,
          0.2617455584458029,
          0.7000991976708187,
          0.5590674234837956,
          0.30495853682439417,
          0.8426554089012747,
          0.8911306005346958,
          0.9829778389118051,
          0.8377362660227613,
          0.3031327110247972,
          0.003272432115914898,
          0.985651048766773,
          0.3713129325225346,
          0.8182363439297514,
          0.10922129174550707,
          0.19692781681604876,
          0.8992583357466086,
          0.9903412543179986,
          0.8313883239945122,
          0.8402840893471962,
          0.007526124035919808,
          0.09318253240203649,
          0.017656154102134287,
          0.6388659251842458,
          0.08591889618830766,
          0.011481980436140753,
          0.04460385696099009,
          0.9083199705832332,
          0.05076453769782722,
          0.9028095361073263,
          0.8181168288521113,
          0.021632799775089476,
          0.9697362245258226,
          0.1569938580176761,
          0.9191651487850652,
          0.44557822883463727,
          0.9784375090165088,
          0.0025892149132500657,
          0.5051226250664891,
          0.36525139144531404,
          0.6357404466080462,
          0.9469867946727538,
          0.5776632414734183,
          0.8421239409206641,
          0.003067770268698289,
          0.09635431455823655,
          0.768246417564,
          0.5084973886594254,
          0.014008432645194496,
          0.15198742366971413,
          0.006263541225877784,
          0.00949948321780507,
          0.1711079990809321,
          0.05650903922640342,
          0.5564949115507102,
          0.8697262252178125,
          0.4606559061108288,
          0.25795035753689427,
          0.7960423237067752,
          0.4855586632893664,
          0.03706380985726113,
          0.9560930209614633,
          0.1530332127855131,
          0.9391612148577261,
          0.5514808274814753,
          0.9316570026560306,
          0.08402245631737991,
          0.9549761062562686,
          0.009018894408638253,
          0.02787828989029321,
          0.6956625609454506,
          0.5269532000189728,
          0.9178188673108427,
          0.25196745315031027,
          0.17561370822087186,
          0.5392320075152673,
          0.9452064858368495,
          0.0710568155409238,
          0.7033493583040007,
          0.8115281919875815,
          0.7886030550011942,
          0.31007775313743136,
          0.0694258572177559,
          0.691660927017936,
          0.9973176586748678,
          0.01910404165364885,
          0.13897204536757485,
          0.8917480058771257,
          0.4856316260989535,
          0.07460313921334986,
          0.5199004283352999,
          0.9960564167219014,
          0.9511999556703296,
          0.05399604145164123,
          0.03944131447288789,
          0.4121005204898547,
          0.3137564288767303,
          0.31341237023069574,
          0.8936507684394925,
          0.4769922679010451,
          0.6582201333862981,
          0.94029415997863,
          0.01337369522930027,
          0.7300680882352841,
          0.8188665750338133,
          0.9420034554348514,
          0.6892226249515281,
          0.0737308961549803,
          0.3525862413956222,
          0.03748796248590292,
          0.9683354239665403,
          0.955261351598663,
          0.8966466968971935,
          0.5124300067937034,
          0.7402931480650875,
          0.9249022009194835,
          0.5648183343291943,
          0.9687122010076061,
          0.8243221126856213,
          0.5327849209101184,
          0.7952794968667696,
          0.06287483498598243,
          0.626366741994694,
          0.10464490635416315,
          0.8846243098339107,
          0.6537223754578598,
          0.8691669353405894,
          0.08542767045644126,
          0.8322809344315102,
          0.999999999716392,
          0.06003162991777969
         ],
         "xaxis": "x",
         "yaxis": "y",
         "type": "histogram"
        },
        {
         "alignmentgroup": "True",
         "bingroup": "x",
         "hovertemplate": "rating=4.0<br>positive=%{x}<br>count=%{y}<extra></extra>",
         "legendgroup": "4.0",
         "marker": {
          "color": "#ab63fa",
          "pattern": {
           "shape": ""
          }
         },
         "name": "4.0",
         "offsetgroup": "4.0",
         "orientation": "v",
         "showlegend": true,
         "x": [
          0.7580410680112939,
          0.6948205696173954,
          0.6058351279989226,
          0.9011862842870251,
          0.6140868217148299,
          0.4266395205419104,
          0.8225673523136727,
          0.9732098966938072,
          0.2656540524507375,
          0.9649855050559659,
          0.9899543517000705,
          0.8954912079526979,
          0.6778805701493277,
          0.9947831097141225,
          0.875577534245588,
          0.3788249906663532,
          0.7878669520882833,
          0.990417116822611,
          0.9748994747075609,
          0.9496026481563383,
          0.9940120921762536,
          0.9953847274804253,
          0.8677562581712512,
          0.9695415572990473,
          0.948750772637205,
          0.5670168024527357,
          0.9885542689618438,
          0.7705167520417414,
          0.9387861683082347,
          0.993852757250098,
          0.9358197158418763,
          0.95086537571306,
          0.84719002374273,
          0.9400673163178486,
          0.4356873917909813,
          0.9804754781410807,
          0.8960731338958681,
          0.9981417681706699,
          0.6075983632783166,
          0.9177043047701532,
          0.1765619763537604,
          0.999354924518448,
          0.9840408933723876,
          0.7742821372882697,
          0.9797020382358278,
          0.9121158351535208,
          0.7110740823245056,
          0.9716003313596363,
          0.8346869055134234,
          0.9962566479895566,
          0.9684212706025808,
          0.996291026273635,
          0.7870307679676345,
          0.31917857506142916,
          0.9596297849391926,
          0.9353696364371377,
          0.9994268114546565,
          0.9015863775987311,
          0.5075617106048932,
          0.9553963555978704,
          0.9692466270207121,
          0.7455874971505393,
          0.7304593060210962,
          0.9649570132956884,
          0.9946771798919442,
          0.9249815937247504,
          0.9995360592605228,
          0.8183717846229045,
          0.9445778406628953,
          0.949238360230968,
          0.4586327784426143,
          0.971975812812073,
          0.9909056874287002,
          0.5835646903810011,
          0.37299804353900495,
          0.843912379143008,
          0.9705856680400549,
          0.6831851497663409,
          0.9640792115118056,
          0.5259680900243814,
          0.9488396740018438,
          0.9886042928993822,
          0.9965640715832348,
          0.8504653173888962,
          0.8053785655332618,
          0.9962582936187363,
          0.6694485606711884,
          0.8607921387274378,
          0.4157633369525337,
          0.9833491523014323,
          0.9045552522629735,
          0.9971159025403391,
          0.4048094935955989,
          0.4048094935955989,
          0.37416574440443146,
          0.5092863422102498,
          0.8660445206119236,
          0.3663537095877091,
          0.29380877184891785,
          0.557106043103469,
          0.9964485212534945,
          0.434976818527702,
          0.938449504817773,
          0.8219347980683638,
          0.42588561331182034,
          0.9878796378330675,
          0.9208958111959911,
          0.9996913453564715,
          0.6960276699691066,
          0.3216470742754602,
          0.6273851215328057,
          0.9599121126507414,
          0.9010634164602778,
          0.6317836194562249,
          0.41985674285587293,
          0.9457849947409152,
          0.8243529771918792,
          0.9886565452073275,
          0.81328364929756,
          0.99316004862495,
          0.9507744587673034,
          0.9995454002151143,
          0.9689792416316206,
          0.7551553945931548,
          0.9987706725842928,
          0.9754691739204441,
          0.7615867613209552,
          0.9867464904062929,
          0.9447964502391184,
          0.19621876370876642,
          0.8203726629977379,
          0.9918652374782735,
          0.9633874932686429,
          0.9780447948015987,
          0.8800443440949262,
          0.9999410265094745,
          0.9868211774032716,
          0.9990966607214524,
          0.9025850053662144,
          0.4365636904458083,
          0.9997284776178936,
          0.9711358590888447,
          0.6636580543027106,
          0.823495826771596,
          0.8591634213025294,
          0.9626449575602571,
          0.42103028480284577,
          0.6591632137959524,
          0.6479998794891352,
          0.9961865139915765,
          0.9604249949543301,
          0.92806393018109,
          0.9946772898330218,
          0.9996696945277291,
          0.9651577152313254,
          0.9458912698198557,
          0.8352142364967639,
          0.41076160453836774,
          0.30906233766646524,
          0.9988555222438703,
          0.8685686806327073,
          0.8996849509233081,
          0.9998896970126889,
          0.9618189306879898,
          0.5677198568340915,
          0.825432440671636,
          0.6875506321361036,
          0.9845284746113918,
          0.3179175607773865,
          0.798050626967478,
          0.2695263566349076,
          0.7952794968667696,
          0.9977528842453409,
          0.7952794968667696,
          0.9918215613628346,
          0.9911286522540125,
          0.7612110775000513,
          0.9536917465913779,
          0.976187831867092,
          0.9617382847307445,
          0.9848340587225085,
          0.999999999716392,
          0.8053589534721284,
          0.9499008113161509,
          0.1883089648471384,
          0.667418706233353,
          0.03897749896117243,
          0.9855967450301177,
          0.8724285575543342,
          0.9651705636893962,
          0.7952794968667696,
          0.7952794968667696,
          0.9988694426100024,
          0.9997251670832704,
          0.4951183977604142,
          0.9980327977553145,
          0.7948969439752307,
          0.974312234677888,
          0.6815051206425292,
          0.7973469136925897,
          0.9756186439860269
         ],
         "xaxis": "x",
         "yaxis": "y",
         "type": "histogram"
        }
       ],
       "layout": {
        "template": {
         "data": {
          "histogram2dcontour": [
           {
            "type": "histogram2dcontour",
            "colorbar": {
             "outlinewidth": 0,
             "ticks": ""
            },
            "colorscale": [
             [
              0.0,
              "#0d0887"
             ],
             [
              0.1111111111111111,
              "#46039f"
             ],
             [
              0.2222222222222222,
              "#7201a8"
             ],
             [
              0.3333333333333333,
              "#9c179e"
             ],
             [
              0.4444444444444444,
              "#bd3786"
             ],
             [
              0.5555555555555556,
              "#d8576b"
             ],
             [
              0.6666666666666666,
              "#ed7953"
             ],
             [
              0.7777777777777778,
              "#fb9f3a"
             ],
             [
              0.8888888888888888,
              "#fdca26"
             ],
             [
              1.0,
              "#f0f921"
             ]
            ]
           }
          ],
          "choropleth": [
           {
            "type": "choropleth",
            "colorbar": {
             "outlinewidth": 0,
             "ticks": ""
            }
           }
          ],
          "histogram2d": [
           {
            "type": "histogram2d",
            "colorbar": {
             "outlinewidth": 0,
             "ticks": ""
            },
            "colorscale": [
             [
              0.0,
              "#0d0887"
             ],
             [
              0.1111111111111111,
              "#46039f"
             ],
             [
              0.2222222222222222,
              "#7201a8"
             ],
             [
              0.3333333333333333,
              "#9c179e"
             ],
             [
              0.4444444444444444,
              "#bd3786"
             ],
             [
              0.5555555555555556,
              "#d8576b"
             ],
             [
              0.6666666666666666,
              "#ed7953"
             ],
             [
              0.7777777777777778,
              "#fb9f3a"
             ],
             [
              0.8888888888888888,
              "#fdca26"
             ],
             [
              1.0,
              "#f0f921"
             ]
            ]
           }
          ],
          "heatmap": [
           {
            "type": "heatmap",
            "colorbar": {
             "outlinewidth": 0,
             "ticks": ""
            },
            "colorscale": [
             [
              0.0,
              "#0d0887"
             ],
             [
              0.1111111111111111,
              "#46039f"
             ],
             [
              0.2222222222222222,
              "#7201a8"
             ],
             [
              0.3333333333333333,
              "#9c179e"
             ],
             [
              0.4444444444444444,
              "#bd3786"
             ],
             [
              0.5555555555555556,
              "#d8576b"
             ],
             [
              0.6666666666666666,
              "#ed7953"
             ],
             [
              0.7777777777777778,
              "#fb9f3a"
             ],
             [
              0.8888888888888888,
              "#fdca26"
             ],
             [
              1.0,
              "#f0f921"
             ]
            ]
           }
          ],
          "heatmapgl": [
           {
            "type": "heatmapgl",
            "colorbar": {
             "outlinewidth": 0,
             "ticks": ""
            },
            "colorscale": [
             [
              0.0,
              "#0d0887"
             ],
             [
              0.1111111111111111,
              "#46039f"
             ],
             [
              0.2222222222222222,
              "#7201a8"
             ],
             [
              0.3333333333333333,
              "#9c179e"
             ],
             [
              0.4444444444444444,
              "#bd3786"
             ],
             [
              0.5555555555555556,
              "#d8576b"
             ],
             [
              0.6666666666666666,
              "#ed7953"
             ],
             [
              0.7777777777777778,
              "#fb9f3a"
             ],
             [
              0.8888888888888888,
              "#fdca26"
             ],
             [
              1.0,
              "#f0f921"
             ]
            ]
           }
          ],
          "contourcarpet": [
           {
            "type": "contourcarpet",
            "colorbar": {
             "outlinewidth": 0,
             "ticks": ""
            }
           }
          ],
          "contour": [
           {
            "type": "contour",
            "colorbar": {
             "outlinewidth": 0,
             "ticks": ""
            },
            "colorscale": [
             [
              0.0,
              "#0d0887"
             ],
             [
              0.1111111111111111,
              "#46039f"
             ],
             [
              0.2222222222222222,
              "#7201a8"
             ],
             [
              0.3333333333333333,
              "#9c179e"
             ],
             [
              0.4444444444444444,
              "#bd3786"
             ],
             [
              0.5555555555555556,
              "#d8576b"
             ],
             [
              0.6666666666666666,
              "#ed7953"
             ],
             [
              0.7777777777777778,
              "#fb9f3a"
             ],
             [
              0.8888888888888888,
              "#fdca26"
             ],
             [
              1.0,
              "#f0f921"
             ]
            ]
           }
          ],
          "surface": [
           {
            "type": "surface",
            "colorbar": {
             "outlinewidth": 0,
             "ticks": ""
            },
            "colorscale": [
             [
              0.0,
              "#0d0887"
             ],
             [
              0.1111111111111111,
              "#46039f"
             ],
             [
              0.2222222222222222,
              "#7201a8"
             ],
             [
              0.3333333333333333,
              "#9c179e"
             ],
             [
              0.4444444444444444,
              "#bd3786"
             ],
             [
              0.5555555555555556,
              "#d8576b"
             ],
             [
              0.6666666666666666,
              "#ed7953"
             ],
             [
              0.7777777777777778,
              "#fb9f3a"
             ],
             [
              0.8888888888888888,
              "#fdca26"
             ],
             [
              1.0,
              "#f0f921"
             ]
            ]
           }
          ],
          "mesh3d": [
           {
            "type": "mesh3d",
            "colorbar": {
             "outlinewidth": 0,
             "ticks": ""
            }
           }
          ],
          "scatter": [
           {
            "marker": {
             "line": {
              "color": "#283442"
             }
            },
            "type": "scatter"
           }
          ],
          "parcoords": [
           {
            "type": "parcoords",
            "line": {
             "colorbar": {
              "outlinewidth": 0,
              "ticks": ""
             }
            }
           }
          ],
          "scatterpolargl": [
           {
            "type": "scatterpolargl",
            "marker": {
             "colorbar": {
              "outlinewidth": 0,
              "ticks": ""
             }
            }
           }
          ],
          "bar": [
           {
            "error_x": {
             "color": "#f2f5fa"
            },
            "error_y": {
             "color": "#f2f5fa"
            },
            "marker": {
             "line": {
              "color": "rgb(17,17,17)",
              "width": 0.5
             },
             "pattern": {
              "fillmode": "overlay",
              "size": 10,
              "solidity": 0.2
             }
            },
            "type": "bar"
           }
          ],
          "scattergeo": [
           {
            "type": "scattergeo",
            "marker": {
             "colorbar": {
              "outlinewidth": 0,
              "ticks": ""
             }
            }
           }
          ],
          "scatterpolar": [
           {
            "type": "scatterpolar",
            "marker": {
             "colorbar": {
              "outlinewidth": 0,
              "ticks": ""
             }
            }
           }
          ],
          "histogram": [
           {
            "marker": {
             "pattern": {
              "fillmode": "overlay",
              "size": 10,
              "solidity": 0.2
             }
            },
            "type": "histogram"
           }
          ],
          "scattergl": [
           {
            "marker": {
             "line": {
              "color": "#283442"
             }
            },
            "type": "scattergl"
           }
          ],
          "scatter3d": [
           {
            "type": "scatter3d",
            "line": {
             "colorbar": {
              "outlinewidth": 0,
              "ticks": ""
             }
            },
            "marker": {
             "colorbar": {
              "outlinewidth": 0,
              "ticks": ""
             }
            }
           }
          ],
          "scattermapbox": [
           {
            "type": "scattermapbox",
            "marker": {
             "colorbar": {
              "outlinewidth": 0,
              "ticks": ""
             }
            }
           }
          ],
          "scatterternary": [
           {
            "type": "scatterternary",
            "marker": {
             "colorbar": {
              "outlinewidth": 0,
              "ticks": ""
             }
            }
           }
          ],
          "scattercarpet": [
           {
            "type": "scattercarpet",
            "marker": {
             "colorbar": {
              "outlinewidth": 0,
              "ticks": ""
             }
            }
           }
          ],
          "carpet": [
           {
            "aaxis": {
             "endlinecolor": "#A2B1C6",
             "gridcolor": "#506784",
             "linecolor": "#506784",
             "minorgridcolor": "#506784",
             "startlinecolor": "#A2B1C6"
            },
            "baxis": {
             "endlinecolor": "#A2B1C6",
             "gridcolor": "#506784",
             "linecolor": "#506784",
             "minorgridcolor": "#506784",
             "startlinecolor": "#A2B1C6"
            },
            "type": "carpet"
           }
          ],
          "table": [
           {
            "cells": {
             "fill": {
              "color": "#506784"
             },
             "line": {
              "color": "rgb(17,17,17)"
             }
            },
            "header": {
             "fill": {
              "color": "#2a3f5f"
             },
             "line": {
              "color": "rgb(17,17,17)"
             }
            },
            "type": "table"
           }
          ],
          "barpolar": [
           {
            "marker": {
             "line": {
              "color": "rgb(17,17,17)",
              "width": 0.5
             },
             "pattern": {
              "fillmode": "overlay",
              "size": 10,
              "solidity": 0.2
             }
            },
            "type": "barpolar"
           }
          ],
          "pie": [
           {
            "automargin": true,
            "type": "pie"
           }
          ]
         },
         "layout": {
          "autotypenumbers": "strict",
          "colorway": [
           "#636efa",
           "#EF553B",
           "#00cc96",
           "#ab63fa",
           "#FFA15A",
           "#19d3f3",
           "#FF6692",
           "#B6E880",
           "#FF97FF",
           "#FECB52"
          ],
          "font": {
           "color": "#f2f5fa"
          },
          "hovermode": "closest",
          "hoverlabel": {
           "align": "left"
          },
          "paper_bgcolor": "rgb(17,17,17)",
          "plot_bgcolor": "rgb(17,17,17)",
          "polar": {
           "bgcolor": "rgb(17,17,17)",
           "angularaxis": {
            "gridcolor": "#506784",
            "linecolor": "#506784",
            "ticks": ""
           },
           "radialaxis": {
            "gridcolor": "#506784",
            "linecolor": "#506784",
            "ticks": ""
           }
          },
          "ternary": {
           "bgcolor": "rgb(17,17,17)",
           "aaxis": {
            "gridcolor": "#506784",
            "linecolor": "#506784",
            "ticks": ""
           },
           "baxis": {
            "gridcolor": "#506784",
            "linecolor": "#506784",
            "ticks": ""
           },
           "caxis": {
            "gridcolor": "#506784",
            "linecolor": "#506784",
            "ticks": ""
           }
          },
          "coloraxis": {
           "colorbar": {
            "outlinewidth": 0,
            "ticks": ""
           }
          },
          "colorscale": {
           "sequential": [
            [
             0.0,
             "#0d0887"
            ],
            [
             0.1111111111111111,
             "#46039f"
            ],
            [
             0.2222222222222222,
             "#7201a8"
            ],
            [
             0.3333333333333333,
             "#9c179e"
            ],
            [
             0.4444444444444444,
             "#bd3786"
            ],
            [
             0.5555555555555556,
             "#d8576b"
            ],
            [
             0.6666666666666666,
             "#ed7953"
            ],
            [
             0.7777777777777778,
             "#fb9f3a"
            ],
            [
             0.8888888888888888,
             "#fdca26"
            ],
            [
             1.0,
             "#f0f921"
            ]
           ],
           "sequentialminus": [
            [
             0.0,
             "#0d0887"
            ],
            [
             0.1111111111111111,
             "#46039f"
            ],
            [
             0.2222222222222222,
             "#7201a8"
            ],
            [
             0.3333333333333333,
             "#9c179e"
            ],
            [
             0.4444444444444444,
             "#bd3786"
            ],
            [
             0.5555555555555556,
             "#d8576b"
            ],
            [
             0.6666666666666666,
             "#ed7953"
            ],
            [
             0.7777777777777778,
             "#fb9f3a"
            ],
            [
             0.8888888888888888,
             "#fdca26"
            ],
            [
             1.0,
             "#f0f921"
            ]
           ],
           "diverging": [
            [
             0,
             "#8e0152"
            ],
            [
             0.1,
             "#c51b7d"
            ],
            [
             0.2,
             "#de77ae"
            ],
            [
             0.3,
             "#f1b6da"
            ],
            [
             0.4,
             "#fde0ef"
            ],
            [
             0.5,
             "#f7f7f7"
            ],
            [
             0.6,
             "#e6f5d0"
            ],
            [
             0.7,
             "#b8e186"
            ],
            [
             0.8,
             "#7fbc41"
            ],
            [
             0.9,
             "#4d9221"
            ],
            [
             1,
             "#276419"
            ]
           ]
          },
          "xaxis": {
           "gridcolor": "#283442",
           "linecolor": "#506784",
           "ticks": "",
           "title": {
            "standoff": 15
           },
           "zerolinecolor": "#283442",
           "automargin": true,
           "zerolinewidth": 2
          },
          "yaxis": {
           "gridcolor": "#283442",
           "linecolor": "#506784",
           "ticks": "",
           "title": {
            "standoff": 15
           },
           "zerolinecolor": "#283442",
           "automargin": true,
           "zerolinewidth": 2
          },
          "scene": {
           "xaxis": {
            "backgroundcolor": "rgb(17,17,17)",
            "gridcolor": "#506784",
            "linecolor": "#506784",
            "showbackground": true,
            "ticks": "",
            "zerolinecolor": "#C8D4E3",
            "gridwidth": 2
           },
           "yaxis": {
            "backgroundcolor": "rgb(17,17,17)",
            "gridcolor": "#506784",
            "linecolor": "#506784",
            "showbackground": true,
            "ticks": "",
            "zerolinecolor": "#C8D4E3",
            "gridwidth": 2
           },
           "zaxis": {
            "backgroundcolor": "rgb(17,17,17)",
            "gridcolor": "#506784",
            "linecolor": "#506784",
            "showbackground": true,
            "ticks": "",
            "zerolinecolor": "#C8D4E3",
            "gridwidth": 2
           }
          },
          "shapedefaults": {
           "line": {
            "color": "#f2f5fa"
           }
          },
          "annotationdefaults": {
           "arrowcolor": "#f2f5fa",
           "arrowhead": 0,
           "arrowwidth": 1
          },
          "geo": {
           "bgcolor": "rgb(17,17,17)",
           "landcolor": "rgb(17,17,17)",
           "subunitcolor": "#506784",
           "showland": true,
           "showlakes": true,
           "lakecolor": "rgb(17,17,17)"
          },
          "title": {
           "x": 0.05
          },
          "updatemenudefaults": {
           "bgcolor": "#506784",
           "borderwidth": 0
          },
          "sliderdefaults": {
           "bgcolor": "#C8D4E3",
           "borderwidth": 1,
           "bordercolor": "rgb(17,17,17)",
           "tickwidth": 0
          },
          "mapbox": {
           "style": "dark"
          }
         }
        },
        "xaxis": {
         "anchor": "y",
         "domain": [
          0.0,
          1.0
         ],
         "title": {
          "text": "positive"
         }
        },
        "yaxis": {
         "anchor": "x",
         "domain": [
          0.0,
          1.0
         ],
         "title": {
          "text": "count"
         }
        },
        "legend": {
         "title": {
          "text": "rating"
         },
         "tracegroupgap": 0
        },
        "title": {
         "text": "allegro review"
        },
        "barmode": "relative"
       },
       "config": {
        "plotlyServerURL": "https://plot.ly"
       }
      },
      "text/html": "<div>                            <div id=\"0df69986-a166-419d-9a56-1cd677c8ee0d\" class=\"plotly-graph-div\" style=\"height:525px; width:100%;\"></div>            <script type=\"text/javascript\">                require([\"plotly\"], function(Plotly) {                    window.PLOTLYENV=window.PLOTLYENV || {};                                    if (document.getElementById(\"0df69986-a166-419d-9a56-1cd677c8ee0d\")) {                    Plotly.newPlot(                        \"0df69986-a166-419d-9a56-1cd677c8ee0d\",                        [{\"alignmentgroup\":\"True\",\"bingroup\":\"x\",\"hovertemplate\":\"rating=2.0<br>positive=%{x}<br>count=%{y}<extra></extra>\",\"legendgroup\":\"2.0\",\"marker\":{\"color\":\"#EF553B\",\"pattern\":{\"shape\":\"\"}},\"name\":\"2.0\",\"offsetgroup\":\"2.0\",\"orientation\":\"v\",\"showlegend\":true,\"x\":[0.010419641124190587,0.12031759669216596,0.6106260120619454,0.7938571496942907,0.6408536937634632,0.09920253047037077,0.2859172483647511,0.13078219567702962,0.44152355715672087,0.371044371537216,0.006160540554594356,0.07384238702731605,0.7676211802421599,0.3139376418792686,0.9841021637703212,0.004260187375416335,0.10623974619688499,0.030220500322241727,0.7706761605384159,0.5133172303130007,0.26598738814686684,0.06201933271721926,0.2743510301777332,0.03448815788330376,0.24611814656258024,0.41915877237000665,0.049393560738402516,0.891969056647163,0.052183473415210034,0.040899634067441036,0.916200529661336,0.3841737398288843,0.15778201048687945,0.11827853922592242,0.55153673303439,0.08720090961662558,0.4058957007265932,0.7195557432315118,0.23989721450162493,0.13738542014144506,0.28822449903772723,0.526628192743689,0.21974137075467404,0.6687393366521637,0.26498763646386503,0.10879747150814141,0.3612439708407918,0.024022272934543783,0.2524121416071139,0.027468968105352567,0.015410867133625418,0.08268152113025144,0.1388939131096017,0.045003439240011024,0.6303941490646182,0.39167171187082633,0.1587438475753836,0.6600158696957532,0.2190392831583643,0.4666607827163295,0.8843117551970516,0.9793973852166138,0.8970776216009212,0.0006337084551968604,0.11000273587265622,0.028591262008204325,0.36064669291914225,0.022434641598544868,0.10135807210654942,0.8116644928566803,0.8381183921702233,0.008053505020232794,0.08104713788613964,0.005004453653727617,0.7477535004730962,0.02521429552403151,0.18956794174921057,0.04006598590729707,0.06109604428271032,0.0004896164124242223,0.2292026522048713,0.0020006715565247277,0.8206755927662001,0.5509883089863796,0.11270704034918697,0.029418688766805996,0.4417022199796035,0.729205891597322,0.014674243733846083,0.03631991030496008,0.8871466504818947,0.19350635914339745,0.0004537445474361371,0.08953563246090221,0.015533424826664564,0.0005589953542479746,0.06105681285995264,0.0001234769706653212,0.013006110793107201,0.8236975299251714,0.0013689158826231784,0.005996846575613727,0.006616064685410613,0.048944523107565516,0.15706180474359593,0.2439759575446514,0.0016835530598222218,0.00462246960281108,0.11645063636745522,0.287208125481372,0.19388567391728626,0.20706404972675743,0.006288697820413185,0.9323212386339388,0.0017395725877532415,0.13915949012213794,0.033592579203180845,0.006542561708260404],\"xaxis\":\"x\",\"yaxis\":\"y\",\"type\":\"histogram\"},{\"alignmentgroup\":\"True\",\"bingroup\":\"x\",\"hovertemplate\":\"rating=3.0<br>positive=%{x}<br>count=%{y}<extra></extra>\",\"legendgroup\":\"3.0\",\"marker\":{\"color\":\"#00cc96\",\"pattern\":{\"shape\":\"\"}},\"name\":\"3.0\",\"offsetgroup\":\"3.0\",\"orientation\":\"v\",\"showlegend\":true,\"x\":[0.9259546754285378,0.22079149299339015,0.4198549186121793,0.8785767919547598,0.6405586652020311,0.9046075091818886,0.21163371651532353,0.9766485710131114,0.2617455584458029,0.7000991976708187,0.5590674234837956,0.30495853682439417,0.8426554089012747,0.8911306005346958,0.9829778389118051,0.8377362660227613,0.3031327110247972,0.003272432115914898,0.985651048766773,0.3713129325225346,0.8182363439297514,0.10922129174550707,0.19692781681604876,0.8992583357466086,0.9903412543179986,0.8313883239945122,0.8402840893471962,0.007526124035919808,0.09318253240203649,0.017656154102134287,0.6388659251842458,0.08591889618830766,0.011481980436140753,0.04460385696099009,0.9083199705832332,0.05076453769782722,0.9028095361073263,0.8181168288521113,0.021632799775089476,0.9697362245258226,0.1569938580176761,0.9191651487850652,0.44557822883463727,0.9784375090165088,0.0025892149132500657,0.5051226250664891,0.36525139144531404,0.6357404466080462,0.9469867946727538,0.5776632414734183,0.8421239409206641,0.003067770268698289,0.09635431455823655,0.768246417564,0.5084973886594254,0.014008432645194496,0.15198742366971413,0.006263541225877784,0.00949948321780507,0.1711079990809321,0.05650903922640342,0.5564949115507102,0.8697262252178125,0.4606559061108288,0.25795035753689427,0.7960423237067752,0.4855586632893664,0.03706380985726113,0.9560930209614633,0.1530332127855131,0.9391612148577261,0.5514808274814753,0.9316570026560306,0.08402245631737991,0.9549761062562686,0.009018894408638253,0.02787828989029321,0.6956625609454506,0.5269532000189728,0.9178188673108427,0.25196745315031027,0.17561370822087186,0.5392320075152673,0.9452064858368495,0.0710568155409238,0.7033493583040007,0.8115281919875815,0.7886030550011942,0.31007775313743136,0.0694258572177559,0.691660927017936,0.9973176586748678,0.01910404165364885,0.13897204536757485,0.8917480058771257,0.4856316260989535,0.07460313921334986,0.5199004283352999,0.9960564167219014,0.9511999556703296,0.05399604145164123,0.03944131447288789,0.4121005204898547,0.3137564288767303,0.31341237023069574,0.8936507684394925,0.4769922679010451,0.6582201333862981,0.94029415997863,0.01337369522930027,0.7300680882352841,0.8188665750338133,0.9420034554348514,0.6892226249515281,0.0737308961549803,0.3525862413956222,0.03748796248590292,0.9683354239665403,0.955261351598663,0.8966466968971935,0.5124300067937034,0.7402931480650875,0.9249022009194835,0.5648183343291943,0.9687122010076061,0.8243221126856213,0.5327849209101184,0.7952794968667696,0.06287483498598243,0.626366741994694,0.10464490635416315,0.8846243098339107,0.6537223754578598,0.8691669353405894,0.08542767045644126,0.8322809344315102,0.999999999716392,0.06003162991777969],\"xaxis\":\"x\",\"yaxis\":\"y\",\"type\":\"histogram\"},{\"alignmentgroup\":\"True\",\"bingroup\":\"x\",\"hovertemplate\":\"rating=4.0<br>positive=%{x}<br>count=%{y}<extra></extra>\",\"legendgroup\":\"4.0\",\"marker\":{\"color\":\"#ab63fa\",\"pattern\":{\"shape\":\"\"}},\"name\":\"4.0\",\"offsetgroup\":\"4.0\",\"orientation\":\"v\",\"showlegend\":true,\"x\":[0.7580410680112939,0.6948205696173954,0.6058351279989226,0.9011862842870251,0.6140868217148299,0.4266395205419104,0.8225673523136727,0.9732098966938072,0.2656540524507375,0.9649855050559659,0.9899543517000705,0.8954912079526979,0.6778805701493277,0.9947831097141225,0.875577534245588,0.3788249906663532,0.7878669520882833,0.990417116822611,0.9748994747075609,0.9496026481563383,0.9940120921762536,0.9953847274804253,0.8677562581712512,0.9695415572990473,0.948750772637205,0.5670168024527357,0.9885542689618438,0.7705167520417414,0.9387861683082347,0.993852757250098,0.9358197158418763,0.95086537571306,0.84719002374273,0.9400673163178486,0.4356873917909813,0.9804754781410807,0.8960731338958681,0.9981417681706699,0.6075983632783166,0.9177043047701532,0.1765619763537604,0.999354924518448,0.9840408933723876,0.7742821372882697,0.9797020382358278,0.9121158351535208,0.7110740823245056,0.9716003313596363,0.8346869055134234,0.9962566479895566,0.9684212706025808,0.996291026273635,0.7870307679676345,0.31917857506142916,0.9596297849391926,0.9353696364371377,0.9994268114546565,0.9015863775987311,0.5075617106048932,0.9553963555978704,0.9692466270207121,0.7455874971505393,0.7304593060210962,0.9649570132956884,0.9946771798919442,0.9249815937247504,0.9995360592605228,0.8183717846229045,0.9445778406628953,0.949238360230968,0.4586327784426143,0.971975812812073,0.9909056874287002,0.5835646903810011,0.37299804353900495,0.843912379143008,0.9705856680400549,0.6831851497663409,0.9640792115118056,0.5259680900243814,0.9488396740018438,0.9886042928993822,0.9965640715832348,0.8504653173888962,0.8053785655332618,0.9962582936187363,0.6694485606711884,0.8607921387274378,0.4157633369525337,0.9833491523014323,0.9045552522629735,0.9971159025403391,0.4048094935955989,0.4048094935955989,0.37416574440443146,0.5092863422102498,0.8660445206119236,0.3663537095877091,0.29380877184891785,0.557106043103469,0.9964485212534945,0.434976818527702,0.938449504817773,0.8219347980683638,0.42588561331182034,0.9878796378330675,0.9208958111959911,0.9996913453564715,0.6960276699691066,0.3216470742754602,0.6273851215328057,0.9599121126507414,0.9010634164602778,0.6317836194562249,0.41985674285587293,0.9457849947409152,0.8243529771918792,0.9886565452073275,0.81328364929756,0.99316004862495,0.9507744587673034,0.9995454002151143,0.9689792416316206,0.7551553945931548,0.9987706725842928,0.9754691739204441,0.7615867613209552,0.9867464904062929,0.9447964502391184,0.19621876370876642,0.8203726629977379,0.9918652374782735,0.9633874932686429,0.9780447948015987,0.8800443440949262,0.9999410265094745,0.9868211774032716,0.9990966607214524,0.9025850053662144,0.4365636904458083,0.9997284776178936,0.9711358590888447,0.6636580543027106,0.823495826771596,0.8591634213025294,0.9626449575602571,0.42103028480284577,0.6591632137959524,0.6479998794891352,0.9961865139915765,0.9604249949543301,0.92806393018109,0.9946772898330218,0.9996696945277291,0.9651577152313254,0.9458912698198557,0.8352142364967639,0.41076160453836774,0.30906233766646524,0.9988555222438703,0.8685686806327073,0.8996849509233081,0.9998896970126889,0.9618189306879898,0.5677198568340915,0.825432440671636,0.6875506321361036,0.9845284746113918,0.3179175607773865,0.798050626967478,0.2695263566349076,0.7952794968667696,0.9977528842453409,0.7952794968667696,0.9918215613628346,0.9911286522540125,0.7612110775000513,0.9536917465913779,0.976187831867092,0.9617382847307445,0.9848340587225085,0.999999999716392,0.8053589534721284,0.9499008113161509,0.1883089648471384,0.667418706233353,0.03897749896117243,0.9855967450301177,0.8724285575543342,0.9651705636893962,0.7952794968667696,0.7952794968667696,0.9988694426100024,0.9997251670832704,0.4951183977604142,0.9980327977553145,0.7948969439752307,0.974312234677888,0.6815051206425292,0.7973469136925897,0.9756186439860269],\"xaxis\":\"x\",\"yaxis\":\"y\",\"type\":\"histogram\"}],                        {\"template\":{\"data\":{\"histogram2dcontour\":[{\"type\":\"histogram2dcontour\",\"colorbar\":{\"outlinewidth\":0,\"ticks\":\"\"},\"colorscale\":[[0.0,\"#0d0887\"],[0.1111111111111111,\"#46039f\"],[0.2222222222222222,\"#7201a8\"],[0.3333333333333333,\"#9c179e\"],[0.4444444444444444,\"#bd3786\"],[0.5555555555555556,\"#d8576b\"],[0.6666666666666666,\"#ed7953\"],[0.7777777777777778,\"#fb9f3a\"],[0.8888888888888888,\"#fdca26\"],[1.0,\"#f0f921\"]]}],\"choropleth\":[{\"type\":\"choropleth\",\"colorbar\":{\"outlinewidth\":0,\"ticks\":\"\"}}],\"histogram2d\":[{\"type\":\"histogram2d\",\"colorbar\":{\"outlinewidth\":0,\"ticks\":\"\"},\"colorscale\":[[0.0,\"#0d0887\"],[0.1111111111111111,\"#46039f\"],[0.2222222222222222,\"#7201a8\"],[0.3333333333333333,\"#9c179e\"],[0.4444444444444444,\"#bd3786\"],[0.5555555555555556,\"#d8576b\"],[0.6666666666666666,\"#ed7953\"],[0.7777777777777778,\"#fb9f3a\"],[0.8888888888888888,\"#fdca26\"],[1.0,\"#f0f921\"]]}],\"heatmap\":[{\"type\":\"heatmap\",\"colorbar\":{\"outlinewidth\":0,\"ticks\":\"\"},\"colorscale\":[[0.0,\"#0d0887\"],[0.1111111111111111,\"#46039f\"],[0.2222222222222222,\"#7201a8\"],[0.3333333333333333,\"#9c179e\"],[0.4444444444444444,\"#bd3786\"],[0.5555555555555556,\"#d8576b\"],[0.6666666666666666,\"#ed7953\"],[0.7777777777777778,\"#fb9f3a\"],[0.8888888888888888,\"#fdca26\"],[1.0,\"#f0f921\"]]}],\"heatmapgl\":[{\"type\":\"heatmapgl\",\"colorbar\":{\"outlinewidth\":0,\"ticks\":\"\"},\"colorscale\":[[0.0,\"#0d0887\"],[0.1111111111111111,\"#46039f\"],[0.2222222222222222,\"#7201a8\"],[0.3333333333333333,\"#9c179e\"],[0.4444444444444444,\"#bd3786\"],[0.5555555555555556,\"#d8576b\"],[0.6666666666666666,\"#ed7953\"],[0.7777777777777778,\"#fb9f3a\"],[0.8888888888888888,\"#fdca26\"],[1.0,\"#f0f921\"]]}],\"contourcarpet\":[{\"type\":\"contourcarpet\",\"colorbar\":{\"outlinewidth\":0,\"ticks\":\"\"}}],\"contour\":[{\"type\":\"contour\",\"colorbar\":{\"outlinewidth\":0,\"ticks\":\"\"},\"colorscale\":[[0.0,\"#0d0887\"],[0.1111111111111111,\"#46039f\"],[0.2222222222222222,\"#7201a8\"],[0.3333333333333333,\"#9c179e\"],[0.4444444444444444,\"#bd3786\"],[0.5555555555555556,\"#d8576b\"],[0.6666666666666666,\"#ed7953\"],[0.7777777777777778,\"#fb9f3a\"],[0.8888888888888888,\"#fdca26\"],[1.0,\"#f0f921\"]]}],\"surface\":[{\"type\":\"surface\",\"colorbar\":{\"outlinewidth\":0,\"ticks\":\"\"},\"colorscale\":[[0.0,\"#0d0887\"],[0.1111111111111111,\"#46039f\"],[0.2222222222222222,\"#7201a8\"],[0.3333333333333333,\"#9c179e\"],[0.4444444444444444,\"#bd3786\"],[0.5555555555555556,\"#d8576b\"],[0.6666666666666666,\"#ed7953\"],[0.7777777777777778,\"#fb9f3a\"],[0.8888888888888888,\"#fdca26\"],[1.0,\"#f0f921\"]]}],\"mesh3d\":[{\"type\":\"mesh3d\",\"colorbar\":{\"outlinewidth\":0,\"ticks\":\"\"}}],\"scatter\":[{\"marker\":{\"line\":{\"color\":\"#283442\"}},\"type\":\"scatter\"}],\"parcoords\":[{\"type\":\"parcoords\",\"line\":{\"colorbar\":{\"outlinewidth\":0,\"ticks\":\"\"}}}],\"scatterpolargl\":[{\"type\":\"scatterpolargl\",\"marker\":{\"colorbar\":{\"outlinewidth\":0,\"ticks\":\"\"}}}],\"bar\":[{\"error_x\":{\"color\":\"#f2f5fa\"},\"error_y\":{\"color\":\"#f2f5fa\"},\"marker\":{\"line\":{\"color\":\"rgb(17,17,17)\",\"width\":0.5},\"pattern\":{\"fillmode\":\"overlay\",\"size\":10,\"solidity\":0.2}},\"type\":\"bar\"}],\"scattergeo\":[{\"type\":\"scattergeo\",\"marker\":{\"colorbar\":{\"outlinewidth\":0,\"ticks\":\"\"}}}],\"scatterpolar\":[{\"type\":\"scatterpolar\",\"marker\":{\"colorbar\":{\"outlinewidth\":0,\"ticks\":\"\"}}}],\"histogram\":[{\"marker\":{\"pattern\":{\"fillmode\":\"overlay\",\"size\":10,\"solidity\":0.2}},\"type\":\"histogram\"}],\"scattergl\":[{\"marker\":{\"line\":{\"color\":\"#283442\"}},\"type\":\"scattergl\"}],\"scatter3d\":[{\"type\":\"scatter3d\",\"line\":{\"colorbar\":{\"outlinewidth\":0,\"ticks\":\"\"}},\"marker\":{\"colorbar\":{\"outlinewidth\":0,\"ticks\":\"\"}}}],\"scattermapbox\":[{\"type\":\"scattermapbox\",\"marker\":{\"colorbar\":{\"outlinewidth\":0,\"ticks\":\"\"}}}],\"scatterternary\":[{\"type\":\"scatterternary\",\"marker\":{\"colorbar\":{\"outlinewidth\":0,\"ticks\":\"\"}}}],\"scattercarpet\":[{\"type\":\"scattercarpet\",\"marker\":{\"colorbar\":{\"outlinewidth\":0,\"ticks\":\"\"}}}],\"carpet\":[{\"aaxis\":{\"endlinecolor\":\"#A2B1C6\",\"gridcolor\":\"#506784\",\"linecolor\":\"#506784\",\"minorgridcolor\":\"#506784\",\"startlinecolor\":\"#A2B1C6\"},\"baxis\":{\"endlinecolor\":\"#A2B1C6\",\"gridcolor\":\"#506784\",\"linecolor\":\"#506784\",\"minorgridcolor\":\"#506784\",\"startlinecolor\":\"#A2B1C6\"},\"type\":\"carpet\"}],\"table\":[{\"cells\":{\"fill\":{\"color\":\"#506784\"},\"line\":{\"color\":\"rgb(17,17,17)\"}},\"header\":{\"fill\":{\"color\":\"#2a3f5f\"},\"line\":{\"color\":\"rgb(17,17,17)\"}},\"type\":\"table\"}],\"barpolar\":[{\"marker\":{\"line\":{\"color\":\"rgb(17,17,17)\",\"width\":0.5},\"pattern\":{\"fillmode\":\"overlay\",\"size\":10,\"solidity\":0.2}},\"type\":\"barpolar\"}],\"pie\":[{\"automargin\":true,\"type\":\"pie\"}]},\"layout\":{\"autotypenumbers\":\"strict\",\"colorway\":[\"#636efa\",\"#EF553B\",\"#00cc96\",\"#ab63fa\",\"#FFA15A\",\"#19d3f3\",\"#FF6692\",\"#B6E880\",\"#FF97FF\",\"#FECB52\"],\"font\":{\"color\":\"#f2f5fa\"},\"hovermode\":\"closest\",\"hoverlabel\":{\"align\":\"left\"},\"paper_bgcolor\":\"rgb(17,17,17)\",\"plot_bgcolor\":\"rgb(17,17,17)\",\"polar\":{\"bgcolor\":\"rgb(17,17,17)\",\"angularaxis\":{\"gridcolor\":\"#506784\",\"linecolor\":\"#506784\",\"ticks\":\"\"},\"radialaxis\":{\"gridcolor\":\"#506784\",\"linecolor\":\"#506784\",\"ticks\":\"\"}},\"ternary\":{\"bgcolor\":\"rgb(17,17,17)\",\"aaxis\":{\"gridcolor\":\"#506784\",\"linecolor\":\"#506784\",\"ticks\":\"\"},\"baxis\":{\"gridcolor\":\"#506784\",\"linecolor\":\"#506784\",\"ticks\":\"\"},\"caxis\":{\"gridcolor\":\"#506784\",\"linecolor\":\"#506784\",\"ticks\":\"\"}},\"coloraxis\":{\"colorbar\":{\"outlinewidth\":0,\"ticks\":\"\"}},\"colorscale\":{\"sequential\":[[0.0,\"#0d0887\"],[0.1111111111111111,\"#46039f\"],[0.2222222222222222,\"#7201a8\"],[0.3333333333333333,\"#9c179e\"],[0.4444444444444444,\"#bd3786\"],[0.5555555555555556,\"#d8576b\"],[0.6666666666666666,\"#ed7953\"],[0.7777777777777778,\"#fb9f3a\"],[0.8888888888888888,\"#fdca26\"],[1.0,\"#f0f921\"]],\"sequentialminus\":[[0.0,\"#0d0887\"],[0.1111111111111111,\"#46039f\"],[0.2222222222222222,\"#7201a8\"],[0.3333333333333333,\"#9c179e\"],[0.4444444444444444,\"#bd3786\"],[0.5555555555555556,\"#d8576b\"],[0.6666666666666666,\"#ed7953\"],[0.7777777777777778,\"#fb9f3a\"],[0.8888888888888888,\"#fdca26\"],[1.0,\"#f0f921\"]],\"diverging\":[[0,\"#8e0152\"],[0.1,\"#c51b7d\"],[0.2,\"#de77ae\"],[0.3,\"#f1b6da\"],[0.4,\"#fde0ef\"],[0.5,\"#f7f7f7\"],[0.6,\"#e6f5d0\"],[0.7,\"#b8e186\"],[0.8,\"#7fbc41\"],[0.9,\"#4d9221\"],[1,\"#276419\"]]},\"xaxis\":{\"gridcolor\":\"#283442\",\"linecolor\":\"#506784\",\"ticks\":\"\",\"title\":{\"standoff\":15},\"zerolinecolor\":\"#283442\",\"automargin\":true,\"zerolinewidth\":2},\"yaxis\":{\"gridcolor\":\"#283442\",\"linecolor\":\"#506784\",\"ticks\":\"\",\"title\":{\"standoff\":15},\"zerolinecolor\":\"#283442\",\"automargin\":true,\"zerolinewidth\":2},\"scene\":{\"xaxis\":{\"backgroundcolor\":\"rgb(17,17,17)\",\"gridcolor\":\"#506784\",\"linecolor\":\"#506784\",\"showbackground\":true,\"ticks\":\"\",\"zerolinecolor\":\"#C8D4E3\",\"gridwidth\":2},\"yaxis\":{\"backgroundcolor\":\"rgb(17,17,17)\",\"gridcolor\":\"#506784\",\"linecolor\":\"#506784\",\"showbackground\":true,\"ticks\":\"\",\"zerolinecolor\":\"#C8D4E3\",\"gridwidth\":2},\"zaxis\":{\"backgroundcolor\":\"rgb(17,17,17)\",\"gridcolor\":\"#506784\",\"linecolor\":\"#506784\",\"showbackground\":true,\"ticks\":\"\",\"zerolinecolor\":\"#C8D4E3\",\"gridwidth\":2}},\"shapedefaults\":{\"line\":{\"color\":\"#f2f5fa\"}},\"annotationdefaults\":{\"arrowcolor\":\"#f2f5fa\",\"arrowhead\":0,\"arrowwidth\":1},\"geo\":{\"bgcolor\":\"rgb(17,17,17)\",\"landcolor\":\"rgb(17,17,17)\",\"subunitcolor\":\"#506784\",\"showland\":true,\"showlakes\":true,\"lakecolor\":\"rgb(17,17,17)\"},\"title\":{\"x\":0.05},\"updatemenudefaults\":{\"bgcolor\":\"#506784\",\"borderwidth\":0},\"sliderdefaults\":{\"bgcolor\":\"#C8D4E3\",\"borderwidth\":1,\"bordercolor\":\"rgb(17,17,17)\",\"tickwidth\":0},\"mapbox\":{\"style\":\"dark\"}}},\"xaxis\":{\"anchor\":\"y\",\"domain\":[0.0,1.0],\"title\":{\"text\":\"positive\"}},\"yaxis\":{\"anchor\":\"x\",\"domain\":[0.0,1.0],\"title\":{\"text\":\"count\"}},\"legend\":{\"title\":{\"text\":\"rating\"},\"tracegroupgap\":0},\"title\":{\"text\":\"allegro review\"},\"barmode\":\"relative\"},                        {\"responsive\": true}                    ).then(function(){\n                            \nvar gd = document.getElementById('0df69986-a166-419d-9a56-1cd677c8ee0d');\nvar x = new MutationObserver(function (mutations, observer) {{\n        var display = window.getComputedStyle(gd).display;\n        if (!display || display === 'none') {{\n            console.log([gd, 'removed!']);\n            Plotly.purge(gd);\n            observer.disconnect();\n        }}\n}});\n\n// Listen for the removal of the full notebook cells\nvar notebookContainer = gd.closest('#notebook-container');\nif (notebookContainer) {{\n    x.observe(notebookContainer, {childList: true});\n}}\n\n// Listen for the clearing of the current output cell\nvar outputEl = gd.closest('.output');\nif (outputEl) {{\n    x.observe(outputEl, {childList: true});\n}}\n\n                        })                };                });            </script>        </div>"
     },
     "metadata": {},
     "output_type": "display_data"
    }
   ],
   "source": [
    "import plotly.express as px\n",
    "predict_allegro_df =predict_allegro_df[(predict_allegro_df['rating'] != 1 ) & ( predict_allegro_df['rating']!= 5)]\n",
    "\n",
    "fig = px.histogram(predict_allegro_df, x=\"positive\",color='rating',category_orders=dict(rating=list(range(1,6))),title='allegro review')\n",
    "# print(f\"percent of positive ambigous {( 100* sum(predict_allegro['positive'] > 0.5)/predict_allegro.shape[0]):.02f} %\")\n",
    "fig.show()\n"
   ],
   "metadata": {
    "collapsed": false
   }
  },
  {
   "cell_type": "code",
   "execution_count": 27,
   "outputs": [
    {
     "data": {
      "application/vnd.plotly.v1+json": {
       "data": [
        {
         "alignmentgroup": "True",
         "hovertemplate": "is_positive=False<br>rating=%{x}<br>percent=%{y}<extra></extra>",
         "legendgroup": "False",
         "marker": {
          "color": "#636efa",
          "pattern": {
           "shape": ""
          }
         },
         "name": "False",
         "offsetgroup": "False",
         "orientation": "v",
         "showlegend": true,
         "textposition": "auto",
         "x": [
          2.0,
          3.0,
          4.0
         ],
         "xaxis": "x",
         "y": [
          77.11864406779661,
          44.20289855072464,
          13.930348258706468
         ],
         "yaxis": "y",
         "type": "bar"
        },
        {
         "alignmentgroup": "True",
         "hovertemplate": "is_positive=True<br>rating=%{x}<br>percent=%{y}<extra></extra>",
         "legendgroup": "True",
         "marker": {
          "color": "#EF553B",
          "pattern": {
           "shape": ""
          }
         },
         "name": "True",
         "offsetgroup": "True",
         "orientation": "v",
         "showlegend": true,
         "textposition": "auto",
         "x": [
          2.0,
          3.0,
          4.0
         ],
         "xaxis": "x",
         "y": [
          22.88135593220339,
          55.79710144927536,
          86.06965174129353
         ],
         "yaxis": "y",
         "type": "bar"
        }
       ],
       "layout": {
        "template": {
         "data": {
          "histogram2dcontour": [
           {
            "type": "histogram2dcontour",
            "colorbar": {
             "outlinewidth": 0,
             "ticks": ""
            },
            "colorscale": [
             [
              0.0,
              "#0d0887"
             ],
             [
              0.1111111111111111,
              "#46039f"
             ],
             [
              0.2222222222222222,
              "#7201a8"
             ],
             [
              0.3333333333333333,
              "#9c179e"
             ],
             [
              0.4444444444444444,
              "#bd3786"
             ],
             [
              0.5555555555555556,
              "#d8576b"
             ],
             [
              0.6666666666666666,
              "#ed7953"
             ],
             [
              0.7777777777777778,
              "#fb9f3a"
             ],
             [
              0.8888888888888888,
              "#fdca26"
             ],
             [
              1.0,
              "#f0f921"
             ]
            ]
           }
          ],
          "choropleth": [
           {
            "type": "choropleth",
            "colorbar": {
             "outlinewidth": 0,
             "ticks": ""
            }
           }
          ],
          "histogram2d": [
           {
            "type": "histogram2d",
            "colorbar": {
             "outlinewidth": 0,
             "ticks": ""
            },
            "colorscale": [
             [
              0.0,
              "#0d0887"
             ],
             [
              0.1111111111111111,
              "#46039f"
             ],
             [
              0.2222222222222222,
              "#7201a8"
             ],
             [
              0.3333333333333333,
              "#9c179e"
             ],
             [
              0.4444444444444444,
              "#bd3786"
             ],
             [
              0.5555555555555556,
              "#d8576b"
             ],
             [
              0.6666666666666666,
              "#ed7953"
             ],
             [
              0.7777777777777778,
              "#fb9f3a"
             ],
             [
              0.8888888888888888,
              "#fdca26"
             ],
             [
              1.0,
              "#f0f921"
             ]
            ]
           }
          ],
          "heatmap": [
           {
            "type": "heatmap",
            "colorbar": {
             "outlinewidth": 0,
             "ticks": ""
            },
            "colorscale": [
             [
              0.0,
              "#0d0887"
             ],
             [
              0.1111111111111111,
              "#46039f"
             ],
             [
              0.2222222222222222,
              "#7201a8"
             ],
             [
              0.3333333333333333,
              "#9c179e"
             ],
             [
              0.4444444444444444,
              "#bd3786"
             ],
             [
              0.5555555555555556,
              "#d8576b"
             ],
             [
              0.6666666666666666,
              "#ed7953"
             ],
             [
              0.7777777777777778,
              "#fb9f3a"
             ],
             [
              0.8888888888888888,
              "#fdca26"
             ],
             [
              1.0,
              "#f0f921"
             ]
            ]
           }
          ],
          "heatmapgl": [
           {
            "type": "heatmapgl",
            "colorbar": {
             "outlinewidth": 0,
             "ticks": ""
            },
            "colorscale": [
             [
              0.0,
              "#0d0887"
             ],
             [
              0.1111111111111111,
              "#46039f"
             ],
             [
              0.2222222222222222,
              "#7201a8"
             ],
             [
              0.3333333333333333,
              "#9c179e"
             ],
             [
              0.4444444444444444,
              "#bd3786"
             ],
             [
              0.5555555555555556,
              "#d8576b"
             ],
             [
              0.6666666666666666,
              "#ed7953"
             ],
             [
              0.7777777777777778,
              "#fb9f3a"
             ],
             [
              0.8888888888888888,
              "#fdca26"
             ],
             [
              1.0,
              "#f0f921"
             ]
            ]
           }
          ],
          "contourcarpet": [
           {
            "type": "contourcarpet",
            "colorbar": {
             "outlinewidth": 0,
             "ticks": ""
            }
           }
          ],
          "contour": [
           {
            "type": "contour",
            "colorbar": {
             "outlinewidth": 0,
             "ticks": ""
            },
            "colorscale": [
             [
              0.0,
              "#0d0887"
             ],
             [
              0.1111111111111111,
              "#46039f"
             ],
             [
              0.2222222222222222,
              "#7201a8"
             ],
             [
              0.3333333333333333,
              "#9c179e"
             ],
             [
              0.4444444444444444,
              "#bd3786"
             ],
             [
              0.5555555555555556,
              "#d8576b"
             ],
             [
              0.6666666666666666,
              "#ed7953"
             ],
             [
              0.7777777777777778,
              "#fb9f3a"
             ],
             [
              0.8888888888888888,
              "#fdca26"
             ],
             [
              1.0,
              "#f0f921"
             ]
            ]
           }
          ],
          "surface": [
           {
            "type": "surface",
            "colorbar": {
             "outlinewidth": 0,
             "ticks": ""
            },
            "colorscale": [
             [
              0.0,
              "#0d0887"
             ],
             [
              0.1111111111111111,
              "#46039f"
             ],
             [
              0.2222222222222222,
              "#7201a8"
             ],
             [
              0.3333333333333333,
              "#9c179e"
             ],
             [
              0.4444444444444444,
              "#bd3786"
             ],
             [
              0.5555555555555556,
              "#d8576b"
             ],
             [
              0.6666666666666666,
              "#ed7953"
             ],
             [
              0.7777777777777778,
              "#fb9f3a"
             ],
             [
              0.8888888888888888,
              "#fdca26"
             ],
             [
              1.0,
              "#f0f921"
             ]
            ]
           }
          ],
          "mesh3d": [
           {
            "type": "mesh3d",
            "colorbar": {
             "outlinewidth": 0,
             "ticks": ""
            }
           }
          ],
          "scatter": [
           {
            "marker": {
             "line": {
              "color": "#283442"
             }
            },
            "type": "scatter"
           }
          ],
          "parcoords": [
           {
            "type": "parcoords",
            "line": {
             "colorbar": {
              "outlinewidth": 0,
              "ticks": ""
             }
            }
           }
          ],
          "scatterpolargl": [
           {
            "type": "scatterpolargl",
            "marker": {
             "colorbar": {
              "outlinewidth": 0,
              "ticks": ""
             }
            }
           }
          ],
          "bar": [
           {
            "error_x": {
             "color": "#f2f5fa"
            },
            "error_y": {
             "color": "#f2f5fa"
            },
            "marker": {
             "line": {
              "color": "rgb(17,17,17)",
              "width": 0.5
             },
             "pattern": {
              "fillmode": "overlay",
              "size": 10,
              "solidity": 0.2
             }
            },
            "type": "bar"
           }
          ],
          "scattergeo": [
           {
            "type": "scattergeo",
            "marker": {
             "colorbar": {
              "outlinewidth": 0,
              "ticks": ""
             }
            }
           }
          ],
          "scatterpolar": [
           {
            "type": "scatterpolar",
            "marker": {
             "colorbar": {
              "outlinewidth": 0,
              "ticks": ""
             }
            }
           }
          ],
          "histogram": [
           {
            "marker": {
             "pattern": {
              "fillmode": "overlay",
              "size": 10,
              "solidity": 0.2
             }
            },
            "type": "histogram"
           }
          ],
          "scattergl": [
           {
            "marker": {
             "line": {
              "color": "#283442"
             }
            },
            "type": "scattergl"
           }
          ],
          "scatter3d": [
           {
            "type": "scatter3d",
            "line": {
             "colorbar": {
              "outlinewidth": 0,
              "ticks": ""
             }
            },
            "marker": {
             "colorbar": {
              "outlinewidth": 0,
              "ticks": ""
             }
            }
           }
          ],
          "scattermapbox": [
           {
            "type": "scattermapbox",
            "marker": {
             "colorbar": {
              "outlinewidth": 0,
              "ticks": ""
             }
            }
           }
          ],
          "scatterternary": [
           {
            "type": "scatterternary",
            "marker": {
             "colorbar": {
              "outlinewidth": 0,
              "ticks": ""
             }
            }
           }
          ],
          "scattercarpet": [
           {
            "type": "scattercarpet",
            "marker": {
             "colorbar": {
              "outlinewidth": 0,
              "ticks": ""
             }
            }
           }
          ],
          "carpet": [
           {
            "aaxis": {
             "endlinecolor": "#A2B1C6",
             "gridcolor": "#506784",
             "linecolor": "#506784",
             "minorgridcolor": "#506784",
             "startlinecolor": "#A2B1C6"
            },
            "baxis": {
             "endlinecolor": "#A2B1C6",
             "gridcolor": "#506784",
             "linecolor": "#506784",
             "minorgridcolor": "#506784",
             "startlinecolor": "#A2B1C6"
            },
            "type": "carpet"
           }
          ],
          "table": [
           {
            "cells": {
             "fill": {
              "color": "#506784"
             },
             "line": {
              "color": "rgb(17,17,17)"
             }
            },
            "header": {
             "fill": {
              "color": "#2a3f5f"
             },
             "line": {
              "color": "rgb(17,17,17)"
             }
            },
            "type": "table"
           }
          ],
          "barpolar": [
           {
            "marker": {
             "line": {
              "color": "rgb(17,17,17)",
              "width": 0.5
             },
             "pattern": {
              "fillmode": "overlay",
              "size": 10,
              "solidity": 0.2
             }
            },
            "type": "barpolar"
           }
          ],
          "pie": [
           {
            "automargin": true,
            "type": "pie"
           }
          ]
         },
         "layout": {
          "autotypenumbers": "strict",
          "colorway": [
           "#636efa",
           "#EF553B",
           "#00cc96",
           "#ab63fa",
           "#FFA15A",
           "#19d3f3",
           "#FF6692",
           "#B6E880",
           "#FF97FF",
           "#FECB52"
          ],
          "font": {
           "color": "#f2f5fa"
          },
          "hovermode": "closest",
          "hoverlabel": {
           "align": "left"
          },
          "paper_bgcolor": "rgb(17,17,17)",
          "plot_bgcolor": "rgb(17,17,17)",
          "polar": {
           "bgcolor": "rgb(17,17,17)",
           "angularaxis": {
            "gridcolor": "#506784",
            "linecolor": "#506784",
            "ticks": ""
           },
           "radialaxis": {
            "gridcolor": "#506784",
            "linecolor": "#506784",
            "ticks": ""
           }
          },
          "ternary": {
           "bgcolor": "rgb(17,17,17)",
           "aaxis": {
            "gridcolor": "#506784",
            "linecolor": "#506784",
            "ticks": ""
           },
           "baxis": {
            "gridcolor": "#506784",
            "linecolor": "#506784",
            "ticks": ""
           },
           "caxis": {
            "gridcolor": "#506784",
            "linecolor": "#506784",
            "ticks": ""
           }
          },
          "coloraxis": {
           "colorbar": {
            "outlinewidth": 0,
            "ticks": ""
           }
          },
          "colorscale": {
           "sequential": [
            [
             0.0,
             "#0d0887"
            ],
            [
             0.1111111111111111,
             "#46039f"
            ],
            [
             0.2222222222222222,
             "#7201a8"
            ],
            [
             0.3333333333333333,
             "#9c179e"
            ],
            [
             0.4444444444444444,
             "#bd3786"
            ],
            [
             0.5555555555555556,
             "#d8576b"
            ],
            [
             0.6666666666666666,
             "#ed7953"
            ],
            [
             0.7777777777777778,
             "#fb9f3a"
            ],
            [
             0.8888888888888888,
             "#fdca26"
            ],
            [
             1.0,
             "#f0f921"
            ]
           ],
           "sequentialminus": [
            [
             0.0,
             "#0d0887"
            ],
            [
             0.1111111111111111,
             "#46039f"
            ],
            [
             0.2222222222222222,
             "#7201a8"
            ],
            [
             0.3333333333333333,
             "#9c179e"
            ],
            [
             0.4444444444444444,
             "#bd3786"
            ],
            [
             0.5555555555555556,
             "#d8576b"
            ],
            [
             0.6666666666666666,
             "#ed7953"
            ],
            [
             0.7777777777777778,
             "#fb9f3a"
            ],
            [
             0.8888888888888888,
             "#fdca26"
            ],
            [
             1.0,
             "#f0f921"
            ]
           ],
           "diverging": [
            [
             0,
             "#8e0152"
            ],
            [
             0.1,
             "#c51b7d"
            ],
            [
             0.2,
             "#de77ae"
            ],
            [
             0.3,
             "#f1b6da"
            ],
            [
             0.4,
             "#fde0ef"
            ],
            [
             0.5,
             "#f7f7f7"
            ],
            [
             0.6,
             "#e6f5d0"
            ],
            [
             0.7,
             "#b8e186"
            ],
            [
             0.8,
             "#7fbc41"
            ],
            [
             0.9,
             "#4d9221"
            ],
            [
             1,
             "#276419"
            ]
           ]
          },
          "xaxis": {
           "gridcolor": "#283442",
           "linecolor": "#506784",
           "ticks": "",
           "title": {
            "standoff": 15
           },
           "zerolinecolor": "#283442",
           "automargin": true,
           "zerolinewidth": 2
          },
          "yaxis": {
           "gridcolor": "#283442",
           "linecolor": "#506784",
           "ticks": "",
           "title": {
            "standoff": 15
           },
           "zerolinecolor": "#283442",
           "automargin": true,
           "zerolinewidth": 2
          },
          "scene": {
           "xaxis": {
            "backgroundcolor": "rgb(17,17,17)",
            "gridcolor": "#506784",
            "linecolor": "#506784",
            "showbackground": true,
            "ticks": "",
            "zerolinecolor": "#C8D4E3",
            "gridwidth": 2
           },
           "yaxis": {
            "backgroundcolor": "rgb(17,17,17)",
            "gridcolor": "#506784",
            "linecolor": "#506784",
            "showbackground": true,
            "ticks": "",
            "zerolinecolor": "#C8D4E3",
            "gridwidth": 2
           },
           "zaxis": {
            "backgroundcolor": "rgb(17,17,17)",
            "gridcolor": "#506784",
            "linecolor": "#506784",
            "showbackground": true,
            "ticks": "",
            "zerolinecolor": "#C8D4E3",
            "gridwidth": 2
           }
          },
          "shapedefaults": {
           "line": {
            "color": "#f2f5fa"
           }
          },
          "annotationdefaults": {
           "arrowcolor": "#f2f5fa",
           "arrowhead": 0,
           "arrowwidth": 1
          },
          "geo": {
           "bgcolor": "rgb(17,17,17)",
           "landcolor": "rgb(17,17,17)",
           "subunitcolor": "#506784",
           "showland": true,
           "showlakes": true,
           "lakecolor": "rgb(17,17,17)"
          },
          "title": {
           "x": 0.05
          },
          "updatemenudefaults": {
           "bgcolor": "#506784",
           "borderwidth": 0
          },
          "sliderdefaults": {
           "bgcolor": "#C8D4E3",
           "borderwidth": 1,
           "bordercolor": "rgb(17,17,17)",
           "tickwidth": 0
          },
          "mapbox": {
           "style": "dark"
          }
         }
        },
        "xaxis": {
         "anchor": "y",
         "domain": [
          0.0,
          1.0
         ],
         "title": {
          "text": "rating"
         }
        },
        "yaxis": {
         "anchor": "x",
         "domain": [
          0.0,
          1.0
         ],
         "title": {
          "text": "percent"
         }
        },
        "legend": {
         "title": {
          "text": "is_positive"
         },
         "tracegroupgap": 0
        },
        "margin": {
         "t": 60
        },
        "barmode": "relative"
       },
       "config": {
        "plotlyServerURL": "https://plot.ly"
       }
      },
      "text/html": "<div>                            <div id=\"d90774a3-fced-4feb-91f4-df20e6b740c2\" class=\"plotly-graph-div\" style=\"height:525px; width:100%;\"></div>            <script type=\"text/javascript\">                require([\"plotly\"], function(Plotly) {                    window.PLOTLYENV=window.PLOTLYENV || {};                                    if (document.getElementById(\"d90774a3-fced-4feb-91f4-df20e6b740c2\")) {                    Plotly.newPlot(                        \"d90774a3-fced-4feb-91f4-df20e6b740c2\",                        [{\"alignmentgroup\":\"True\",\"hovertemplate\":\"is_positive=False<br>rating=%{x}<br>percent=%{y}<extra></extra>\",\"legendgroup\":\"False\",\"marker\":{\"color\":\"#636efa\",\"pattern\":{\"shape\":\"\"}},\"name\":\"False\",\"offsetgroup\":\"False\",\"orientation\":\"v\",\"showlegend\":true,\"textposition\":\"auto\",\"x\":[2.0,3.0,4.0],\"xaxis\":\"x\",\"y\":[77.11864406779661,44.20289855072464,13.930348258706468],\"yaxis\":\"y\",\"type\":\"bar\"},{\"alignmentgroup\":\"True\",\"hovertemplate\":\"is_positive=True<br>rating=%{x}<br>percent=%{y}<extra></extra>\",\"legendgroup\":\"True\",\"marker\":{\"color\":\"#EF553B\",\"pattern\":{\"shape\":\"\"}},\"name\":\"True\",\"offsetgroup\":\"True\",\"orientation\":\"v\",\"showlegend\":true,\"textposition\":\"auto\",\"x\":[2.0,3.0,4.0],\"xaxis\":\"x\",\"y\":[22.88135593220339,55.79710144927536,86.06965174129353],\"yaxis\":\"y\",\"type\":\"bar\"}],                        {\"template\":{\"data\":{\"histogram2dcontour\":[{\"type\":\"histogram2dcontour\",\"colorbar\":{\"outlinewidth\":0,\"ticks\":\"\"},\"colorscale\":[[0.0,\"#0d0887\"],[0.1111111111111111,\"#46039f\"],[0.2222222222222222,\"#7201a8\"],[0.3333333333333333,\"#9c179e\"],[0.4444444444444444,\"#bd3786\"],[0.5555555555555556,\"#d8576b\"],[0.6666666666666666,\"#ed7953\"],[0.7777777777777778,\"#fb9f3a\"],[0.8888888888888888,\"#fdca26\"],[1.0,\"#f0f921\"]]}],\"choropleth\":[{\"type\":\"choropleth\",\"colorbar\":{\"outlinewidth\":0,\"ticks\":\"\"}}],\"histogram2d\":[{\"type\":\"histogram2d\",\"colorbar\":{\"outlinewidth\":0,\"ticks\":\"\"},\"colorscale\":[[0.0,\"#0d0887\"],[0.1111111111111111,\"#46039f\"],[0.2222222222222222,\"#7201a8\"],[0.3333333333333333,\"#9c179e\"],[0.4444444444444444,\"#bd3786\"],[0.5555555555555556,\"#d8576b\"],[0.6666666666666666,\"#ed7953\"],[0.7777777777777778,\"#fb9f3a\"],[0.8888888888888888,\"#fdca26\"],[1.0,\"#f0f921\"]]}],\"heatmap\":[{\"type\":\"heatmap\",\"colorbar\":{\"outlinewidth\":0,\"ticks\":\"\"},\"colorscale\":[[0.0,\"#0d0887\"],[0.1111111111111111,\"#46039f\"],[0.2222222222222222,\"#7201a8\"],[0.3333333333333333,\"#9c179e\"],[0.4444444444444444,\"#bd3786\"],[0.5555555555555556,\"#d8576b\"],[0.6666666666666666,\"#ed7953\"],[0.7777777777777778,\"#fb9f3a\"],[0.8888888888888888,\"#fdca26\"],[1.0,\"#f0f921\"]]}],\"heatmapgl\":[{\"type\":\"heatmapgl\",\"colorbar\":{\"outlinewidth\":0,\"ticks\":\"\"},\"colorscale\":[[0.0,\"#0d0887\"],[0.1111111111111111,\"#46039f\"],[0.2222222222222222,\"#7201a8\"],[0.3333333333333333,\"#9c179e\"],[0.4444444444444444,\"#bd3786\"],[0.5555555555555556,\"#d8576b\"],[0.6666666666666666,\"#ed7953\"],[0.7777777777777778,\"#fb9f3a\"],[0.8888888888888888,\"#fdca26\"],[1.0,\"#f0f921\"]]}],\"contourcarpet\":[{\"type\":\"contourcarpet\",\"colorbar\":{\"outlinewidth\":0,\"ticks\":\"\"}}],\"contour\":[{\"type\":\"contour\",\"colorbar\":{\"outlinewidth\":0,\"ticks\":\"\"},\"colorscale\":[[0.0,\"#0d0887\"],[0.1111111111111111,\"#46039f\"],[0.2222222222222222,\"#7201a8\"],[0.3333333333333333,\"#9c179e\"],[0.4444444444444444,\"#bd3786\"],[0.5555555555555556,\"#d8576b\"],[0.6666666666666666,\"#ed7953\"],[0.7777777777777778,\"#fb9f3a\"],[0.8888888888888888,\"#fdca26\"],[1.0,\"#f0f921\"]]}],\"surface\":[{\"type\":\"surface\",\"colorbar\":{\"outlinewidth\":0,\"ticks\":\"\"},\"colorscale\":[[0.0,\"#0d0887\"],[0.1111111111111111,\"#46039f\"],[0.2222222222222222,\"#7201a8\"],[0.3333333333333333,\"#9c179e\"],[0.4444444444444444,\"#bd3786\"],[0.5555555555555556,\"#d8576b\"],[0.6666666666666666,\"#ed7953\"],[0.7777777777777778,\"#fb9f3a\"],[0.8888888888888888,\"#fdca26\"],[1.0,\"#f0f921\"]]}],\"mesh3d\":[{\"type\":\"mesh3d\",\"colorbar\":{\"outlinewidth\":0,\"ticks\":\"\"}}],\"scatter\":[{\"marker\":{\"line\":{\"color\":\"#283442\"}},\"type\":\"scatter\"}],\"parcoords\":[{\"type\":\"parcoords\",\"line\":{\"colorbar\":{\"outlinewidth\":0,\"ticks\":\"\"}}}],\"scatterpolargl\":[{\"type\":\"scatterpolargl\",\"marker\":{\"colorbar\":{\"outlinewidth\":0,\"ticks\":\"\"}}}],\"bar\":[{\"error_x\":{\"color\":\"#f2f5fa\"},\"error_y\":{\"color\":\"#f2f5fa\"},\"marker\":{\"line\":{\"color\":\"rgb(17,17,17)\",\"width\":0.5},\"pattern\":{\"fillmode\":\"overlay\",\"size\":10,\"solidity\":0.2}},\"type\":\"bar\"}],\"scattergeo\":[{\"type\":\"scattergeo\",\"marker\":{\"colorbar\":{\"outlinewidth\":0,\"ticks\":\"\"}}}],\"scatterpolar\":[{\"type\":\"scatterpolar\",\"marker\":{\"colorbar\":{\"outlinewidth\":0,\"ticks\":\"\"}}}],\"histogram\":[{\"marker\":{\"pattern\":{\"fillmode\":\"overlay\",\"size\":10,\"solidity\":0.2}},\"type\":\"histogram\"}],\"scattergl\":[{\"marker\":{\"line\":{\"color\":\"#283442\"}},\"type\":\"scattergl\"}],\"scatter3d\":[{\"type\":\"scatter3d\",\"line\":{\"colorbar\":{\"outlinewidth\":0,\"ticks\":\"\"}},\"marker\":{\"colorbar\":{\"outlinewidth\":0,\"ticks\":\"\"}}}],\"scattermapbox\":[{\"type\":\"scattermapbox\",\"marker\":{\"colorbar\":{\"outlinewidth\":0,\"ticks\":\"\"}}}],\"scatterternary\":[{\"type\":\"scatterternary\",\"marker\":{\"colorbar\":{\"outlinewidth\":0,\"ticks\":\"\"}}}],\"scattercarpet\":[{\"type\":\"scattercarpet\",\"marker\":{\"colorbar\":{\"outlinewidth\":0,\"ticks\":\"\"}}}],\"carpet\":[{\"aaxis\":{\"endlinecolor\":\"#A2B1C6\",\"gridcolor\":\"#506784\",\"linecolor\":\"#506784\",\"minorgridcolor\":\"#506784\",\"startlinecolor\":\"#A2B1C6\"},\"baxis\":{\"endlinecolor\":\"#A2B1C6\",\"gridcolor\":\"#506784\",\"linecolor\":\"#506784\",\"minorgridcolor\":\"#506784\",\"startlinecolor\":\"#A2B1C6\"},\"type\":\"carpet\"}],\"table\":[{\"cells\":{\"fill\":{\"color\":\"#506784\"},\"line\":{\"color\":\"rgb(17,17,17)\"}},\"header\":{\"fill\":{\"color\":\"#2a3f5f\"},\"line\":{\"color\":\"rgb(17,17,17)\"}},\"type\":\"table\"}],\"barpolar\":[{\"marker\":{\"line\":{\"color\":\"rgb(17,17,17)\",\"width\":0.5},\"pattern\":{\"fillmode\":\"overlay\",\"size\":10,\"solidity\":0.2}},\"type\":\"barpolar\"}],\"pie\":[{\"automargin\":true,\"type\":\"pie\"}]},\"layout\":{\"autotypenumbers\":\"strict\",\"colorway\":[\"#636efa\",\"#EF553B\",\"#00cc96\",\"#ab63fa\",\"#FFA15A\",\"#19d3f3\",\"#FF6692\",\"#B6E880\",\"#FF97FF\",\"#FECB52\"],\"font\":{\"color\":\"#f2f5fa\"},\"hovermode\":\"closest\",\"hoverlabel\":{\"align\":\"left\"},\"paper_bgcolor\":\"rgb(17,17,17)\",\"plot_bgcolor\":\"rgb(17,17,17)\",\"polar\":{\"bgcolor\":\"rgb(17,17,17)\",\"angularaxis\":{\"gridcolor\":\"#506784\",\"linecolor\":\"#506784\",\"ticks\":\"\"},\"radialaxis\":{\"gridcolor\":\"#506784\",\"linecolor\":\"#506784\",\"ticks\":\"\"}},\"ternary\":{\"bgcolor\":\"rgb(17,17,17)\",\"aaxis\":{\"gridcolor\":\"#506784\",\"linecolor\":\"#506784\",\"ticks\":\"\"},\"baxis\":{\"gridcolor\":\"#506784\",\"linecolor\":\"#506784\",\"ticks\":\"\"},\"caxis\":{\"gridcolor\":\"#506784\",\"linecolor\":\"#506784\",\"ticks\":\"\"}},\"coloraxis\":{\"colorbar\":{\"outlinewidth\":0,\"ticks\":\"\"}},\"colorscale\":{\"sequential\":[[0.0,\"#0d0887\"],[0.1111111111111111,\"#46039f\"],[0.2222222222222222,\"#7201a8\"],[0.3333333333333333,\"#9c179e\"],[0.4444444444444444,\"#bd3786\"],[0.5555555555555556,\"#d8576b\"],[0.6666666666666666,\"#ed7953\"],[0.7777777777777778,\"#fb9f3a\"],[0.8888888888888888,\"#fdca26\"],[1.0,\"#f0f921\"]],\"sequentialminus\":[[0.0,\"#0d0887\"],[0.1111111111111111,\"#46039f\"],[0.2222222222222222,\"#7201a8\"],[0.3333333333333333,\"#9c179e\"],[0.4444444444444444,\"#bd3786\"],[0.5555555555555556,\"#d8576b\"],[0.6666666666666666,\"#ed7953\"],[0.7777777777777778,\"#fb9f3a\"],[0.8888888888888888,\"#fdca26\"],[1.0,\"#f0f921\"]],\"diverging\":[[0,\"#8e0152\"],[0.1,\"#c51b7d\"],[0.2,\"#de77ae\"],[0.3,\"#f1b6da\"],[0.4,\"#fde0ef\"],[0.5,\"#f7f7f7\"],[0.6,\"#e6f5d0\"],[0.7,\"#b8e186\"],[0.8,\"#7fbc41\"],[0.9,\"#4d9221\"],[1,\"#276419\"]]},\"xaxis\":{\"gridcolor\":\"#283442\",\"linecolor\":\"#506784\",\"ticks\":\"\",\"title\":{\"standoff\":15},\"zerolinecolor\":\"#283442\",\"automargin\":true,\"zerolinewidth\":2},\"yaxis\":{\"gridcolor\":\"#283442\",\"linecolor\":\"#506784\",\"ticks\":\"\",\"title\":{\"standoff\":15},\"zerolinecolor\":\"#283442\",\"automargin\":true,\"zerolinewidth\":2},\"scene\":{\"xaxis\":{\"backgroundcolor\":\"rgb(17,17,17)\",\"gridcolor\":\"#506784\",\"linecolor\":\"#506784\",\"showbackground\":true,\"ticks\":\"\",\"zerolinecolor\":\"#C8D4E3\",\"gridwidth\":2},\"yaxis\":{\"backgroundcolor\":\"rgb(17,17,17)\",\"gridcolor\":\"#506784\",\"linecolor\":\"#506784\",\"showbackground\":true,\"ticks\":\"\",\"zerolinecolor\":\"#C8D4E3\",\"gridwidth\":2},\"zaxis\":{\"backgroundcolor\":\"rgb(17,17,17)\",\"gridcolor\":\"#506784\",\"linecolor\":\"#506784\",\"showbackground\":true,\"ticks\":\"\",\"zerolinecolor\":\"#C8D4E3\",\"gridwidth\":2}},\"shapedefaults\":{\"line\":{\"color\":\"#f2f5fa\"}},\"annotationdefaults\":{\"arrowcolor\":\"#f2f5fa\",\"arrowhead\":0,\"arrowwidth\":1},\"geo\":{\"bgcolor\":\"rgb(17,17,17)\",\"landcolor\":\"rgb(17,17,17)\",\"subunitcolor\":\"#506784\",\"showland\":true,\"showlakes\":true,\"lakecolor\":\"rgb(17,17,17)\"},\"title\":{\"x\":0.05},\"updatemenudefaults\":{\"bgcolor\":\"#506784\",\"borderwidth\":0},\"sliderdefaults\":{\"bgcolor\":\"#C8D4E3\",\"borderwidth\":1,\"bordercolor\":\"rgb(17,17,17)\",\"tickwidth\":0},\"mapbox\":{\"style\":\"dark\"}}},\"xaxis\":{\"anchor\":\"y\",\"domain\":[0.0,1.0],\"title\":{\"text\":\"rating\"}},\"yaxis\":{\"anchor\":\"x\",\"domain\":[0.0,1.0],\"title\":{\"text\":\"percent\"}},\"legend\":{\"title\":{\"text\":\"is_positive\"},\"tracegroupgap\":0},\"margin\":{\"t\":60},\"barmode\":\"relative\"},                        {\"responsive\": true}                    ).then(function(){\n                            \nvar gd = document.getElementById('d90774a3-fced-4feb-91f4-df20e6b740c2');\nvar x = new MutationObserver(function (mutations, observer) {{\n        var display = window.getComputedStyle(gd).display;\n        if (!display || display === 'none') {{\n            console.log([gd, 'removed!']);\n            Plotly.purge(gd);\n            observer.disconnect();\n        }}\n}});\n\n// Listen for the removal of the full notebook cells\nvar notebookContainer = gd.closest('#notebook-container');\nif (notebookContainer) {{\n    x.observe(notebookContainer, {childList: true});\n}}\n\n// Listen for the clearing of the current output cell\nvar outputEl = gd.closest('.output');\nif (outputEl) {{\n    x.observe(outputEl, {childList: true});\n}}\n\n                        })                };                });            </script>        </div>"
     },
     "metadata": {},
     "output_type": "display_data"
    }
   ],
   "source": [
    "predict_allegro_df['is_positive'] = predict_allegro_df['positive'] > 0.5\n",
    "\n",
    "data_to_plot = predict_allegro_df.groupby([\"rating\",'is_positive']).count().reset_index()\n",
    "# fig.show()\n",
    "data_to_plot['percent'] =  100 * data_to_plot['text'] / [ sum(predict_allegro_df['rating'] == int(i/2)) for i in range(4,10) ]\n",
    "fig = px.bar(data_to_plot, x=\"rating\",y='percent', color='is_positive',)\n",
    "\n",
    "fig.show()"
   ],
   "metadata": {
    "collapsed": false
   }
  }
 ],
 "metadata": {
  "kernelspec": {
   "display_name": "Python 3 (ipykernel)",
   "language": "python",
   "name": "python3"
  },
  "language_info": {
   "codemirror_mode": {
    "name": "ipython",
    "version": 3
   },
   "file_extension": ".py",
   "mimetype": "text/x-python",
   "name": "python",
   "nbconvert_exporter": "python",
   "pygments_lexer": "ipython3",
   "version": "3.9.5"
  }
 },
 "nbformat": 4,
 "nbformat_minor": 1
}
