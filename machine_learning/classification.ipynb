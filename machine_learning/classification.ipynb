{
 "cells": [
  {
   "cell_type": "code",
   "execution_count": 1,
   "metadata": {
    "collapsed": true
   },
   "outputs": [
    {
     "ename": "ModuleNotFoundError",
     "evalue": "No module named 'machine_learning'",
     "output_type": "error",
     "traceback": [
      "\u001B[0;31m---------------------------------------------------------------------------\u001B[0m",
      "\u001B[0;31mModuleNotFoundError\u001B[0m                       Traceback (most recent call last)",
      "Cell \u001B[0;32mIn [1], line 1\u001B[0m\n\u001B[0;32m----> 1\u001B[0m \u001B[38;5;28;01mfrom\u001B[39;00m \u001B[38;5;21;01mmachine_learning\u001B[39;00m\u001B[38;5;21;01m.\u001B[39;00m\u001B[38;5;21;01mutils\u001B[39;00m\u001B[38;5;21;01m.\u001B[39;00m\u001B[38;5;21;01mutils\u001B[39;00m \u001B[38;5;28;01mimport\u001B[39;00m get_polaczone_dataset_and_split\n\u001B[1;32m      3\u001B[0m get_ipython()\u001B[38;5;241m.\u001B[39mrun_line_magic(\u001B[38;5;124m'\u001B[39m\u001B[38;5;124mload_ext\u001B[39m\u001B[38;5;124m'\u001B[39m, \u001B[38;5;124m'\u001B[39m\u001B[38;5;124mautoreload\u001B[39m\u001B[38;5;124m'\u001B[39m)\n\u001B[1;32m      4\u001B[0m get_ipython()\u001B[38;5;241m.\u001B[39mrun_line_magic(\u001B[38;5;124m'\u001B[39m\u001B[38;5;124mautoreload\u001B[39m\u001B[38;5;124m'\u001B[39m, \u001B[38;5;124m'\u001B[39m\u001B[38;5;124m2\u001B[39m\u001B[38;5;124m'\u001B[39m)\n",
      "\u001B[0;31mModuleNotFoundError\u001B[0m: No module named 'machine_learning'"
     ]
    }
   ],
   "source": [
    "from machine_learning.utils.utils import get_polaczone_dataset_and_split\n",
    "\n",
    "%load_ext autoreload\n",
    "%autoreload 2"
   ]
  },
  {
   "cell_type": "code",
   "execution_count": 2,
   "outputs": [
    {
     "data": {
      "text/plain": "['/home/andrzej/.local/share/JetBrains/Toolbox/apps/PyCharm-P/ch-0/223.7571.203/plugins/python/helpers-pro/jupyter_debug',\n '/home/andrzej/.local/share/JetBrains/Toolbox/apps/PyCharm-P/ch-0/223.7571.203/plugins/python/helpers/pydev',\n '/home/andrzej/PycharmProjects/diploma_project/machine_learning',\n '/usr/lib/python39.zip',\n '/usr/lib/python3.9',\n '/usr/lib/python3.9/lib-dynload',\n '',\n '/home/andrzej/PycharmProjects/diploma_project/venv/lib/python3.9/site-packages']"
     },
     "execution_count": 2,
     "metadata": {},
     "output_type": "execute_result"
    }
   ],
   "source": [
    "import sys\n",
    "sys.path"
   ],
   "metadata": {
    "collapsed": false
   }
  },
  {
   "cell_type": "markdown",
   "source": [],
   "metadata": {
    "collapsed": false
   }
  },
  {
   "cell_type": "code",
   "execution_count": 13,
   "outputs": [
    {
     "name": "stderr",
     "output_type": "stream",
     "text": [
      "No config specified, defaulting to: polemo2-official/all_text\n",
      "Found cached dataset polemo2-official (/home/andrzej/.cache/huggingface/datasets/clarin-pl___polemo2-official/all_text/0.0.0/2b75fdbe5def97538e81fb120f8752744b50729a4ce09bd75132bfc863a2fd70)\n"
     ]
    },
    {
     "data": {
      "text/plain": "  0%|          | 0/3 [00:00<?, ?it/s]",
      "application/vnd.jupyter.widget-view+json": {
       "version_major": 2,
       "version_minor": 0,
       "model_id": "d9ee5eada1e943cfb475e2e52d4c7a16"
      }
     },
     "metadata": {},
     "output_type": "display_data"
    },
    {
     "name": "stdout",
     "output_type": "stream",
     "text": [
      " "
     ]
    },
    {
     "name": "stderr",
     "output_type": "stream",
     "text": [
      "Loading cached processed dataset at /home/andrzej/.cache/huggingface/datasets/clarin-pl___polemo2-official/all_text/0.0.0/2b75fdbe5def97538e81fb120f8752744b50729a4ce09bd75132bfc863a2fd70/cache-fefe24852dab0b49.arrow\n"
     ]
    },
    {
     "name": "stdout",
     "output_type": "stream",
     "text": [
      " "
     ]
    },
    {
     "name": "stderr",
     "output_type": "stream",
     "text": [
      "Loading cached processed dataset at /home/andrzej/.cache/huggingface/datasets/clarin-pl___polemo2-official/all_text/0.0.0/2b75fdbe5def97538e81fb120f8752744b50729a4ce09bd75132bfc863a2fd70/cache-d4dfc5191d082671.arrow\n"
     ]
    },
    {
     "name": "stdout",
     "output_type": "stream",
     "text": [
      " "
     ]
    },
    {
     "name": "stderr",
     "output_type": "stream",
     "text": [
      "Loading cached processed dataset at /home/andrzej/.cache/huggingface/datasets/clarin-pl___polemo2-official/all_text/0.0.0/2b75fdbe5def97538e81fb120f8752744b50729a4ce09bd75132bfc863a2fd70/cache-06b51c40d4875ff8.arrow\n"
     ]
    },
    {
     "name": "stdout",
     "output_type": "stream",
     "text": [
      " "
     ]
    },
    {
     "name": "stderr",
     "output_type": "stream",
     "text": [
      "Loading cached processed dataset at /home/andrzej/.cache/huggingface/datasets/clarin-pl___polemo2-official/all_text/0.0.0/2b75fdbe5def97538e81fb120f8752744b50729a4ce09bd75132bfc863a2fd70/cache-4fcd3808028b66de.arrow\n"
     ]
    },
    {
     "name": "stdout",
     "output_type": "stream",
     "text": [
      " "
     ]
    },
    {
     "name": "stderr",
     "output_type": "stream",
     "text": [
      "Loading cached processed dataset at /home/andrzej/.cache/huggingface/datasets/clarin-pl___polemo2-official/all_text/0.0.0/2b75fdbe5def97538e81fb120f8752744b50729a4ce09bd75132bfc863a2fd70/cache-59a4447237168fca.arrow\n"
     ]
    },
    {
     "name": "stdout",
     "output_type": "stream",
     "text": [
      " "
     ]
    },
    {
     "name": "stderr",
     "output_type": "stream",
     "text": [
      "Loading cached processed dataset at /home/andrzej/.cache/huggingface/datasets/clarin-pl___polemo2-official/all_text/0.0.0/2b75fdbe5def97538e81fb120f8752744b50729a4ce09bd75132bfc863a2fd70/cache-eec372116c5789e1.arrow\n"
     ]
    },
    {
     "name": "stdout",
     "output_type": "stream",
     "text": [
      " "
     ]
    },
    {
     "name": "stderr",
     "output_type": "stream",
     "text": [
      "Loading cached processed dataset at /home/andrzej/.cache/huggingface/datasets/clarin-pl___polemo2-official/all_text/0.0.0/2b75fdbe5def97538e81fb120f8752744b50729a4ce09bd75132bfc863a2fd70/cache-569dd02da11bf0cc.arrow\n"
     ]
    },
    {
     "name": "stdout",
     "output_type": "stream",
     "text": [
      " "
     ]
    },
    {
     "name": "stderr",
     "output_type": "stream",
     "text": [
      "Loading cached processed dataset at /home/andrzej/.cache/huggingface/datasets/clarin-pl___polemo2-official/all_text/0.0.0/2b75fdbe5def97538e81fb120f8752744b50729a4ce09bd75132bfc863a2fd70/cache-2ea4362b820664fa.arrow\n"
     ]
    },
    {
     "name": "stdout",
     "output_type": "stream",
     "text": [
      " "
     ]
    },
    {
     "name": "stderr",
     "output_type": "stream",
     "text": [
      "Loading cached processed dataset at /home/andrzej/.cache/huggingface/datasets/clarin-pl___polemo2-official/all_text/0.0.0/2b75fdbe5def97538e81fb120f8752744b50729a4ce09bd75132bfc863a2fd70/cache-f856d4cba2dad414.arrow\n"
     ]
    },
    {
     "name": "stdout",
     "output_type": "stream",
     "text": [
      " "
     ]
    },
    {
     "name": "stderr",
     "output_type": "stream",
     "text": [
      "Loading cached processed dataset at /home/andrzej/.cache/huggingface/datasets/clarin-pl___polemo2-official/all_text/0.0.0/2b75fdbe5def97538e81fb120f8752744b50729a4ce09bd75132bfc863a2fd70/cache-3c8e56a1375d8ec4.arrow\n"
     ]
    },
    {
     "name": "stdout",
     "output_type": "stream",
     "text": [
      " "
     ]
    },
    {
     "name": "stderr",
     "output_type": "stream",
     "text": [
      "Loading cached processed dataset at /home/andrzej/.cache/huggingface/datasets/clarin-pl___polemo2-official/all_text/0.0.0/2b75fdbe5def97538e81fb120f8752744b50729a4ce09bd75132bfc863a2fd70/cache-ef132504d10110d9.arrow\n"
     ]
    },
    {
     "name": "stdout",
     "output_type": "stream",
     "text": [
      " "
     ]
    },
    {
     "name": "stderr",
     "output_type": "stream",
     "text": [
      "Loading cached processed dataset at /home/andrzej/.cache/huggingface/datasets/clarin-pl___polemo2-official/all_text/0.0.0/2b75fdbe5def97538e81fb120f8752744b50729a4ce09bd75132bfc863a2fd70/cache-95542bc33b075f18.arrow\n"
     ]
    },
    {
     "name": "stdout",
     "output_type": "stream",
     "text": [
      " "
     ]
    },
    {
     "name": "stderr",
     "output_type": "stream",
     "text": [
      "Loading cached processed dataset at /home/andrzej/.cache/huggingface/datasets/clarin-pl___polemo2-official/all_text/0.0.0/2b75fdbe5def97538e81fb120f8752744b50729a4ce09bd75132bfc863a2fd70/cache-0ef9033b8fe0a721.arrow\n"
     ]
    },
    {
     "name": "stdout",
     "output_type": "stream",
     "text": [
      " "
     ]
    },
    {
     "name": "stderr",
     "output_type": "stream",
     "text": [
      "Loading cached processed dataset at /home/andrzej/.cache/huggingface/datasets/clarin-pl___polemo2-official/all_text/0.0.0/2b75fdbe5def97538e81fb120f8752744b50729a4ce09bd75132bfc863a2fd70/cache-f33985b6a1214730.arrow\n"
     ]
    },
    {
     "name": "stdout",
     "output_type": "stream",
     "text": [
      " "
     ]
    },
    {
     "name": "stderr",
     "output_type": "stream",
     "text": [
      "Loading cached processed dataset at /home/andrzej/.cache/huggingface/datasets/clarin-pl___polemo2-official/all_text/0.0.0/2b75fdbe5def97538e81fb120f8752744b50729a4ce09bd75132bfc863a2fd70/cache-575a5ee656e035c0.arrow\n"
     ]
    },
    {
     "name": "stdout",
     "output_type": "stream",
     "text": [
      " "
     ]
    },
    {
     "name": "stderr",
     "output_type": "stream",
     "text": [
      "Loading cached processed dataset at /home/andrzej/.cache/huggingface/datasets/clarin-pl___polemo2-official/all_text/0.0.0/2b75fdbe5def97538e81fb120f8752744b50729a4ce09bd75132bfc863a2fd70/cache-3c9838f21860f0d8.arrow\n"
     ]
    },
    {
     "name": "stdout",
     "output_type": "stream",
     "text": [
      " "
     ]
    },
    {
     "name": "stderr",
     "output_type": "stream",
     "text": [
      "Loading cached processed dataset at /home/andrzej/.cache/huggingface/datasets/clarin-pl___polemo2-official/all_text/0.0.0/2b75fdbe5def97538e81fb120f8752744b50729a4ce09bd75132bfc863a2fd70/cache-e2bc60702cbc1dec.arrow\n"
     ]
    },
    {
     "name": "stdout",
     "output_type": "stream",
     "text": [
      " "
     ]
    },
    {
     "name": "stderr",
     "output_type": "stream",
     "text": [
      "Loading cached processed dataset at /home/andrzej/.cache/huggingface/datasets/clarin-pl___polemo2-official/all_text/0.0.0/2b75fdbe5def97538e81fb120f8752744b50729a4ce09bd75132bfc863a2fd70/cache-ededf58cfc30ed09.arrow\n"
     ]
    },
    {
     "name": "stdout",
     "output_type": "stream",
     "text": [
      " "
     ]
    },
    {
     "name": "stderr",
     "output_type": "stream",
     "text": [
      "Loading cached processed dataset at /home/andrzej/.cache/huggingface/datasets/clarin-pl___polemo2-official/all_text/0.0.0/2b75fdbe5def97538e81fb120f8752744b50729a4ce09bd75132bfc863a2fd70/cache-d9ef5c26c2dacadb.arrow\n"
     ]
    },
    {
     "name": "stdout",
     "output_type": "stream",
     "text": [
      " "
     ]
    },
    {
     "name": "stderr",
     "output_type": "stream",
     "text": [
      "Loading cached processed dataset at /home/andrzej/.cache/huggingface/datasets/clarin-pl___polemo2-official/all_text/0.0.0/2b75fdbe5def97538e81fb120f8752744b50729a4ce09bd75132bfc863a2fd70/cache-cf7cd608e4d489c0.arrow\n"
     ]
    },
    {
     "name": "stdout",
     "output_type": "stream",
     "text": [
      " "
     ]
    },
    {
     "name": "stderr",
     "output_type": "stream",
     "text": [
      "Loading cached processed dataset at /home/andrzej/.cache/huggingface/datasets/clarin-pl___polemo2-official/all_text/0.0.0/2b75fdbe5def97538e81fb120f8752744b50729a4ce09bd75132bfc863a2fd70/cache-09cbf1bfcf6e92dd.arrow\n"
     ]
    },
    {
     "name": "stdout",
     "output_type": "stream",
     "text": [
      " "
     ]
    },
    {
     "name": "stderr",
     "output_type": "stream",
     "text": [
      "Loading cached processed dataset at /home/andrzej/.cache/huggingface/datasets/clarin-pl___polemo2-official/all_text/0.0.0/2b75fdbe5def97538e81fb120f8752744b50729a4ce09bd75132bfc863a2fd70/cache-54a1466b5ebc8bf2.arrow\n"
     ]
    },
    {
     "name": "stdout",
     "output_type": "stream",
     "text": [
      " "
     ]
    },
    {
     "name": "stderr",
     "output_type": "stream",
     "text": [
      "Loading cached processed dataset at /home/andrzej/.cache/huggingface/datasets/clarin-pl___polemo2-official/all_text/0.0.0/2b75fdbe5def97538e81fb120f8752744b50729a4ce09bd75132bfc863a2fd70/cache-578c0c3432640a98.arrow\n"
     ]
    },
    {
     "name": "stdout",
     "output_type": "stream",
     "text": [
      " "
     ]
    },
    {
     "name": "stderr",
     "output_type": "stream",
     "text": [
      "Loading cached processed dataset at /home/andrzej/.cache/huggingface/datasets/clarin-pl___polemo2-official/all_text/0.0.0/2b75fdbe5def97538e81fb120f8752744b50729a4ce09bd75132bfc863a2fd70/cache-e1737c55490a71b0.arrow\n",
      "Using custom data configuration default\n",
      "Found cached dataset allegro_reviews (/home/andrzej/.cache/huggingface/datasets/allegro_reviews/default/1.1.0/d0fd6bf6f7f8f2c8faed7ecf9d295c991eac403ca516d3d3593061a913c0476b)\n"
     ]
    },
    {
     "data": {
      "text/plain": "  0%|          | 0/3 [00:00<?, ?it/s]",
      "application/vnd.jupyter.widget-view+json": {
       "version_major": 2,
       "version_minor": 0,
       "model_id": "e70869313918449aa3930110abb67e3b"
      }
     },
     "metadata": {},
     "output_type": "display_data"
    },
    {
     "name": "stdout",
     "output_type": "stream",
     "text": [
      " "
     ]
    },
    {
     "name": "stderr",
     "output_type": "stream",
     "text": [
      "Loading cached processed dataset at /home/andrzej/.cache/huggingface/datasets/allegro_reviews/default/1.1.0/d0fd6bf6f7f8f2c8faed7ecf9d295c991eac403ca516d3d3593061a913c0476b/cache-700af91543882224.arrow\n"
     ]
    },
    {
     "name": "stdout",
     "output_type": "stream",
     "text": [
      " "
     ]
    },
    {
     "name": "stderr",
     "output_type": "stream",
     "text": [
      "Loading cached processed dataset at /home/andrzej/.cache/huggingface/datasets/allegro_reviews/default/1.1.0/d0fd6bf6f7f8f2c8faed7ecf9d295c991eac403ca516d3d3593061a913c0476b/cache-c772e09429ee7a60.arrow\n"
     ]
    },
    {
     "name": "stdout",
     "output_type": "stream",
     "text": [
      " "
     ]
    },
    {
     "name": "stderr",
     "output_type": "stream",
     "text": [
      "Loading cached processed dataset at /home/andrzej/.cache/huggingface/datasets/allegro_reviews/default/1.1.0/d0fd6bf6f7f8f2c8faed7ecf9d295c991eac403ca516d3d3593061a913c0476b/cache-255c121fa49aff44.arrow\n"
     ]
    },
    {
     "name": "stdout",
     "output_type": "stream",
     "text": [
      " "
     ]
    },
    {
     "name": "stderr",
     "output_type": "stream",
     "text": [
      "Loading cached processed dataset at /home/andrzej/.cache/huggingface/datasets/allegro_reviews/default/1.1.0/d0fd6bf6f7f8f2c8faed7ecf9d295c991eac403ca516d3d3593061a913c0476b/cache-97ca90306e129b21.arrow\n"
     ]
    },
    {
     "name": "stdout",
     "output_type": "stream",
     "text": [
      " "
     ]
    },
    {
     "name": "stderr",
     "output_type": "stream",
     "text": [
      "Loading cached processed dataset at /home/andrzej/.cache/huggingface/datasets/allegro_reviews/default/1.1.0/d0fd6bf6f7f8f2c8faed7ecf9d295c991eac403ca516d3d3593061a913c0476b/cache-aceb273e46b37d56.arrow\n"
     ]
    },
    {
     "name": "stdout",
     "output_type": "stream",
     "text": [
      " "
     ]
    },
    {
     "name": "stderr",
     "output_type": "stream",
     "text": [
      "Loading cached processed dataset at /home/andrzej/.cache/huggingface/datasets/allegro_reviews/default/1.1.0/d0fd6bf6f7f8f2c8faed7ecf9d295c991eac403ca516d3d3593061a913c0476b/cache-0b7b322cbc7a9c35.arrow\n"
     ]
    },
    {
     "name": "stdout",
     "output_type": "stream",
     "text": [
      " "
     ]
    },
    {
     "name": "stderr",
     "output_type": "stream",
     "text": [
      "Loading cached processed dataset at /home/andrzej/.cache/huggingface/datasets/allegro_reviews/default/1.1.0/d0fd6bf6f7f8f2c8faed7ecf9d295c991eac403ca516d3d3593061a913c0476b/cache-903a68341617548a.arrow\n"
     ]
    },
    {
     "name": "stdout",
     "output_type": "stream",
     "text": [
      " "
     ]
    },
    {
     "name": "stderr",
     "output_type": "stream",
     "text": [
      "Loading cached processed dataset at /home/andrzej/.cache/huggingface/datasets/allegro_reviews/default/1.1.0/d0fd6bf6f7f8f2c8faed7ecf9d295c991eac403ca516d3d3593061a913c0476b/cache-bde8af0a4bcdad10.arrow\n"
     ]
    },
    {
     "name": "stdout",
     "output_type": "stream",
     "text": [
      " "
     ]
    },
    {
     "name": "stderr",
     "output_type": "stream",
     "text": [
      "Loading cached processed dataset at /home/andrzej/.cache/huggingface/datasets/allegro_reviews/default/1.1.0/d0fd6bf6f7f8f2c8faed7ecf9d295c991eac403ca516d3d3593061a913c0476b/cache-40ad3c9f2352fef9.arrow\n"
     ]
    },
    {
     "name": "stdout",
     "output_type": "stream",
     "text": [
      " "
     ]
    },
    {
     "name": "stderr",
     "output_type": "stream",
     "text": [
      "Loading cached processed dataset at /home/andrzej/.cache/huggingface/datasets/allegro_reviews/default/1.1.0/d0fd6bf6f7f8f2c8faed7ecf9d295c991eac403ca516d3d3593061a913c0476b/cache-0f7e0a272e6f80cc.arrow\n"
     ]
    },
    {
     "name": "stdout",
     "output_type": "stream",
     "text": [
      " "
     ]
    },
    {
     "name": "stderr",
     "output_type": "stream",
     "text": [
      "Loading cached processed dataset at /home/andrzej/.cache/huggingface/datasets/allegro_reviews/default/1.1.0/d0fd6bf6f7f8f2c8faed7ecf9d295c991eac403ca516d3d3593061a913c0476b/cache-3eea2e54daf68f26.arrow\n"
     ]
    },
    {
     "name": "stdout",
     "output_type": "stream",
     "text": [
      " "
     ]
    },
    {
     "name": "stderr",
     "output_type": "stream",
     "text": [
      "Loading cached processed dataset at /home/andrzej/.cache/huggingface/datasets/allegro_reviews/default/1.1.0/d0fd6bf6f7f8f2c8faed7ecf9d295c991eac403ca516d3d3593061a913c0476b/cache-95b166a3b8c8fc74.arrow\n"
     ]
    },
    {
     "name": "stdout",
     "output_type": "stream",
     "text": [
      " "
     ]
    },
    {
     "name": "stderr",
     "output_type": "stream",
     "text": [
      "Loading cached processed dataset at /home/andrzej/.cache/huggingface/datasets/allegro_reviews/default/1.1.0/d0fd6bf6f7f8f2c8faed7ecf9d295c991eac403ca516d3d3593061a913c0476b/cache-705e3a9512a279ca.arrow\n"
     ]
    },
    {
     "name": "stdout",
     "output_type": "stream",
     "text": [
      " "
     ]
    },
    {
     "name": "stderr",
     "output_type": "stream",
     "text": [
      "Loading cached processed dataset at /home/andrzej/.cache/huggingface/datasets/allegro_reviews/default/1.1.0/d0fd6bf6f7f8f2c8faed7ecf9d295c991eac403ca516d3d3593061a913c0476b/cache-b82596b8be4e40b9.arrow\n"
     ]
    },
    {
     "name": "stdout",
     "output_type": "stream",
     "text": [
      " "
     ]
    },
    {
     "name": "stderr",
     "output_type": "stream",
     "text": [
      "Loading cached processed dataset at /home/andrzej/.cache/huggingface/datasets/allegro_reviews/default/1.1.0/d0fd6bf6f7f8f2c8faed7ecf9d295c991eac403ca516d3d3593061a913c0476b/cache-ece3005c586640fc.arrow\n"
     ]
    },
    {
     "name": "stdout",
     "output_type": "stream",
     "text": [
      " "
     ]
    },
    {
     "name": "stderr",
     "output_type": "stream",
     "text": [
      "Loading cached processed dataset at /home/andrzej/.cache/huggingface/datasets/allegro_reviews/default/1.1.0/d0fd6bf6f7f8f2c8faed7ecf9d295c991eac403ca516d3d3593061a913c0476b/cache-66ba8f9f4270bb22.arrow\n"
     ]
    },
    {
     "name": "stdout",
     "output_type": "stream",
     "text": [
      " "
     ]
    },
    {
     "name": "stderr",
     "output_type": "stream",
     "text": [
      "Loading cached processed dataset at /home/andrzej/.cache/huggingface/datasets/allegro_reviews/default/1.1.0/d0fd6bf6f7f8f2c8faed7ecf9d295c991eac403ca516d3d3593061a913c0476b/cache-1c39dc3ff8ec230e.arrow\n"
     ]
    },
    {
     "name": "stdout",
     "output_type": "stream",
     "text": [
      " "
     ]
    },
    {
     "name": "stderr",
     "output_type": "stream",
     "text": [
      "Loading cached processed dataset at /home/andrzej/.cache/huggingface/datasets/allegro_reviews/default/1.1.0/d0fd6bf6f7f8f2c8faed7ecf9d295c991eac403ca516d3d3593061a913c0476b/cache-199dc5036e4d08de.arrow\n"
     ]
    },
    {
     "name": "stdout",
     "output_type": "stream",
     "text": [
      " "
     ]
    },
    {
     "name": "stderr",
     "output_type": "stream",
     "text": [
      "Loading cached processed dataset at /home/andrzej/.cache/huggingface/datasets/allegro_reviews/default/1.1.0/d0fd6bf6f7f8f2c8faed7ecf9d295c991eac403ca516d3d3593061a913c0476b/cache-47a668deeeef0fbd.arrow\n"
     ]
    },
    {
     "name": "stdout",
     "output_type": "stream",
     "text": [
      " "
     ]
    },
    {
     "name": "stderr",
     "output_type": "stream",
     "text": [
      "Loading cached processed dataset at /home/andrzej/.cache/huggingface/datasets/allegro_reviews/default/1.1.0/d0fd6bf6f7f8f2c8faed7ecf9d295c991eac403ca516d3d3593061a913c0476b/cache-e98de9f78a565089.arrow\n"
     ]
    },
    {
     "name": "stdout",
     "output_type": "stream",
     "text": [
      " "
     ]
    },
    {
     "name": "stderr",
     "output_type": "stream",
     "text": [
      "Loading cached processed dataset at /home/andrzej/.cache/huggingface/datasets/allegro_reviews/default/1.1.0/d0fd6bf6f7f8f2c8faed7ecf9d295c991eac403ca516d3d3593061a913c0476b/cache-2b5ea3f4527681d9.arrow\n"
     ]
    },
    {
     "name": "stdout",
     "output_type": "stream",
     "text": [
      " "
     ]
    },
    {
     "name": "stderr",
     "output_type": "stream",
     "text": [
      "Loading cached processed dataset at /home/andrzej/.cache/huggingface/datasets/allegro_reviews/default/1.1.0/d0fd6bf6f7f8f2c8faed7ecf9d295c991eac403ca516d3d3593061a913c0476b/cache-5bc78cb33bb418cc.arrow\n"
     ]
    },
    {
     "name": "stdout",
     "output_type": "stream",
     "text": [
      " "
     ]
    },
    {
     "name": "stderr",
     "output_type": "stream",
     "text": [
      "Loading cached processed dataset at /home/andrzej/.cache/huggingface/datasets/allegro_reviews/default/1.1.0/d0fd6bf6f7f8f2c8faed7ecf9d295c991eac403ca516d3d3593061a913c0476b/cache-62304b9c841f03b5.arrow\n"
     ]
    },
    {
     "name": "stdout",
     "output_type": "stream",
     "text": [
      " "
     ]
    },
    {
     "name": "stderr",
     "output_type": "stream",
     "text": [
      "Loading cached processed dataset at /home/andrzej/.cache/huggingface/datasets/allegro_reviews/default/1.1.0/d0fd6bf6f7f8f2c8faed7ecf9d295c991eac403ca516d3d3593061a913c0476b/cache-22a5915a9052235c.arrow\n"
     ]
    },
    {
     "data": {
      "text/plain": "                                                    text  rating  \\\n0      Jako do ceny dobra. Przyssawka mogłaby być lep...     3.0   \n1      Na słuchawkę czekałam spory czas a po zadzwoni...     1.0   \n2      Czajnik na pierwszy rzut oka wygląda ok, ale n...     1.0   \n3      Bardzo fajny czajnik, na pewno nie gorszy od m...     4.0   \n4      Pomysł na produkt (uchwyt na kierownicę) bardz...     2.0   \n...                                                  ...     ...   \n15593  Hotel z bardzo dobrym jedzeniem , jak już się ...     NaN   \n15594  Zazwyczaj wystawiam mało opinii , ponieważ bra...     NaN   \n15595  Trudno dać wiarę , że na wyciągnięcie ręki od ...     NaN   \n15596  Był em u tego lekarza , ponieważ mój lekarz pr...     NaN   \n15597  Hotel na 5 , rodzinny pobyt all inclusive nie ...     NaN   \n\n                                                text_org  \\\n0      Jako do ceny dobra. Przyssawka mogłaby być lep...   \n1      Na słuchawkę czekałam spory czas a po zadzwoni...   \n2      Czajnik na pierwszy rzut oka wygląda ok, ale n...   \n3      Bardzo fajny czajnik, na pewno nie gorszy od m...   \n4      Pomysł na produkt (uchwyt na kierownicę) bardz...   \n...                                                  ...   \n15593  Hotel z bardzo dobrym jedzeniem , jak już się ...   \n15594  Zazwyczaj wystawiam mało opinii , ponieważ bra...   \n15595  Trudno dać wiarę , że na wyciągnięcie ręki od ...   \n15596  Był em u tego lekarza , ponieważ mój lekarz pr...   \n15597  Hotel na 5 , rodzinny pobyt all inclusive nie ...   \n\n                                           text_clean_up  liczba_zdań  \\\n0      jako do ceny dobra przyssawka mogłaby być leps...            4   \n1      na słuchawkę czekałam spory czas a po zadzwoni...            5   \n2      czajnik na pierwszy rzut oka wygląda ok ale ni...            3   \n3      bardzo fajny czajnik na pewno nie gorszy od ma...            5   \n4      pomysł na produkt uchwyt na kierownicę bardzo ...            5   \n...                                                  ...          ...   \n15593  hotel z bardzo dobrym jedzeniem jak już się ud...            5   \n15594  zazwyczaj wystawiam mało opinii ponieważ braku...           14   \n15595  trudno dać wiarę że na wyciągnięcie ręki od st...            7   \n15596  był em u tego lekarza ponieważ mój lekarz prow...            7   \n15597  hotel na 5 rodzinny pobyt all inclusive nie mó...            9   \n\n       liczba_słów  liczba_tokenów ocena_tekst  \\\n0               48              35  dwuznaczne   \n1              108              49   negatywne   \n2               68              43   negatywne   \n3               61              37  dwuznaczne   \n4               74              51   negatywne   \n...            ...             ...         ...   \n15593           51              32   pozytywne   \n15594          214             127   pozytywne   \n15595           93              50   negatywne   \n15596          111              59   negatywne   \n15597          107              69   pozytywne   \n\n                                             token_tekst  \\\n0      [cena, dobro, przyssawka, móc by, dobry, 2, mi...   \n1      [słuchawka, czekać być, spór, czas, zadzwonien...   \n2      [czajnik, pierwszy, rzut, oko, wyglądać, nie, ...   \n3      [fajny, czajnik, pewno, nie, gorszy, markowy, ...   \n4      [pomysł, produkt, uchwyt, kierownica, dobry, w...   \n...                                                  ...   \n15593  [hotel, dobry, jedzenie, udać, dotrzeć, dać, z...   \n15594  [zazwyczaj, wystawiać, opinia, brakować, czas,...   \n15595  [trudno, dać, wiara, wyciągnięt, ręka, stolica...   \n15596  [lekarz, lekarz, prowadzący, nieobecny, doktor...   \n15597  [hotel, 5, rodzinny, pobyt, all, inclusive, ni...   \n\n                                      token_adj_adv_verb  \\\n0      [móc by, dobry, musieć być, rozkręcić, zacząć,...   \n1      [czekać być, okazać, zawieruszyć, sam, mieć, w...   \n2      [pierwszy, wyglądać, polecać, ciągły, nieprzyj...   \n3      [bardzo, fajny, pewno, gorszy, bosch, trochę, ...   \n4      [bardzo, dobry, słaby, sporadyczć, dolny, pros...   \n...                                                  ...   \n15593  [bardzo, dobry, udać, dotrzeć, dać, zaakceptow...   \n15594  [zazwyczaj, wystawiać, brakować, głęboko, czuć...   \n15595  [trudno, dać, mieć, rzekomo, posiadać, dużo, n...   \n15596  [prowadzący, nieobecny, odczytywać, płatkowy, ...   \n15597  [rodzinny, inclusive, móc, bardzo, udany, cich...   \n\n                                     subset_of_two_words  \\\n0      [cena dobro, dobro przyssawka, przyssawka móc ...   \n1      [słuchawka czekać być, czekać być spór, spór c...   \n2      [czajnik pierwszy, pierwszy rzut, rzut oko, ok...   \n3      [fajny czajnik, czajnik pewno, pewno nie, nie ...   \n4      [pomysł produkt, produkt uchwyt, uchwyt kierow...   \n...                                                  ...   \n15593  [hotel dobry, dobry jedzenie, jedzenie udać, u...   \n15594  [zazwyczaj wystawiać, wystawiać opinia, opinia...   \n15595  [trudno dać, dać wiara, wiara wyciągnięt, wyci...   \n15596  [lekarz lekarz, lekarz prowadzący, prowadzący ...   \n15597  [hotel 5, 5 rodzinny, rodzinny pobyt, pobyt al...   \n\n                                   subset_of_three_words  target  \\\n0      [cena dobro przyssawka, dobro przyssawka móc b...     NaN   \n1      [słuchawka czekać być spór, czekać być spór cz...     NaN   \n2      [czajnik pierwszy rzut, pierwszy rzut oko, rzu...     NaN   \n3      [fajny czajnik pewno, czajnik pewno nie, pewno...     NaN   \n4      [pomysł produkt uchwyt, produkt uchwyt kierown...     NaN   \n...                                                  ...     ...   \n15593  [hotel dobry jedzenie, dobry jedzenie udać, je...     2.0   \n15594  [zazwyczaj wystawiać opinia, wystawiać opinia ...     2.0   \n15595  [trudno dać wiara, dać wiara wyciągnięt, wiara...     1.0   \n15596  [lekarz lekarz prowadzący, lekarz prowadzący n...     1.0   \n15597  [hotel 5 rodzinny, 5 rodzinny pobyt, rodzinny ...     2.0   \n\n       __index_level_0__  \n0                      0  \n1                      1  \n2                      2  \n3                      3  \n4                      4  \n...                  ...  \n15593               6568  \n15594               6569  \n15595               6570  \n15596               6571  \n15597               6572  \n\n[15598 rows x 14 columns]",
      "text/html": "<div>\n<style scoped>\n    .dataframe tbody tr th:only-of-type {\n        vertical-align: middle;\n    }\n\n    .dataframe tbody tr th {\n        vertical-align: top;\n    }\n\n    .dataframe thead th {\n        text-align: right;\n    }\n</style>\n<table border=\"1\" class=\"dataframe\">\n  <thead>\n    <tr style=\"text-align: right;\">\n      <th></th>\n      <th>text</th>\n      <th>rating</th>\n      <th>text_org</th>\n      <th>text_clean_up</th>\n      <th>liczba_zdań</th>\n      <th>liczba_słów</th>\n      <th>liczba_tokenów</th>\n      <th>ocena_tekst</th>\n      <th>token_tekst</th>\n      <th>token_adj_adv_verb</th>\n      <th>subset_of_two_words</th>\n      <th>subset_of_three_words</th>\n      <th>target</th>\n      <th>__index_level_0__</th>\n    </tr>\n  </thead>\n  <tbody>\n    <tr>\n      <th>0</th>\n      <td>Jako do ceny dobra. Przyssawka mogłaby być lep...</td>\n      <td>3.0</td>\n      <td>Jako do ceny dobra. Przyssawka mogłaby być lep...</td>\n      <td>jako do ceny dobra przyssawka mogłaby być leps...</td>\n      <td>4</td>\n      <td>48</td>\n      <td>35</td>\n      <td>dwuznaczne</td>\n      <td>[cena, dobro, przyssawka, móc by, dobry, 2, mi...</td>\n      <td>[móc by, dobry, musieć być, rozkręcić, zacząć,...</td>\n      <td>[cena dobro, dobro przyssawka, przyssawka móc ...</td>\n      <td>[cena dobro przyssawka, dobro przyssawka móc b...</td>\n      <td>NaN</td>\n      <td>0</td>\n    </tr>\n    <tr>\n      <th>1</th>\n      <td>Na słuchawkę czekałam spory czas a po zadzwoni...</td>\n      <td>1.0</td>\n      <td>Na słuchawkę czekałam spory czas a po zadzwoni...</td>\n      <td>na słuchawkę czekałam spory czas a po zadzwoni...</td>\n      <td>5</td>\n      <td>108</td>\n      <td>49</td>\n      <td>negatywne</td>\n      <td>[słuchawka, czekać być, spór, czas, zadzwonien...</td>\n      <td>[czekać być, okazać, zawieruszyć, sam, mieć, w...</td>\n      <td>[słuchawka czekać być, czekać być spór, spór c...</td>\n      <td>[słuchawka czekać być spór, czekać być spór cz...</td>\n      <td>NaN</td>\n      <td>1</td>\n    </tr>\n    <tr>\n      <th>2</th>\n      <td>Czajnik na pierwszy rzut oka wygląda ok, ale n...</td>\n      <td>1.0</td>\n      <td>Czajnik na pierwszy rzut oka wygląda ok, ale n...</td>\n      <td>czajnik na pierwszy rzut oka wygląda ok ale ni...</td>\n      <td>3</td>\n      <td>68</td>\n      <td>43</td>\n      <td>negatywne</td>\n      <td>[czajnik, pierwszy, rzut, oko, wyglądać, nie, ...</td>\n      <td>[pierwszy, wyglądać, polecać, ciągły, nieprzyj...</td>\n      <td>[czajnik pierwszy, pierwszy rzut, rzut oko, ok...</td>\n      <td>[czajnik pierwszy rzut, pierwszy rzut oko, rzu...</td>\n      <td>NaN</td>\n      <td>2</td>\n    </tr>\n    <tr>\n      <th>3</th>\n      <td>Bardzo fajny czajnik, na pewno nie gorszy od m...</td>\n      <td>4.0</td>\n      <td>Bardzo fajny czajnik, na pewno nie gorszy od m...</td>\n      <td>bardzo fajny czajnik na pewno nie gorszy od ma...</td>\n      <td>5</td>\n      <td>61</td>\n      <td>37</td>\n      <td>dwuznaczne</td>\n      <td>[fajny, czajnik, pewno, nie, gorszy, markowy, ...</td>\n      <td>[bardzo, fajny, pewno, gorszy, bosch, trochę, ...</td>\n      <td>[fajny czajnik, czajnik pewno, pewno nie, nie ...</td>\n      <td>[fajny czajnik pewno, czajnik pewno nie, pewno...</td>\n      <td>NaN</td>\n      <td>3</td>\n    </tr>\n    <tr>\n      <th>4</th>\n      <td>Pomysł na produkt (uchwyt na kierownicę) bardz...</td>\n      <td>2.0</td>\n      <td>Pomysł na produkt (uchwyt na kierownicę) bardz...</td>\n      <td>pomysł na produkt uchwyt na kierownicę bardzo ...</td>\n      <td>5</td>\n      <td>74</td>\n      <td>51</td>\n      <td>negatywne</td>\n      <td>[pomysł, produkt, uchwyt, kierownica, dobry, w...</td>\n      <td>[bardzo, dobry, słaby, sporadyczć, dolny, pros...</td>\n      <td>[pomysł produkt, produkt uchwyt, uchwyt kierow...</td>\n      <td>[pomysł produkt uchwyt, produkt uchwyt kierown...</td>\n      <td>NaN</td>\n      <td>4</td>\n    </tr>\n    <tr>\n      <th>...</th>\n      <td>...</td>\n      <td>...</td>\n      <td>...</td>\n      <td>...</td>\n      <td>...</td>\n      <td>...</td>\n      <td>...</td>\n      <td>...</td>\n      <td>...</td>\n      <td>...</td>\n      <td>...</td>\n      <td>...</td>\n      <td>...</td>\n      <td>...</td>\n    </tr>\n    <tr>\n      <th>15593</th>\n      <td>Hotel z bardzo dobrym jedzeniem , jak już się ...</td>\n      <td>NaN</td>\n      <td>Hotel z bardzo dobrym jedzeniem , jak już się ...</td>\n      <td>hotel z bardzo dobrym jedzeniem jak już się ud...</td>\n      <td>5</td>\n      <td>51</td>\n      <td>32</td>\n      <td>pozytywne</td>\n      <td>[hotel, dobry, jedzenie, udać, dotrzeć, dać, z...</td>\n      <td>[bardzo, dobry, udać, dotrzeć, dać, zaakceptow...</td>\n      <td>[hotel dobry, dobry jedzenie, jedzenie udać, u...</td>\n      <td>[hotel dobry jedzenie, dobry jedzenie udać, je...</td>\n      <td>2.0</td>\n      <td>6568</td>\n    </tr>\n    <tr>\n      <th>15594</th>\n      <td>Zazwyczaj wystawiam mało opinii , ponieważ bra...</td>\n      <td>NaN</td>\n      <td>Zazwyczaj wystawiam mało opinii , ponieważ bra...</td>\n      <td>zazwyczaj wystawiam mało opinii ponieważ braku...</td>\n      <td>14</td>\n      <td>214</td>\n      <td>127</td>\n      <td>pozytywne</td>\n      <td>[zazwyczaj, wystawiać, opinia, brakować, czas,...</td>\n      <td>[zazwyczaj, wystawiać, brakować, głęboko, czuć...</td>\n      <td>[zazwyczaj wystawiać, wystawiać opinia, opinia...</td>\n      <td>[zazwyczaj wystawiać opinia, wystawiać opinia ...</td>\n      <td>2.0</td>\n      <td>6569</td>\n    </tr>\n    <tr>\n      <th>15595</th>\n      <td>Trudno dać wiarę , że na wyciągnięcie ręki od ...</td>\n      <td>NaN</td>\n      <td>Trudno dać wiarę , że na wyciągnięcie ręki od ...</td>\n      <td>trudno dać wiarę że na wyciągnięcie ręki od st...</td>\n      <td>7</td>\n      <td>93</td>\n      <td>50</td>\n      <td>negatywne</td>\n      <td>[trudno, dać, wiara, wyciągnięt, ręka, stolica...</td>\n      <td>[trudno, dać, mieć, rzekomo, posiadać, dużo, n...</td>\n      <td>[trudno dać, dać wiara, wiara wyciągnięt, wyci...</td>\n      <td>[trudno dać wiara, dać wiara wyciągnięt, wiara...</td>\n      <td>1.0</td>\n      <td>6570</td>\n    </tr>\n    <tr>\n      <th>15596</th>\n      <td>Był em u tego lekarza , ponieważ mój lekarz pr...</td>\n      <td>NaN</td>\n      <td>Był em u tego lekarza , ponieważ mój lekarz pr...</td>\n      <td>był em u tego lekarza ponieważ mój lekarz prow...</td>\n      <td>7</td>\n      <td>111</td>\n      <td>59</td>\n      <td>negatywne</td>\n      <td>[lekarz, lekarz, prowadzący, nieobecny, doktor...</td>\n      <td>[prowadzący, nieobecny, odczytywać, płatkowy, ...</td>\n      <td>[lekarz lekarz, lekarz prowadzący, prowadzący ...</td>\n      <td>[lekarz lekarz prowadzący, lekarz prowadzący n...</td>\n      <td>1.0</td>\n      <td>6571</td>\n    </tr>\n    <tr>\n      <th>15597</th>\n      <td>Hotel na 5 , rodzinny pobyt all inclusive nie ...</td>\n      <td>NaN</td>\n      <td>Hotel na 5 , rodzinny pobyt all inclusive nie ...</td>\n      <td>hotel na 5 rodzinny pobyt all inclusive nie mó...</td>\n      <td>9</td>\n      <td>107</td>\n      <td>69</td>\n      <td>pozytywne</td>\n      <td>[hotel, 5, rodzinny, pobyt, all, inclusive, ni...</td>\n      <td>[rodzinny, inclusive, móc, bardzo, udany, cich...</td>\n      <td>[hotel 5, 5 rodzinny, rodzinny pobyt, pobyt al...</td>\n      <td>[hotel 5 rodzinny, 5 rodzinny pobyt, rodzinny ...</td>\n      <td>2.0</td>\n      <td>6572</td>\n    </tr>\n  </tbody>\n</table>\n<p>15598 rows × 14 columns</p>\n</div>"
     },
     "execution_count": 13,
     "metadata": {},
     "output_type": "execute_result"
    }
   ],
   "source": [
    "train, validation, test = get_polaczone_dataset_and_split()\n",
    "train"
   ],
   "metadata": {
    "collapsed": false
   }
  },
  {
   "cell_type": "markdown",
   "source": [
    "Map  target value"
   ],
   "metadata": {
    "collapsed": false
   }
  },
  {
   "cell_type": "code",
   "execution_count": 15,
   "outputs": [],
   "source": [
    "from machine_learning.utils.utils import map_target_result\n",
    "\n",
    "target = map_target_result(train)\n",
    "target_val = map_target_result(validation)"
   ],
   "metadata": {
    "collapsed": false
   }
  },
  {
   "cell_type": "markdown",
   "source": [],
   "metadata": {
    "collapsed": false
   }
  },
  {
   "cell_type": "markdown",
   "source": [
    "## Model for token_tekst"
   ],
   "metadata": {
    "collapsed": false
   }
  },
  {
   "cell_type": "markdown",
   "source": [
    "Convert Polish characters"
   ],
   "metadata": {
    "collapsed": false
   }
  },
  {
   "cell_type": "code",
   "execution_count": 16,
   "outputs": [],
   "source": [
    "from machine_learning.utils.utils import get_unicode_text\n",
    "# token_pattern = \";;;;\"\n",
    "token_pattern = \" \"\n",
    "\n",
    "text, texts_val, texts_test = get_unicode_text('token_tekst', train, validation, test, token_pattern)"
   ],
   "metadata": {
    "collapsed": false
   }
  },
  {
   "cell_type": "code",
   "execution_count": 17,
   "outputs": [
    {
     "data": {
      "text/plain": "       0  00  000  0000  0001  000hz  000mah  000mw  000zl  002  ...  zywy  \\\n0      0   0    0     0     0      0       0      0      0    0  ...     0   \n1      0   0    0     0     0      0       0      0      0    0  ...     0   \n2      0   0    0     0     0      0       0      0      0    0  ...     0   \n3      0   0    0     0     0      0       0      0      0    0  ...     0   \n4      0   0    0     0     0      0       0      0      0    0  ...     0   \n...   ..  ..  ...   ...   ...    ...     ...    ...    ...  ...  ...   ...   \n15593  0   0    0     0     0      0       0      0      0    0  ...     0   \n15594  0   0    0     0     0      0       0      0      0    0  ...     0   \n15595  0   0    0     0     0      0       0      0      0    0  ...     0   \n15596  0   0    0     0     0      0       0      0      0    0  ...     0   \n15597  0   0    0     0     0      0       0      0      0    0  ...     0   \n\n       zz  zza  zzarysowanie  zzerac  zznalezc  zzolkly  zzolknac  \\\n0       0    0             0       0         0        0         0   \n1       0    0             0       0         0        0         0   \n2       0    0             0       0         0        0         0   \n3       0    0             0       0         0        0         0   \n4       0    0             0       0         0        0         0   \n...    ..  ...           ...     ...       ...      ...       ...   \n15593   0    0             0       0         0        0         0   \n15594   0    0             0       0         0        0         0   \n15595   0    0             0       0         0        0         0   \n15596   0    0             0       0         0        0         0   \n15597   0    0             0       0         0        0         0   \n\n       zzolkniecie  zzolkniety  \n0                0           0  \n1                0           0  \n2                0           0  \n3                0           0  \n4                0           0  \n...            ...         ...  \n15593            0           0  \n15594            0           0  \n15595            0           0  \n15596            0           0  \n15597            0           0  \n\n[15598 rows x 63419 columns]",
      "text/html": "<div>\n<style scoped>\n    .dataframe tbody tr th:only-of-type {\n        vertical-align: middle;\n    }\n\n    .dataframe tbody tr th {\n        vertical-align: top;\n    }\n\n    .dataframe thead th {\n        text-align: right;\n    }\n</style>\n<table border=\"1\" class=\"dataframe\">\n  <thead>\n    <tr style=\"text-align: right;\">\n      <th></th>\n      <th>0</th>\n      <th>00</th>\n      <th>000</th>\n      <th>0000</th>\n      <th>0001</th>\n      <th>000hz</th>\n      <th>000mah</th>\n      <th>000mw</th>\n      <th>000zl</th>\n      <th>002</th>\n      <th>...</th>\n      <th>zywy</th>\n      <th>zz</th>\n      <th>zza</th>\n      <th>zzarysowanie</th>\n      <th>zzerac</th>\n      <th>zznalezc</th>\n      <th>zzolkly</th>\n      <th>zzolknac</th>\n      <th>zzolkniecie</th>\n      <th>zzolkniety</th>\n    </tr>\n  </thead>\n  <tbody>\n    <tr>\n      <th>0</th>\n      <td>0</td>\n      <td>0</td>\n      <td>0</td>\n      <td>0</td>\n      <td>0</td>\n      <td>0</td>\n      <td>0</td>\n      <td>0</td>\n      <td>0</td>\n      <td>0</td>\n      <td>...</td>\n      <td>0</td>\n      <td>0</td>\n      <td>0</td>\n      <td>0</td>\n      <td>0</td>\n      <td>0</td>\n      <td>0</td>\n      <td>0</td>\n      <td>0</td>\n      <td>0</td>\n    </tr>\n    <tr>\n      <th>1</th>\n      <td>0</td>\n      <td>0</td>\n      <td>0</td>\n      <td>0</td>\n      <td>0</td>\n      <td>0</td>\n      <td>0</td>\n      <td>0</td>\n      <td>0</td>\n      <td>0</td>\n      <td>...</td>\n      <td>0</td>\n      <td>0</td>\n      <td>0</td>\n      <td>0</td>\n      <td>0</td>\n      <td>0</td>\n      <td>0</td>\n      <td>0</td>\n      <td>0</td>\n      <td>0</td>\n    </tr>\n    <tr>\n      <th>2</th>\n      <td>0</td>\n      <td>0</td>\n      <td>0</td>\n      <td>0</td>\n      <td>0</td>\n      <td>0</td>\n      <td>0</td>\n      <td>0</td>\n      <td>0</td>\n      <td>0</td>\n      <td>...</td>\n      <td>0</td>\n      <td>0</td>\n      <td>0</td>\n      <td>0</td>\n      <td>0</td>\n      <td>0</td>\n      <td>0</td>\n      <td>0</td>\n      <td>0</td>\n      <td>0</td>\n    </tr>\n    <tr>\n      <th>3</th>\n      <td>0</td>\n      <td>0</td>\n      <td>0</td>\n      <td>0</td>\n      <td>0</td>\n      <td>0</td>\n      <td>0</td>\n      <td>0</td>\n      <td>0</td>\n      <td>0</td>\n      <td>...</td>\n      <td>0</td>\n      <td>0</td>\n      <td>0</td>\n      <td>0</td>\n      <td>0</td>\n      <td>0</td>\n      <td>0</td>\n      <td>0</td>\n      <td>0</td>\n      <td>0</td>\n    </tr>\n    <tr>\n      <th>4</th>\n      <td>0</td>\n      <td>0</td>\n      <td>0</td>\n      <td>0</td>\n      <td>0</td>\n      <td>0</td>\n      <td>0</td>\n      <td>0</td>\n      <td>0</td>\n      <td>0</td>\n      <td>...</td>\n      <td>0</td>\n      <td>0</td>\n      <td>0</td>\n      <td>0</td>\n      <td>0</td>\n      <td>0</td>\n      <td>0</td>\n      <td>0</td>\n      <td>0</td>\n      <td>0</td>\n    </tr>\n    <tr>\n      <th>...</th>\n      <td>...</td>\n      <td>...</td>\n      <td>...</td>\n      <td>...</td>\n      <td>...</td>\n      <td>...</td>\n      <td>...</td>\n      <td>...</td>\n      <td>...</td>\n      <td>...</td>\n      <td>...</td>\n      <td>...</td>\n      <td>...</td>\n      <td>...</td>\n      <td>...</td>\n      <td>...</td>\n      <td>...</td>\n      <td>...</td>\n      <td>...</td>\n      <td>...</td>\n      <td>...</td>\n    </tr>\n    <tr>\n      <th>15593</th>\n      <td>0</td>\n      <td>0</td>\n      <td>0</td>\n      <td>0</td>\n      <td>0</td>\n      <td>0</td>\n      <td>0</td>\n      <td>0</td>\n      <td>0</td>\n      <td>0</td>\n      <td>...</td>\n      <td>0</td>\n      <td>0</td>\n      <td>0</td>\n      <td>0</td>\n      <td>0</td>\n      <td>0</td>\n      <td>0</td>\n      <td>0</td>\n      <td>0</td>\n      <td>0</td>\n    </tr>\n    <tr>\n      <th>15594</th>\n      <td>0</td>\n      <td>0</td>\n      <td>0</td>\n      <td>0</td>\n      <td>0</td>\n      <td>0</td>\n      <td>0</td>\n      <td>0</td>\n      <td>0</td>\n      <td>0</td>\n      <td>...</td>\n      <td>0</td>\n      <td>0</td>\n      <td>0</td>\n      <td>0</td>\n      <td>0</td>\n      <td>0</td>\n      <td>0</td>\n      <td>0</td>\n      <td>0</td>\n      <td>0</td>\n    </tr>\n    <tr>\n      <th>15595</th>\n      <td>0</td>\n      <td>0</td>\n      <td>0</td>\n      <td>0</td>\n      <td>0</td>\n      <td>0</td>\n      <td>0</td>\n      <td>0</td>\n      <td>0</td>\n      <td>0</td>\n      <td>...</td>\n      <td>0</td>\n      <td>0</td>\n      <td>0</td>\n      <td>0</td>\n      <td>0</td>\n      <td>0</td>\n      <td>0</td>\n      <td>0</td>\n      <td>0</td>\n      <td>0</td>\n    </tr>\n    <tr>\n      <th>15596</th>\n      <td>0</td>\n      <td>0</td>\n      <td>0</td>\n      <td>0</td>\n      <td>0</td>\n      <td>0</td>\n      <td>0</td>\n      <td>0</td>\n      <td>0</td>\n      <td>0</td>\n      <td>...</td>\n      <td>0</td>\n      <td>0</td>\n      <td>0</td>\n      <td>0</td>\n      <td>0</td>\n      <td>0</td>\n      <td>0</td>\n      <td>0</td>\n      <td>0</td>\n      <td>0</td>\n    </tr>\n    <tr>\n      <th>15597</th>\n      <td>0</td>\n      <td>0</td>\n      <td>0</td>\n      <td>0</td>\n      <td>0</td>\n      <td>0</td>\n      <td>0</td>\n      <td>0</td>\n      <td>0</td>\n      <td>0</td>\n      <td>...</td>\n      <td>0</td>\n      <td>0</td>\n      <td>0</td>\n      <td>0</td>\n      <td>0</td>\n      <td>0</td>\n      <td>0</td>\n      <td>0</td>\n      <td>0</td>\n      <td>0</td>\n    </tr>\n  </tbody>\n</table>\n<p>15598 rows × 63419 columns</p>\n</div>"
     },
     "execution_count": 17,
     "metadata": {},
     "output_type": "execute_result"
    }
   ],
   "source": [
    "import pandas as pd\n",
    "from sklearn.feature_extraction.text import CountVectorizer, TfidfTransformer\n",
    "\n",
    "vectorizer =  CountVectorizer(strip_accents='ascii',tokenizer= lambda x: x.split(token_pattern))\n",
    "vectorizer_result = vectorizer.fit_transform(text)\n",
    "pd.DataFrame(data=vectorizer_result.toarray(), columns=vectorizer.get_feature_names_out()) # before 65573 # 64351"
   ],
   "metadata": {
    "collapsed": false
   }
  },
  {
   "cell_type": "markdown",
   "source": [
    "65573 - with special characters\n",
    "64351 - with tokenizer\n",
    "63419 - without  tokenizer"
   ],
   "metadata": {
    "collapsed": false
   }
  },
  {
   "cell_type": "markdown",
   "source": [
    "GridSearch"
   ],
   "metadata": {
    "collapsed": false
   }
  },
  {
   "cell_type": "code",
   "execution_count": 5,
   "outputs": [
    {
     "name": "stderr",
     "output_type": "stream",
     "text": [
      "/home/andrzej/PycharmProjects/diploma_project/venv/lib/python3.9/site-packages/joblib/externals/loky/process_executor.py:700: UserWarning: A worker stopped while some jobs were given to the executor. This can be caused by a too short worker timeout or by a memory leak.\n",
      "  warnings.warn(\n"
     ]
    },
    {
     "name": "stdout",
     "output_type": "stream",
     "text": [
      "0.7316357149316431\n",
      "clf__C: 10\n",
      "tfidf__use_idf: True\n",
      "vect__min_df: 2\n",
      "vect__ngram_range: (1, 3)\n"
     ]
    }
   ],
   "source": [
    "from sklearn.model_selection import GridSearchCV\n",
    "from sklearn.linear_model import LogisticRegression\n",
    "from sklearn.feature_extraction.text import CountVectorizer, TfidfTransformer\n",
    "from sklearn.pipeline import Pipeline\n",
    "import numpy as np\n",
    "text_clf = Pipeline(\n",
    "    [\n",
    "        (\"vect\", CountVectorizer(strip_accents='ascii',tokenizer= lambda x: x.split(token_pattern))),\n",
    "        (\"tfidf\", TfidfTransformer()),\n",
    "        (\"clf\", LogisticRegression(max_iter=1000, n_jobs=-1, multi_class='ovr')),\n",
    "    ]\n",
    ")\n",
    "parameters = {\n",
    "    'vect__ngram_range': [(1, 1), (1, 2), (1, 3)],\n",
    "    'vect__min_df': [1, 2, 3],\n",
    "    'tfidf__use_idf': (True, False),\n",
    "    'clf__C': (0.1, 1, 10)\n",
    "\n",
    "}\n",
    "\n",
    "text_grid = np.hstack( [text.values, texts_val.values])\n",
    "target_grid = target + target_val\n",
    "\n",
    "gs_clf = GridSearchCV(text_clf, parameters, cv=5, n_jobs=-1)\n",
    "gs_clf = gs_clf.fit(text, target)\n",
    "print(\"he best mean score\", gs_clf.best_score_, \"std test score\", gs_clf.cv_results_['std_test_score'][gs_clf.best_index_])\n",
    "\n",
    "for param_name in sorted(parameters.keys()):\n",
    "    print(\"%s: %r\" % (param_name, gs_clf.best_params_[param_name]))\n"
   ],
   "metadata": {
    "collapsed": false
   }
  },
  {
   "cell_type": "code",
   "execution_count": 8,
   "outputs": [
    {
     "name": "stdout",
     "output_type": "stream",
     "text": [
      "he best mean score 0.7318277759965801 std test score 0.025926755487558507\n",
      "clf__C: 5\n",
      "vect__min_df: 2\n",
      "vect__ngram_range: (1, 3)\n"
     ]
    }
   ],
   "source": [
    "from sklearn.model_selection import GridSearchCV\n",
    "from sklearn.linear_model import LogisticRegression\n",
    "from sklearn.feature_extraction.text import CountVectorizer, TfidfTransformer\n",
    "from sklearn.pipeline import Pipeline\n",
    "import numpy as np\n",
    "\n",
    "text_clf = Pipeline(\n",
    "    [\n",
    "        (\"vect\", CountVectorizer(strip_accents='ascii', tokenizer=lambda x: x.split(token_pattern))),\n",
    "        (\"tfidf\", TfidfTransformer()),\n",
    "        (\"clf\", LogisticRegression(max_iter=1000, n_jobs=-1, multi_class='ovr')),\n",
    "    ]\n",
    ")\n",
    "parameters = {\n",
    "    'vect__ngram_range': [(1, 3)],\n",
    "    'vect__min_df': [ 2],\n",
    "    # 'tfidf__use_idf': (True, False),\n",
    "    'clf__C': ( 1, 5, 10, 15)\n",
    "\n",
    "}\n",
    "\n",
    "text_grid = np.hstack([text.values, texts_val.values])\n",
    "target_grid = target + target_val\n",
    "\n",
    "gs_clf = GridSearchCV(text_clf, parameters, cv=5, n_jobs=-1)\n",
    "gs_clf = gs_clf.fit(text, target)\n",
    "print(\"he best mean score\", gs_clf.best_score_, \"std test score\",\n",
    "      gs_clf.cv_results_['std_test_score'][gs_clf.best_index_])\n",
    "\n",
    "for param_name in sorted(parameters.keys()):\n",
    "    print(\"%s: %r\" % (param_name, gs_clf.best_params_[param_name]))\n"
   ],
   "metadata": {
    "collapsed": false
   }
  },
  {
   "cell_type": "markdown",
   "source": [
    "Plot"
   ],
   "metadata": {
    "collapsed": false
   }
  },
  {
   "cell_type": "code",
   "execution_count": 42,
   "outputs": [],
   "source": [
    "scores  = []\n",
    "scores_train  = []\n",
    "\n",
    "for c in np.linspace(0,20,51):\n",
    "    if c==0:\n",
    "        continue\n",
    "\n",
    "    text_clf = Pipeline(\n",
    "        [\n",
    "            (\"vect\", CountVectorizer(strip_accents='ascii', min_df=2,ngram_range= (1, 3), tokenizer=lambda x: x.split(token_pattern))),\n",
    "            (\"tfidf\", TfidfTransformer()),\n",
    "            (\"clf\", LogisticRegression(C=c, max_iter=1000, n_jobs=-1, multi_class='ovr')),\n",
    "        ]\n",
    "    )\n",
    "\n",
    "    text_clf.fit(text,target)\n",
    "    scores.append(text_clf.score(texts_val,target_val))\n",
    "    scores_train.append(text_clf.score(text,target))"
   ],
   "metadata": {
    "collapsed": false
   }
  },
  {
   "cell_type": "markdown",
   "source": [],
   "metadata": {
    "collapsed": false
   }
  },
  {
   "cell_type": "code",
   "execution_count": 49,
   "outputs": [
    {
     "data": {
      "text/plain": "<matplotlib.legend.Legend at 0x7fe5b74d3b50>"
     },
     "execution_count": 49,
     "metadata": {},
     "output_type": "execute_result"
    },
    {
     "data": {
      "text/plain": "<Figure size 640x480 with 1 Axes>",
      "image/png": "[encoded data removed]"
     },
     "metadata": {},
     "output_type": "display_data"
    }
   ],
   "source": [
    "\n",
    "from matplotlib import pyplot as plt\n",
    "\n",
    "plt.plot(np.linspace(0,20,51)[1:],scores,label='validation')\n",
    "plt.plot(np.linspace(0,20,51)[1:],scores_train, label='train')\n",
    "plt.legend()"
   ],
   "metadata": {
    "collapsed": false
   }
  },
  {
   "cell_type": "markdown",
   "source": [
    "Random Forrest"
   ],
   "metadata": {
    "collapsed": false
   }
  },
  {
   "cell_type": "code",
   "execution_count": null,
   "outputs": [
    {
     "ename": "KeyboardInterrupt",
     "evalue": "",
     "output_type": "error",
     "traceback": [
      "\u001B[0;31m---------------------------------------------------------------------------\u001B[0m",
      "\u001B[0;31mKeyboardInterrupt\u001B[0m                         Traceback (most recent call last)",
      "Cell \u001B[0;32mIn [21], line 23\u001B[0m\n\u001B[1;32m     20\u001B[0m target_grid \u001B[38;5;241m=\u001B[39m target \u001B[38;5;241m+\u001B[39m target_val\n\u001B[1;32m     22\u001B[0m gs_clf \u001B[38;5;241m=\u001B[39m GridSearchCV(text_clf, parameters, cv\u001B[38;5;241m=\u001B[39m\u001B[38;5;241m5\u001B[39m, n_jobs\u001B[38;5;241m=\u001B[39m\u001B[38;5;241m-\u001B[39m\u001B[38;5;241m1\u001B[39m)\n\u001B[0;32m---> 23\u001B[0m gs_clf \u001B[38;5;241m=\u001B[39m gs_clf\u001B[38;5;241m.\u001B[39mfit(text, target)\n\u001B[1;32m     25\u001B[0m \u001B[38;5;28mprint\u001B[39m(\u001B[38;5;124m\"\u001B[39m\u001B[38;5;124mhe best mean score\u001B[39m\u001B[38;5;124m\"\u001B[39m, gs_clf\u001B[38;5;241m.\u001B[39mbest_score_, \u001B[38;5;124m\"\u001B[39m\u001B[38;5;124mstd test score\u001B[39m\u001B[38;5;124m\"\u001B[39m,\n\u001B[1;32m     26\u001B[0m       gs_clf\u001B[38;5;241m.\u001B[39mcv_results_[\u001B[38;5;124m'\u001B[39m\u001B[38;5;124mstd_test_score\u001B[39m\u001B[38;5;124m'\u001B[39m][gs_clf\u001B[38;5;241m.\u001B[39mbest_index_])\n\u001B[1;32m     29\u001B[0m \u001B[38;5;28;01mfor\u001B[39;00m param_name \u001B[38;5;129;01min\u001B[39;00m \u001B[38;5;28msorted\u001B[39m(parameters\u001B[38;5;241m.\u001B[39mkeys()):\n",
      "File \u001B[0;32m~/PycharmProjects/diploma_project/venv/lib/python3.9/site-packages/sklearn/model_selection/_search.py:875\u001B[0m, in \u001B[0;36mBaseSearchCV.fit\u001B[0;34m(self, X, y, groups, **fit_params)\u001B[0m\n\u001B[1;32m    869\u001B[0m     results \u001B[38;5;241m=\u001B[39m \u001B[38;5;28mself\u001B[39m\u001B[38;5;241m.\u001B[39m_format_results(\n\u001B[1;32m    870\u001B[0m         all_candidate_params, n_splits, all_out, all_more_results\n\u001B[1;32m    871\u001B[0m     )\n\u001B[1;32m    873\u001B[0m     \u001B[38;5;28;01mreturn\u001B[39;00m results\n\u001B[0;32m--> 875\u001B[0m \u001B[38;5;28;43mself\u001B[39;49m\u001B[38;5;241;43m.\u001B[39;49m\u001B[43m_run_search\u001B[49m\u001B[43m(\u001B[49m\u001B[43mevaluate_candidates\u001B[49m\u001B[43m)\u001B[49m\n\u001B[1;32m    877\u001B[0m \u001B[38;5;66;03m# multimetric is determined here because in the case of a callable\u001B[39;00m\n\u001B[1;32m    878\u001B[0m \u001B[38;5;66;03m# self.scoring the return type is only known after calling\u001B[39;00m\n\u001B[1;32m    879\u001B[0m first_test_score \u001B[38;5;241m=\u001B[39m all_out[\u001B[38;5;241m0\u001B[39m][\u001B[38;5;124m\"\u001B[39m\u001B[38;5;124mtest_scores\u001B[39m\u001B[38;5;124m\"\u001B[39m]\n",
      "File \u001B[0;32m~/PycharmProjects/diploma_project/venv/lib/python3.9/site-packages/sklearn/model_selection/_search.py:1379\u001B[0m, in \u001B[0;36mGridSearchCV._run_search\u001B[0;34m(self, evaluate_candidates)\u001B[0m\n\u001B[1;32m   1377\u001B[0m \u001B[38;5;28;01mdef\u001B[39;00m \u001B[38;5;21m_run_search\u001B[39m(\u001B[38;5;28mself\u001B[39m, evaluate_candidates):\n\u001B[1;32m   1378\u001B[0m     \u001B[38;5;124;03m\"\"\"Search all candidates in param_grid\"\"\"\u001B[39;00m\n\u001B[0;32m-> 1379\u001B[0m     \u001B[43mevaluate_candidates\u001B[49m\u001B[43m(\u001B[49m\u001B[43mParameterGrid\u001B[49m\u001B[43m(\u001B[49m\u001B[38;5;28;43mself\u001B[39;49m\u001B[38;5;241;43m.\u001B[39;49m\u001B[43mparam_grid\u001B[49m\u001B[43m)\u001B[49m\u001B[43m)\u001B[49m\n",
      "File \u001B[0;32m~/PycharmProjects/diploma_project/venv/lib/python3.9/site-packages/sklearn/model_selection/_search.py:822\u001B[0m, in \u001B[0;36mBaseSearchCV.fit.<locals>.evaluate_candidates\u001B[0;34m(candidate_params, cv, more_results)\u001B[0m\n\u001B[1;32m    814\u001B[0m \u001B[38;5;28;01mif\u001B[39;00m \u001B[38;5;28mself\u001B[39m\u001B[38;5;241m.\u001B[39mverbose \u001B[38;5;241m>\u001B[39m \u001B[38;5;241m0\u001B[39m:\n\u001B[1;32m    815\u001B[0m     \u001B[38;5;28mprint\u001B[39m(\n\u001B[1;32m    816\u001B[0m         \u001B[38;5;124m\"\u001B[39m\u001B[38;5;124mFitting \u001B[39m\u001B[38;5;132;01m{0}\u001B[39;00m\u001B[38;5;124m folds for each of \u001B[39m\u001B[38;5;132;01m{1}\u001B[39;00m\u001B[38;5;124m candidates,\u001B[39m\u001B[38;5;124m\"\u001B[39m\n\u001B[1;32m    817\u001B[0m         \u001B[38;5;124m\"\u001B[39m\u001B[38;5;124m totalling \u001B[39m\u001B[38;5;132;01m{2}\u001B[39;00m\u001B[38;5;124m fits\u001B[39m\u001B[38;5;124m\"\u001B[39m\u001B[38;5;241m.\u001B[39mformat(\n\u001B[1;32m    818\u001B[0m             n_splits, n_candidates, n_candidates \u001B[38;5;241m*\u001B[39m n_splits\n\u001B[1;32m    819\u001B[0m         )\n\u001B[1;32m    820\u001B[0m     )\n\u001B[0;32m--> 822\u001B[0m out \u001B[38;5;241m=\u001B[39m \u001B[43mparallel\u001B[49m\u001B[43m(\u001B[49m\n\u001B[1;32m    823\u001B[0m \u001B[43m    \u001B[49m\u001B[43mdelayed\u001B[49m\u001B[43m(\u001B[49m\u001B[43m_fit_and_score\u001B[49m\u001B[43m)\u001B[49m\u001B[43m(\u001B[49m\n\u001B[1;32m    824\u001B[0m \u001B[43m        \u001B[49m\u001B[43mclone\u001B[49m\u001B[43m(\u001B[49m\u001B[43mbase_estimator\u001B[49m\u001B[43m)\u001B[49m\u001B[43m,\u001B[49m\n\u001B[1;32m    825\u001B[0m \u001B[43m        \u001B[49m\u001B[43mX\u001B[49m\u001B[43m,\u001B[49m\n\u001B[1;32m    826\u001B[0m \u001B[43m        \u001B[49m\u001B[43my\u001B[49m\u001B[43m,\u001B[49m\n\u001B[1;32m    827\u001B[0m \u001B[43m        \u001B[49m\u001B[43mtrain\u001B[49m\u001B[38;5;241;43m=\u001B[39;49m\u001B[43mtrain\u001B[49m\u001B[43m,\u001B[49m\n\u001B[1;32m    828\u001B[0m \u001B[43m        \u001B[49m\u001B[43mtest\u001B[49m\u001B[38;5;241;43m=\u001B[39;49m\u001B[43mtest\u001B[49m\u001B[43m,\u001B[49m\n\u001B[1;32m    829\u001B[0m \u001B[43m        \u001B[49m\u001B[43mparameters\u001B[49m\u001B[38;5;241;43m=\u001B[39;49m\u001B[43mparameters\u001B[49m\u001B[43m,\u001B[49m\n\u001B[1;32m    830\u001B[0m \u001B[43m        \u001B[49m\u001B[43msplit_progress\u001B[49m\u001B[38;5;241;43m=\u001B[39;49m\u001B[43m(\u001B[49m\u001B[43msplit_idx\u001B[49m\u001B[43m,\u001B[49m\u001B[43m \u001B[49m\u001B[43mn_splits\u001B[49m\u001B[43m)\u001B[49m\u001B[43m,\u001B[49m\n\u001B[1;32m    831\u001B[0m \u001B[43m        \u001B[49m\u001B[43mcandidate_progress\u001B[49m\u001B[38;5;241;43m=\u001B[39;49m\u001B[43m(\u001B[49m\u001B[43mcand_idx\u001B[49m\u001B[43m,\u001B[49m\u001B[43m \u001B[49m\u001B[43mn_candidates\u001B[49m\u001B[43m)\u001B[49m\u001B[43m,\u001B[49m\n\u001B[1;32m    832\u001B[0m \u001B[43m        \u001B[49m\u001B[38;5;241;43m*\u001B[39;49m\u001B[38;5;241;43m*\u001B[39;49m\u001B[43mfit_and_score_kwargs\u001B[49m\u001B[43m,\u001B[49m\n\u001B[1;32m    833\u001B[0m \u001B[43m    \u001B[49m\u001B[43m)\u001B[49m\n\u001B[1;32m    834\u001B[0m \u001B[43m    \u001B[49m\u001B[38;5;28;43;01mfor\u001B[39;49;00m\u001B[43m \u001B[49m\u001B[43m(\u001B[49m\u001B[43mcand_idx\u001B[49m\u001B[43m,\u001B[49m\u001B[43m \u001B[49m\u001B[43mparameters\u001B[49m\u001B[43m)\u001B[49m\u001B[43m,\u001B[49m\u001B[43m \u001B[49m\u001B[43m(\u001B[49m\u001B[43msplit_idx\u001B[49m\u001B[43m,\u001B[49m\u001B[43m \u001B[49m\u001B[43m(\u001B[49m\u001B[43mtrain\u001B[49m\u001B[43m,\u001B[49m\u001B[43m \u001B[49m\u001B[43mtest\u001B[49m\u001B[43m)\u001B[49m\u001B[43m)\u001B[49m\u001B[43m \u001B[49m\u001B[38;5;129;43;01min\u001B[39;49;00m\u001B[43m \u001B[49m\u001B[43mproduct\u001B[49m\u001B[43m(\u001B[49m\n\u001B[1;32m    835\u001B[0m \u001B[43m        \u001B[49m\u001B[38;5;28;43menumerate\u001B[39;49m\u001B[43m(\u001B[49m\u001B[43mcandidate_params\u001B[49m\u001B[43m)\u001B[49m\u001B[43m,\u001B[49m\u001B[43m \u001B[49m\u001B[38;5;28;43menumerate\u001B[39;49m\u001B[43m(\u001B[49m\u001B[43mcv\u001B[49m\u001B[38;5;241;43m.\u001B[39;49m\u001B[43msplit\u001B[49m\u001B[43m(\u001B[49m\u001B[43mX\u001B[49m\u001B[43m,\u001B[49m\u001B[43m \u001B[49m\u001B[43my\u001B[49m\u001B[43m,\u001B[49m\u001B[43m \u001B[49m\u001B[43mgroups\u001B[49m\u001B[43m)\u001B[49m\u001B[43m)\u001B[49m\n\u001B[1;32m    836\u001B[0m \u001B[43m    \u001B[49m\u001B[43m)\u001B[49m\n\u001B[1;32m    837\u001B[0m \u001B[43m\u001B[49m\u001B[43m)\u001B[49m\n\u001B[1;32m    839\u001B[0m \u001B[38;5;28;01mif\u001B[39;00m \u001B[38;5;28mlen\u001B[39m(out) \u001B[38;5;241m<\u001B[39m \u001B[38;5;241m1\u001B[39m:\n\u001B[1;32m    840\u001B[0m     \u001B[38;5;28;01mraise\u001B[39;00m \u001B[38;5;167;01mValueError\u001B[39;00m(\n\u001B[1;32m    841\u001B[0m         \u001B[38;5;124m\"\u001B[39m\u001B[38;5;124mNo fits were performed. \u001B[39m\u001B[38;5;124m\"\u001B[39m\n\u001B[1;32m    842\u001B[0m         \u001B[38;5;124m\"\u001B[39m\u001B[38;5;124mWas the CV iterator empty? \u001B[39m\u001B[38;5;124m\"\u001B[39m\n\u001B[1;32m    843\u001B[0m         \u001B[38;5;124m\"\u001B[39m\u001B[38;5;124mWere there no candidates?\u001B[39m\u001B[38;5;124m\"\u001B[39m\n\u001B[1;32m    844\u001B[0m     )\n",
      "File \u001B[0;32m~/PycharmProjects/diploma_project/venv/lib/python3.9/site-packages/joblib/parallel.py:1098\u001B[0m, in \u001B[0;36mParallel.__call__\u001B[0;34m(self, iterable)\u001B[0m\n\u001B[1;32m   1095\u001B[0m     \u001B[38;5;28mself\u001B[39m\u001B[38;5;241m.\u001B[39m_iterating \u001B[38;5;241m=\u001B[39m \u001B[38;5;28;01mFalse\u001B[39;00m\n\u001B[1;32m   1097\u001B[0m \u001B[38;5;28;01mwith\u001B[39;00m \u001B[38;5;28mself\u001B[39m\u001B[38;5;241m.\u001B[39m_backend\u001B[38;5;241m.\u001B[39mretrieval_context():\n\u001B[0;32m-> 1098\u001B[0m     \u001B[38;5;28;43mself\u001B[39;49m\u001B[38;5;241;43m.\u001B[39;49m\u001B[43mretrieve\u001B[49m\u001B[43m(\u001B[49m\u001B[43m)\u001B[49m\n\u001B[1;32m   1099\u001B[0m \u001B[38;5;66;03m# Make sure that we get a last message telling us we are done\u001B[39;00m\n\u001B[1;32m   1100\u001B[0m elapsed_time \u001B[38;5;241m=\u001B[39m time\u001B[38;5;241m.\u001B[39mtime() \u001B[38;5;241m-\u001B[39m \u001B[38;5;28mself\u001B[39m\u001B[38;5;241m.\u001B[39m_start_time\n",
      "File \u001B[0;32m~/PycharmProjects/diploma_project/venv/lib/python3.9/site-packages/joblib/parallel.py:975\u001B[0m, in \u001B[0;36mParallel.retrieve\u001B[0;34m(self)\u001B[0m\n\u001B[1;32m    973\u001B[0m \u001B[38;5;28;01mtry\u001B[39;00m:\n\u001B[1;32m    974\u001B[0m     \u001B[38;5;28;01mif\u001B[39;00m \u001B[38;5;28mgetattr\u001B[39m(\u001B[38;5;28mself\u001B[39m\u001B[38;5;241m.\u001B[39m_backend, \u001B[38;5;124m'\u001B[39m\u001B[38;5;124msupports_timeout\u001B[39m\u001B[38;5;124m'\u001B[39m, \u001B[38;5;28;01mFalse\u001B[39;00m):\n\u001B[0;32m--> 975\u001B[0m         \u001B[38;5;28mself\u001B[39m\u001B[38;5;241m.\u001B[39m_output\u001B[38;5;241m.\u001B[39mextend(\u001B[43mjob\u001B[49m\u001B[38;5;241;43m.\u001B[39;49m\u001B[43mget\u001B[49m\u001B[43m(\u001B[49m\u001B[43mtimeout\u001B[49m\u001B[38;5;241;43m=\u001B[39;49m\u001B[38;5;28;43mself\u001B[39;49m\u001B[38;5;241;43m.\u001B[39;49m\u001B[43mtimeout\u001B[49m\u001B[43m)\u001B[49m)\n\u001B[1;32m    976\u001B[0m     \u001B[38;5;28;01melse\u001B[39;00m:\n\u001B[1;32m    977\u001B[0m         \u001B[38;5;28mself\u001B[39m\u001B[38;5;241m.\u001B[39m_output\u001B[38;5;241m.\u001B[39mextend(job\u001B[38;5;241m.\u001B[39mget())\n",
      "File \u001B[0;32m~/PycharmProjects/diploma_project/venv/lib/python3.9/site-packages/joblib/_parallel_backends.py:567\u001B[0m, in \u001B[0;36mLokyBackend.wrap_future_result\u001B[0;34m(future, timeout)\u001B[0m\n\u001B[1;32m    564\u001B[0m \u001B[38;5;124;03m\"\"\"Wrapper for Future.result to implement the same behaviour as\u001B[39;00m\n\u001B[1;32m    565\u001B[0m \u001B[38;5;124;03mAsyncResults.get from multiprocessing.\"\"\"\u001B[39;00m\n\u001B[1;32m    566\u001B[0m \u001B[38;5;28;01mtry\u001B[39;00m:\n\u001B[0;32m--> 567\u001B[0m     \u001B[38;5;28;01mreturn\u001B[39;00m \u001B[43mfuture\u001B[49m\u001B[38;5;241;43m.\u001B[39;49m\u001B[43mresult\u001B[49m\u001B[43m(\u001B[49m\u001B[43mtimeout\u001B[49m\u001B[38;5;241;43m=\u001B[39;49m\u001B[43mtimeout\u001B[49m\u001B[43m)\u001B[49m\n\u001B[1;32m    568\u001B[0m \u001B[38;5;28;01mexcept\u001B[39;00m CfTimeoutError \u001B[38;5;28;01mas\u001B[39;00m e:\n\u001B[1;32m    569\u001B[0m     \u001B[38;5;28;01mraise\u001B[39;00m \u001B[38;5;167;01mTimeoutError\u001B[39;00m \u001B[38;5;28;01mfrom\u001B[39;00m \u001B[38;5;21;01me\u001B[39;00m\n",
      "File \u001B[0;32m/usr/lib/python3.9/concurrent/futures/_base.py:440\u001B[0m, in \u001B[0;36mFuture.result\u001B[0;34m(self, timeout)\u001B[0m\n\u001B[1;32m    437\u001B[0m \u001B[38;5;28;01melif\u001B[39;00m \u001B[38;5;28mself\u001B[39m\u001B[38;5;241m.\u001B[39m_state \u001B[38;5;241m==\u001B[39m FINISHED:\n\u001B[1;32m    438\u001B[0m     \u001B[38;5;28;01mreturn\u001B[39;00m \u001B[38;5;28mself\u001B[39m\u001B[38;5;241m.\u001B[39m__get_result()\n\u001B[0;32m--> 440\u001B[0m \u001B[38;5;28;43mself\u001B[39;49m\u001B[38;5;241;43m.\u001B[39;49m\u001B[43m_condition\u001B[49m\u001B[38;5;241;43m.\u001B[39;49m\u001B[43mwait\u001B[49m\u001B[43m(\u001B[49m\u001B[43mtimeout\u001B[49m\u001B[43m)\u001B[49m\n\u001B[1;32m    442\u001B[0m \u001B[38;5;28;01mif\u001B[39;00m \u001B[38;5;28mself\u001B[39m\u001B[38;5;241m.\u001B[39m_state \u001B[38;5;129;01min\u001B[39;00m [CANCELLED, CANCELLED_AND_NOTIFIED]:\n\u001B[1;32m    443\u001B[0m     \u001B[38;5;28;01mraise\u001B[39;00m CancelledError()\n",
      "File \u001B[0;32m/usr/lib/python3.9/threading.py:312\u001B[0m, in \u001B[0;36mCondition.wait\u001B[0;34m(self, timeout)\u001B[0m\n\u001B[1;32m    310\u001B[0m \u001B[38;5;28;01mtry\u001B[39;00m:    \u001B[38;5;66;03m# restore state no matter what (e.g., KeyboardInterrupt)\u001B[39;00m\n\u001B[1;32m    311\u001B[0m     \u001B[38;5;28;01mif\u001B[39;00m timeout \u001B[38;5;129;01mis\u001B[39;00m \u001B[38;5;28;01mNone\u001B[39;00m:\n\u001B[0;32m--> 312\u001B[0m         \u001B[43mwaiter\u001B[49m\u001B[38;5;241;43m.\u001B[39;49m\u001B[43macquire\u001B[49m\u001B[43m(\u001B[49m\u001B[43m)\u001B[49m\n\u001B[1;32m    313\u001B[0m         gotit \u001B[38;5;241m=\u001B[39m \u001B[38;5;28;01mTrue\u001B[39;00m\n\u001B[1;32m    314\u001B[0m     \u001B[38;5;28;01melse\u001B[39;00m:\n",
      "\u001B[0;31mKeyboardInterrupt\u001B[0m: "
     ]
    }
   ],
   "source": [
    "from  sklearn.ensemble import  RandomForestClassifier\n",
    "from sklearn.linear_model import LogisticRegression\n",
    "from sklearn.feature_extraction.text import CountVectorizer, TfidfTransformer\n",
    "from sklearn.pipeline import Pipeline\n",
    "import numpy as np\n",
    "\n",
    "text_clf = Pipeline(\n",
    "    [\n",
    "        (\"vect\", CountVectorizer(strip_accents='ascii', min_df=2,ngram_range= (1, 3), tokenizer=lambda x: x.split(token_pattern))),\n",
    "        (\"tfidf\", TfidfTransformer()),\n",
    "        (\"clf\",RandomForestClassifier() ),\n",
    "    ]\n",
    ")\n",
    "parameters = {\n",
    "    'clf__n_estimators': ( 100000,1000000),\n",
    "    'clf__max_depth': (5,7,13),\n",
    "}\n",
    "\n",
    "text_grid = np.hstack([text.values, texts_val.values])\n",
    "target_grid = target + target_val\n",
    "\n",
    "gs_clf = GridSearchCV(text_clf, parameters, cv=5, n_jobs=-1)\n",
    "gs_clf = gs_clf.fit(text, target)\n",
    "\n",
    "print(\"he best mean score\", gs_clf.best_score_, \"std test score\",\n",
    "      gs_clf.cv_results_['std_test_score'][gs_clf.best_index_])\n",
    "\n",
    "\n",
    "for param_name in sorted(parameters.keys()):\n",
    "    print(\"%s: %r\" % (param_name, gs_clf.best_params_[param_name]))"
   ],
   "metadata": {
    "collapsed": false
   }
  },
  {
   "cell_type": "code",
   "execution_count": 9,
   "outputs": [
    {
     "name": "stdout",
     "output_type": "stream",
     "text": [
      "0.6831655650644108\n",
      "clf__learning_rate: 0.5\n",
      "clf__n_estimators: 500\n"
     ]
    }
   ],
   "source": [
    "from sklearn.ensemble import AdaBoostClassifier\n",
    "\n",
    "text_clf = Pipeline(\n",
    "    [\n",
    "        (\"vect\", CountVectorizer(strip_accents='ascii')),\n",
    "        (\"tfidf\", TfidfTransformer()),\n",
    "        (\"clf\", AdaBoostClassifier()),\n",
    "    ]\n",
    ")\n",
    "parameters = {\n",
    "    'clf__n_estimators': (500, 1000, 10000),\n",
    "    'clf__learning_rate': (0.1, 0.5, 1)\n",
    "}\n",
    "\n",
    "gs_clf = GridSearchCV(text_clf, parameters, cv=5, n_jobs=-1)\n",
    "gs_clf = gs_clf.fit(texts, target)\n",
    "print(gs_clf.best_score_)\n",
    "for param_name in sorted(parameters.keys()):\n",
    "    print(\"%s: %r\" % (param_name, gs_clf.best_params_[param_name]))  # oddychelnia standartowe\n",
    "# find_the_best_model_parameter()\n"
   ],
   "metadata": {
    "collapsed": false
   }
  },
  {
   "cell_type": "code",
   "execution_count": 13,
   "outputs": [
    {
     "name": "stdout",
     "output_type": "stream",
     "text": [
      "train dataset:\n",
      "\n"
     ]
    },
    {
     "data": {
      "text/plain": "<Figure size 500x500 with 1 Axes>",
      "image/png": "[encoded data removed]"
     },
     "metadata": {},
     "output_type": "display_data"
    },
    {
     "name": "stdout",
     "output_type": "stream",
     "text": [
      "              precision    recall  f1-score   support\n",
      "\n",
      "   pozytywne      0.827     0.814     0.820      5268\n",
      "   neutralne      0.687     0.561     0.618      3474\n",
      "   negatywne      0.808     0.893     0.848      6856\n",
      "\n",
      "    accuracy                          0.792     15598\n",
      "   macro avg      0.774     0.756     0.762     15598\n",
      "weighted avg      0.787     0.792     0.787     15598\n",
      "\n",
      "validate dataset:\n",
      "\n"
     ]
    },
    {
     "data": {
      "text/plain": "<Figure size 500x500 with 1 Axes>",
      "image/png": "[encoded data removed]"
     },
     "metadata": {},
     "output_type": "display_data"
    },
    {
     "name": "stdout",
     "output_type": "stream",
     "text": [
      "              precision    recall  f1-score   support\n",
      "\n",
      "   pozytywne      0.802     0.753     0.777       631\n",
      "   neutralne      0.631     0.500     0.558       420\n",
      "   negatywne      0.739     0.865     0.797       740\n",
      "\n",
      "    accuracy                          0.740      1791\n",
      "   macro avg      0.724     0.706     0.711      1791\n",
      "weighted avg      0.736     0.740     0.734      1791\n",
      "\n"
     ]
    }
   ],
   "source": [
    "text_clf = Pipeline(\n",
    "    [\n",
    "        (\"vect\", CountVectorizer(strip_accents='ascii', min_df=2, ngram_range=(1, 2))),\n",
    "        (\"tfidf\", TfidfTransformer(use_idf=True)),\n",
    "        (\"clf\", AdaBoostClassifier(learning_rate=0.5, n_estimators=500)),\n",
    "    ]\n",
    ")\n",
    "model_fit__and_model_statistics(text_clf, texts, target, texts_val, target_val)\n"
   ],
   "metadata": {
    "collapsed": false
   }
  },
  {
   "cell_type": "code",
   "execution_count": 14,
   "outputs": [
    {
     "ename": "KeyboardInterrupt",
     "evalue": "",
     "output_type": "error",
     "traceback": [
      "\u001B[0;31m---------------------------------------------------------------------------\u001B[0m",
      "\u001B[0;31mKeyboardInterrupt\u001B[0m                         Traceback (most recent call last)",
      "Cell \u001B[0;32mIn [14], line 17\u001B[0m\n\u001B[1;32m     10\u001B[0m parameters \u001B[38;5;241m=\u001B[39m {\n\u001B[1;32m     11\u001B[0m     \u001B[38;5;124m'\u001B[39m\u001B[38;5;124mclf__max_depth\u001B[39m\u001B[38;5;124m'\u001B[39m: (\u001B[38;5;241m3\u001B[39m, \u001B[38;5;241m6\u001B[39m,\u001B[38;5;241m10\u001B[39m),\n\u001B[1;32m     12\u001B[0m     \u001B[38;5;66;03m# 'clf__learning_rate': (0.01,0.05,0.01),\u001B[39;00m\n\u001B[1;32m     13\u001B[0m     \u001B[38;5;124m'\u001B[39m\u001B[38;5;124mclf__n_estimators\u001B[39m\u001B[38;5;124m'\u001B[39m: (\u001B[38;5;241m100\u001B[39m,\u001B[38;5;241m1000\u001B[39m,\u001B[38;5;241m10000\u001B[39m)\n\u001B[1;32m     14\u001B[0m }\n\u001B[1;32m     16\u001B[0m gs_clf \u001B[38;5;241m=\u001B[39m GridSearchCV(text_clf, parameters, cv\u001B[38;5;241m=\u001B[39m\u001B[38;5;241m5\u001B[39m, n_jobs\u001B[38;5;241m=\u001B[39m\u001B[38;5;241m-\u001B[39m\u001B[38;5;241m1\u001B[39m)\n\u001B[0;32m---> 17\u001B[0m gs_clf \u001B[38;5;241m=\u001B[39m gs_clf\u001B[38;5;241m.\u001B[39mfit(texts, target)\n\u001B[1;32m     18\u001B[0m \u001B[38;5;28mprint\u001B[39m(gs_clf\u001B[38;5;241m.\u001B[39mbest_score_)\n\u001B[1;32m     19\u001B[0m \u001B[38;5;28;01mfor\u001B[39;00m param_name \u001B[38;5;129;01min\u001B[39;00m \u001B[38;5;28msorted\u001B[39m(parameters\u001B[38;5;241m.\u001B[39mkeys()):\n",
      "File \u001B[0;32m~/PycharmProjects/diploma_project/venv/lib/python3.9/site-packages/sklearn/model_selection/_search.py:875\u001B[0m, in \u001B[0;36mBaseSearchCV.fit\u001B[0;34m(self, X, y, groups, **fit_params)\u001B[0m\n\u001B[1;32m    869\u001B[0m     results \u001B[38;5;241m=\u001B[39m \u001B[38;5;28mself\u001B[39m\u001B[38;5;241m.\u001B[39m_format_results(\n\u001B[1;32m    870\u001B[0m         all_candidate_params, n_splits, all_out, all_more_results\n\u001B[1;32m    871\u001B[0m     )\n\u001B[1;32m    873\u001B[0m     \u001B[38;5;28;01mreturn\u001B[39;00m results\n\u001B[0;32m--> 875\u001B[0m \u001B[38;5;28;43mself\u001B[39;49m\u001B[38;5;241;43m.\u001B[39;49m\u001B[43m_run_search\u001B[49m\u001B[43m(\u001B[49m\u001B[43mevaluate_candidates\u001B[49m\u001B[43m)\u001B[49m\n\u001B[1;32m    877\u001B[0m \u001B[38;5;66;03m# multimetric is determined here because in the case of a callable\u001B[39;00m\n\u001B[1;32m    878\u001B[0m \u001B[38;5;66;03m# self.scoring the return type is only known after calling\u001B[39;00m\n\u001B[1;32m    879\u001B[0m first_test_score \u001B[38;5;241m=\u001B[39m all_out[\u001B[38;5;241m0\u001B[39m][\u001B[38;5;124m\"\u001B[39m\u001B[38;5;124mtest_scores\u001B[39m\u001B[38;5;124m\"\u001B[39m]\n",
      "File \u001B[0;32m~/PycharmProjects/diploma_project/venv/lib/python3.9/site-packages/sklearn/model_selection/_search.py:1379\u001B[0m, in \u001B[0;36mGridSearchCV._run_search\u001B[0;34m(self, evaluate_candidates)\u001B[0m\n\u001B[1;32m   1377\u001B[0m \u001B[38;5;28;01mdef\u001B[39;00m \u001B[38;5;21m_run_search\u001B[39m(\u001B[38;5;28mself\u001B[39m, evaluate_candidates):\n\u001B[1;32m   1378\u001B[0m     \u001B[38;5;124;03m\"\"\"Search all candidates in param_grid\"\"\"\u001B[39;00m\n\u001B[0;32m-> 1379\u001B[0m     \u001B[43mevaluate_candidates\u001B[49m\u001B[43m(\u001B[49m\u001B[43mParameterGrid\u001B[49m\u001B[43m(\u001B[49m\u001B[38;5;28;43mself\u001B[39;49m\u001B[38;5;241;43m.\u001B[39;49m\u001B[43mparam_grid\u001B[49m\u001B[43m)\u001B[49m\u001B[43m)\u001B[49m\n",
      "File \u001B[0;32m~/PycharmProjects/diploma_project/venv/lib/python3.9/site-packages/sklearn/model_selection/_search.py:822\u001B[0m, in \u001B[0;36mBaseSearchCV.fit.<locals>.evaluate_candidates\u001B[0;34m(candidate_params, cv, more_results)\u001B[0m\n\u001B[1;32m    814\u001B[0m \u001B[38;5;28;01mif\u001B[39;00m \u001B[38;5;28mself\u001B[39m\u001B[38;5;241m.\u001B[39mverbose \u001B[38;5;241m>\u001B[39m \u001B[38;5;241m0\u001B[39m:\n\u001B[1;32m    815\u001B[0m     \u001B[38;5;28mprint\u001B[39m(\n\u001B[1;32m    816\u001B[0m         \u001B[38;5;124m\"\u001B[39m\u001B[38;5;124mFitting \u001B[39m\u001B[38;5;132;01m{0}\u001B[39;00m\u001B[38;5;124m folds for each of \u001B[39m\u001B[38;5;132;01m{1}\u001B[39;00m\u001B[38;5;124m candidates,\u001B[39m\u001B[38;5;124m\"\u001B[39m\n\u001B[1;32m    817\u001B[0m         \u001B[38;5;124m\"\u001B[39m\u001B[38;5;124m totalling \u001B[39m\u001B[38;5;132;01m{2}\u001B[39;00m\u001B[38;5;124m fits\u001B[39m\u001B[38;5;124m\"\u001B[39m\u001B[38;5;241m.\u001B[39mformat(\n\u001B[1;32m    818\u001B[0m             n_splits, n_candidates, n_candidates \u001B[38;5;241m*\u001B[39m n_splits\n\u001B[1;32m    819\u001B[0m         )\n\u001B[1;32m    820\u001B[0m     )\n\u001B[0;32m--> 822\u001B[0m out \u001B[38;5;241m=\u001B[39m \u001B[43mparallel\u001B[49m\u001B[43m(\u001B[49m\n\u001B[1;32m    823\u001B[0m \u001B[43m    \u001B[49m\u001B[43mdelayed\u001B[49m\u001B[43m(\u001B[49m\u001B[43m_fit_and_score\u001B[49m\u001B[43m)\u001B[49m\u001B[43m(\u001B[49m\n\u001B[1;32m    824\u001B[0m \u001B[43m        \u001B[49m\u001B[43mclone\u001B[49m\u001B[43m(\u001B[49m\u001B[43mbase_estimator\u001B[49m\u001B[43m)\u001B[49m\u001B[43m,\u001B[49m\n\u001B[1;32m    825\u001B[0m \u001B[43m        \u001B[49m\u001B[43mX\u001B[49m\u001B[43m,\u001B[49m\n\u001B[1;32m    826\u001B[0m \u001B[43m        \u001B[49m\u001B[43my\u001B[49m\u001B[43m,\u001B[49m\n\u001B[1;32m    827\u001B[0m \u001B[43m        \u001B[49m\u001B[43mtrain\u001B[49m\u001B[38;5;241;43m=\u001B[39;49m\u001B[43mtrain\u001B[49m\u001B[43m,\u001B[49m\n\u001B[1;32m    828\u001B[0m \u001B[43m        \u001B[49m\u001B[43mtest\u001B[49m\u001B[38;5;241;43m=\u001B[39;49m\u001B[43mtest\u001B[49m\u001B[43m,\u001B[49m\n\u001B[1;32m    829\u001B[0m \u001B[43m        \u001B[49m\u001B[43mparameters\u001B[49m\u001B[38;5;241;43m=\u001B[39;49m\u001B[43mparameters\u001B[49m\u001B[43m,\u001B[49m\n\u001B[1;32m    830\u001B[0m \u001B[43m        \u001B[49m\u001B[43msplit_progress\u001B[49m\u001B[38;5;241;43m=\u001B[39;49m\u001B[43m(\u001B[49m\u001B[43msplit_idx\u001B[49m\u001B[43m,\u001B[49m\u001B[43m \u001B[49m\u001B[43mn_splits\u001B[49m\u001B[43m)\u001B[49m\u001B[43m,\u001B[49m\n\u001B[1;32m    831\u001B[0m \u001B[43m        \u001B[49m\u001B[43mcandidate_progress\u001B[49m\u001B[38;5;241;43m=\u001B[39;49m\u001B[43m(\u001B[49m\u001B[43mcand_idx\u001B[49m\u001B[43m,\u001B[49m\u001B[43m \u001B[49m\u001B[43mn_candidates\u001B[49m\u001B[43m)\u001B[49m\u001B[43m,\u001B[49m\n\u001B[1;32m    832\u001B[0m \u001B[43m        \u001B[49m\u001B[38;5;241;43m*\u001B[39;49m\u001B[38;5;241;43m*\u001B[39;49m\u001B[43mfit_and_score_kwargs\u001B[49m\u001B[43m,\u001B[49m\n\u001B[1;32m    833\u001B[0m \u001B[43m    \u001B[49m\u001B[43m)\u001B[49m\n\u001B[1;32m    834\u001B[0m \u001B[43m    \u001B[49m\u001B[38;5;28;43;01mfor\u001B[39;49;00m\u001B[43m \u001B[49m\u001B[43m(\u001B[49m\u001B[43mcand_idx\u001B[49m\u001B[43m,\u001B[49m\u001B[43m \u001B[49m\u001B[43mparameters\u001B[49m\u001B[43m)\u001B[49m\u001B[43m,\u001B[49m\u001B[43m \u001B[49m\u001B[43m(\u001B[49m\u001B[43msplit_idx\u001B[49m\u001B[43m,\u001B[49m\u001B[43m \u001B[49m\u001B[43m(\u001B[49m\u001B[43mtrain\u001B[49m\u001B[43m,\u001B[49m\u001B[43m \u001B[49m\u001B[43mtest\u001B[49m\u001B[43m)\u001B[49m\u001B[43m)\u001B[49m\u001B[43m \u001B[49m\u001B[38;5;129;43;01min\u001B[39;49;00m\u001B[43m \u001B[49m\u001B[43mproduct\u001B[49m\u001B[43m(\u001B[49m\n\u001B[1;32m    835\u001B[0m \u001B[43m        \u001B[49m\u001B[38;5;28;43menumerate\u001B[39;49m\u001B[43m(\u001B[49m\u001B[43mcandidate_params\u001B[49m\u001B[43m)\u001B[49m\u001B[43m,\u001B[49m\u001B[43m \u001B[49m\u001B[38;5;28;43menumerate\u001B[39;49m\u001B[43m(\u001B[49m\u001B[43mcv\u001B[49m\u001B[38;5;241;43m.\u001B[39;49m\u001B[43msplit\u001B[49m\u001B[43m(\u001B[49m\u001B[43mX\u001B[49m\u001B[43m,\u001B[49m\u001B[43m \u001B[49m\u001B[43my\u001B[49m\u001B[43m,\u001B[49m\u001B[43m \u001B[49m\u001B[43mgroups\u001B[49m\u001B[43m)\u001B[49m\u001B[43m)\u001B[49m\n\u001B[1;32m    836\u001B[0m \u001B[43m    \u001B[49m\u001B[43m)\u001B[49m\n\u001B[1;32m    837\u001B[0m \u001B[43m\u001B[49m\u001B[43m)\u001B[49m\n\u001B[1;32m    839\u001B[0m \u001B[38;5;28;01mif\u001B[39;00m \u001B[38;5;28mlen\u001B[39m(out) \u001B[38;5;241m<\u001B[39m \u001B[38;5;241m1\u001B[39m:\n\u001B[1;32m    840\u001B[0m     \u001B[38;5;28;01mraise\u001B[39;00m \u001B[38;5;167;01mValueError\u001B[39;00m(\n\u001B[1;32m    841\u001B[0m         \u001B[38;5;124m\"\u001B[39m\u001B[38;5;124mNo fits were performed. \u001B[39m\u001B[38;5;124m\"\u001B[39m\n\u001B[1;32m    842\u001B[0m         \u001B[38;5;124m\"\u001B[39m\u001B[38;5;124mWas the CV iterator empty? \u001B[39m\u001B[38;5;124m\"\u001B[39m\n\u001B[1;32m    843\u001B[0m         \u001B[38;5;124m\"\u001B[39m\u001B[38;5;124mWere there no candidates?\u001B[39m\u001B[38;5;124m\"\u001B[39m\n\u001B[1;32m    844\u001B[0m     )\n",
      "File \u001B[0;32m~/PycharmProjects/diploma_project/venv/lib/python3.9/site-packages/joblib/parallel.py:1098\u001B[0m, in \u001B[0;36mParallel.__call__\u001B[0;34m(self, iterable)\u001B[0m\n\u001B[1;32m   1095\u001B[0m     \u001B[38;5;28mself\u001B[39m\u001B[38;5;241m.\u001B[39m_iterating \u001B[38;5;241m=\u001B[39m \u001B[38;5;28;01mFalse\u001B[39;00m\n\u001B[1;32m   1097\u001B[0m \u001B[38;5;28;01mwith\u001B[39;00m \u001B[38;5;28mself\u001B[39m\u001B[38;5;241m.\u001B[39m_backend\u001B[38;5;241m.\u001B[39mretrieval_context():\n\u001B[0;32m-> 1098\u001B[0m     \u001B[38;5;28;43mself\u001B[39;49m\u001B[38;5;241;43m.\u001B[39;49m\u001B[43mretrieve\u001B[49m\u001B[43m(\u001B[49m\u001B[43m)\u001B[49m\n\u001B[1;32m   1099\u001B[0m \u001B[38;5;66;03m# Make sure that we get a last message telling us we are done\u001B[39;00m\n\u001B[1;32m   1100\u001B[0m elapsed_time \u001B[38;5;241m=\u001B[39m time\u001B[38;5;241m.\u001B[39mtime() \u001B[38;5;241m-\u001B[39m \u001B[38;5;28mself\u001B[39m\u001B[38;5;241m.\u001B[39m_start_time\n",
      "File \u001B[0;32m~/PycharmProjects/diploma_project/venv/lib/python3.9/site-packages/joblib/parallel.py:975\u001B[0m, in \u001B[0;36mParallel.retrieve\u001B[0;34m(self)\u001B[0m\n\u001B[1;32m    973\u001B[0m \u001B[38;5;28;01mtry\u001B[39;00m:\n\u001B[1;32m    974\u001B[0m     \u001B[38;5;28;01mif\u001B[39;00m \u001B[38;5;28mgetattr\u001B[39m(\u001B[38;5;28mself\u001B[39m\u001B[38;5;241m.\u001B[39m_backend, \u001B[38;5;124m'\u001B[39m\u001B[38;5;124msupports_timeout\u001B[39m\u001B[38;5;124m'\u001B[39m, \u001B[38;5;28;01mFalse\u001B[39;00m):\n\u001B[0;32m--> 975\u001B[0m         \u001B[38;5;28mself\u001B[39m\u001B[38;5;241m.\u001B[39m_output\u001B[38;5;241m.\u001B[39mextend(\u001B[43mjob\u001B[49m\u001B[38;5;241;43m.\u001B[39;49m\u001B[43mget\u001B[49m\u001B[43m(\u001B[49m\u001B[43mtimeout\u001B[49m\u001B[38;5;241;43m=\u001B[39;49m\u001B[38;5;28;43mself\u001B[39;49m\u001B[38;5;241;43m.\u001B[39;49m\u001B[43mtimeout\u001B[49m\u001B[43m)\u001B[49m)\n\u001B[1;32m    976\u001B[0m     \u001B[38;5;28;01melse\u001B[39;00m:\n\u001B[1;32m    977\u001B[0m         \u001B[38;5;28mself\u001B[39m\u001B[38;5;241m.\u001B[39m_output\u001B[38;5;241m.\u001B[39mextend(job\u001B[38;5;241m.\u001B[39mget())\n",
      "File \u001B[0;32m~/PycharmProjects/diploma_project/venv/lib/python3.9/site-packages/joblib/_parallel_backends.py:567\u001B[0m, in \u001B[0;36mLokyBackend.wrap_future_result\u001B[0;34m(future, timeout)\u001B[0m\n\u001B[1;32m    564\u001B[0m \u001B[38;5;124;03m\"\"\"Wrapper for Future.result to implement the same behaviour as\u001B[39;00m\n\u001B[1;32m    565\u001B[0m \u001B[38;5;124;03mAsyncResults.get from multiprocessing.\"\"\"\u001B[39;00m\n\u001B[1;32m    566\u001B[0m \u001B[38;5;28;01mtry\u001B[39;00m:\n\u001B[0;32m--> 567\u001B[0m     \u001B[38;5;28;01mreturn\u001B[39;00m \u001B[43mfuture\u001B[49m\u001B[38;5;241;43m.\u001B[39;49m\u001B[43mresult\u001B[49m\u001B[43m(\u001B[49m\u001B[43mtimeout\u001B[49m\u001B[38;5;241;43m=\u001B[39;49m\u001B[43mtimeout\u001B[49m\u001B[43m)\u001B[49m\n\u001B[1;32m    568\u001B[0m \u001B[38;5;28;01mexcept\u001B[39;00m CfTimeoutError \u001B[38;5;28;01mas\u001B[39;00m e:\n\u001B[1;32m    569\u001B[0m     \u001B[38;5;28;01mraise\u001B[39;00m \u001B[38;5;167;01mTimeoutError\u001B[39;00m \u001B[38;5;28;01mfrom\u001B[39;00m \u001B[38;5;21;01me\u001B[39;00m\n",
      "File \u001B[0;32m/usr/lib/python3.9/concurrent/futures/_base.py:440\u001B[0m, in \u001B[0;36mFuture.result\u001B[0;34m(self, timeout)\u001B[0m\n\u001B[1;32m    437\u001B[0m \u001B[38;5;28;01melif\u001B[39;00m \u001B[38;5;28mself\u001B[39m\u001B[38;5;241m.\u001B[39m_state \u001B[38;5;241m==\u001B[39m FINISHED:\n\u001B[1;32m    438\u001B[0m     \u001B[38;5;28;01mreturn\u001B[39;00m \u001B[38;5;28mself\u001B[39m\u001B[38;5;241m.\u001B[39m__get_result()\n\u001B[0;32m--> 440\u001B[0m \u001B[38;5;28;43mself\u001B[39;49m\u001B[38;5;241;43m.\u001B[39;49m\u001B[43m_condition\u001B[49m\u001B[38;5;241;43m.\u001B[39;49m\u001B[43mwait\u001B[49m\u001B[43m(\u001B[49m\u001B[43mtimeout\u001B[49m\u001B[43m)\u001B[49m\n\u001B[1;32m    442\u001B[0m \u001B[38;5;28;01mif\u001B[39;00m \u001B[38;5;28mself\u001B[39m\u001B[38;5;241m.\u001B[39m_state \u001B[38;5;129;01min\u001B[39;00m [CANCELLED, CANCELLED_AND_NOTIFIED]:\n\u001B[1;32m    443\u001B[0m     \u001B[38;5;28;01mraise\u001B[39;00m CancelledError()\n",
      "File \u001B[0;32m/usr/lib/python3.9/threading.py:312\u001B[0m, in \u001B[0;36mCondition.wait\u001B[0;34m(self, timeout)\u001B[0m\n\u001B[1;32m    310\u001B[0m \u001B[38;5;28;01mtry\u001B[39;00m:    \u001B[38;5;66;03m# restore state no matter what (e.g., KeyboardInterrupt)\u001B[39;00m\n\u001B[1;32m    311\u001B[0m     \u001B[38;5;28;01mif\u001B[39;00m timeout \u001B[38;5;129;01mis\u001B[39;00m \u001B[38;5;28;01mNone\u001B[39;00m:\n\u001B[0;32m--> 312\u001B[0m         \u001B[43mwaiter\u001B[49m\u001B[38;5;241;43m.\u001B[39;49m\u001B[43macquire\u001B[49m\u001B[43m(\u001B[49m\u001B[43m)\u001B[49m\n\u001B[1;32m    313\u001B[0m         gotit \u001B[38;5;241m=\u001B[39m \u001B[38;5;28;01mTrue\u001B[39;00m\n\u001B[1;32m    314\u001B[0m     \u001B[38;5;28;01melse\u001B[39;00m:\n",
      "\u001B[0;31mKeyboardInterrupt\u001B[0m: "
     ]
    }
   ],
   "source": [
    "from sklearn.ensemble import GradientBoostingClassifier\n",
    "\n",
    "text_clf = Pipeline(\n",
    "    [\n",
    "        (\"vect\", CountVectorizer(strip_accents='ascii')),\n",
    "        (\"tfidf\", TfidfTransformer()),\n",
    "        (\"clf\", GradientBoostingClassifier()),\n",
    "    ]\n",
    ")\n",
    "\n",
    "parameters = {\n",
    "    'clf__max_depth': (3, 6, 10),\n",
    "    # 'clf__learning_rate': (0.01,0.05,0.01),\n",
    "    'clf__n_estimators': (100, 1000, 10000)\n",
    "}\n",
    "\n",
    "gs_clf = GridSearchCV(text_clf, parameters, cv=5, n_jobs=-1)\n",
    "gs_clf = gs_clf.fit(texts, target)\n",
    "print(gs_clf.best_score_)\n",
    "for param_name in sorted(parameters.keys()):\n",
    "    print(\"%s: %r\" % (param_name, gs_clf.best_params_[param_name]))\n"
   ],
   "metadata": {
    "collapsed": false
   }
  }
 ],
 "metadata": {
  "kernelspec": {
   "display_name": "Python 3",
   "language": "python",
   "name": "python3"
  },
  "language_info": {
   "codemirror_mode": {
    "name": "ipython",
    "version": 2
   },
   "file_extension": ".py",
   "mimetype": "text/x-python",
   "name": "python",
   "nbconvert_exporter": "python",
   "pygments_lexer": "ipython2",
   "version": "2.7.6"
  }
 },
 "nbformat": 4,
 "nbformat_minor": 0
}
