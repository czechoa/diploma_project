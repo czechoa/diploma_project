{
 "cells": [
  {
   "cell_type": "code",
   "execution_count": 1,
   "metadata": {
    "collapsed": true,
    "pycharm": {
     "name": "#%%\n"
    }
   },
   "outputs": [],
   "source": [
    "\n",
    "import pandas as pd\n",
    "\n",
    "from dash_app.backend.utils.dataset import DataSet\n",
    "\n",
    "%load_ext autoreload\n",
    "%autoreload 2"
   ]
  },
  {
   "cell_type": "code",
   "execution_count": 2,
   "outputs": [
    {
     "name": "stderr",
     "output_type": "stream",
     "text": [
      "No config specified, defaulting to: polemo2-official/all_text\n",
      "Found cached dataset polemo2-official (/home/andrzej/.cache/huggingface/datasets/clarin-pl___polemo2-official/all_text/0.0.0/2b75fdbe5def97538e81fb120f8752744b50729a4ce09bd75132bfc863a2fd70)\n"
     ]
    },
    {
     "data": {
      "text/plain": "  0%|          | 0/3 [00:00<?, ?it/s]",
      "application/vnd.jupyter.widget-view+json": {
       "version_major": 2,
       "version_minor": 0,
       "model_id": "aa489403d36e46d79df89888b119ffdb"
      }
     },
     "metadata": {},
     "output_type": "display_data"
    },
    {
     "name": "stdout",
     "output_type": "stream",
     "text": [
      " "
     ]
    },
    {
     "name": "stderr",
     "output_type": "stream",
     "text": [
      "Loading cached processed dataset at /home/andrzej/.cache/huggingface/datasets/clarin-pl___polemo2-official/all_text/0.0.0/2b75fdbe5def97538e81fb120f8752744b50729a4ce09bd75132bfc863a2fd70/cache-58494603465a1f1b.arrow\n"
     ]
    },
    {
     "name": "stdout",
     "output_type": "stream",
     "text": [
      " "
     ]
    },
    {
     "name": "stderr",
     "output_type": "stream",
     "text": [
      "Loading cached processed dataset at /home/andrzej/.cache/huggingface/datasets/clarin-pl___polemo2-official/all_text/0.0.0/2b75fdbe5def97538e81fb120f8752744b50729a4ce09bd75132bfc863a2fd70/cache-0acd4e4441125fcb.arrow\n"
     ]
    },
    {
     "name": "stdout",
     "output_type": "stream",
     "text": [
      " "
     ]
    },
    {
     "name": "stderr",
     "output_type": "stream",
     "text": [
      "Loading cached processed dataset at /home/andrzej/.cache/huggingface/datasets/clarin-pl___polemo2-official/all_text/0.0.0/2b75fdbe5def97538e81fb120f8752744b50729a4ce09bd75132bfc863a2fd70/cache-23413f6dc8e9bde9.arrow\n"
     ]
    },
    {
     "name": "stdout",
     "output_type": "stream",
     "text": [
      " "
     ]
    },
    {
     "name": "stderr",
     "output_type": "stream",
     "text": [
      "Loading cached processed dataset at /home/andrzej/.cache/huggingface/datasets/clarin-pl___polemo2-official/all_text/0.0.0/2b75fdbe5def97538e81fb120f8752744b50729a4ce09bd75132bfc863a2fd70/cache-c54ff3c4b83f1992.arrow\n"
     ]
    },
    {
     "name": "stdout",
     "output_type": "stream",
     "text": [
      " "
     ]
    },
    {
     "name": "stderr",
     "output_type": "stream",
     "text": [
      "Loading cached processed dataset at /home/andrzej/.cache/huggingface/datasets/clarin-pl___polemo2-official/all_text/0.0.0/2b75fdbe5def97538e81fb120f8752744b50729a4ce09bd75132bfc863a2fd70/cache-21f9dc800d134c2f.arrow\n"
     ]
    },
    {
     "name": "stdout",
     "output_type": "stream",
     "text": [
      " "
     ]
    },
    {
     "name": "stderr",
     "output_type": "stream",
     "text": [
      "Loading cached processed dataset at /home/andrzej/.cache/huggingface/datasets/clarin-pl___polemo2-official/all_text/0.0.0/2b75fdbe5def97538e81fb120f8752744b50729a4ce09bd75132bfc863a2fd70/cache-ddf0f8c24061cc1f.arrow\n"
     ]
    },
    {
     "name": "stdout",
     "output_type": "stream",
     "text": [
      " "
     ]
    },
    {
     "name": "stderr",
     "output_type": "stream",
     "text": [
      "Loading cached processed dataset at /home/andrzej/.cache/huggingface/datasets/clarin-pl___polemo2-official/all_text/0.0.0/2b75fdbe5def97538e81fb120f8752744b50729a4ce09bd75132bfc863a2fd70/cache-7fd1d5df8dd4fd71.arrow\n"
     ]
    },
    {
     "name": "stdout",
     "output_type": "stream",
     "text": [
      " "
     ]
    },
    {
     "name": "stderr",
     "output_type": "stream",
     "text": [
      "Loading cached processed dataset at /home/andrzej/.cache/huggingface/datasets/clarin-pl___polemo2-official/all_text/0.0.0/2b75fdbe5def97538e81fb120f8752744b50729a4ce09bd75132bfc863a2fd70/cache-84701af8b49e8457.arrow\n"
     ]
    },
    {
     "name": "stdout",
     "output_type": "stream",
     "text": [
      " "
     ]
    },
    {
     "name": "stderr",
     "output_type": "stream",
     "text": [
      "Loading cached processed dataset at /home/andrzej/.cache/huggingface/datasets/clarin-pl___polemo2-official/all_text/0.0.0/2b75fdbe5def97538e81fb120f8752744b50729a4ce09bd75132bfc863a2fd70/cache-3f3e52d1c6eb3bfc.arrow\n"
     ]
    },
    {
     "name": "stdout",
     "output_type": "stream",
     "text": [
      " "
     ]
    },
    {
     "name": "stderr",
     "output_type": "stream",
     "text": [
      "Loading cached processed dataset at /home/andrzej/.cache/huggingface/datasets/clarin-pl___polemo2-official/all_text/0.0.0/2b75fdbe5def97538e81fb120f8752744b50729a4ce09bd75132bfc863a2fd70/cache-29ca701b864452f6.arrow\n"
     ]
    },
    {
     "name": "stdout",
     "output_type": "stream",
     "text": [
      " "
     ]
    },
    {
     "name": "stderr",
     "output_type": "stream",
     "text": [
      "Loading cached processed dataset at /home/andrzej/.cache/huggingface/datasets/clarin-pl___polemo2-official/all_text/0.0.0/2b75fdbe5def97538e81fb120f8752744b50729a4ce09bd75132bfc863a2fd70/cache-49e5bb97dcf56ff4.arrow\n"
     ]
    },
    {
     "name": "stdout",
     "output_type": "stream",
     "text": [
      " "
     ]
    },
    {
     "name": "stderr",
     "output_type": "stream",
     "text": [
      "Loading cached processed dataset at /home/andrzej/.cache/huggingface/datasets/clarin-pl___polemo2-official/all_text/0.0.0/2b75fdbe5def97538e81fb120f8752744b50729a4ce09bd75132bfc863a2fd70/cache-2fba678f79647885.arrow\n"
     ]
    },
    {
     "name": "stdout",
     "output_type": "stream",
     "text": [
      " "
     ]
    },
    {
     "name": "stderr",
     "output_type": "stream",
     "text": [
      "Loading cached processed dataset at /home/andrzej/.cache/huggingface/datasets/clarin-pl___polemo2-official/all_text/0.0.0/2b75fdbe5def97538e81fb120f8752744b50729a4ce09bd75132bfc863a2fd70/cache-6fe51114425e9374.arrow\n"
     ]
    },
    {
     "name": "stdout",
     "output_type": "stream",
     "text": [
      " "
     ]
    },
    {
     "name": "stderr",
     "output_type": "stream",
     "text": [
      "Loading cached processed dataset at /home/andrzej/.cache/huggingface/datasets/clarin-pl___polemo2-official/all_text/0.0.0/2b75fdbe5def97538e81fb120f8752744b50729a4ce09bd75132bfc863a2fd70/cache-7220aa4caa628c4b.arrow\n"
     ]
    },
    {
     "name": "stdout",
     "output_type": "stream",
     "text": [
      " "
     ]
    },
    {
     "name": "stderr",
     "output_type": "stream",
     "text": [
      "Loading cached processed dataset at /home/andrzej/.cache/huggingface/datasets/clarin-pl___polemo2-official/all_text/0.0.0/2b75fdbe5def97538e81fb120f8752744b50729a4ce09bd75132bfc863a2fd70/cache-f15faa8c559bdbff.arrow\n"
     ]
    },
    {
     "name": "stdout",
     "output_type": "stream",
     "text": [
      " "
     ]
    },
    {
     "name": "stderr",
     "output_type": "stream",
     "text": [
      "Loading cached processed dataset at /home/andrzej/.cache/huggingface/datasets/clarin-pl___polemo2-official/all_text/0.0.0/2b75fdbe5def97538e81fb120f8752744b50729a4ce09bd75132bfc863a2fd70/cache-56700f7da09693db.arrow\n"
     ]
    },
    {
     "name": "stdout",
     "output_type": "stream",
     "text": [
      " "
     ]
    },
    {
     "name": "stderr",
     "output_type": "stream",
     "text": [
      "Loading cached processed dataset at /home/andrzej/.cache/huggingface/datasets/clarin-pl___polemo2-official/all_text/0.0.0/2b75fdbe5def97538e81fb120f8752744b50729a4ce09bd75132bfc863a2fd70/cache-ec781583a6182ae2.arrow\n"
     ]
    },
    {
     "name": "stdout",
     "output_type": "stream",
     "text": [
      " "
     ]
    },
    {
     "name": "stderr",
     "output_type": "stream",
     "text": [
      "Loading cached processed dataset at /home/andrzej/.cache/huggingface/datasets/clarin-pl___polemo2-official/all_text/0.0.0/2b75fdbe5def97538e81fb120f8752744b50729a4ce09bd75132bfc863a2fd70/cache-5aff8a10d6a961b1.arrow\n"
     ]
    },
    {
     "name": "stdout",
     "output_type": "stream",
     "text": [
      " "
     ]
    },
    {
     "name": "stderr",
     "output_type": "stream",
     "text": [
      "Loading cached processed dataset at /home/andrzej/.cache/huggingface/datasets/clarin-pl___polemo2-official/all_text/0.0.0/2b75fdbe5def97538e81fb120f8752744b50729a4ce09bd75132bfc863a2fd70/cache-6a96cacf48de774f.arrow\n"
     ]
    },
    {
     "name": "stdout",
     "output_type": "stream",
     "text": [
      " "
     ]
    },
    {
     "name": "stderr",
     "output_type": "stream",
     "text": [
      "Loading cached processed dataset at /home/andrzej/.cache/huggingface/datasets/clarin-pl___polemo2-official/all_text/0.0.0/2b75fdbe5def97538e81fb120f8752744b50729a4ce09bd75132bfc863a2fd70/cache-b8a23cf3a7d84839.arrow\n"
     ]
    },
    {
     "name": "stdout",
     "output_type": "stream",
     "text": [
      " "
     ]
    },
    {
     "name": "stderr",
     "output_type": "stream",
     "text": [
      "Loading cached processed dataset at /home/andrzej/.cache/huggingface/datasets/clarin-pl___polemo2-official/all_text/0.0.0/2b75fdbe5def97538e81fb120f8752744b50729a4ce09bd75132bfc863a2fd70/cache-e2e4b864362b0f03.arrow\n"
     ]
    },
    {
     "name": "stdout",
     "output_type": "stream",
     "text": [
      " "
     ]
    },
    {
     "name": "stderr",
     "output_type": "stream",
     "text": [
      "Loading cached processed dataset at /home/andrzej/.cache/huggingface/datasets/clarin-pl___polemo2-official/all_text/0.0.0/2b75fdbe5def97538e81fb120f8752744b50729a4ce09bd75132bfc863a2fd70/cache-5b711a347f93b677.arrow\n"
     ]
    },
    {
     "name": "stdout",
     "output_type": "stream",
     "text": [
      " "
     ]
    },
    {
     "name": "stderr",
     "output_type": "stream",
     "text": [
      "Loading cached processed dataset at /home/andrzej/.cache/huggingface/datasets/clarin-pl___polemo2-official/all_text/0.0.0/2b75fdbe5def97538e81fb120f8752744b50729a4ce09bd75132bfc863a2fd70/cache-8d61789e756dcfbe.arrow\n"
     ]
    },
    {
     "name": "stdout",
     "output_type": "stream",
     "text": [
      " "
     ]
    },
    {
     "name": "stderr",
     "output_type": "stream",
     "text": [
      "Loading cached processed dataset at /home/andrzej/.cache/huggingface/datasets/clarin-pl___polemo2-official/all_text/0.0.0/2b75fdbe5def97538e81fb120f8752744b50729a4ce09bd75132bfc863a2fd70/cache-460bc6b021916818.arrow\n",
      "Using custom data configuration default\n",
      "Found cached dataset allegro_reviews (/home/andrzej/.cache/huggingface/datasets/allegro_reviews/default/1.1.0/d0fd6bf6f7f8f2c8faed7ecf9d295c991eac403ca516d3d3593061a913c0476b)\n"
     ]
    },
    {
     "data": {
      "text/plain": "  0%|          | 0/3 [00:00<?, ?it/s]",
      "application/vnd.jupyter.widget-view+json": {
       "version_major": 2,
       "version_minor": 0,
       "model_id": "763b3fc9756a4be9bfd2c7edf841e0b6"
      }
     },
     "metadata": {},
     "output_type": "display_data"
    },
    {
     "name": "stdout",
     "output_type": "stream",
     "text": [
      " "
     ]
    },
    {
     "name": "stderr",
     "output_type": "stream",
     "text": [
      "Loading cached processed dataset at /home/andrzej/.cache/huggingface/datasets/allegro_reviews/default/1.1.0/d0fd6bf6f7f8f2c8faed7ecf9d295c991eac403ca516d3d3593061a913c0476b/cache-a00e70550e23153a.arrow\n"
     ]
    },
    {
     "name": "stdout",
     "output_type": "stream",
     "text": [
      " "
     ]
    },
    {
     "name": "stderr",
     "output_type": "stream",
     "text": [
      "Loading cached processed dataset at /home/andrzej/.cache/huggingface/datasets/allegro_reviews/default/1.1.0/d0fd6bf6f7f8f2c8faed7ecf9d295c991eac403ca516d3d3593061a913c0476b/cache-d29862926ffc6ead.arrow\n"
     ]
    },
    {
     "name": "stdout",
     "output_type": "stream",
     "text": [
      " "
     ]
    },
    {
     "name": "stderr",
     "output_type": "stream",
     "text": [
      "Loading cached processed dataset at /home/andrzej/.cache/huggingface/datasets/allegro_reviews/default/1.1.0/d0fd6bf6f7f8f2c8faed7ecf9d295c991eac403ca516d3d3593061a913c0476b/cache-418027f1c7a2b6f9.arrow\n"
     ]
    },
    {
     "name": "stdout",
     "output_type": "stream",
     "text": [
      " "
     ]
    },
    {
     "name": "stderr",
     "output_type": "stream",
     "text": [
      "Loading cached processed dataset at /home/andrzej/.cache/huggingface/datasets/allegro_reviews/default/1.1.0/d0fd6bf6f7f8f2c8faed7ecf9d295c991eac403ca516d3d3593061a913c0476b/cache-e1a0e29df081599c.arrow\n"
     ]
    },
    {
     "name": "stdout",
     "output_type": "stream",
     "text": [
      " "
     ]
    },
    {
     "name": "stderr",
     "output_type": "stream",
     "text": [
      "Loading cached processed dataset at /home/andrzej/.cache/huggingface/datasets/allegro_reviews/default/1.1.0/d0fd6bf6f7f8f2c8faed7ecf9d295c991eac403ca516d3d3593061a913c0476b/cache-d561fff20c56d910.arrow\n"
     ]
    },
    {
     "name": "stdout",
     "output_type": "stream",
     "text": [
      " "
     ]
    },
    {
     "name": "stderr",
     "output_type": "stream",
     "text": [
      "Loading cached processed dataset at /home/andrzej/.cache/huggingface/datasets/allegro_reviews/default/1.1.0/d0fd6bf6f7f8f2c8faed7ecf9d295c991eac403ca516d3d3593061a913c0476b/cache-2a34a51e0c1e55dc.arrow\n"
     ]
    },
    {
     "name": "stdout",
     "output_type": "stream",
     "text": [
      " "
     ]
    },
    {
     "name": "stderr",
     "output_type": "stream",
     "text": [
      "Loading cached processed dataset at /home/andrzej/.cache/huggingface/datasets/allegro_reviews/default/1.1.0/d0fd6bf6f7f8f2c8faed7ecf9d295c991eac403ca516d3d3593061a913c0476b/cache-dd769e6c6295ba00.arrow\n"
     ]
    },
    {
     "name": "stdout",
     "output_type": "stream",
     "text": [
      " "
     ]
    },
    {
     "name": "stderr",
     "output_type": "stream",
     "text": [
      "Loading cached processed dataset at /home/andrzej/.cache/huggingface/datasets/allegro_reviews/default/1.1.0/d0fd6bf6f7f8f2c8faed7ecf9d295c991eac403ca516d3d3593061a913c0476b/cache-cbc0dcd83090ee49.arrow\n"
     ]
    },
    {
     "name": "stdout",
     "output_type": "stream",
     "text": [
      " "
     ]
    },
    {
     "name": "stderr",
     "output_type": "stream",
     "text": [
      "Loading cached processed dataset at /home/andrzej/.cache/huggingface/datasets/allegro_reviews/default/1.1.0/d0fd6bf6f7f8f2c8faed7ecf9d295c991eac403ca516d3d3593061a913c0476b/cache-101b1621aad29e6d.arrow\n"
     ]
    },
    {
     "name": "stdout",
     "output_type": "stream",
     "text": [
      " "
     ]
    },
    {
     "name": "stderr",
     "output_type": "stream",
     "text": [
      "Loading cached processed dataset at /home/andrzej/.cache/huggingface/datasets/allegro_reviews/default/1.1.0/d0fd6bf6f7f8f2c8faed7ecf9d295c991eac403ca516d3d3593061a913c0476b/cache-4054944f5bb55ecb.arrow\n"
     ]
    },
    {
     "name": "stdout",
     "output_type": "stream",
     "text": [
      " "
     ]
    },
    {
     "name": "stderr",
     "output_type": "stream",
     "text": [
      "Loading cached processed dataset at /home/andrzej/.cache/huggingface/datasets/allegro_reviews/default/1.1.0/d0fd6bf6f7f8f2c8faed7ecf9d295c991eac403ca516d3d3593061a913c0476b/cache-06c287d0b10e96c2.arrow\n"
     ]
    },
    {
     "name": "stdout",
     "output_type": "stream",
     "text": [
      " "
     ]
    },
    {
     "name": "stderr",
     "output_type": "stream",
     "text": [
      "Loading cached processed dataset at /home/andrzej/.cache/huggingface/datasets/allegro_reviews/default/1.1.0/d0fd6bf6f7f8f2c8faed7ecf9d295c991eac403ca516d3d3593061a913c0476b/cache-2d625169937aaed8.arrow\n"
     ]
    },
    {
     "name": "stdout",
     "output_type": "stream",
     "text": [
      " "
     ]
    },
    {
     "name": "stderr",
     "output_type": "stream",
     "text": [
      "Loading cached processed dataset at /home/andrzej/.cache/huggingface/datasets/allegro_reviews/default/1.1.0/d0fd6bf6f7f8f2c8faed7ecf9d295c991eac403ca516d3d3593061a913c0476b/cache-b89784e0451c1da9.arrow\n"
     ]
    },
    {
     "name": "stdout",
     "output_type": "stream",
     "text": [
      " "
     ]
    },
    {
     "name": "stderr",
     "output_type": "stream",
     "text": [
      "Loading cached processed dataset at /home/andrzej/.cache/huggingface/datasets/allegro_reviews/default/1.1.0/d0fd6bf6f7f8f2c8faed7ecf9d295c991eac403ca516d3d3593061a913c0476b/cache-a7f65f2ac57526e0.arrow\n"
     ]
    },
    {
     "name": "stdout",
     "output_type": "stream",
     "text": [
      " "
     ]
    },
    {
     "name": "stderr",
     "output_type": "stream",
     "text": [
      "Loading cached processed dataset at /home/andrzej/.cache/huggingface/datasets/allegro_reviews/default/1.1.0/d0fd6bf6f7f8f2c8faed7ecf9d295c991eac403ca516d3d3593061a913c0476b/cache-f3e708aeee4b0dea.arrow\n"
     ]
    },
    {
     "name": "stdout",
     "output_type": "stream",
     "text": [
      " "
     ]
    },
    {
     "name": "stderr",
     "output_type": "stream",
     "text": [
      "Loading cached processed dataset at /home/andrzej/.cache/huggingface/datasets/allegro_reviews/default/1.1.0/d0fd6bf6f7f8f2c8faed7ecf9d295c991eac403ca516d3d3593061a913c0476b/cache-c0b36f60b02449e6.arrow\n"
     ]
    },
    {
     "name": "stdout",
     "output_type": "stream",
     "text": [
      " "
     ]
    },
    {
     "name": "stderr",
     "output_type": "stream",
     "text": [
      "Loading cached processed dataset at /home/andrzej/.cache/huggingface/datasets/allegro_reviews/default/1.1.0/d0fd6bf6f7f8f2c8faed7ecf9d295c991eac403ca516d3d3593061a913c0476b/cache-ebe5090ca842d36e.arrow\n"
     ]
    },
    {
     "name": "stdout",
     "output_type": "stream",
     "text": [
      " "
     ]
    },
    {
     "name": "stderr",
     "output_type": "stream",
     "text": [
      "Loading cached processed dataset at /home/andrzej/.cache/huggingface/datasets/allegro_reviews/default/1.1.0/d0fd6bf6f7f8f2c8faed7ecf9d295c991eac403ca516d3d3593061a913c0476b/cache-bb27558085120acf.arrow\n"
     ]
    },
    {
     "name": "stdout",
     "output_type": "stream",
     "text": [
      " "
     ]
    },
    {
     "name": "stderr",
     "output_type": "stream",
     "text": [
      "Loading cached processed dataset at /home/andrzej/.cache/huggingface/datasets/allegro_reviews/default/1.1.0/d0fd6bf6f7f8f2c8faed7ecf9d295c991eac403ca516d3d3593061a913c0476b/cache-99773887bcbff88e.arrow\n"
     ]
    },
    {
     "name": "stdout",
     "output_type": "stream",
     "text": [
      " "
     ]
    },
    {
     "name": "stderr",
     "output_type": "stream",
     "text": [
      "Loading cached processed dataset at /home/andrzej/.cache/huggingface/datasets/allegro_reviews/default/1.1.0/d0fd6bf6f7f8f2c8faed7ecf9d295c991eac403ca516d3d3593061a913c0476b/cache-3344284285389a35.arrow\n"
     ]
    },
    {
     "name": "stdout",
     "output_type": "stream",
     "text": [
      " "
     ]
    },
    {
     "name": "stderr",
     "output_type": "stream",
     "text": [
      "Loading cached processed dataset at /home/andrzej/.cache/huggingface/datasets/allegro_reviews/default/1.1.0/d0fd6bf6f7f8f2c8faed7ecf9d295c991eac403ca516d3d3593061a913c0476b/cache-3678a71f52a024a5.arrow\n"
     ]
    },
    {
     "name": "stdout",
     "output_type": "stream",
     "text": [
      " "
     ]
    },
    {
     "name": "stderr",
     "output_type": "stream",
     "text": [
      "Loading cached processed dataset at /home/andrzej/.cache/huggingface/datasets/allegro_reviews/default/1.1.0/d0fd6bf6f7f8f2c8faed7ecf9d295c991eac403ca516d3d3593061a913c0476b/cache-2312e7eab1561cd4.arrow\n"
     ]
    },
    {
     "name": "stdout",
     "output_type": "stream",
     "text": [
      " "
     ]
    },
    {
     "name": "stderr",
     "output_type": "stream",
     "text": [
      "Loading cached processed dataset at /home/andrzej/.cache/huggingface/datasets/allegro_reviews/default/1.1.0/d0fd6bf6f7f8f2c8faed7ecf9d295c991eac403ca516d3d3593061a913c0476b/cache-33d059480a3e7964.arrow\n"
     ]
    },
    {
     "name": "stdout",
     "output_type": "stream",
     "text": [
      " "
     ]
    },
    {
     "name": "stderr",
     "output_type": "stream",
     "text": [
      "Loading cached processed dataset at /home/andrzej/.cache/huggingface/datasets/allegro_reviews/default/1.1.0/d0fd6bf6f7f8f2c8faed7ecf9d295c991eac403ca516d3d3593061a913c0476b/cache-ecf3f65de02a6cf6.arrow\n"
     ]
    }
   ],
   "source": [
    "db_information = [{\n",
    "    'name': \"clarin-pl/polemo2-official\",\n",
    "    'target_col': 'target',\n",
    "    'mapper_values': {1: 'negatywne', 3: 'dwuznaczne', 0: 'neutralne', 2: 'pozytywne'}},\n",
    "\n",
    "    {'name': 'allegro_reviews',\n",
    "     'target_col': 'rating',\n",
    "     'mapper_values': {1: 'bardzo negatywne', 2: 'negatywne', 3: 'neutralne dwuznaczne', 4: 'pozytywne',\n",
    "                       5: 'bardzo pozytywne'}, }\n",
    "\n",
    "]\n",
    "\n",
    "db_dict = {values['name']: DataSet(**values) for values in db_information}\n"
   ],
   "metadata": {
    "collapsed": false,
    "pycharm": {
     "name": "#%%\n"
    }
   }
  },
  {
   "cell_type": "code",
   "execution_count": 72,
   "outputs": [],
   "source": [
    "import  time\n",
    "from dash_app.backend.utils.words_counter import count_most_frequent_words\n",
    "allegro = db_dict['allegro_reviews']\n",
    "data = allegro.data['train']\n",
    "\n",
    "def count_most_frequent_words_apply(data, col='token_tekst', the_most_common=10):\n",
    "    return count_most_frequent_words(\" \".join(data[col].str.join(\" \").values), data.shape[0],\n",
    "                                                   the_most_common)\n",
    "\n",
    "\n",
    "\n",
    "# merged_text = \" \".join(\" \".join(x) for x in data['token_tekst'])\n",
    "# count_most_frequent_words(merged_text,1000)\n",
    "\n",
    "# common_words = allegro.common_words['train']"
   ],
   "metadata": {
    "collapsed": false,
    "pycharm": {
     "name": "#%%\n"
    }
   }
  },
  {
   "cell_type": "code",
   "execution_count": 100,
   "outputs": [
    {
     "data": {
      "text/plain": "             ocena_tekst        word     count\n0       bardzo negatywne         być  1.048471\n40             negatywne         być  0.818522\n60  neutralne dwuznaczne         być  0.748344\n20      bardzo pozytywne         być  0.684680\n80             pozytywne         być  0.599757\n..                   ...         ...       ...\n79  neutralne dwuznaczne     trzymać  0.132450\n36      bardzo pozytywne       ekran  0.125669\n37      bardzo pozytywne       kabel  0.122610\n38      bardzo pozytywne  urządzenie  0.120571\n39      bardzo pozytywne        mały  0.118787\n\n[100 rows x 3 columns]",
      "text/html": "<div>\n<style scoped>\n    .dataframe tbody tr th:only-of-type {\n        vertical-align: middle;\n    }\n\n    .dataframe tbody tr th {\n        vertical-align: top;\n    }\n\n    .dataframe thead th {\n        text-align: right;\n    }\n</style>\n<table border=\"1\" class=\"dataframe\">\n  <thead>\n    <tr style=\"text-align: right;\">\n      <th></th>\n      <th>ocena_tekst</th>\n      <th>word</th>\n      <th>count</th>\n    </tr>\n  </thead>\n  <tbody>\n    <tr>\n      <th>0</th>\n      <td>bardzo negatywne</td>\n      <td>być</td>\n      <td>1.048471</td>\n    </tr>\n    <tr>\n      <th>40</th>\n      <td>negatywne</td>\n      <td>być</td>\n      <td>0.818522</td>\n    </tr>\n    <tr>\n      <th>60</th>\n      <td>neutralne dwuznaczne</td>\n      <td>być</td>\n      <td>0.748344</td>\n    </tr>\n    <tr>\n      <th>20</th>\n      <td>bardzo pozytywne</td>\n      <td>być</td>\n      <td>0.684680</td>\n    </tr>\n    <tr>\n      <th>80</th>\n      <td>pozytywne</td>\n      <td>być</td>\n      <td>0.599757</td>\n    </tr>\n    <tr>\n      <th>...</th>\n      <td>...</td>\n      <td>...</td>\n      <td>...</td>\n    </tr>\n    <tr>\n      <th>79</th>\n      <td>neutralne dwuznaczne</td>\n      <td>trzymać</td>\n      <td>0.132450</td>\n    </tr>\n    <tr>\n      <th>36</th>\n      <td>bardzo pozytywne</td>\n      <td>ekran</td>\n      <td>0.125669</td>\n    </tr>\n    <tr>\n      <th>37</th>\n      <td>bardzo pozytywne</td>\n      <td>kabel</td>\n      <td>0.122610</td>\n    </tr>\n    <tr>\n      <th>38</th>\n      <td>bardzo pozytywne</td>\n      <td>urządzenie</td>\n      <td>0.120571</td>\n    </tr>\n    <tr>\n      <th>39</th>\n      <td>bardzo pozytywne</td>\n      <td>mały</td>\n      <td>0.118787</td>\n    </tr>\n  </tbody>\n</table>\n<p>100 rows × 3 columns</p>\n</div>"
     },
     "execution_count": 100,
     "metadata": {},
     "output_type": "execute_result"
    }
   ],
   "source": [
    "common_words = allegro.common_words['train']\n",
    "common_words = common_words.explode()\n",
    "common_words = pd.DataFrame( data=common_words.to_list(), columns=['word','count'], index=common_words.index).reset_index()\n",
    "common_words['count'] = common_words['count'].astype(float)\n",
    "common_words = common_words.sort_values('count',ascending=False)\n",
    "common_words"
   ],
   "metadata": {
    "collapsed": false,
    "pycharm": {
     "name": "#%%\n"
    }
   }
  },
  {
   "cell_type": "code",
   "execution_count": 28,
   "outputs": [
    {
     "data": {
      "application/vnd.plotly.v1+json": {
       "data": [
        {
         "marker": {
          "color": "#AA0DFE"
         },
         "name": "bardzo negatywne",
         "x": [
          "być",
          "telefon",
          "szkło",
          "produkt",
          "ekran",
          "polecać",
          "działać",
          "etui",
          "jakość",
          "niestety"
         ],
         "y": [
          1.048470859780727,
          0.5199076745527986,
          0.4835545297172533,
          0.35083669936526257,
          0.3387189844200808,
          0.29659549913444894,
          0.28851702250432776,
          0.28216964800923255,
          0.24062319676860935,
          0.20542412002308136
         ],
         "type": "bar",
         "xaxis": "x",
         "yaxis": "y"
        },
        {
         "marker": {
          "color": "#3283FE"
         },
         "name": "negatywne",
         "x": [
          "być",
          "telefon",
          "szkło",
          "etui",
          "działać",
          "jakość",
          "produkt",
          "ekran",
          "niestety",
          "dobry"
         ],
         "y": [
          0.8185219831618334,
          0.5463049579045838,
          0.4059869036482694,
          0.35266604303086996,
          0.3115060804490178,
          0.29466791393826003,
          0.27970065481758655,
          0.2628624883068288,
          0.26192703461178674,
          0.21515434985968196
         ],
         "type": "bar",
         "xaxis": "x",
         "yaxis": "y"
        },
        {
         "marker": {
          "color": "#85660D"
         },
         "name": "neutralne dwuznaczne",
         "x": [
          "być",
          "telefon",
          "szkło",
          "etui",
          "jakość",
          "działać",
          "niestety",
          "ekran",
          "produkt",
          "dobry"
         ],
         "y": [
          0.7483443708609272,
          0.5389072847682119,
          0.3402317880794702,
          0.33774834437086093,
          0.29304635761589404,
          0.2905629139072848,
          0.2599337748344371,
          0.25496688741721857,
          0.24420529801324503,
          0.23841059602649006
         ],
         "type": "bar",
         "xaxis": "x",
         "yaxis": "y"
        },
        {
         "marker": {
          "color": "#782AB6"
         },
         "name": "bardzo pozytywne",
         "x": [
          "być",
          "dobry",
          "telefon",
          "polecać",
          "jakość",
          "cena",
          "działać",
          "super",
          "produkt",
          "problem"
         ],
         "y": [
          0.6846800917665052,
          0.3487127198572521,
          0.33596737190925313,
          0.3150650012745348,
          0.25924037726229926,
          0.22839663522814171,
          0.22737700739230182,
          0.1924547540147846,
          0.17767015039510578,
          0.1697680346673464
         ],
         "type": "bar",
         "xaxis": "x",
         "yaxis": "y"
        },
        {
         "marker": {
          "color": "#565656"
         },
         "name": "pozytywne",
         "x": [
          "być",
          "telefon",
          "dobry",
          "działać",
          "etui",
          "jakość",
          "cena",
          "szkło",
          "wykonać",
          "problem"
         ],
         "y": [
          0.5997566909975669,
          0.44768856447688565,
          0.34610705596107055,
          0.30170316301703165,
          0.2962287104622871,
          0.2749391727493917,
          0.27007299270072993,
          0.2110705596107056,
          0.2037712895377129,
          0.20316301703163017
         ],
         "type": "bar",
         "xaxis": "x",
         "yaxis": "y"
        },
        {
         "marker": {
          "color": "#AA0DFE"
         },
         "name": "bardzo pozytywne",
         "x": [
          "bardzo",
          "dobry",
          "dobrze",
          "tak",
          "super",
          "sam",
          "inny",
          "duży",
          "jak",
          "jeden"
         ],
         "y": [
          0.6726994646953862,
          0.3471832781034922,
          0.3035941881213357,
          0.20672954371654345,
          0.17665052255926586,
          0.16951312770838645,
          0.15090491970430792,
          0.15039510578638796,
          0.1287280142747897,
          0.12847310731582973
         ],
         "type": "bar",
         "xaxis": "x2",
         "yaxis": "y2"
        },
        {
         "marker": {
          "color": "#3283FE"
         },
         "name": "pozytywne",
         "x": [
          "bardzo",
          "dobrze",
          "dobry",
          "tak",
          "sam",
          "duży",
          "jeden",
          "inny",
          "jak",
          "trochę"
         ],
         "y": [
          0.5851581508515815,
          0.38503649635036497,
          0.34306569343065696,
          0.24817518248175183,
          0.23236009732360097,
          0.18917274939172748,
          0.177007299270073,
          0.16484184914841848,
          0.16180048661800486,
          0.15936739659367397
         ],
         "type": "bar",
         "xaxis": "x2",
         "yaxis": "y2"
        },
        {
         "marker": {
          "color": "#85660D"
         },
         "name": "neutralne dwuznaczne",
         "x": [
          "bardzo",
          "dobrze",
          "sam",
          "tak",
          "dobry",
          "inny",
          "jeden",
          "duży",
          "jak",
          "drugi"
         ],
         "y": [
          0.5281456953642384,
          0.2980132450331126,
          0.2723509933774834,
          0.24917218543046357,
          0.23758278145695363,
          0.18874172185430463,
          0.17052980132450332,
          0.16804635761589404,
          0.12582781456953643,
          0.12003311258278146
         ],
         "type": "bar",
         "xaxis": "x2",
         "yaxis": "y2"
        },
        {
         "marker": {
          "color": "#782AB6"
         },
         "name": "negatywne",
         "x": [
          "bardzo",
          "sam",
          "tak",
          "dobrze",
          "dobry",
          "jeden",
          "inny",
          "duży",
          "drugi",
          "cały"
         ],
         "y": [
          0.4471468662301216,
          0.284377923292797,
          0.2768942937324602,
          0.23666978484565013,
          0.21234798877455566,
          0.18896164639850327,
          0.17305893358278765,
          0.13096351730589337,
          0.11973807296538821,
          0.11880261927034612
         ],
         "type": "bar",
         "xaxis": "x2",
         "yaxis": "y2"
        },
        {
         "marker": {
          "color": "#565656"
         },
         "name": "bardzo negatywne",
         "x": [
          "bardzo",
          "tak",
          "sam",
          "inny",
          "jeden",
          "dobrze",
          "pierwszy",
          "cały",
          "drugi",
          "dobry"
         ],
         "y": [
          0.3410271206001154,
          0.2740911713791114,
          0.26889786497403345,
          0.19734564339296018,
          0.18869013271783036,
          0.13906520484708598,
          0.13733410271206,
          0.13675706866705137,
          0.13271783035199078,
          0.11944604731679169
         ],
         "type": "bar",
         "xaxis": "x2",
         "yaxis": "y2"
        }
       ],
       "layout": {
        "template": {
         "data": {
          "histogram2dcontour": [
           {
            "type": "histogram2dcontour",
            "colorbar": {
             "outlinewidth": 0,
             "ticks": ""
            },
            "colorscale": [
             [
              0.0,
              "#0d0887"
             ],
             [
              0.1111111111111111,
              "#46039f"
             ],
             [
              0.2222222222222222,
              "#7201a8"
             ],
             [
              0.3333333333333333,
              "#9c179e"
             ],
             [
              0.4444444444444444,
              "#bd3786"
             ],
             [
              0.5555555555555556,
              "#d8576b"
             ],
             [
              0.6666666666666666,
              "#ed7953"
             ],
             [
              0.7777777777777778,
              "#fb9f3a"
             ],
             [
              0.8888888888888888,
              "#fdca26"
             ],
             [
              1.0,
              "#f0f921"
             ]
            ]
           }
          ],
          "choropleth": [
           {
            "type": "choropleth",
            "colorbar": {
             "outlinewidth": 0,
             "ticks": ""
            }
           }
          ],
          "histogram2d": [
           {
            "type": "histogram2d",
            "colorbar": {
             "outlinewidth": 0,
             "ticks": ""
            },
            "colorscale": [
             [
              0.0,
              "#0d0887"
             ],
             [
              0.1111111111111111,
              "#46039f"
             ],
             [
              0.2222222222222222,
              "#7201a8"
             ],
             [
              0.3333333333333333,
              "#9c179e"
             ],
             [
              0.4444444444444444,
              "#bd3786"
             ],
             [
              0.5555555555555556,
              "#d8576b"
             ],
             [
              0.6666666666666666,
              "#ed7953"
             ],
             [
              0.7777777777777778,
              "#fb9f3a"
             ],
             [
              0.8888888888888888,
              "#fdca26"
             ],
             [
              1.0,
              "#f0f921"
             ]
            ]
           }
          ],
          "heatmap": [
           {
            "type": "heatmap",
            "colorbar": {
             "outlinewidth": 0,
             "ticks": ""
            },
            "colorscale": [
             [
              0.0,
              "#0d0887"
             ],
             [
              0.1111111111111111,
              "#46039f"
             ],
             [
              0.2222222222222222,
              "#7201a8"
             ],
             [
              0.3333333333333333,
              "#9c179e"
             ],
             [
              0.4444444444444444,
              "#bd3786"
             ],
             [
              0.5555555555555556,
              "#d8576b"
             ],
             [
              0.6666666666666666,
              "#ed7953"
             ],
             [
              0.7777777777777778,
              "#fb9f3a"
             ],
             [
              0.8888888888888888,
              "#fdca26"
             ],
             [
              1.0,
              "#f0f921"
             ]
            ]
           }
          ],
          "heatmapgl": [
           {
            "type": "heatmapgl",
            "colorbar": {
             "outlinewidth": 0,
             "ticks": ""
            },
            "colorscale": [
             [
              0.0,
              "#0d0887"
             ],
             [
              0.1111111111111111,
              "#46039f"
             ],
             [
              0.2222222222222222,
              "#7201a8"
             ],
             [
              0.3333333333333333,
              "#9c179e"
             ],
             [
              0.4444444444444444,
              "#bd3786"
             ],
             [
              0.5555555555555556,
              "#d8576b"
             ],
             [
              0.6666666666666666,
              "#ed7953"
             ],
             [
              0.7777777777777778,
              "#fb9f3a"
             ],
             [
              0.8888888888888888,
              "#fdca26"
             ],
             [
              1.0,
              "#f0f921"
             ]
            ]
           }
          ],
          "contourcarpet": [
           {
            "type": "contourcarpet",
            "colorbar": {
             "outlinewidth": 0,
             "ticks": ""
            }
           }
          ],
          "contour": [
           {
            "type": "contour",
            "colorbar": {
             "outlinewidth": 0,
             "ticks": ""
            },
            "colorscale": [
             [
              0.0,
              "#0d0887"
             ],
             [
              0.1111111111111111,
              "#46039f"
             ],
             [
              0.2222222222222222,
              "#7201a8"
             ],
             [
              0.3333333333333333,
              "#9c179e"
             ],
             [
              0.4444444444444444,
              "#bd3786"
             ],
             [
              0.5555555555555556,
              "#d8576b"
             ],
             [
              0.6666666666666666,
              "#ed7953"
             ],
             [
              0.7777777777777778,
              "#fb9f3a"
             ],
             [
              0.8888888888888888,
              "#fdca26"
             ],
             [
              1.0,
              "#f0f921"
             ]
            ]
           }
          ],
          "surface": [
           {
            "type": "surface",
            "colorbar": {
             "outlinewidth": 0,
             "ticks": ""
            },
            "colorscale": [
             [
              0.0,
              "#0d0887"
             ],
             [
              0.1111111111111111,
              "#46039f"
             ],
             [
              0.2222222222222222,
              "#7201a8"
             ],
             [
              0.3333333333333333,
              "#9c179e"
             ],
             [
              0.4444444444444444,
              "#bd3786"
             ],
             [
              0.5555555555555556,
              "#d8576b"
             ],
             [
              0.6666666666666666,
              "#ed7953"
             ],
             [
              0.7777777777777778,
              "#fb9f3a"
             ],
             [
              0.8888888888888888,
              "#fdca26"
             ],
             [
              1.0,
              "#f0f921"
             ]
            ]
           }
          ],
          "mesh3d": [
           {
            "type": "mesh3d",
            "colorbar": {
             "outlinewidth": 0,
             "ticks": ""
            }
           }
          ],
          "scatter": [
           {
            "marker": {
             "line": {
              "color": "#283442"
             }
            },
            "type": "scatter"
           }
          ],
          "parcoords": [
           {
            "type": "parcoords",
            "line": {
             "colorbar": {
              "outlinewidth": 0,
              "ticks": ""
             }
            }
           }
          ],
          "scatterpolargl": [
           {
            "type": "scatterpolargl",
            "marker": {
             "colorbar": {
              "outlinewidth": 0,
              "ticks": ""
             }
            }
           }
          ],
          "bar": [
           {
            "error_x": {
             "color": "#f2f5fa"
            },
            "error_y": {
             "color": "#f2f5fa"
            },
            "marker": {
             "line": {
              "color": "rgb(17,17,17)",
              "width": 0.5
             },
             "pattern": {
              "fillmode": "overlay",
              "size": 10,
              "solidity": 0.2
             }
            },
            "type": "bar"
           }
          ],
          "scattergeo": [
           {
            "type": "scattergeo",
            "marker": {
             "colorbar": {
              "outlinewidth": 0,
              "ticks": ""
             }
            }
           }
          ],
          "scatterpolar": [
           {
            "type": "scatterpolar",
            "marker": {
             "colorbar": {
              "outlinewidth": 0,
              "ticks": ""
             }
            }
           }
          ],
          "histogram": [
           {
            "marker": {
             "pattern": {
              "fillmode": "overlay",
              "size": 10,
              "solidity": 0.2
             }
            },
            "type": "histogram"
           }
          ],
          "scattergl": [
           {
            "marker": {
             "line": {
              "color": "#283442"
             }
            },
            "type": "scattergl"
           }
          ],
          "scatter3d": [
           {
            "type": "scatter3d",
            "line": {
             "colorbar": {
              "outlinewidth": 0,
              "ticks": ""
             }
            },
            "marker": {
             "colorbar": {
              "outlinewidth": 0,
              "ticks": ""
             }
            }
           }
          ],
          "scattermapbox": [
           {
            "type": "scattermapbox",
            "marker": {
             "colorbar": {
              "outlinewidth": 0,
              "ticks": ""
             }
            }
           }
          ],
          "scatterternary": [
           {
            "type": "scatterternary",
            "marker": {
             "colorbar": {
              "outlinewidth": 0,
              "ticks": ""
             }
            }
           }
          ],
          "scattercarpet": [
           {
            "type": "scattercarpet",
            "marker": {
             "colorbar": {
              "outlinewidth": 0,
              "ticks": ""
             }
            }
           }
          ],
          "carpet": [
           {
            "aaxis": {
             "endlinecolor": "#A2B1C6",
             "gridcolor": "#506784",
             "linecolor": "#506784",
             "minorgridcolor": "#506784",
             "startlinecolor": "#A2B1C6"
            },
            "baxis": {
             "endlinecolor": "#A2B1C6",
             "gridcolor": "#506784",
             "linecolor": "#506784",
             "minorgridcolor": "#506784",
             "startlinecolor": "#A2B1C6"
            },
            "type": "carpet"
           }
          ],
          "table": [
           {
            "cells": {
             "fill": {
              "color": "#506784"
             },
             "line": {
              "color": "rgb(17,17,17)"
             }
            },
            "header": {
             "fill": {
              "color": "#2a3f5f"
             },
             "line": {
              "color": "rgb(17,17,17)"
             }
            },
            "type": "table"
           }
          ],
          "barpolar": [
           {
            "marker": {
             "line": {
              "color": "rgb(17,17,17)",
              "width": 0.5
             },
             "pattern": {
              "fillmode": "overlay",
              "size": 10,
              "solidity": 0.2
             }
            },
            "type": "barpolar"
           }
          ],
          "pie": [
           {
            "automargin": true,
            "type": "pie"
           }
          ]
         },
         "layout": {
          "autotypenumbers": "strict",
          "colorway": [
           "#636efa",
           "#EF553B",
           "#00cc96",
           "#ab63fa",
           "#FFA15A",
           "#19d3f3",
           "#FF6692",
           "#B6E880",
           "#FF97FF",
           "#FECB52"
          ],
          "font": {
           "color": "#f2f5fa"
          },
          "hovermode": "closest",
          "hoverlabel": {
           "align": "left"
          },
          "paper_bgcolor": "rgb(17,17,17)",
          "plot_bgcolor": "rgb(17,17,17)",
          "polar": {
           "bgcolor": "rgb(17,17,17)",
           "angularaxis": {
            "gridcolor": "#506784",
            "linecolor": "#506784",
            "ticks": ""
           },
           "radialaxis": {
            "gridcolor": "#506784",
            "linecolor": "#506784",
            "ticks": ""
           }
          },
          "ternary": {
           "bgcolor": "rgb(17,17,17)",
           "aaxis": {
            "gridcolor": "#506784",
            "linecolor": "#506784",
            "ticks": ""
           },
           "baxis": {
            "gridcolor": "#506784",
            "linecolor": "#506784",
            "ticks": ""
           },
           "caxis": {
            "gridcolor": "#506784",
            "linecolor": "#506784",
            "ticks": ""
           }
          },
          "coloraxis": {
           "colorbar": {
            "outlinewidth": 0,
            "ticks": ""
           }
          },
          "colorscale": {
           "sequential": [
            [
             0.0,
             "#0d0887"
            ],
            [
             0.1111111111111111,
             "#46039f"
            ],
            [
             0.2222222222222222,
             "#7201a8"
            ],
            [
             0.3333333333333333,
             "#9c179e"
            ],
            [
             0.4444444444444444,
             "#bd3786"
            ],
            [
             0.5555555555555556,
             "#d8576b"
            ],
            [
             0.6666666666666666,
             "#ed7953"
            ],
            [
             0.7777777777777778,
             "#fb9f3a"
            ],
            [
             0.8888888888888888,
             "#fdca26"
            ],
            [
             1.0,
             "#f0f921"
            ]
           ],
           "sequentialminus": [
            [
             0.0,
             "#0d0887"
            ],
            [
             0.1111111111111111,
             "#46039f"
            ],
            [
             0.2222222222222222,
             "#7201a8"
            ],
            [
             0.3333333333333333,
             "#9c179e"
            ],
            [
             0.4444444444444444,
             "#bd3786"
            ],
            [
             0.5555555555555556,
             "#d8576b"
            ],
            [
             0.6666666666666666,
             "#ed7953"
            ],
            [
             0.7777777777777778,
             "#fb9f3a"
            ],
            [
             0.8888888888888888,
             "#fdca26"
            ],
            [
             1.0,
             "#f0f921"
            ]
           ],
           "diverging": [
            [
             0,
             "#8e0152"
            ],
            [
             0.1,
             "#c51b7d"
            ],
            [
             0.2,
             "#de77ae"
            ],
            [
             0.3,
             "#f1b6da"
            ],
            [
             0.4,
             "#fde0ef"
            ],
            [
             0.5,
             "#f7f7f7"
            ],
            [
             0.6,
             "#e6f5d0"
            ],
            [
             0.7,
             "#b8e186"
            ],
            [
             0.8,
             "#7fbc41"
            ],
            [
             0.9,
             "#4d9221"
            ],
            [
             1,
             "#276419"
            ]
           ]
          },
          "xaxis": {
           "gridcolor": "#283442",
           "linecolor": "#506784",
           "ticks": "",
           "title": {
            "standoff": 15
           },
           "zerolinecolor": "#283442",
           "automargin": true,
           "zerolinewidth": 2
          },
          "yaxis": {
           "gridcolor": "#283442",
           "linecolor": "#506784",
           "ticks": "",
           "title": {
            "standoff": 15
           },
           "zerolinecolor": "#283442",
           "automargin": true,
           "zerolinewidth": 2
          },
          "scene": {
           "xaxis": {
            "backgroundcolor": "rgb(17,17,17)",
            "gridcolor": "#506784",
            "linecolor": "#506784",
            "showbackground": true,
            "ticks": "",
            "zerolinecolor": "#C8D4E3",
            "gridwidth": 2
           },
           "yaxis": {
            "backgroundcolor": "rgb(17,17,17)",
            "gridcolor": "#506784",
            "linecolor": "#506784",
            "showbackground": true,
            "ticks": "",
            "zerolinecolor": "#C8D4E3",
            "gridwidth": 2
           },
           "zaxis": {
            "backgroundcolor": "rgb(17,17,17)",
            "gridcolor": "#506784",
            "linecolor": "#506784",
            "showbackground": true,
            "ticks": "",
            "zerolinecolor": "#C8D4E3",
            "gridwidth": 2
           }
          },
          "shapedefaults": {
           "line": {
            "color": "#f2f5fa"
           }
          },
          "annotationdefaults": {
           "arrowcolor": "#f2f5fa",
           "arrowhead": 0,
           "arrowwidth": 1
          },
          "geo": {
           "bgcolor": "rgb(17,17,17)",
           "landcolor": "rgb(17,17,17)",
           "subunitcolor": "#506784",
           "showland": true,
           "showlakes": true,
           "lakecolor": "rgb(17,17,17)"
          },
          "title": {
           "x": 0.05
          },
          "updatemenudefaults": {
           "bgcolor": "#506784",
           "borderwidth": 0
          },
          "sliderdefaults": {
           "bgcolor": "#C8D4E3",
           "borderwidth": 1,
           "bordercolor": "rgb(17,17,17)",
           "tickwidth": 0
          },
          "mapbox": {
           "style": "dark"
          }
         }
        },
        "xaxis": {
         "anchor": "y",
         "domain": [
          0.0,
          1.0
         ]
        },
        "yaxis": {
         "anchor": "x",
         "domain": [
          0.625,
          1.0
         ],
         "title": {
          "text": "Częstość"
         }
        },
        "xaxis2": {
         "anchor": "y2",
         "domain": [
          0.0,
          1.0
         ]
        },
        "yaxis2": {
         "anchor": "x2",
         "domain": [
          0.0,
          0.375
         ],
         "title": {
          "text": "Częstość"
         }
        },
        "annotations": [
         {
          "font": {
           "size": 16
          },
          "showarrow": false,
          "text": "Wszystkie",
          "x": 0.5,
          "xanchor": "center",
          "xref": "paper",
          "y": 1.0,
          "yanchor": "bottom",
          "yref": "paper"
         },
         {
          "font": {
           "size": 16
          },
          "showarrow": false,
          "text": "Przymiotniki i przysłowki",
          "x": 0.5,
          "xanchor": "center",
          "xref": "paper",
          "y": 0.375,
          "yanchor": "bottom",
          "yref": "paper"
         }
        ],
        "title": {
         "x": 0.5,
         "text": "Najczęsciej wystepujące słowa"
        },
        "autosize": true,
        "showlegend": false
       },
       "config": {
        "plotlyServerURL": "https://plot.ly"
       }
      },
      "text/html": "<div>                            <div id=\"cb69fa27-d4ad-4e38-af33-30859a18d485\" class=\"plotly-graph-div\" style=\"height:525px; width:100%;\"></div>            <script type=\"text/javascript\">                require([\"plotly\"], function(Plotly) {                    window.PLOTLYENV=window.PLOTLYENV || {};                                    if (document.getElementById(\"cb69fa27-d4ad-4e38-af33-30859a18d485\")) {                    Plotly.newPlot(                        \"cb69fa27-d4ad-4e38-af33-30859a18d485\",                        [{\"marker\":{\"color\":\"#AA0DFE\"},\"name\":\"bardzo negatywne\",\"x\":[\"by\\u0107\",\"telefon\",\"szk\\u0142o\",\"produkt\",\"ekran\",\"poleca\\u0107\",\"dzia\\u0142a\\u0107\",\"etui\",\"jako\\u015b\\u0107\",\"niestety\"],\"y\":[1.048470859780727,0.5199076745527986,0.4835545297172533,0.35083669936526257,0.3387189844200808,0.29659549913444894,0.28851702250432776,0.28216964800923255,0.24062319676860935,0.20542412002308136],\"type\":\"bar\",\"xaxis\":\"x\",\"yaxis\":\"y\"},{\"marker\":{\"color\":\"#3283FE\"},\"name\":\"negatywne\",\"x\":[\"by\\u0107\",\"telefon\",\"szk\\u0142o\",\"etui\",\"dzia\\u0142a\\u0107\",\"jako\\u015b\\u0107\",\"produkt\",\"ekran\",\"niestety\",\"dobry\"],\"y\":[0.8185219831618334,0.5463049579045838,0.4059869036482694,0.35266604303086996,0.3115060804490178,0.29466791393826003,0.27970065481758655,0.2628624883068288,0.26192703461178674,0.21515434985968196],\"type\":\"bar\",\"xaxis\":\"x\",\"yaxis\":\"y\"},{\"marker\":{\"color\":\"#85660D\"},\"name\":\"neutralne dwuznaczne\",\"x\":[\"by\\u0107\",\"telefon\",\"szk\\u0142o\",\"etui\",\"jako\\u015b\\u0107\",\"dzia\\u0142a\\u0107\",\"niestety\",\"ekran\",\"produkt\",\"dobry\"],\"y\":[0.7483443708609272,0.5389072847682119,0.3402317880794702,0.33774834437086093,0.29304635761589404,0.2905629139072848,0.2599337748344371,0.25496688741721857,0.24420529801324503,0.23841059602649006],\"type\":\"bar\",\"xaxis\":\"x\",\"yaxis\":\"y\"},{\"marker\":{\"color\":\"#782AB6\"},\"name\":\"bardzo pozytywne\",\"x\":[\"by\\u0107\",\"dobry\",\"telefon\",\"poleca\\u0107\",\"jako\\u015b\\u0107\",\"cena\",\"dzia\\u0142a\\u0107\",\"super\",\"produkt\",\"problem\"],\"y\":[0.6846800917665052,0.3487127198572521,0.33596737190925313,0.3150650012745348,0.25924037726229926,0.22839663522814171,0.22737700739230182,0.1924547540147846,0.17767015039510578,0.1697680346673464],\"type\":\"bar\",\"xaxis\":\"x\",\"yaxis\":\"y\"},{\"marker\":{\"color\":\"#565656\"},\"name\":\"pozytywne\",\"x\":[\"by\\u0107\",\"telefon\",\"dobry\",\"dzia\\u0142a\\u0107\",\"etui\",\"jako\\u015b\\u0107\",\"cena\",\"szk\\u0142o\",\"wykona\\u0107\",\"problem\"],\"y\":[0.5997566909975669,0.44768856447688565,0.34610705596107055,0.30170316301703165,0.2962287104622871,0.2749391727493917,0.27007299270072993,0.2110705596107056,0.2037712895377129,0.20316301703163017],\"type\":\"bar\",\"xaxis\":\"x\",\"yaxis\":\"y\"},{\"marker\":{\"color\":\"#AA0DFE\"},\"name\":\"bardzo pozytywne\",\"x\":[\"bardzo\",\"dobry\",\"dobrze\",\"tak\",\"super\",\"sam\",\"inny\",\"du\\u017cy\",\"jak\",\"jeden\"],\"y\":[0.6726994646953862,0.3471832781034922,0.3035941881213357,0.20672954371654345,0.17665052255926586,0.16951312770838645,0.15090491970430792,0.15039510578638796,0.1287280142747897,0.12847310731582973],\"type\":\"bar\",\"xaxis\":\"x2\",\"yaxis\":\"y2\"},{\"marker\":{\"color\":\"#3283FE\"},\"name\":\"pozytywne\",\"x\":[\"bardzo\",\"dobrze\",\"dobry\",\"tak\",\"sam\",\"du\\u017cy\",\"jeden\",\"inny\",\"jak\",\"troch\\u0119\"],\"y\":[0.5851581508515815,0.38503649635036497,0.34306569343065696,0.24817518248175183,0.23236009732360097,0.18917274939172748,0.177007299270073,0.16484184914841848,0.16180048661800486,0.15936739659367397],\"type\":\"bar\",\"xaxis\":\"x2\",\"yaxis\":\"y2\"},{\"marker\":{\"color\":\"#85660D\"},\"name\":\"neutralne dwuznaczne\",\"x\":[\"bardzo\",\"dobrze\",\"sam\",\"tak\",\"dobry\",\"inny\",\"jeden\",\"du\\u017cy\",\"jak\",\"drugi\"],\"y\":[0.5281456953642384,0.2980132450331126,0.2723509933774834,0.24917218543046357,0.23758278145695363,0.18874172185430463,0.17052980132450332,0.16804635761589404,0.12582781456953643,0.12003311258278146],\"type\":\"bar\",\"xaxis\":\"x2\",\"yaxis\":\"y2\"},{\"marker\":{\"color\":\"#782AB6\"},\"name\":\"negatywne\",\"x\":[\"bardzo\",\"sam\",\"tak\",\"dobrze\",\"dobry\",\"jeden\",\"inny\",\"du\\u017cy\",\"drugi\",\"ca\\u0142y\"],\"y\":[0.4471468662301216,0.284377923292797,0.2768942937324602,0.23666978484565013,0.21234798877455566,0.18896164639850327,0.17305893358278765,0.13096351730589337,0.11973807296538821,0.11880261927034612],\"type\":\"bar\",\"xaxis\":\"x2\",\"yaxis\":\"y2\"},{\"marker\":{\"color\":\"#565656\"},\"name\":\"bardzo negatywne\",\"x\":[\"bardzo\",\"tak\",\"sam\",\"inny\",\"jeden\",\"dobrze\",\"pierwszy\",\"ca\\u0142y\",\"drugi\",\"dobry\"],\"y\":[0.3410271206001154,0.2740911713791114,0.26889786497403345,0.19734564339296018,0.18869013271783036,0.13906520484708598,0.13733410271206,0.13675706866705137,0.13271783035199078,0.11944604731679169],\"type\":\"bar\",\"xaxis\":\"x2\",\"yaxis\":\"y2\"}],                        {\"template\":{\"data\":{\"histogram2dcontour\":[{\"type\":\"histogram2dcontour\",\"colorbar\":{\"outlinewidth\":0,\"ticks\":\"\"},\"colorscale\":[[0.0,\"#0d0887\"],[0.1111111111111111,\"#46039f\"],[0.2222222222222222,\"#7201a8\"],[0.3333333333333333,\"#9c179e\"],[0.4444444444444444,\"#bd3786\"],[0.5555555555555556,\"#d8576b\"],[0.6666666666666666,\"#ed7953\"],[0.7777777777777778,\"#fb9f3a\"],[0.8888888888888888,\"#fdca26\"],[1.0,\"#f0f921\"]]}],\"choropleth\":[{\"type\":\"choropleth\",\"colorbar\":{\"outlinewidth\":0,\"ticks\":\"\"}}],\"histogram2d\":[{\"type\":\"histogram2d\",\"colorbar\":{\"outlinewidth\":0,\"ticks\":\"\"},\"colorscale\":[[0.0,\"#0d0887\"],[0.1111111111111111,\"#46039f\"],[0.2222222222222222,\"#7201a8\"],[0.3333333333333333,\"#9c179e\"],[0.4444444444444444,\"#bd3786\"],[0.5555555555555556,\"#d8576b\"],[0.6666666666666666,\"#ed7953\"],[0.7777777777777778,\"#fb9f3a\"],[0.8888888888888888,\"#fdca26\"],[1.0,\"#f0f921\"]]}],\"heatmap\":[{\"type\":\"heatmap\",\"colorbar\":{\"outlinewidth\":0,\"ticks\":\"\"},\"colorscale\":[[0.0,\"#0d0887\"],[0.1111111111111111,\"#46039f\"],[0.2222222222222222,\"#7201a8\"],[0.3333333333333333,\"#9c179e\"],[0.4444444444444444,\"#bd3786\"],[0.5555555555555556,\"#d8576b\"],[0.6666666666666666,\"#ed7953\"],[0.7777777777777778,\"#fb9f3a\"],[0.8888888888888888,\"#fdca26\"],[1.0,\"#f0f921\"]]}],\"heatmapgl\":[{\"type\":\"heatmapgl\",\"colorbar\":{\"outlinewidth\":0,\"ticks\":\"\"},\"colorscale\":[[0.0,\"#0d0887\"],[0.1111111111111111,\"#46039f\"],[0.2222222222222222,\"#7201a8\"],[0.3333333333333333,\"#9c179e\"],[0.4444444444444444,\"#bd3786\"],[0.5555555555555556,\"#d8576b\"],[0.6666666666666666,\"#ed7953\"],[0.7777777777777778,\"#fb9f3a\"],[0.8888888888888888,\"#fdca26\"],[1.0,\"#f0f921\"]]}],\"contourcarpet\":[{\"type\":\"contourcarpet\",\"colorbar\":{\"outlinewidth\":0,\"ticks\":\"\"}}],\"contour\":[{\"type\":\"contour\",\"colorbar\":{\"outlinewidth\":0,\"ticks\":\"\"},\"colorscale\":[[0.0,\"#0d0887\"],[0.1111111111111111,\"#46039f\"],[0.2222222222222222,\"#7201a8\"],[0.3333333333333333,\"#9c179e\"],[0.4444444444444444,\"#bd3786\"],[0.5555555555555556,\"#d8576b\"],[0.6666666666666666,\"#ed7953\"],[0.7777777777777778,\"#fb9f3a\"],[0.8888888888888888,\"#fdca26\"],[1.0,\"#f0f921\"]]}],\"surface\":[{\"type\":\"surface\",\"colorbar\":{\"outlinewidth\":0,\"ticks\":\"\"},\"colorscale\":[[0.0,\"#0d0887\"],[0.1111111111111111,\"#46039f\"],[0.2222222222222222,\"#7201a8\"],[0.3333333333333333,\"#9c179e\"],[0.4444444444444444,\"#bd3786\"],[0.5555555555555556,\"#d8576b\"],[0.6666666666666666,\"#ed7953\"],[0.7777777777777778,\"#fb9f3a\"],[0.8888888888888888,\"#fdca26\"],[1.0,\"#f0f921\"]]}],\"mesh3d\":[{\"type\":\"mesh3d\",\"colorbar\":{\"outlinewidth\":0,\"ticks\":\"\"}}],\"scatter\":[{\"marker\":{\"line\":{\"color\":\"#283442\"}},\"type\":\"scatter\"}],\"parcoords\":[{\"type\":\"parcoords\",\"line\":{\"colorbar\":{\"outlinewidth\":0,\"ticks\":\"\"}}}],\"scatterpolargl\":[{\"type\":\"scatterpolargl\",\"marker\":{\"colorbar\":{\"outlinewidth\":0,\"ticks\":\"\"}}}],\"bar\":[{\"error_x\":{\"color\":\"#f2f5fa\"},\"error_y\":{\"color\":\"#f2f5fa\"},\"marker\":{\"line\":{\"color\":\"rgb(17,17,17)\",\"width\":0.5},\"pattern\":{\"fillmode\":\"overlay\",\"size\":10,\"solidity\":0.2}},\"type\":\"bar\"}],\"scattergeo\":[{\"type\":\"scattergeo\",\"marker\":{\"colorbar\":{\"outlinewidth\":0,\"ticks\":\"\"}}}],\"scatterpolar\":[{\"type\":\"scatterpolar\",\"marker\":{\"colorbar\":{\"outlinewidth\":0,\"ticks\":\"\"}}}],\"histogram\":[{\"marker\":{\"pattern\":{\"fillmode\":\"overlay\",\"size\":10,\"solidity\":0.2}},\"type\":\"histogram\"}],\"scattergl\":[{\"marker\":{\"line\":{\"color\":\"#283442\"}},\"type\":\"scattergl\"}],\"scatter3d\":[{\"type\":\"scatter3d\",\"line\":{\"colorbar\":{\"outlinewidth\":0,\"ticks\":\"\"}},\"marker\":{\"colorbar\":{\"outlinewidth\":0,\"ticks\":\"\"}}}],\"scattermapbox\":[{\"type\":\"scattermapbox\",\"marker\":{\"colorbar\":{\"outlinewidth\":0,\"ticks\":\"\"}}}],\"scatterternary\":[{\"type\":\"scatterternary\",\"marker\":{\"colorbar\":{\"outlinewidth\":0,\"ticks\":\"\"}}}],\"scattercarpet\":[{\"type\":\"scattercarpet\",\"marker\":{\"colorbar\":{\"outlinewidth\":0,\"ticks\":\"\"}}}],\"carpet\":[{\"aaxis\":{\"endlinecolor\":\"#A2B1C6\",\"gridcolor\":\"#506784\",\"linecolor\":\"#506784\",\"minorgridcolor\":\"#506784\",\"startlinecolor\":\"#A2B1C6\"},\"baxis\":{\"endlinecolor\":\"#A2B1C6\",\"gridcolor\":\"#506784\",\"linecolor\":\"#506784\",\"minorgridcolor\":\"#506784\",\"startlinecolor\":\"#A2B1C6\"},\"type\":\"carpet\"}],\"table\":[{\"cells\":{\"fill\":{\"color\":\"#506784\"},\"line\":{\"color\":\"rgb(17,17,17)\"}},\"header\":{\"fill\":{\"color\":\"#2a3f5f\"},\"line\":{\"color\":\"rgb(17,17,17)\"}},\"type\":\"table\"}],\"barpolar\":[{\"marker\":{\"line\":{\"color\":\"rgb(17,17,17)\",\"width\":0.5},\"pattern\":{\"fillmode\":\"overlay\",\"size\":10,\"solidity\":0.2}},\"type\":\"barpolar\"}],\"pie\":[{\"automargin\":true,\"type\":\"pie\"}]},\"layout\":{\"autotypenumbers\":\"strict\",\"colorway\":[\"#636efa\",\"#EF553B\",\"#00cc96\",\"#ab63fa\",\"#FFA15A\",\"#19d3f3\",\"#FF6692\",\"#B6E880\",\"#FF97FF\",\"#FECB52\"],\"font\":{\"color\":\"#f2f5fa\"},\"hovermode\":\"closest\",\"hoverlabel\":{\"align\":\"left\"},\"paper_bgcolor\":\"rgb(17,17,17)\",\"plot_bgcolor\":\"rgb(17,17,17)\",\"polar\":{\"bgcolor\":\"rgb(17,17,17)\",\"angularaxis\":{\"gridcolor\":\"#506784\",\"linecolor\":\"#506784\",\"ticks\":\"\"},\"radialaxis\":{\"gridcolor\":\"#506784\",\"linecolor\":\"#506784\",\"ticks\":\"\"}},\"ternary\":{\"bgcolor\":\"rgb(17,17,17)\",\"aaxis\":{\"gridcolor\":\"#506784\",\"linecolor\":\"#506784\",\"ticks\":\"\"},\"baxis\":{\"gridcolor\":\"#506784\",\"linecolor\":\"#506784\",\"ticks\":\"\"},\"caxis\":{\"gridcolor\":\"#506784\",\"linecolor\":\"#506784\",\"ticks\":\"\"}},\"coloraxis\":{\"colorbar\":{\"outlinewidth\":0,\"ticks\":\"\"}},\"colorscale\":{\"sequential\":[[0.0,\"#0d0887\"],[0.1111111111111111,\"#46039f\"],[0.2222222222222222,\"#7201a8\"],[0.3333333333333333,\"#9c179e\"],[0.4444444444444444,\"#bd3786\"],[0.5555555555555556,\"#d8576b\"],[0.6666666666666666,\"#ed7953\"],[0.7777777777777778,\"#fb9f3a\"],[0.8888888888888888,\"#fdca26\"],[1.0,\"#f0f921\"]],\"sequentialminus\":[[0.0,\"#0d0887\"],[0.1111111111111111,\"#46039f\"],[0.2222222222222222,\"#7201a8\"],[0.3333333333333333,\"#9c179e\"],[0.4444444444444444,\"#bd3786\"],[0.5555555555555556,\"#d8576b\"],[0.6666666666666666,\"#ed7953\"],[0.7777777777777778,\"#fb9f3a\"],[0.8888888888888888,\"#fdca26\"],[1.0,\"#f0f921\"]],\"diverging\":[[0,\"#8e0152\"],[0.1,\"#c51b7d\"],[0.2,\"#de77ae\"],[0.3,\"#f1b6da\"],[0.4,\"#fde0ef\"],[0.5,\"#f7f7f7\"],[0.6,\"#e6f5d0\"],[0.7,\"#b8e186\"],[0.8,\"#7fbc41\"],[0.9,\"#4d9221\"],[1,\"#276419\"]]},\"xaxis\":{\"gridcolor\":\"#283442\",\"linecolor\":\"#506784\",\"ticks\":\"\",\"title\":{\"standoff\":15},\"zerolinecolor\":\"#283442\",\"automargin\":true,\"zerolinewidth\":2},\"yaxis\":{\"gridcolor\":\"#283442\",\"linecolor\":\"#506784\",\"ticks\":\"\",\"title\":{\"standoff\":15},\"zerolinecolor\":\"#283442\",\"automargin\":true,\"zerolinewidth\":2},\"scene\":{\"xaxis\":{\"backgroundcolor\":\"rgb(17,17,17)\",\"gridcolor\":\"#506784\",\"linecolor\":\"#506784\",\"showbackground\":true,\"ticks\":\"\",\"zerolinecolor\":\"#C8D4E3\",\"gridwidth\":2},\"yaxis\":{\"backgroundcolor\":\"rgb(17,17,17)\",\"gridcolor\":\"#506784\",\"linecolor\":\"#506784\",\"showbackground\":true,\"ticks\":\"\",\"zerolinecolor\":\"#C8D4E3\",\"gridwidth\":2},\"zaxis\":{\"backgroundcolor\":\"rgb(17,17,17)\",\"gridcolor\":\"#506784\",\"linecolor\":\"#506784\",\"showbackground\":true,\"ticks\":\"\",\"zerolinecolor\":\"#C8D4E3\",\"gridwidth\":2}},\"shapedefaults\":{\"line\":{\"color\":\"#f2f5fa\"}},\"annotationdefaults\":{\"arrowcolor\":\"#f2f5fa\",\"arrowhead\":0,\"arrowwidth\":1},\"geo\":{\"bgcolor\":\"rgb(17,17,17)\",\"landcolor\":\"rgb(17,17,17)\",\"subunitcolor\":\"#506784\",\"showland\":true,\"showlakes\":true,\"lakecolor\":\"rgb(17,17,17)\"},\"title\":{\"x\":0.05},\"updatemenudefaults\":{\"bgcolor\":\"#506784\",\"borderwidth\":0},\"sliderdefaults\":{\"bgcolor\":\"#C8D4E3\",\"borderwidth\":1,\"bordercolor\":\"rgb(17,17,17)\",\"tickwidth\":0},\"mapbox\":{\"style\":\"dark\"}}},\"xaxis\":{\"anchor\":\"y\",\"domain\":[0.0,1.0]},\"yaxis\":{\"anchor\":\"x\",\"domain\":[0.625,1.0],\"title\":{\"text\":\"Cz\\u0119sto\\u015b\\u0107\"}},\"xaxis2\":{\"anchor\":\"y2\",\"domain\":[0.0,1.0]},\"yaxis2\":{\"anchor\":\"x2\",\"domain\":[0.0,0.375],\"title\":{\"text\":\"Cz\\u0119sto\\u015b\\u0107\"}},\"annotations\":[{\"font\":{\"size\":16},\"showarrow\":false,\"text\":\"Wszystkie\",\"x\":0.5,\"xanchor\":\"center\",\"xref\":\"paper\",\"y\":1.0,\"yanchor\":\"bottom\",\"yref\":\"paper\"},{\"font\":{\"size\":16},\"showarrow\":false,\"text\":\"Przymiotniki i przys\\u0142owki\",\"x\":0.5,\"xanchor\":\"center\",\"xref\":\"paper\",\"y\":0.375,\"yanchor\":\"bottom\",\"yref\":\"paper\"}],\"title\":{\"x\":0.5,\"text\":\"Najcz\\u0119sciej wystepuj\\u0105ce s\\u0142owa\"},\"autosize\":true,\"showlegend\":false},                        {\"responsive\": true}                    ).then(function(){\n                            \nvar gd = document.getElementById('cb69fa27-d4ad-4e38-af33-30859a18d485');\nvar x = new MutationObserver(function (mutations, observer) {{\n        var display = window.getComputedStyle(gd).display;\n        if (!display || display === 'none') {{\n            console.log([gd, 'removed!']);\n            Plotly.purge(gd);\n            observer.disconnect();\n        }}\n}});\n\n// Listen for the removal of the full notebook cells\nvar notebookContainer = gd.closest('#notebook-container');\nif (notebookContainer) {{\n    x.observe(notebookContainer, {childList: true});\n}}\n\n// Listen for the clearing of the current output cell\nvar outputEl = gd.closest('.output');\nif (outputEl) {{\n    x.observe(outputEl, {childList: true});\n}}\n\n                        })                };                });            </script>        </div>"
     },
     "metadata": {},
     "output_type": "display_data"
    }
   ],
   "source": [
    "import plotly.graph_objs as go\n",
    "from plotly.subplots import make_subplots\n",
    "from dash_app.fronend.utils.plots import create_bar_plots\n",
    "import plotly.express as px\n",
    "\n",
    "\n",
    "dataset = db_dict['allegro_reviews']\n",
    "\n",
    "common_words = dataset.common_words['train']\n",
    "common_words_adj_adv = dataset.common_words_adj_adv[\"train\"]\n",
    "\n",
    "\n",
    "fig = make_subplots(rows=2, cols=1, subplot_titles=(\"Wszystkie\", \"Przymiotniki i przysłowki\"))\n",
    "# colors = [\"orange\", \"red\", \"green\", \"blue\", \"purple\"]\n",
    "colors = px.colors.qualitative.Alphabet\n",
    "\n",
    "for i, dataset in enumerate([common_words,common_words_adj_adv]):\n",
    "    for color,t in enumerate(dataset['ocena_tekst'].unique()):\n",
    "        dfp = dataset[dataset['ocena_tekst'] == t]\n",
    "        fig.add_trace(go.Bar(x=dfp['word'], y=dfp['count'], name=t,\n",
    "                              marker_color=colors[color]\n",
    "                              ),row=1+i,col=1)\n",
    "\n",
    "fig.update_layout(title_x=0.5, autosize=True, title_text=\"Najczęsciej wystepujące słowa\", showlegend=True )\n",
    "fig.update_yaxes(title_text=\"Częstość\")\n"
   ],
   "metadata": {
    "collapsed": false,
    "pycharm": {
     "name": "#%%\n"
    }
   }
  }
 ],
 "metadata": {
  "kernelspec": {
   "display_name": "Python 3",
   "language": "python",
   "name": "python3"
  },
  "language_info": {
   "codemirror_mode": {
    "name": "ipython",
    "version": 2
   },
   "file_extension": ".py",
   "mimetype": "text/x-python",
   "name": "python",
   "nbconvert_exporter": "python",
   "pygments_lexer": "ipython2",
   "version": "2.7.6"
  }
 },
 "nbformat": 4,
 "nbformat_minor": 0
}